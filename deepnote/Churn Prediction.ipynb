{
  "cells": [
    {
      "cell_type": "code",
      "source": "!pip install -qq xgboost\n!pip install -qq xgbimputer\n!pip install -qq imbalanced-learn\n!pip install -qq optuna",
      "metadata": {
        "source_hash": "63fec61b",
        "execution_start": 1710506446560,
        "execution_millis": 9611,
        "deepnote_to_be_reexecuted": false,
        "cell_id": "399e96a6e6b2406e86a654aafb3518f4",
        "deepnote_cell_type": "code"
      },
      "outputs": [],
      "outputs_reference": null,
      "execution_count": 58,
      "block_group": "c875ca0805ed452a894db156e41ae38b"
    },
    {
      "cell_type": "code",
      "source": "import pandas as pd\nimport numpy as np\nimport matplotlib.pyplot as plt\nimport xgboost as xgb\nfrom xgboost import plot_importance\nfrom sklearn.preprocessing import StandardScaler\nfrom sklearn.model_selection import cross_validate, cross_val_score, train_test_split, KFold\nfrom sklearn.linear_model import LogisticRegression\nfrom sklearn.neighbors import KNeighborsClassifier\nfrom sklearn.svm import SVC\nfrom sklearn.ensemble import RandomForestClassifier\nfrom sklearn.metrics import confusion_matrix, recall_score, precision_score, fbeta_score, make_scorer\nfrom sklearn.pipeline import Pipeline\n# from sklearn.preprocessing import LabelEncoder\nfrom imblearn.over_sampling import RandomOverSampler, SMOTE\nfrom imblearn.under_sampling import RandomUnderSampler, TomekLinks, OneSidedSelection\nfrom tabulate import tabulate\nfrom xgbimputer import XGBImputer\nimport optuna\nimport os\nimport pickle",
      "metadata": {
        "source_hash": "42d97b93",
        "execution_start": 1710506456182,
        "execution_millis": 19,
        "deepnote_to_be_reexecuted": false,
        "cell_id": "415734f4a9964e8fa4760d280d76a385",
        "deepnote_cell_type": "code"
      },
      "outputs": [],
      "outputs_reference": null,
      "execution_count": 59,
      "block_group": "c448f3b7f2ad44a59076c6d96c3bc4b2"
    },
    {
      "cell_type": "markdown",
      "source": "# Data Loading",
      "metadata": {
        "formattedRanges": [],
        "cell_id": "62e0ed7a144347018c6d6ad154403068",
        "deepnote_cell_type": "text-cell-h1"
      },
      "block_group": "b321350d333b493e99bed64cb5636bdb"
    },
    {
      "cell_type": "code",
      "source": "df = pd.read_csv('/work/Credit_Card_Churn_Intern_BCC_2024/Dataset/BankChurners.csv')\ndf.drop(columns=['CLIENTNUM','Avg_Open_To_Buy','Naive_Bayes_Classifier_Attrition_Flag_Card_Category_Contacts_Count_12_mon_Dependent_count_Education_Level_Months_Inactive_12_mon_1','Naive_Bayes_Classifier_Attrition_Flag_Card_Category_Contacts_Count_12_mon_Dependent_count_Education_Level_Months_Inactive_12_mon_2'], inplace=True)",
      "metadata": {
        "source_hash": "8f9c0ca0",
        "execution_start": 1710506456187,
        "execution_millis": 233,
        "deepnote_to_be_reexecuted": false,
        "cell_id": "59cc340c72eb4c28919afb16ab307f35",
        "deepnote_cell_type": "code"
      },
      "outputs": [],
      "outputs_reference": null,
      "execution_count": 60,
      "block_group": "59cc340c72eb4c28919afb16ab307f35"
    },
    {
      "cell_type": "code",
      "source": "df['Attrition_Flag'] = df['Attrition_Flag'].map({'Existing Customer': 0, 'Attrited Customer': 1})\ndf_copy = df.copy()",
      "metadata": {
        "source_hash": "b7a76274",
        "execution_start": 1710506456423,
        "execution_millis": 75,
        "deepnote_to_be_reexecuted": false,
        "cell_id": "6952f5d196184ef2896552e806b1e6fe",
        "deepnote_cell_type": "code"
      },
      "outputs": [],
      "outputs_reference": null,
      "execution_count": 61,
      "block_group": "415f1ce63afb42aca064e78d2ebcb810"
    },
    {
      "cell_type": "markdown",
      "source": "# Baseline Model",
      "metadata": {
        "formattedRanges": [],
        "cell_id": "4eff55d2151c495cab8c36cb90d0aace",
        "deepnote_cell_type": "text-cell-h1"
      },
      "block_group": "cc77ee0f4f5b415f8c067bf4778a74c6"
    },
    {
      "cell_type": "code",
      "source": "df = pd.get_dummies(df, columns=['Gender', 'Marital_Status'], drop_first=True)\n\ndf['Education_Level'] = df['Education_Level'].map({'Uneducated': 0, 'High School': 1, 'Unknown': 2, 'College': 3, 'Graduate': 4, 'Post-Graduate':5, 'Doctorate': 6})\ndf['Income_Category'] = df['Income_Category'].map({'Less than $40K': 0, '$40K - $60K': 1, 'Unknown': 2,'$60K - $80K': 3, '$80K - $120K': 4, '$120K +': 5})\ndf['Card_Category'] = df['Card_Category'].map({'Blue': 0, 'Silver': 1, 'Gold': 2, 'Platinum': 3})",
      "metadata": {
        "source_hash": "11b2a011",
        "execution_start": 1710506456461,
        "execution_millis": 76,
        "deepnote_to_be_reexecuted": false,
        "cell_id": "5a7d76fef08a4dd5b726d19a857e54a1",
        "deepnote_cell_type": "code"
      },
      "outputs": [],
      "outputs_reference": null,
      "execution_count": 62,
      "block_group": "d472a45167f24fe6a334a3a575aecb18"
    },
    {
      "cell_type": "markdown",
      "source": "Because the 'Unknown' category consistently have mid size population, I put them in the middle as it could go either way.",
      "metadata": {
        "formattedRanges": [],
        "cell_id": "2f75bac9e15a468f9b42c36cc88d7586",
        "deepnote_cell_type": "text-cell-p"
      },
      "block_group": "dedda0a839154ec49b8d573300793ead"
    },
    {
      "cell_type": "code",
      "source": "X = df.drop(columns='Attrition_Flag')\ny = df['Attrition_Flag']",
      "metadata": {
        "source_hash": "739e184c",
        "execution_start": 1710506456462,
        "execution_millis": 75,
        "deepnote_to_be_reexecuted": false,
        "cell_id": "71444b8b462b4158a022fd3e50c7ab57",
        "deepnote_cell_type": "code"
      },
      "outputs": [],
      "outputs_reference": null,
      "execution_count": 63,
      "block_group": "7296a3b3d1184c7abdb4138e3f8f082d"
    },
    {
      "cell_type": "code",
      "source": "numeric_columns = [\n    \"Customer_Age\",\n    \"Dependent_count\",\n    \"Months_on_book\",\n    \"Total_Relationship_Count\",\n    \"Months_Inactive_12_mon\",\n    \"Contacts_Count_12_mon\",\n    \"Credit_Limit\",\n    \"Total_Revolving_Bal\",\n    \"Total_Amt_Chng_Q4_Q1\",\n    \"Total_Trans_Amt\",\n    \"Total_Trans_Ct\",\n    \"Total_Ct_Chng_Q4_Q1\",\n    \"Avg_Utilization_Ratio\"\n]\n\nnumeric_pipeline = Pipeline([\n    ('scaler', StandardScaler())\n])\n\nX_train, X_test, y_train, y_test = train_test_split(X, y, test_size=0.2, random_state=42)\n\n# Fit and transform the training data\nX_train_scaled = numeric_pipeline.fit_transform(X_train[numeric_columns])\n\n# Transform the testing data\nX_test_scaled = numeric_pipeline.transform(X_test[numeric_columns])\n\n# Replace the original numeric columns in X_train and X_test with the scaled ones\nX_train[numeric_columns] = X_train_scaled\nX_test[numeric_columns] = X_test_scaled",
      "metadata": {
        "source_hash": "cf1e6386",
        "execution_start": 1710506456463,
        "execution_millis": 75,
        "deepnote_to_be_reexecuted": false,
        "cell_id": "4e5c6ba78e434dc381bd2bfe191d0f3d",
        "deepnote_cell_type": "code"
      },
      "outputs": [],
      "outputs_reference": null,
      "execution_count": 64,
      "block_group": "e9e11a87412944a79d045bc41e01c623"
    },
    {
      "cell_type": "code",
      "source": "# X_scaled = X.copy()",
      "metadata": {
        "source_hash": "93e127b2",
        "execution_start": 1710506456465,
        "execution_millis": 73,
        "deepnote_to_be_reexecuted": false,
        "cell_id": "4f9b85f879934981815d3962cb4e094e",
        "deepnote_cell_type": "code"
      },
      "outputs": [],
      "outputs_reference": null,
      "execution_count": 65,
      "block_group": "0667df20f2e14d7198602de9950a2a28"
    },
    {
      "cell_type": "code",
      "source": "classifiers = {\n    \"KNN\": KNeighborsClassifier(n_neighbors=7),\n    \"SVM\": SVC(kernel='rbf', C=1, random_state=42),\n    \"Logistic Regression\": LogisticRegression(random_state=42, max_iter=100),\n    \"Random Forest\": RandomForestClassifier(n_estimators=100, random_state=42),\n    \"XGBoost\": xgb.XGBClassifier(use_label_encoder=False, eval_metric=\"logloss\", random_state=42),\n}",
      "metadata": {
        "source_hash": "f4631d5e",
        "execution_start": 1710506456468,
        "execution_millis": 71,
        "deepnote_to_be_reexecuted": false,
        "cell_id": "13afbb22311b46479431442ecab1f293",
        "deepnote_cell_type": "code"
      },
      "outputs": [],
      "outputs_reference": null,
      "execution_count": 66,
      "block_group": "fb050fdbe32245f78f274c105221c4ac"
    },
    {
      "cell_type": "code",
      "source": "# Define business value scores\nTP_value = 200\nTN_value = 0\nFP_value = -50\nFN_value = 100\n\n\ndef train_result(X_train, X_test, y_train, y_test):\n    results = []\n    trained_models = {}\n\n    for name, clf in classifiers.items():\n        clf.fit(X_train, y_train)\n        y_pred = clf.predict(X_test)\n        cm = confusion_matrix(y_test, y_pred)\n\n        # Calculate TP, TN, FP, and FN\n        tn, fp, fn, tp = cm.ravel()\n\n        # Calculate precision and recall\n        precision = precision_score(y_test, y_pred)\n        recall = recall_score(y_test, y_pred)\n        f1_score = fbeta_score(y_test, y_pred, beta=1)\n        f2_score = fbeta_score(y_test, y_pred, beta=2)\n\n        # Calculate business value score\n        business_value_score = (tp * TP_value) + (tn * TN_value) + (fp * FP_value) + (fn * FN_value)\n\n        # Format results and append to the list\n        results.append([name, precision, recall, f1_score, f2_score, tp, tn, fp, fn, business_value_score])\n        \n        # Save trained models\n        trained_models[name] = clf\n\n    # Create a table using tabulate\n    headers = [\"Classifier\", \"Precision\", \"Recall\", \"F1 Score\", \"F2 Score\", \"TP\", \"TN\", \"FP\", \"FN\", \"Business Value Score\"]\n    table = tabulate(results, headers=headers)\n\n    # Print the table\n    print(table)\n    \n    # Return trained models\n    return trained_models",
      "metadata": {
        "source_hash": "43ad5849",
        "execution_start": 1710506456522,
        "execution_millis": 179,
        "deepnote_to_be_reexecuted": false,
        "cell_id": "005619d8b4734e6c8bcb5e8c881af5b1",
        "deepnote_cell_type": "code"
      },
      "outputs": [],
      "outputs_reference": null,
      "execution_count": 67,
      "block_group": "b8959df50f5744cdb98ab5357a9deee9"
    },
    {
      "cell_type": "code",
      "source": "train_result(X_train, X_test, y_train, y_test)",
      "metadata": {
        "source_hash": "9a2040ff",
        "execution_start": 1710506456523,
        "execution_millis": 2845,
        "deepnote_to_be_reexecuted": false,
        "cell_id": "38c1a04d97fb463bba8b20ed41af3908",
        "deepnote_cell_type": "code"
      },
      "outputs": [
        {
          "name": "stdout",
          "text": "Classifier             Precision    Recall    F1 Score    F2 Score    TP    TN    FP    FN    Business Value Score\n-------------------  -----------  --------  ----------  ----------  ----  ----  ----  ----  ----------------------\nKNN                     0.864583  0.507645    0.639692    0.553333   166  1673    26   161                   48000\nSVM                     0.876033  0.648318    0.745167    0.683871   212  1669    30   115                   52400\nLogistic Regression     0.774892  0.547401    0.641577    0.581546   179  1647    52   148                   48000\nRandom Forest           0.921986  0.795107    0.853859    0.81761    260  1677    22    67                   57600\nXGBoost                 0.904025  0.892966    0.898462    0.895156   292  1668    31    35                   60350\n",
          "output_type": "stream"
        },
        {
          "output_type": "execute_result",
          "execution_count": 68,
          "data": {
            "text/plain": "{'KNN': KNeighborsClassifier(n_neighbors=7),\n 'SVM': SVC(C=1, random_state=42),\n 'Logistic Regression': LogisticRegression(random_state=42),\n 'Random Forest': RandomForestClassifier(random_state=42),\n 'XGBoost': XGBClassifier(base_score=None, booster=None, callbacks=None,\n               colsample_bylevel=None, colsample_bynode=None,\n               colsample_bytree=None, device=None, early_stopping_rounds=None,\n               enable_categorical=False, eval_metric='logloss',\n               feature_types=None, gamma=None, grow_policy=None,\n               importance_type=None, interaction_constraints=None,\n               learning_rate=None, max_bin=None, max_cat_threshold=None,\n               max_cat_to_onehot=None, max_delta_step=None, max_depth=None,\n               max_leaves=None, min_child_weight=None, missing=nan,\n               monotone_constraints=None, multi_strategy=None, n_estimators=None,\n               n_jobs=None, num_parallel_tree=None, random_state=42, ...)}"
          },
          "metadata": {}
        }
      ],
      "outputs_reference": null,
      "execution_count": 68,
      "block_group": "d9cab10c07a949298f699b73be664c12"
    },
    {
      "cell_type": "markdown",
      "source": "The best baseline model is XGBoost with 89.5% F2 Score and The worst is KNN with 55% F2 Score.",
      "metadata": {
        "formattedRanges": [],
        "cell_id": "529b92a4f7054721b5c5e384f02a256b",
        "deepnote_cell_type": "text-cell-p"
      },
      "block_group": "bc0e0b463af3466cb5cea5cf6d84bd37"
    },
    {
      "cell_type": "code",
      "source": "results = []\nkfold = KFold(n_splits=5, shuffle=True, random_state=42)\n\nfor name, clf in classifiers.items():\n    # Calculate the cross-validation scores\n    f2_scores = []\n    precision_scores = []\n    recall_scores = []\n    business_value_scores = []\n    for train_index, test_index in kfold.split(X):\n        X_train, X_test = X.iloc[train_index], X.iloc[test_index]\n        y_train, y_test = y.iloc[train_index], y.iloc[test_index]\n\n        X_train_scaled = numeric_pipeline.fit_transform(X_train[numeric_columns])\n        # Transform the testing data\n        X_test_scaled = numeric_pipeline.transform(X_test[numeric_columns])\n\n        # Replace the original numeric columns in X_train and X_test with the scaled ones\n        X_train.loc[:, numeric_columns] = X_train_scaled\n        X_test.loc[:, numeric_columns] = X_test_scaled\n\n        clf.fit(X_train, y_train)\n        y_pred = clf.predict(X_test)\n        f2 = fbeta_score(y_test, y_pred, beta=2)\n        precision = precision_score(y_test, y_pred)\n        recall = recall_score(y_test, y_pred)\n\n        # Calculate confusion matrix\n        cm = confusion_matrix(y_test, y_pred)\n        tn, fp, fn, tp = cm.ravel()\n\n        # Calculate business value score\n        business_value_score = (tp * TP_value) + (tn * TN_value) + (fp * FP_value) + (fn * FN_value)\n\n        f2_scores.append(f2)\n        precision_scores.append(precision)\n        recall_scores.append(recall)\n        business_value_scores.append(business_value_score)\n\n    # Calculate the mean F2 score, precision, recall, and business value score\n    mean_f2_score = np.mean(f2_scores)\n    mean_precision_score = np.mean(precision_scores)\n    mean_recall_score = np.mean(recall_scores)\n    mean_business_value_score = np.mean(business_value_scores)\n\n    std_f2_score = np.std(f2_scores)\n    std_precision_score = np.std(precision_scores)\n    std_recall_score = np.std(recall_scores)\n    std_business_value_score = np.std(business_value_scores)\n\n    # Format results and append to the list\n    results.append([name, \"{:.3f}+-{:.3f}\".format(mean_precision_score, std_precision_score), \"{:.3f}+-{:.3f}\".format(mean_recall_score, std_recall_score), \"{:.3f}+-{:.3f}\".format(mean_f2_score, std_f2_score), mean_business_value_score])\n\n\n# Create a table using tabulate\nheaders = [\"Classifier\", \"Mean Precision\", \"Mean Recall\", \"Mean F2 Score\", \"Mean Business Value Score\"]\ntable = tabulate(results, headers=headers)\n\n# Print the table\nprint(table)",
      "metadata": {
        "source_hash": "89e22212",
        "execution_start": 1710506459371,
        "execution_millis": 14648,
        "deepnote_to_be_reexecuted": false,
        "cell_id": "4fa2284bc35b4ace83330798e0c6f0e9",
        "deepnote_cell_type": "code"
      },
      "outputs": [
        {
          "name": "stdout",
          "text": "Classifier           Mean Precision    Mean Recall    Mean F2 Score      Mean Business Value Score\n-------------------  ----------------  -------------  ---------------  ---------------------------\nKNN                  0.836+-0.026      0.521+-0.009   0.563+-0.008                           47810\nSVM                  0.869+-0.012      0.673+-0.020   0.704+-0.017                           52770\nLogistic Regression  0.764+-0.017      0.584+-0.030   0.613+-0.027                           48610\nRandom Forest        0.934+-0.018      0.813+-0.018   0.835+-0.016                           58070\nXGBoost              0.934+-0.019      0.901+-0.013   0.908+-0.013                           60820\n",
          "output_type": "stream"
        }
      ],
      "outputs_reference": null,
      "execution_count": 69,
      "block_group": "6a4c40c665bc4c55ab06cfa870451115"
    },
    {
      "cell_type": "markdown",
      "source": "I evaluate how good the model with unseen data and surprisingly it got a better result with 90% F2 Score using XGBoost.",
      "metadata": {
        "formattedRanges": [],
        "cell_id": "fd99d6c9f4e544a988384b55986fcfbf",
        "deepnote_cell_type": "text-cell-p"
      },
      "block_group": "e66d0254c27d43cea19549392e239489"
    },
    {
      "cell_type": "markdown",
      "source": "# XGBoost Imputed",
      "metadata": {
        "formattedRanges": [],
        "cell_id": "5a8f61d5049c471f932dd00b0bdd5700",
        "deepnote_cell_type": "text-cell-h1"
      },
      "block_group": "afe40a0d7dfa478e8465b956793e3dec"
    },
    {
      "cell_type": "markdown",
      "source": "Based on EDA we know that 'Unknown' Category has their own pattern so we can't simply impute them with simple imputer. And, are they actually other value that's obfuscated or their own category.",
      "metadata": {
        "formattedRanges": [],
        "cell_id": "cad39e16fd6043c1875043684766af22",
        "deepnote_cell_type": "text-cell-p"
      },
      "block_group": "0372a4af8be9416eb3837cf2d3b3bce1"
    },
    {
      "cell_type": "markdown",
      "source": "I use XGBoost Imputer because it can handle categorical data meanwhile KNN Imputer doesn't work with one hot encoded data as it will only consider one column at a time.",
      "metadata": {
        "formattedRanges": [],
        "cell_id": "257019269deb47af94923422f12db51e",
        "deepnote_cell_type": "text-cell-p"
      },
      "block_group": "eda7363dc93a4f839e92f1a116176008"
    },
    {
      "cell_type": "code",
      "source": "df_copy.replace('Unknown', np.nan, inplace=True)\ndf_copy = pd.get_dummies(df_copy, columns=['Gender'], drop_first=True)\ndf_copy['Card_Category'] = df_copy['Card_Category'].map({'Blue': 0, 'Silver': 1, 'Gold': 2, 'Platinum': 3})",
      "metadata": {
        "source_hash": "9bb89255",
        "execution_start": 1710506474026,
        "execution_millis": 242,
        "deepnote_to_be_reexecuted": false,
        "cell_id": "54faff7fb67e403eba2996de053a8a5e",
        "deepnote_cell_type": "code"
      },
      "outputs": [],
      "outputs_reference": null,
      "execution_count": 70,
      "block_group": "0a5f13cac81a4628b1cfd9da192ff24b"
    },
    {
      "cell_type": "code",
      "source": "df_copy_missing_data = pd.DataFrame(df_copy.isna().sum().loc[df_copy.isna().sum() > 0], columns=['missing_data_count'])\ndf_copy_missing_data['missing_data_type'] = df_copy.dtypes\ndf_copy_missing_data['missing_data_percentage'] = df_copy_missing_data['missing_data_count'] / len(df_copy)\ndf_copy_missing_data = df_copy_missing_data.sort_values(by='missing_data_percentage', ascending=False)\ndf_copy_missing_data",
      "metadata": {
        "source_hash": "54ac5ff3",
        "execution_start": 1710506474060,
        "execution_millis": 209,
        "deepnote_to_be_reexecuted": false,
        "cell_id": "6e5e142edfee41a8bb789f7c7e6c4a50",
        "deepnote_cell_type": "code"
      },
      "outputs": [
        {
          "output_type": "execute_result",
          "execution_count": 71,
          "data": {
            "application/vnd.deepnote.dataframe.v3+json": {
              "column_count": 3,
              "row_count": 3,
              "columns": [
                {
                  "name": "missing_data_count",
                  "dtype": "int64",
                  "stats": {
                    "unique_count": 3,
                    "nan_count": 0,
                    "min": "749",
                    "max": "1519",
                    "histogram": [
                      {
                        "bin_start": 749,
                        "bin_end": 826,
                        "count": 1
                      },
                      {
                        "bin_start": 826,
                        "bin_end": 903,
                        "count": 0
                      },
                      {
                        "bin_start": 903,
                        "bin_end": 980,
                        "count": 0
                      },
                      {
                        "bin_start": 980,
                        "bin_end": 1057,
                        "count": 0
                      },
                      {
                        "bin_start": 1057,
                        "bin_end": 1134,
                        "count": 1
                      },
                      {
                        "bin_start": 1134,
                        "bin_end": 1211,
                        "count": 0
                      },
                      {
                        "bin_start": 1211,
                        "bin_end": 1288,
                        "count": 0
                      },
                      {
                        "bin_start": 1288,
                        "bin_end": 1365,
                        "count": 0
                      },
                      {
                        "bin_start": 1365,
                        "bin_end": 1442,
                        "count": 0
                      },
                      {
                        "bin_start": 1442,
                        "bin_end": 1519,
                        "count": 1
                      }
                    ]
                  }
                },
                {
                  "name": "missing_data_type",
                  "dtype": "object",
                  "stats": {
                    "unique_count": 1,
                    "nan_count": 0,
                    "categories": [
                      {
                        "name": "object",
                        "count": 3
                      }
                    ]
                  }
                },
                {
                  "name": "missing_data_percentage",
                  "dtype": "float64",
                  "stats": {
                    "unique_count": 3,
                    "nan_count": 0,
                    "min": "0.07396069912116125",
                    "max": "0.14999506270366347",
                    "histogram": [
                      {
                        "bin_start": 0.07396069912116125,
                        "bin_end": 0.08156413547941148,
                        "count": 1
                      },
                      {
                        "bin_start": 0.08156413547941148,
                        "bin_end": 0.08916757183766169,
                        "count": 0
                      },
                      {
                        "bin_start": 0.08916757183766169,
                        "bin_end": 0.09677100819591192,
                        "count": 0
                      },
                      {
                        "bin_start": 0.09677100819591192,
                        "bin_end": 0.10437444455416214,
                        "count": 0
                      },
                      {
                        "bin_start": 0.10437444455416214,
                        "bin_end": 0.11197788091241237,
                        "count": 1
                      },
                      {
                        "bin_start": 0.11197788091241237,
                        "bin_end": 0.11958131727066258,
                        "count": 0
                      },
                      {
                        "bin_start": 0.11958131727066258,
                        "bin_end": 0.1271847536289128,
                        "count": 0
                      },
                      {
                        "bin_start": 0.1271847536289128,
                        "bin_end": 0.13478818998716302,
                        "count": 0
                      },
                      {
                        "bin_start": 0.13478818998716302,
                        "bin_end": 0.14239162634541325,
                        "count": 0
                      },
                      {
                        "bin_start": 0.14239162634541325,
                        "bin_end": 0.14999506270366347,
                        "count": 1
                      }
                    ]
                  }
                },
                {
                  "name": "_deepnote_index_column",
                  "dtype": "object"
                }
              ],
              "rows": [
                {
                  "missing_data_count": 1519,
                  "missing_data_type": "object",
                  "missing_data_percentage": 0.14999506270366347,
                  "_deepnote_index_column": "Education_Level"
                },
                {
                  "missing_data_count": 1112,
                  "missing_data_type": "object",
                  "missing_data_percentage": 0.10980547052434086,
                  "_deepnote_index_column": "Income_Category"
                },
                {
                  "missing_data_count": 749,
                  "missing_data_type": "object",
                  "missing_data_percentage": 0.07396069912116125,
                  "_deepnote_index_column": "Marital_Status"
                }
              ]
            },
            "text/plain": "                 missing_data_count missing_data_type  missing_data_percentage\nEducation_Level                1519            object                 0.149995\nIncome_Category                1112            object                 0.109805\nMarital_Status                  749            object                 0.073961",
            "text/html": "<div>\n<style scoped>\n    .dataframe tbody tr th:only-of-type {\n        vertical-align: middle;\n    }\n\n    .dataframe tbody tr th {\n        vertical-align: top;\n    }\n\n    .dataframe thead th {\n        text-align: right;\n    }\n</style>\n<table border=\"1\" class=\"dataframe\">\n  <thead>\n    <tr style=\"text-align: right;\">\n      <th></th>\n      <th>missing_data_count</th>\n      <th>missing_data_type</th>\n      <th>missing_data_percentage</th>\n    </tr>\n  </thead>\n  <tbody>\n    <tr>\n      <th>Education_Level</th>\n      <td>1519</td>\n      <td>object</td>\n      <td>0.149995</td>\n    </tr>\n    <tr>\n      <th>Income_Category</th>\n      <td>1112</td>\n      <td>object</td>\n      <td>0.109805</td>\n    </tr>\n    <tr>\n      <th>Marital_Status</th>\n      <td>749</td>\n      <td>object</td>\n      <td>0.073961</td>\n    </tr>\n  </tbody>\n</table>\n</div>"
          },
          "metadata": {}
        }
      ],
      "outputs_reference": null,
      "execution_count": 71,
      "block_group": "e3751941c9bc4fa2a94c4e1890939015"
    },
    {
      "cell_type": "code",
      "source": "imputer = XGBImputer(categorical_features_index=[3,4,5], replace_categorical_values_back=True)\nX = imputer.fit_transform(df_copy)",
      "metadata": {
        "source_hash": "827f5176",
        "execution_start": 1710506474063,
        "execution_millis": 3694,
        "deepnote_to_be_reexecuted": false,
        "cell_id": "1377f1056cbf418db981fb80b5f5b55a",
        "deepnote_cell_type": "code"
      },
      "outputs": [
        {
          "name": "stderr",
          "text": "/root/venv/lib/python3.9/site-packages/xgbimputer/xgbimputer.py:148: RuntimeWarning: invalid value encountered in double_scalars\n  gamma_inferred_numerical_features_new = np.sum((Ximp[:,self.inferred_numerical_features_index] - Ximp_old[:,self.inferred_numerical_features_index])**2)/np.sum((Ximp[:, self.inferred_numerical_features_index]) ** 2)\nXGBImputer - Epoch: 1 | Categorical gamma: inf/7. | Numerical gamma: inf/nan\n/root/venv/lib/python3.9/site-packages/xgbimputer/xgbimputer.py:148: RuntimeWarning: invalid value encountered in double_scalars\n  gamma_inferred_numerical_features_new = np.sum((Ximp[:,self.inferred_numerical_features_index] - Ximp_old[:,self.inferred_numerical_features_index])**2)/np.sum((Ximp[:, self.inferred_numerical_features_index]) ** 2)\nXGBImputer - Epoch: 2 | Categorical gamma: 7./0. | Numerical gamma: nan/nan\nXGBImputer - Epoch: 3 | Categorical gamma: 0./0. | Numerical gamma: nan/nan\n/root/venv/lib/python3.9/site-packages/xgbimputer/xgbimputer.py:148: RuntimeWarning: invalid value encountered in double_scalars\n  gamma_inferred_numerical_features_new = np.sum((Ximp[:,self.inferred_numerical_features_index] - Ximp_old[:,self.inferred_numerical_features_index])**2)/np.sum((Ximp[:, self.inferred_numerical_features_index]) ** 2)\n",
          "output_type": "stream"
        }
      ],
      "outputs_reference": null,
      "execution_count": 72,
      "block_group": "1b9266da0ba640af9f35d1d26aa40f8a"
    },
    {
      "cell_type": "code",
      "source": "X = pd.DataFrame(X)\nX.head()",
      "metadata": {
        "source_hash": "2637984b",
        "execution_start": 1710506477768,
        "execution_millis": 496,
        "deepnote_to_be_reexecuted": false,
        "cell_id": "b3b058e96dc04fc9a940e87e8ef60ce0",
        "deepnote_cell_type": "code"
      },
      "outputs": [
        {
          "output_type": "execute_result",
          "execution_count": 73,
          "data": {
            "application/vnd.deepnote.dataframe.v3+json": {
              "column_count": 19,
              "row_count": 5,
              "columns": [
                {
                  "name": "0",
                  "dtype": "object",
                  "stats": {
                    "unique_count": 1,
                    "nan_count": 0,
                    "categories": [
                      {
                        "name": "0.0",
                        "count": 5
                      }
                    ]
                  }
                },
                {
                  "name": "1",
                  "dtype": "object",
                  "stats": {
                    "unique_count": 4,
                    "nan_count": 0,
                    "categories": [
                      {
                        "name": "40.0",
                        "count": 2
                      },
                      {
                        "name": "45.0",
                        "count": 1
                      },
                      {
                        "name": "2 others",
                        "count": 2
                      }
                    ]
                  }
                },
                {
                  "name": "2",
                  "dtype": "object",
                  "stats": {
                    "unique_count": 3,
                    "nan_count": 0,
                    "categories": [
                      {
                        "name": "3.0",
                        "count": 3
                      },
                      {
                        "name": "5.0",
                        "count": 1
                      },
                      {
                        "name": "4.0",
                        "count": 1
                      }
                    ]
                  }
                },
                {
                  "name": "3",
                  "dtype": "object",
                  "stats": {
                    "unique_count": 3,
                    "nan_count": 0,
                    "categories": [
                      {
                        "name": "High School",
                        "count": 2
                      },
                      {
                        "name": "Graduate",
                        "count": 2
                      },
                      {
                        "name": "Uneducated",
                        "count": 1
                      }
                    ]
                  }
                },
                {
                  "name": "4",
                  "dtype": "object",
                  "stats": {
                    "unique_count": 2,
                    "nan_count": 0,
                    "categories": [
                      {
                        "name": "Married",
                        "count": 4
                      },
                      {
                        "name": "Single",
                        "count": 1
                      }
                    ]
                  }
                },
                {
                  "name": "5",
                  "dtype": "object",
                  "stats": {
                    "unique_count": 3,
                    "nan_count": 0,
                    "categories": [
                      {
                        "name": "$60K - $80K",
                        "count": 2
                      },
                      {
                        "name": "Less than $40K",
                        "count": 2
                      },
                      {
                        "name": "$80K - $120K",
                        "count": 1
                      }
                    ]
                  }
                },
                {
                  "name": "6",
                  "dtype": "object",
                  "stats": {
                    "unique_count": 1,
                    "nan_count": 0,
                    "categories": [
                      {
                        "name": "0.0",
                        "count": 5
                      }
                    ]
                  }
                },
                {
                  "name": "7",
                  "dtype": "object",
                  "stats": {
                    "unique_count": 5,
                    "nan_count": 0,
                    "categories": [
                      {
                        "name": "39.0",
                        "count": 1
                      },
                      {
                        "name": "44.0",
                        "count": 1
                      },
                      {
                        "name": "3 others",
                        "count": 3
                      }
                    ]
                  }
                },
                {
                  "name": "8",
                  "dtype": "object",
                  "stats": {
                    "unique_count": 4,
                    "nan_count": 0,
                    "categories": [
                      {
                        "name": "5.0",
                        "count": 2
                      },
                      {
                        "name": "6.0",
                        "count": 1
                      },
                      {
                        "name": "2 others",
                        "count": 2
                      }
                    ]
                  }
                },
                {
                  "name": "9",
                  "dtype": "object",
                  "stats": {
                    "unique_count": 2,
                    "nan_count": 0,
                    "categories": [
                      {
                        "name": "1.0",
                        "count": 4
                      },
                      {
                        "name": "4.0",
                        "count": 1
                      }
                    ]
                  }
                },
                {
                  "name": "10",
                  "dtype": "object",
                  "stats": {
                    "unique_count": 4,
                    "nan_count": 0,
                    "categories": [
                      {
                        "name": "0.0",
                        "count": 2
                      },
                      {
                        "name": "3.0",
                        "count": 1
                      },
                      {
                        "name": "2 others",
                        "count": 2
                      }
                    ]
                  }
                },
                {
                  "name": "11",
                  "dtype": "object",
                  "stats": {
                    "unique_count": 5,
                    "nan_count": 0,
                    "categories": [
                      {
                        "name": "12691.0",
                        "count": 1
                      },
                      {
                        "name": "8256.0",
                        "count": 1
                      },
                      {
                        "name": "3 others",
                        "count": 3
                      }
                    ]
                  }
                },
                {
                  "name": "12",
                  "dtype": "object",
                  "stats": {
                    "unique_count": 4,
                    "nan_count": 0,
                    "categories": [
                      {
                        "name": "0.0",
                        "count": 2
                      },
                      {
                        "name": "777.0",
                        "count": 1
                      },
                      {
                        "name": "2 others",
                        "count": 2
                      }
                    ]
                  }
                },
                {
                  "name": "13",
                  "dtype": "object",
                  "stats": {
                    "unique_count": 5,
                    "nan_count": 0,
                    "categories": [
                      {
                        "name": "1.335",
                        "count": 1
                      },
                      {
                        "name": "1.541",
                        "count": 1
                      },
                      {
                        "name": "3 others",
                        "count": 3
                      }
                    ]
                  }
                },
                {
                  "name": "14",
                  "dtype": "object",
                  "stats": {
                    "unique_count": 5,
                    "nan_count": 0,
                    "categories": [
                      {
                        "name": "1144.0",
                        "count": 1
                      },
                      {
                        "name": "1291.0",
                        "count": 1
                      },
                      {
                        "name": "3 others",
                        "count": 3
                      }
                    ]
                  }
                },
                {
                  "name": "15",
                  "dtype": "object",
                  "stats": {
                    "unique_count": 4,
                    "nan_count": 0,
                    "categories": [
                      {
                        "name": "20.0",
                        "count": 2
                      },
                      {
                        "name": "42.0",
                        "count": 1
                      },
                      {
                        "name": "2 others",
                        "count": 2
                      }
                    ]
                  }
                },
                {
                  "name": "16",
                  "dtype": "object",
                  "stats": {
                    "unique_count": 4,
                    "nan_count": 0,
                    "categories": [
                      {
                        "name": "2.333",
                        "count": 2
                      },
                      {
                        "name": "1.625",
                        "count": 1
                      },
                      {
                        "name": "2 others",
                        "count": 2
                      }
                    ]
                  }
                },
                {
                  "name": "17",
                  "dtype": "object",
                  "stats": {
                    "unique_count": 4,
                    "nan_count": 0,
                    "categories": [
                      {
                        "name": "0.0",
                        "count": 2
                      },
                      {
                        "name": "0.061",
                        "count": 1
                      },
                      {
                        "name": "2 others",
                        "count": 2
                      }
                    ]
                  }
                },
                {
                  "name": "18",
                  "dtype": "object",
                  "stats": {
                    "unique_count": 2,
                    "nan_count": 0,
                    "categories": [
                      {
                        "name": "1.0",
                        "count": 3
                      },
                      {
                        "name": "0.0",
                        "count": 2
                      }
                    ]
                  }
                },
                {
                  "name": "_deepnote_index_column",
                  "dtype": "int64"
                }
              ],
              "rows": [
                {
                  "0": "0.0",
                  "1": "45.0",
                  "2": "3.0",
                  "3": "High School",
                  "4": "Married",
                  "5": "$60K - $80K",
                  "6": "0.0",
                  "7": "39.0",
                  "8": "5.0",
                  "9": "1.0",
                  "10": "3.0",
                  "11": "12691.0",
                  "12": "777.0",
                  "13": "1.335",
                  "14": "1144.0",
                  "15": "42.0",
                  "16": "1.625",
                  "17": "0.061",
                  "18": "1.0",
                  "_deepnote_index_column": 0
                },
                {
                  "0": "0.0",
                  "1": "49.0",
                  "2": "5.0",
                  "3": "Graduate",
                  "4": "Single",
                  "5": "Less than $40K",
                  "6": "0.0",
                  "7": "44.0",
                  "8": "6.0",
                  "9": "1.0",
                  "10": "2.0",
                  "11": "8256.0",
                  "12": "864.0",
                  "13": "1.541",
                  "14": "1291.0",
                  "15": "33.0",
                  "16": "3.714",
                  "17": "0.105",
                  "18": "0.0",
                  "_deepnote_index_column": 1
                },
                {
                  "0": "0.0",
                  "1": "51.0",
                  "2": "3.0",
                  "3": "Graduate",
                  "4": "Married",
                  "5": "$80K - $120K",
                  "6": "0.0",
                  "7": "36.0",
                  "8": "4.0",
                  "9": "1.0",
                  "10": "0.0",
                  "11": "3418.0",
                  "12": "0.0",
                  "13": "2.594",
                  "14": "1887.0",
                  "15": "20.0",
                  "16": "2.333",
                  "17": "0.0",
                  "18": "1.0",
                  "_deepnote_index_column": 2
                },
                {
                  "0": "0.0",
                  "1": "40.0",
                  "2": "4.0",
                  "3": "High School",
                  "4": "Married",
                  "5": "Less than $40K",
                  "6": "0.0",
                  "7": "34.0",
                  "8": "3.0",
                  "9": "4.0",
                  "10": "1.0",
                  "11": "3313.0",
                  "12": "2517.0",
                  "13": "1.405",
                  "14": "1171.0",
                  "15": "20.0",
                  "16": "2.333",
                  "17": "0.76",
                  "18": "0.0",
                  "_deepnote_index_column": 3
                },
                {
                  "0": "0.0",
                  "1": "40.0",
                  "2": "3.0",
                  "3": "Uneducated",
                  "4": "Married",
                  "5": "$60K - $80K",
                  "6": "0.0",
                  "7": "21.0",
                  "8": "5.0",
                  "9": "1.0",
                  "10": "0.0",
                  "11": "4716.0",
                  "12": "0.0",
                  "13": "2.175",
                  "14": "816.0",
                  "15": "28.0",
                  "16": "2.5",
                  "17": "0.0",
                  "18": "1.0",
                  "_deepnote_index_column": 4
                }
              ]
            },
            "text/plain": "    0     1    2            3        4               5    6     7    8    9   \\\n0  0.0  45.0  3.0  High School  Married     $60K - $80K  0.0  39.0  5.0  1.0   \n1  0.0  49.0  5.0     Graduate   Single  Less than $40K  0.0  44.0  6.0  1.0   \n2  0.0  51.0  3.0     Graduate  Married    $80K - $120K  0.0  36.0  4.0  1.0   \n3  0.0  40.0  4.0  High School  Married  Less than $40K  0.0  34.0  3.0  4.0   \n4  0.0  40.0  3.0   Uneducated  Married     $60K - $80K  0.0  21.0  5.0  1.0   \n\n    10       11      12     13      14    15     16     17   18  \n0  3.0  12691.0   777.0  1.335  1144.0  42.0  1.625  0.061  1.0  \n1  2.0   8256.0   864.0  1.541  1291.0  33.0  3.714  0.105  0.0  \n2  0.0   3418.0     0.0  2.594  1887.0  20.0  2.333    0.0  1.0  \n3  1.0   3313.0  2517.0  1.405  1171.0  20.0  2.333   0.76  0.0  \n4  0.0   4716.0     0.0  2.175   816.0  28.0    2.5    0.0  1.0  ",
            "text/html": "<div>\n<style scoped>\n    .dataframe tbody tr th:only-of-type {\n        vertical-align: middle;\n    }\n\n    .dataframe tbody tr th {\n        vertical-align: top;\n    }\n\n    .dataframe thead th {\n        text-align: right;\n    }\n</style>\n<table border=\"1\" class=\"dataframe\">\n  <thead>\n    <tr style=\"text-align: right;\">\n      <th></th>\n      <th>0</th>\n      <th>1</th>\n      <th>2</th>\n      <th>3</th>\n      <th>4</th>\n      <th>5</th>\n      <th>6</th>\n      <th>7</th>\n      <th>8</th>\n      <th>9</th>\n      <th>10</th>\n      <th>11</th>\n      <th>12</th>\n      <th>13</th>\n      <th>14</th>\n      <th>15</th>\n      <th>16</th>\n      <th>17</th>\n      <th>18</th>\n    </tr>\n  </thead>\n  <tbody>\n    <tr>\n      <th>0</th>\n      <td>0.0</td>\n      <td>45.0</td>\n      <td>3.0</td>\n      <td>High School</td>\n      <td>Married</td>\n      <td>$60K - $80K</td>\n      <td>0.0</td>\n      <td>39.0</td>\n      <td>5.0</td>\n      <td>1.0</td>\n      <td>3.0</td>\n      <td>12691.0</td>\n      <td>777.0</td>\n      <td>1.335</td>\n      <td>1144.0</td>\n      <td>42.0</td>\n      <td>1.625</td>\n      <td>0.061</td>\n      <td>1.0</td>\n    </tr>\n    <tr>\n      <th>1</th>\n      <td>0.0</td>\n      <td>49.0</td>\n      <td>5.0</td>\n      <td>Graduate</td>\n      <td>Single</td>\n      <td>Less than $40K</td>\n      <td>0.0</td>\n      <td>44.0</td>\n      <td>6.0</td>\n      <td>1.0</td>\n      <td>2.0</td>\n      <td>8256.0</td>\n      <td>864.0</td>\n      <td>1.541</td>\n      <td>1291.0</td>\n      <td>33.0</td>\n      <td>3.714</td>\n      <td>0.105</td>\n      <td>0.0</td>\n    </tr>\n    <tr>\n      <th>2</th>\n      <td>0.0</td>\n      <td>51.0</td>\n      <td>3.0</td>\n      <td>Graduate</td>\n      <td>Married</td>\n      <td>$80K - $120K</td>\n      <td>0.0</td>\n      <td>36.0</td>\n      <td>4.0</td>\n      <td>1.0</td>\n      <td>0.0</td>\n      <td>3418.0</td>\n      <td>0.0</td>\n      <td>2.594</td>\n      <td>1887.0</td>\n      <td>20.0</td>\n      <td>2.333</td>\n      <td>0.0</td>\n      <td>1.0</td>\n    </tr>\n    <tr>\n      <th>3</th>\n      <td>0.0</td>\n      <td>40.0</td>\n      <td>4.0</td>\n      <td>High School</td>\n      <td>Married</td>\n      <td>Less than $40K</td>\n      <td>0.0</td>\n      <td>34.0</td>\n      <td>3.0</td>\n      <td>4.0</td>\n      <td>1.0</td>\n      <td>3313.0</td>\n      <td>2517.0</td>\n      <td>1.405</td>\n      <td>1171.0</td>\n      <td>20.0</td>\n      <td>2.333</td>\n      <td>0.76</td>\n      <td>0.0</td>\n    </tr>\n    <tr>\n      <th>4</th>\n      <td>0.0</td>\n      <td>40.0</td>\n      <td>3.0</td>\n      <td>Uneducated</td>\n      <td>Married</td>\n      <td>$60K - $80K</td>\n      <td>0.0</td>\n      <td>21.0</td>\n      <td>5.0</td>\n      <td>1.0</td>\n      <td>0.0</td>\n      <td>4716.0</td>\n      <td>0.0</td>\n      <td>2.175</td>\n      <td>816.0</td>\n      <td>28.0</td>\n      <td>2.5</td>\n      <td>0.0</td>\n      <td>1.0</td>\n    </tr>\n  </tbody>\n</table>\n</div>"
          },
          "metadata": {}
        }
      ],
      "outputs_reference": null,
      "execution_count": 73,
      "block_group": "eb70f31f90d24d95b1595d2b87c7a378"
    },
    {
      "cell_type": "code",
      "source": "X[3].unique()",
      "metadata": {
        "source_hash": "495f9d8",
        "execution_start": 1710506477824,
        "execution_millis": 440,
        "deepnote_to_be_reexecuted": false,
        "cell_id": "26cfe3afc80b47da9e1e85f4b7d07c3b",
        "deepnote_cell_type": "code"
      },
      "outputs": [
        {
          "output_type": "execute_result",
          "execution_count": 74,
          "data": {
            "text/plain": "array(['High School', 'Graduate', 'Uneducated', 'College',\n       'Post-Graduate', 'Doctorate'], dtype=object)"
          },
          "metadata": {}
        }
      ],
      "outputs_reference": null,
      "execution_count": 74,
      "block_group": "7ba29d3f3292407f92cad608f62a40dd"
    },
    {
      "cell_type": "code",
      "source": "X = pd.get_dummies(X, columns=[4], drop_first=True)\nX[3] = X[3].map({'Uneducated': 0, 'High School': 1, 'College': 2, 'Graduate': 3, 'Post-Graduate':4, 'Doctorate': 5})\nX[5] = X[5].map({'Less than $40K': 0, '$40K - $60K': 1, '$60K - $80K': 2, '$80K - $120K': 3, '$120K +': 4})",
      "metadata": {
        "source_hash": "d8c50501",
        "execution_start": 1710506477832,
        "execution_millis": 433,
        "deepnote_to_be_reexecuted": false,
        "cell_id": "50b02f4d78fb4efd99872e444aa419a8",
        "deepnote_cell_type": "code"
      },
      "outputs": [],
      "outputs_reference": null,
      "execution_count": 75,
      "block_group": "2d783a72934349b4afb98e5428f2c7ab"
    },
    {
      "cell_type": "markdown",
      "source": "Manually order labelling the category data.",
      "metadata": {
        "formattedRanges": [],
        "cell_id": "e76eb98d0c28446798311e65f8fdf167",
        "deepnote_cell_type": "text-cell-p"
      },
      "block_group": "43b6381de1ca443e9c29bb37040c4770"
    },
    {
      "cell_type": "code",
      "source": "y = X[0]\nX = X.drop(columns=0)",
      "metadata": {
        "source_hash": "96d99219",
        "execution_start": 1710506477894,
        "execution_millis": 371,
        "deepnote_to_be_reexecuted": false,
        "cell_id": "4717f4a484f249f1aa2c54fa60315d47",
        "deepnote_cell_type": "code"
      },
      "outputs": [],
      "outputs_reference": null,
      "execution_count": 76,
      "block_group": "2d4a8c29e6a443039ecefa4cd804e68a"
    },
    {
      "cell_type": "code",
      "source": "X = X.select_dtypes('object').astype(float)",
      "metadata": {
        "source_hash": "2e967386",
        "execution_start": 1710506477895,
        "execution_millis": 370,
        "deepnote_to_be_reexecuted": false,
        "cell_id": "427963a42695478ba5ba2d458ec6e4b0",
        "deepnote_cell_type": "code"
      },
      "outputs": [],
      "outputs_reference": null,
      "execution_count": 77,
      "block_group": "bccc9577e2cc4060bedb7eb539e05d61"
    },
    {
      "cell_type": "code",
      "source": "y = y.astype(float)",
      "metadata": {
        "source_hash": "fd75f16c",
        "execution_start": 1710506477896,
        "execution_millis": 370,
        "deepnote_to_be_reexecuted": false,
        "cell_id": "d55998bf11da4ea98a25a3da505b3f1a",
        "deepnote_cell_type": "code"
      },
      "outputs": [],
      "outputs_reference": null,
      "execution_count": 78,
      "block_group": "63c7fe62e7a34340949ff2ac8c58d11d"
    },
    {
      "cell_type": "code",
      "source": "X.head()",
      "metadata": {
        "source_hash": "91c01c58",
        "execution_start": 1710506477902,
        "execution_millis": 364,
        "deepnote_to_be_reexecuted": false,
        "cell_id": "d36f62cc3b5744cd86632a64219fb4cf",
        "deepnote_cell_type": "code"
      },
      "outputs": [
        {
          "output_type": "execute_result",
          "execution_count": 79,
          "data": {
            "application/vnd.deepnote.dataframe.v3+json": {
              "column_count": 15,
              "row_count": 5,
              "columns": [
                {
                  "name": "1",
                  "dtype": "float64",
                  "stats": {
                    "unique_count": 4,
                    "nan_count": 0,
                    "min": "40.0",
                    "max": "51.0",
                    "histogram": [
                      {
                        "bin_start": 40,
                        "bin_end": 41.1,
                        "count": 2
                      },
                      {
                        "bin_start": 41.1,
                        "bin_end": 42.2,
                        "count": 0
                      },
                      {
                        "bin_start": 42.2,
                        "bin_end": 43.3,
                        "count": 0
                      },
                      {
                        "bin_start": 43.3,
                        "bin_end": 44.4,
                        "count": 0
                      },
                      {
                        "bin_start": 44.4,
                        "bin_end": 45.5,
                        "count": 1
                      },
                      {
                        "bin_start": 45.5,
                        "bin_end": 46.6,
                        "count": 0
                      },
                      {
                        "bin_start": 46.6,
                        "bin_end": 47.7,
                        "count": 0
                      },
                      {
                        "bin_start": 47.7,
                        "bin_end": 48.8,
                        "count": 0
                      },
                      {
                        "bin_start": 48.8,
                        "bin_end": 49.9,
                        "count": 1
                      },
                      {
                        "bin_start": 49.9,
                        "bin_end": 51,
                        "count": 1
                      }
                    ]
                  }
                },
                {
                  "name": "2",
                  "dtype": "float64",
                  "stats": {
                    "unique_count": 3,
                    "nan_count": 0,
                    "min": "3.0",
                    "max": "5.0",
                    "histogram": [
                      {
                        "bin_start": 3,
                        "bin_end": 3.2,
                        "count": 3
                      },
                      {
                        "bin_start": 3.2,
                        "bin_end": 3.4,
                        "count": 0
                      },
                      {
                        "bin_start": 3.4,
                        "bin_end": 3.6,
                        "count": 0
                      },
                      {
                        "bin_start": 3.6,
                        "bin_end": 3.8,
                        "count": 0
                      },
                      {
                        "bin_start": 3.8,
                        "bin_end": 4,
                        "count": 0
                      },
                      {
                        "bin_start": 4,
                        "bin_end": 4.2,
                        "count": 1
                      },
                      {
                        "bin_start": 4.2,
                        "bin_end": 4.4,
                        "count": 0
                      },
                      {
                        "bin_start": 4.4,
                        "bin_end": 4.6,
                        "count": 0
                      },
                      {
                        "bin_start": 4.6,
                        "bin_end": 4.8,
                        "count": 0
                      },
                      {
                        "bin_start": 4.8,
                        "bin_end": 5,
                        "count": 1
                      }
                    ]
                  }
                },
                {
                  "name": "6",
                  "dtype": "float64",
                  "stats": {
                    "unique_count": 1,
                    "nan_count": 0,
                    "min": "0.0",
                    "max": "0.0",
                    "histogram": [
                      {
                        "bin_start": -0.5,
                        "bin_end": -0.4,
                        "count": 0
                      },
                      {
                        "bin_start": -0.4,
                        "bin_end": -0.3,
                        "count": 0
                      },
                      {
                        "bin_start": -0.3,
                        "bin_end": -0.19999999999999996,
                        "count": 0
                      },
                      {
                        "bin_start": -0.19999999999999996,
                        "bin_end": -0.09999999999999998,
                        "count": 0
                      },
                      {
                        "bin_start": -0.09999999999999998,
                        "bin_end": 0,
                        "count": 0
                      },
                      {
                        "bin_start": 0,
                        "bin_end": 0.10000000000000009,
                        "count": 5
                      },
                      {
                        "bin_start": 0.10000000000000009,
                        "bin_end": 0.20000000000000007,
                        "count": 0
                      },
                      {
                        "bin_start": 0.20000000000000007,
                        "bin_end": 0.30000000000000004,
                        "count": 0
                      },
                      {
                        "bin_start": 0.30000000000000004,
                        "bin_end": 0.4,
                        "count": 0
                      },
                      {
                        "bin_start": 0.4,
                        "bin_end": 0.5,
                        "count": 0
                      }
                    ]
                  }
                },
                {
                  "name": "7",
                  "dtype": "float64",
                  "stats": {
                    "unique_count": 5,
                    "nan_count": 0,
                    "min": "21.0",
                    "max": "44.0",
                    "histogram": [
                      {
                        "bin_start": 21,
                        "bin_end": 23.3,
                        "count": 1
                      },
                      {
                        "bin_start": 23.3,
                        "bin_end": 25.6,
                        "count": 0
                      },
                      {
                        "bin_start": 25.6,
                        "bin_end": 27.9,
                        "count": 0
                      },
                      {
                        "bin_start": 27.9,
                        "bin_end": 30.2,
                        "count": 0
                      },
                      {
                        "bin_start": 30.2,
                        "bin_end": 32.5,
                        "count": 0
                      },
                      {
                        "bin_start": 32.5,
                        "bin_end": 34.8,
                        "count": 1
                      },
                      {
                        "bin_start": 34.8,
                        "bin_end": 37.099999999999994,
                        "count": 1
                      },
                      {
                        "bin_start": 37.099999999999994,
                        "bin_end": 39.4,
                        "count": 1
                      },
                      {
                        "bin_start": 39.4,
                        "bin_end": 41.7,
                        "count": 0
                      },
                      {
                        "bin_start": 41.7,
                        "bin_end": 44,
                        "count": 1
                      }
                    ]
                  }
                },
                {
                  "name": "8",
                  "dtype": "float64",
                  "stats": {
                    "unique_count": 4,
                    "nan_count": 0,
                    "min": "3.0",
                    "max": "6.0",
                    "histogram": [
                      {
                        "bin_start": 3,
                        "bin_end": 3.3,
                        "count": 1
                      },
                      {
                        "bin_start": 3.3,
                        "bin_end": 3.6,
                        "count": 0
                      },
                      {
                        "bin_start": 3.6,
                        "bin_end": 3.9,
                        "count": 0
                      },
                      {
                        "bin_start": 3.9,
                        "bin_end": 4.2,
                        "count": 1
                      },
                      {
                        "bin_start": 4.2,
                        "bin_end": 4.5,
                        "count": 0
                      },
                      {
                        "bin_start": 4.5,
                        "bin_end": 4.8,
                        "count": 0
                      },
                      {
                        "bin_start": 4.8,
                        "bin_end": 5.1,
                        "count": 2
                      },
                      {
                        "bin_start": 5.1,
                        "bin_end": 5.4,
                        "count": 0
                      },
                      {
                        "bin_start": 5.4,
                        "bin_end": 5.699999999999999,
                        "count": 0
                      },
                      {
                        "bin_start": 5.699999999999999,
                        "bin_end": 6,
                        "count": 1
                      }
                    ]
                  }
                },
                {
                  "name": "9",
                  "dtype": "float64",
                  "stats": {
                    "unique_count": 2,
                    "nan_count": 0,
                    "min": "1.0",
                    "max": "4.0",
                    "histogram": [
                      {
                        "bin_start": 1,
                        "bin_end": 1.3,
                        "count": 4
                      },
                      {
                        "bin_start": 1.3,
                        "bin_end": 1.6,
                        "count": 0
                      },
                      {
                        "bin_start": 1.6,
                        "bin_end": 1.9,
                        "count": 0
                      },
                      {
                        "bin_start": 1.9,
                        "bin_end": 2.2,
                        "count": 0
                      },
                      {
                        "bin_start": 2.2,
                        "bin_end": 2.5,
                        "count": 0
                      },
                      {
                        "bin_start": 2.5,
                        "bin_end": 2.8,
                        "count": 0
                      },
                      {
                        "bin_start": 2.8,
                        "bin_end": 3.1,
                        "count": 0
                      },
                      {
                        "bin_start": 3.1,
                        "bin_end": 3.4,
                        "count": 0
                      },
                      {
                        "bin_start": 3.4,
                        "bin_end": 3.6999999999999997,
                        "count": 0
                      },
                      {
                        "bin_start": 3.6999999999999997,
                        "bin_end": 4,
                        "count": 1
                      }
                    ]
                  }
                },
                {
                  "name": "10",
                  "dtype": "float64",
                  "stats": {
                    "unique_count": 4,
                    "nan_count": 0,
                    "min": "0.0",
                    "max": "3.0",
                    "histogram": [
                      {
                        "bin_start": 0,
                        "bin_end": 0.3,
                        "count": 2
                      },
                      {
                        "bin_start": 0.3,
                        "bin_end": 0.6,
                        "count": 0
                      },
                      {
                        "bin_start": 0.6,
                        "bin_end": 0.8999999999999999,
                        "count": 0
                      },
                      {
                        "bin_start": 0.8999999999999999,
                        "bin_end": 1.2,
                        "count": 1
                      },
                      {
                        "bin_start": 1.2,
                        "bin_end": 1.5,
                        "count": 0
                      },
                      {
                        "bin_start": 1.5,
                        "bin_end": 1.7999999999999998,
                        "count": 0
                      },
                      {
                        "bin_start": 1.7999999999999998,
                        "bin_end": 2.1,
                        "count": 1
                      },
                      {
                        "bin_start": 2.1,
                        "bin_end": 2.4,
                        "count": 0
                      },
                      {
                        "bin_start": 2.4,
                        "bin_end": 2.6999999999999997,
                        "count": 0
                      },
                      {
                        "bin_start": 2.6999999999999997,
                        "bin_end": 3,
                        "count": 1
                      }
                    ]
                  }
                },
                {
                  "name": "11",
                  "dtype": "float64",
                  "stats": {
                    "unique_count": 5,
                    "nan_count": 0,
                    "min": "3313.0",
                    "max": "12691.0",
                    "histogram": [
                      {
                        "bin_start": 3313,
                        "bin_end": 4250.8,
                        "count": 2
                      },
                      {
                        "bin_start": 4250.8,
                        "bin_end": 5188.6,
                        "count": 1
                      },
                      {
                        "bin_start": 5188.6,
                        "bin_end": 6126.4,
                        "count": 0
                      },
                      {
                        "bin_start": 6126.4,
                        "bin_end": 7064.2,
                        "count": 0
                      },
                      {
                        "bin_start": 7064.2,
                        "bin_end": 8002,
                        "count": 0
                      },
                      {
                        "bin_start": 8002,
                        "bin_end": 8939.8,
                        "count": 1
                      },
                      {
                        "bin_start": 8939.8,
                        "bin_end": 9877.599999999999,
                        "count": 0
                      },
                      {
                        "bin_start": 9877.599999999999,
                        "bin_end": 10815.4,
                        "count": 0
                      },
                      {
                        "bin_start": 10815.4,
                        "bin_end": 11753.199999999999,
                        "count": 0
                      },
                      {
                        "bin_start": 11753.199999999999,
                        "bin_end": 12691,
                        "count": 1
                      }
                    ]
                  }
                },
                {
                  "name": "12",
                  "dtype": "float64",
                  "stats": {
                    "unique_count": 4,
                    "nan_count": 0,
                    "min": "0.0",
                    "max": "2517.0",
                    "histogram": [
                      {
                        "bin_start": 0,
                        "bin_end": 251.7,
                        "count": 2
                      },
                      {
                        "bin_start": 251.7,
                        "bin_end": 503.4,
                        "count": 0
                      },
                      {
                        "bin_start": 503.4,
                        "bin_end": 755.0999999999999,
                        "count": 0
                      },
                      {
                        "bin_start": 755.0999999999999,
                        "bin_end": 1006.8,
                        "count": 2
                      },
                      {
                        "bin_start": 1006.8,
                        "bin_end": 1258.5,
                        "count": 0
                      },
                      {
                        "bin_start": 1258.5,
                        "bin_end": 1510.1999999999998,
                        "count": 0
                      },
                      {
                        "bin_start": 1510.1999999999998,
                        "bin_end": 1761.8999999999999,
                        "count": 0
                      },
                      {
                        "bin_start": 1761.8999999999999,
                        "bin_end": 2013.6,
                        "count": 0
                      },
                      {
                        "bin_start": 2013.6,
                        "bin_end": 2265.2999999999997,
                        "count": 0
                      },
                      {
                        "bin_start": 2265.2999999999997,
                        "bin_end": 2517,
                        "count": 1
                      }
                    ]
                  }
                },
                {
                  "name": "13",
                  "dtype": "float64",
                  "stats": {
                    "unique_count": 5,
                    "nan_count": 0,
                    "min": "1.335",
                    "max": "2.594",
                    "histogram": [
                      {
                        "bin_start": 1.335,
                        "bin_end": 1.4608999999999999,
                        "count": 2
                      },
                      {
                        "bin_start": 1.4608999999999999,
                        "bin_end": 1.5868,
                        "count": 1
                      },
                      {
                        "bin_start": 1.5868,
                        "bin_end": 1.7127,
                        "count": 0
                      },
                      {
                        "bin_start": 1.7127,
                        "bin_end": 1.8386,
                        "count": 0
                      },
                      {
                        "bin_start": 1.8386,
                        "bin_end": 1.9645,
                        "count": 0
                      },
                      {
                        "bin_start": 1.9645,
                        "bin_end": 2.0904,
                        "count": 0
                      },
                      {
                        "bin_start": 2.0904,
                        "bin_end": 2.2163,
                        "count": 1
                      },
                      {
                        "bin_start": 2.2163,
                        "bin_end": 2.3422,
                        "count": 0
                      },
                      {
                        "bin_start": 2.3422,
                        "bin_end": 2.4680999999999997,
                        "count": 0
                      },
                      {
                        "bin_start": 2.4680999999999997,
                        "bin_end": 2.594,
                        "count": 1
                      }
                    ]
                  }
                },
                {
                  "name": "14",
                  "dtype": "float64",
                  "stats": {
                    "unique_count": 5,
                    "nan_count": 0,
                    "min": "816.0",
                    "max": "1887.0",
                    "histogram": [
                      {
                        "bin_start": 816,
                        "bin_end": 923.1,
                        "count": 1
                      },
                      {
                        "bin_start": 923.1,
                        "bin_end": 1030.2,
                        "count": 0
                      },
                      {
                        "bin_start": 1030.2,
                        "bin_end": 1137.3,
                        "count": 0
                      },
                      {
                        "bin_start": 1137.3,
                        "bin_end": 1244.4,
                        "count": 2
                      },
                      {
                        "bin_start": 1244.4,
                        "bin_end": 1351.5,
                        "count": 1
                      },
                      {
                        "bin_start": 1351.5,
                        "bin_end": 1458.6,
                        "count": 0
                      },
                      {
                        "bin_start": 1458.6,
                        "bin_end": 1565.6999999999998,
                        "count": 0
                      },
                      {
                        "bin_start": 1565.6999999999998,
                        "bin_end": 1672.8,
                        "count": 0
                      },
                      {
                        "bin_start": 1672.8,
                        "bin_end": 1779.9,
                        "count": 0
                      },
                      {
                        "bin_start": 1779.9,
                        "bin_end": 1887,
                        "count": 1
                      }
                    ]
                  }
                },
                {
                  "name": "15",
                  "dtype": "float64",
                  "stats": {
                    "unique_count": 4,
                    "nan_count": 0,
                    "min": "20.0",
                    "max": "42.0",
                    "histogram": [
                      {
                        "bin_start": 20,
                        "bin_end": 22.2,
                        "count": 2
                      },
                      {
                        "bin_start": 22.2,
                        "bin_end": 24.4,
                        "count": 0
                      },
                      {
                        "bin_start": 24.4,
                        "bin_end": 26.6,
                        "count": 0
                      },
                      {
                        "bin_start": 26.6,
                        "bin_end": 28.8,
                        "count": 1
                      },
                      {
                        "bin_start": 28.8,
                        "bin_end": 31,
                        "count": 0
                      },
                      {
                        "bin_start": 31,
                        "bin_end": 33.2,
                        "count": 1
                      },
                      {
                        "bin_start": 33.2,
                        "bin_end": 35.400000000000006,
                        "count": 0
                      },
                      {
                        "bin_start": 35.400000000000006,
                        "bin_end": 37.6,
                        "count": 0
                      },
                      {
                        "bin_start": 37.6,
                        "bin_end": 39.8,
                        "count": 0
                      },
                      {
                        "bin_start": 39.8,
                        "bin_end": 42,
                        "count": 1
                      }
                    ]
                  }
                },
                {
                  "name": "16",
                  "dtype": "float64",
                  "stats": {
                    "unique_count": 4,
                    "nan_count": 0,
                    "min": "1.625",
                    "max": "3.714",
                    "histogram": [
                      {
                        "bin_start": 1.625,
                        "bin_end": 1.8339,
                        "count": 1
                      },
                      {
                        "bin_start": 1.8339,
                        "bin_end": 2.0428,
                        "count": 0
                      },
                      {
                        "bin_start": 2.0428,
                        "bin_end": 2.2517,
                        "count": 0
                      },
                      {
                        "bin_start": 2.2517,
                        "bin_end": 2.4606,
                        "count": 2
                      },
                      {
                        "bin_start": 2.4606,
                        "bin_end": 2.6695,
                        "count": 1
                      },
                      {
                        "bin_start": 2.6695,
                        "bin_end": 2.8784,
                        "count": 0
                      },
                      {
                        "bin_start": 2.8784,
                        "bin_end": 3.0873,
                        "count": 0
                      },
                      {
                        "bin_start": 3.0873,
                        "bin_end": 3.2962,
                        "count": 0
                      },
                      {
                        "bin_start": 3.2962,
                        "bin_end": 3.5051,
                        "count": 0
                      },
                      {
                        "bin_start": 3.5051,
                        "bin_end": 3.714,
                        "count": 1
                      }
                    ]
                  }
                },
                {
                  "name": "17",
                  "dtype": "float64",
                  "stats": {
                    "unique_count": 4,
                    "nan_count": 0,
                    "min": "0.0",
                    "max": "0.76",
                    "histogram": [
                      {
                        "bin_start": 0,
                        "bin_end": 0.076,
                        "count": 3
                      },
                      {
                        "bin_start": 0.076,
                        "bin_end": 0.152,
                        "count": 1
                      },
                      {
                        "bin_start": 0.152,
                        "bin_end": 0.22799999999999998,
                        "count": 0
                      },
                      {
                        "bin_start": 0.22799999999999998,
                        "bin_end": 0.304,
                        "count": 0
                      },
                      {
                        "bin_start": 0.304,
                        "bin_end": 0.38,
                        "count": 0
                      },
                      {
                        "bin_start": 0.38,
                        "bin_end": 0.45599999999999996,
                        "count": 0
                      },
                      {
                        "bin_start": 0.45599999999999996,
                        "bin_end": 0.532,
                        "count": 0
                      },
                      {
                        "bin_start": 0.532,
                        "bin_end": 0.608,
                        "count": 0
                      },
                      {
                        "bin_start": 0.608,
                        "bin_end": 0.6839999999999999,
                        "count": 0
                      },
                      {
                        "bin_start": 0.6839999999999999,
                        "bin_end": 0.76,
                        "count": 1
                      }
                    ]
                  }
                },
                {
                  "name": "18",
                  "dtype": "float64",
                  "stats": {
                    "unique_count": 2,
                    "nan_count": 0,
                    "min": "0.0",
                    "max": "1.0",
                    "histogram": [
                      {
                        "bin_start": 0,
                        "bin_end": 0.1,
                        "count": 2
                      },
                      {
                        "bin_start": 0.1,
                        "bin_end": 0.2,
                        "count": 0
                      },
                      {
                        "bin_start": 0.2,
                        "bin_end": 0.30000000000000004,
                        "count": 0
                      },
                      {
                        "bin_start": 0.30000000000000004,
                        "bin_end": 0.4,
                        "count": 0
                      },
                      {
                        "bin_start": 0.4,
                        "bin_end": 0.5,
                        "count": 0
                      },
                      {
                        "bin_start": 0.5,
                        "bin_end": 0.6000000000000001,
                        "count": 0
                      },
                      {
                        "bin_start": 0.6000000000000001,
                        "bin_end": 0.7000000000000001,
                        "count": 0
                      },
                      {
                        "bin_start": 0.7000000000000001,
                        "bin_end": 0.8,
                        "count": 0
                      },
                      {
                        "bin_start": 0.8,
                        "bin_end": 0.9,
                        "count": 0
                      },
                      {
                        "bin_start": 0.9,
                        "bin_end": 1,
                        "count": 3
                      }
                    ]
                  }
                },
                {
                  "name": "_deepnote_index_column",
                  "dtype": "int64"
                }
              ],
              "rows": [
                {
                  "1": 45,
                  "2": 3,
                  "6": 0,
                  "7": 39,
                  "8": 5,
                  "9": 1,
                  "10": 3,
                  "11": 12691,
                  "12": 777,
                  "13": 1.335,
                  "14": 1144,
                  "15": 42,
                  "16": 1.625,
                  "17": 0.061,
                  "18": 1,
                  "_deepnote_index_column": 0
                },
                {
                  "1": 49,
                  "2": 5,
                  "6": 0,
                  "7": 44,
                  "8": 6,
                  "9": 1,
                  "10": 2,
                  "11": 8256,
                  "12": 864,
                  "13": 1.541,
                  "14": 1291,
                  "15": 33,
                  "16": 3.714,
                  "17": 0.105,
                  "18": 0,
                  "_deepnote_index_column": 1
                },
                {
                  "1": 51,
                  "2": 3,
                  "6": 0,
                  "7": 36,
                  "8": 4,
                  "9": 1,
                  "10": 0,
                  "11": 3418,
                  "12": 0,
                  "13": 2.594,
                  "14": 1887,
                  "15": 20,
                  "16": 2.333,
                  "17": 0,
                  "18": 1,
                  "_deepnote_index_column": 2
                },
                {
                  "1": 40,
                  "2": 4,
                  "6": 0,
                  "7": 34,
                  "8": 3,
                  "9": 4,
                  "10": 1,
                  "11": 3313,
                  "12": 2517,
                  "13": 1.405,
                  "14": 1171,
                  "15": 20,
                  "16": 2.333,
                  "17": 0.76,
                  "18": 0,
                  "_deepnote_index_column": 3
                },
                {
                  "1": 40,
                  "2": 3,
                  "6": 0,
                  "7": 21,
                  "8": 5,
                  "9": 1,
                  "10": 0,
                  "11": 4716,
                  "12": 0,
                  "13": 2.175,
                  "14": 816,
                  "15": 28,
                  "16": 2.5,
                  "17": 0,
                  "18": 1,
                  "_deepnote_index_column": 4
                }
              ]
            },
            "text/plain": "      1    2    6     7    8    9   10       11      12     13      14    15  \\\n0  45.0  3.0  0.0  39.0  5.0  1.0  3.0  12691.0   777.0  1.335  1144.0  42.0   \n1  49.0  5.0  0.0  44.0  6.0  1.0  2.0   8256.0   864.0  1.541  1291.0  33.0   \n2  51.0  3.0  0.0  36.0  4.0  1.0  0.0   3418.0     0.0  2.594  1887.0  20.0   \n3  40.0  4.0  0.0  34.0  3.0  4.0  1.0   3313.0  2517.0  1.405  1171.0  20.0   \n4  40.0  3.0  0.0  21.0  5.0  1.0  0.0   4716.0     0.0  2.175   816.0  28.0   \n\n      16     17   18  \n0  1.625  0.061  1.0  \n1  3.714  0.105  0.0  \n2  2.333  0.000  1.0  \n3  2.333  0.760  0.0  \n4  2.500  0.000  1.0  ",
            "text/html": "<div>\n<style scoped>\n    .dataframe tbody tr th:only-of-type {\n        vertical-align: middle;\n    }\n\n    .dataframe tbody tr th {\n        vertical-align: top;\n    }\n\n    .dataframe thead th {\n        text-align: right;\n    }\n</style>\n<table border=\"1\" class=\"dataframe\">\n  <thead>\n    <tr style=\"text-align: right;\">\n      <th></th>\n      <th>1</th>\n      <th>2</th>\n      <th>6</th>\n      <th>7</th>\n      <th>8</th>\n      <th>9</th>\n      <th>10</th>\n      <th>11</th>\n      <th>12</th>\n      <th>13</th>\n      <th>14</th>\n      <th>15</th>\n      <th>16</th>\n      <th>17</th>\n      <th>18</th>\n    </tr>\n  </thead>\n  <tbody>\n    <tr>\n      <th>0</th>\n      <td>45.0</td>\n      <td>3.0</td>\n      <td>0.0</td>\n      <td>39.0</td>\n      <td>5.0</td>\n      <td>1.0</td>\n      <td>3.0</td>\n      <td>12691.0</td>\n      <td>777.0</td>\n      <td>1.335</td>\n      <td>1144.0</td>\n      <td>42.0</td>\n      <td>1.625</td>\n      <td>0.061</td>\n      <td>1.0</td>\n    </tr>\n    <tr>\n      <th>1</th>\n      <td>49.0</td>\n      <td>5.0</td>\n      <td>0.0</td>\n      <td>44.0</td>\n      <td>6.0</td>\n      <td>1.0</td>\n      <td>2.0</td>\n      <td>8256.0</td>\n      <td>864.0</td>\n      <td>1.541</td>\n      <td>1291.0</td>\n      <td>33.0</td>\n      <td>3.714</td>\n      <td>0.105</td>\n      <td>0.0</td>\n    </tr>\n    <tr>\n      <th>2</th>\n      <td>51.0</td>\n      <td>3.0</td>\n      <td>0.0</td>\n      <td>36.0</td>\n      <td>4.0</td>\n      <td>1.0</td>\n      <td>0.0</td>\n      <td>3418.0</td>\n      <td>0.0</td>\n      <td>2.594</td>\n      <td>1887.0</td>\n      <td>20.0</td>\n      <td>2.333</td>\n      <td>0.000</td>\n      <td>1.0</td>\n    </tr>\n    <tr>\n      <th>3</th>\n      <td>40.0</td>\n      <td>4.0</td>\n      <td>0.0</td>\n      <td>34.0</td>\n      <td>3.0</td>\n      <td>4.0</td>\n      <td>1.0</td>\n      <td>3313.0</td>\n      <td>2517.0</td>\n      <td>1.405</td>\n      <td>1171.0</td>\n      <td>20.0</td>\n      <td>2.333</td>\n      <td>0.760</td>\n      <td>0.0</td>\n    </tr>\n    <tr>\n      <th>4</th>\n      <td>40.0</td>\n      <td>3.0</td>\n      <td>0.0</td>\n      <td>21.0</td>\n      <td>5.0</td>\n      <td>1.0</td>\n      <td>0.0</td>\n      <td>4716.0</td>\n      <td>0.0</td>\n      <td>2.175</td>\n      <td>816.0</td>\n      <td>28.0</td>\n      <td>2.500</td>\n      <td>0.000</td>\n      <td>1.0</td>\n    </tr>\n  </tbody>\n</table>\n</div>"
          },
          "metadata": {}
        }
      ],
      "outputs_reference": null,
      "execution_count": 79,
      "block_group": "7bc9f7e5a1834cc8bce5860b20f73611"
    },
    {
      "cell_type": "code",
      "source": "X_train, X_test, y_train, y_test = train_test_split(X, y, test_size=0.2, random_state=42)\n\n# Fit and transform the training data\nX_train_scaled = numeric_pipeline.fit_transform(X_train[[1,2,6,7,8,9,10,11,12,13,14,15,16,17]])\n\n# Transform the testing data\nX_test_scaled = numeric_pipeline.transform(X_test[[1,2,6,7,8,9,10,11,12,13,14,15,16,17]])\n\n# Replace the original numeric columns in X_train and X_test with the scaled ones\nX_train[[1,2,6,7,8,9,10,11,12,13,14,15,16,17]] = X_train_scaled\nX_test[[1,2,6,7,8,9,10,11,12,13,14,15,16,17]] = X_test_scaled",
      "metadata": {
        "source_hash": "e0e80b35",
        "execution_start": 1710506477952,
        "execution_millis": 314,
        "deepnote_to_be_reexecuted": false,
        "cell_id": "68a75c546ac8429a821dab519d9d648c",
        "deepnote_cell_type": "code"
      },
      "outputs": [],
      "outputs_reference": null,
      "execution_count": 80,
      "block_group": "d691053ac41a46a1ab2e0992b9728291"
    },
    {
      "cell_type": "code",
      "source": "classifiers = {\n    \"KNN\": KNeighborsClassifier(n_neighbors=7),\n    \"SVM\": SVC(kernel='rbf', C=1, random_state=42),\n    \"Logistic Regression\": LogisticRegression(random_state=42, max_iter=100),\n    \"Random Forest\": RandomForestClassifier(n_estimators=100, random_state=42),\n    \"XGBoost\": xgb.XGBClassifier(use_label_encoder=False, eval_metric=\"logloss\", random_state=42),\n}",
      "metadata": {
        "source_hash": "f4631d5e",
        "execution_start": 1710506477971,
        "execution_millis": 524,
        "deepnote_to_be_reexecuted": false,
        "cell_id": "9729578999804450b91c676466cf8347",
        "deepnote_cell_type": "code"
      },
      "outputs": [],
      "outputs_reference": null,
      "execution_count": 81,
      "block_group": "dd43894645424491b75b9308597f5fb5"
    },
    {
      "cell_type": "code",
      "source": "y.info()",
      "metadata": {
        "source_hash": "2913bdf4",
        "execution_start": 1710506477973,
        "execution_millis": 523,
        "deepnote_to_be_reexecuted": false,
        "cell_id": "d59a7d1554ae45d39e6f63ef8c01f5fe",
        "deepnote_cell_type": "code"
      },
      "outputs": [
        {
          "name": "stdout",
          "text": "<class 'pandas.core.series.Series'>\nRangeIndex: 10127 entries, 0 to 10126\nSeries name: 0\nNon-Null Count  Dtype  \n--------------  -----  \n10127 non-null  float64\ndtypes: float64(1)\nmemory usage: 79.2 KB\n",
          "output_type": "stream"
        }
      ],
      "outputs_reference": null,
      "execution_count": 82,
      "block_group": "ce72c700da9c44088326a371f0511d06"
    },
    {
      "cell_type": "code",
      "source": "# results = []\n\n# for name, clf in classifiers.items():\n#     clf.fit(X_train, y_train)\n#     y_pred = clf.predict(X_test)\n#     cm = confusion_matrix(y_test, y_pred)\n\n#     # Calculate TP, TN, FP, and FN\n#     tn, fp, fn, tp = cm.ravel()\n\n#     # Calculate precision and recall\n#     precision = precision_score(y_test, y_pred)\n#     recall = recall_score(y_test, y_pred)\n#     f1_score = fbeta_score(y_test, y_pred, beta=1)\n#     f2_score = fbeta_score(y_test, y_pred, beta=2)\n\n#     # Format results and append to the list\n#     results.append([name, precision, recall, f1_score, f2_score, tp, tn, fp, fn])\n\n# # Create a table using tabulate\n# headers = [\"Classifier\", \"Precision\", \"Recall\", \"F1 Score\", \"F2 Score\", \"TP\", \"TN\", \"FP\", \"FN\"]\n# table = tabulate(results, headers=headers)\n\n# # Print the table\n# print(table)\n\ntrain_result(X_train, X_test, y_train, y_test)",
      "metadata": {
        "source_hash": "4b7e8f1e",
        "execution_start": 1710506477992,
        "execution_millis": 2514,
        "deepnote_to_be_reexecuted": false,
        "cell_id": "14588df5485344a588f8f5ca22f3bd87",
        "deepnote_cell_type": "code"
      },
      "outputs": [
        {
          "name": "stdout",
          "text": "Classifier             Precision    Recall    F1 Score    F2 Score    TP    TN    FP    FN    Business Value Score\n-------------------  -----------  --------  ----------  ----------  ----  ----  ----  ----  ----------------------\nKNN                     0.823789  0.571865    0.67509     0.609121   187  1659    40   140                   49400\nSVM                     0.87747   0.678899    0.765517    0.711083   222  1668    31   105                   53350\nLogistic Regression     0.777778  0.535168    0.634058    0.570776   175  1649    50   152                   47700\nRandom Forest           0.932384  0.801223    0.861842    0.824418   262  1680    19    65                   57950\nXGBoost                 0.901274  0.865443    0.882995    0.87238    283  1668    31    44                   59450\n",
          "output_type": "stream"
        },
        {
          "output_type": "execute_result",
          "execution_count": 83,
          "data": {
            "text/plain": "{'KNN': KNeighborsClassifier(n_neighbors=7),\n 'SVM': SVC(C=1, random_state=42),\n 'Logistic Regression': LogisticRegression(random_state=42),\n 'Random Forest': RandomForestClassifier(random_state=42),\n 'XGBoost': XGBClassifier(base_score=None, booster=None, callbacks=None,\n               colsample_bylevel=None, colsample_bynode=None,\n               colsample_bytree=None, device=None, early_stopping_rounds=None,\n               enable_categorical=False, eval_metric='logloss',\n               feature_types=None, gamma=None, grow_policy=None,\n               importance_type=None, interaction_constraints=None,\n               learning_rate=None, max_bin=None, max_cat_threshold=None,\n               max_cat_to_onehot=None, max_delta_step=None, max_depth=None,\n               max_leaves=None, min_child_weight=None, missing=nan,\n               monotone_constraints=None, multi_strategy=None, n_estimators=None,\n               n_jobs=None, num_parallel_tree=None, random_state=42, ...)}"
          },
          "metadata": {}
        }
      ],
      "outputs_reference": null,
      "execution_count": 83,
      "block_group": "c699816ff25f462ca4952af91a8c3593"
    },
    {
      "cell_type": "markdown",
      "source": "The result is both surprising and not surprising, the imputed data perform worse than the baseline. This might be caused by overfitting.",
      "metadata": {
        "formattedRanges": [],
        "cell_id": "a0688ad0a92f4a9f81b066387e6c005b",
        "deepnote_cell_type": "text-cell-p"
      },
      "block_group": "5700e4c8046e48578b6add2930daebdd"
    },
    {
      "cell_type": "markdown",
      "source": "# Sampling",
      "metadata": {
        "formattedRanges": [],
        "cell_id": "6395516b789849b8a4c4deb4392fd387",
        "deepnote_cell_type": "text-cell-h1"
      },
      "block_group": "46d2ea42c19b40d494a53e9f9c757826"
    },
    {
      "cell_type": "markdown",
      "source": "Addressing the data imbalance through sampling, I have formulated a few hypotheses. Undersampling is anticipated to yield higher recall but lower precision, given the reduced data for non-churn customers. On the other hand, oversampling is expected to have a minimal impact on precision, with a potential increase in recall, but there is a risk of overfitting.",
      "metadata": {
        "formattedRanges": [],
        "cell_id": "f426f82e56a247bdb9313b0994fe3c78",
        "deepnote_cell_type": "text-cell-p"
      },
      "block_group": "bc513700902841c799a70523c8f51dc1"
    },
    {
      "cell_type": "markdown",
      "source": "A well-balanced approach involves employing oversampled data for general model training. However, when the specific goal is to predict churn customers, a focused strategy would be to use an undersampled model.\"",
      "metadata": {
        "formattedRanges": [],
        "cell_id": "14ce580a0a164f8498f4374b152fee09",
        "deepnote_cell_type": "text-cell-p"
      },
      "block_group": "9c4ba494784b42dcb9eb15aa0d834867"
    },
    {
      "cell_type": "markdown",
      "source": "",
      "metadata": {
        "formattedRanges": [],
        "cell_id": "486ae260de754a6c895cbc6031967857",
        "deepnote_cell_type": "text-cell-p"
      },
      "block_group": "6b9fc1590e8144b3a56edefaeefd351e"
    },
    {
      "cell_type": "code",
      "source": "X = df.drop(columns='Attrition_Flag')\ny = df['Attrition_Flag']",
      "metadata": {
        "source_hash": "739e184c",
        "execution_start": 1710506480524,
        "execution_millis": 351,
        "deepnote_to_be_reexecuted": false,
        "cell_id": "06cf9132e0aa4546af67a121842a22b7",
        "deepnote_cell_type": "code"
      },
      "outputs": [],
      "outputs_reference": null,
      "execution_count": 84,
      "block_group": "5a9e0d7c97b54342860b26b297c53f4a"
    },
    {
      "cell_type": "code",
      "source": "numeric_columns = [\n    \"Customer_Age\",\n    \"Dependent_count\",\n    \"Months_on_book\",\n    \"Total_Relationship_Count\",\n    \"Months_Inactive_12_mon\",\n    \"Contacts_Count_12_mon\",\n    \"Credit_Limit\",\n    \"Total_Revolving_Bal\",\n    \"Total_Amt_Chng_Q4_Q1\",\n    \"Total_Trans_Amt\",\n    \"Total_Trans_Ct\",\n    \"Total_Ct_Chng_Q4_Q1\",\n    \"Avg_Utilization_Ratio\"\n]\n\n# Standardize numeric columns\nscaler = StandardScaler()\nX[numeric_columns] = scaler.fit_transform(X[numeric_columns])",
      "metadata": {
        "source_hash": "7df0b1e1",
        "execution_start": 1710506480530,
        "execution_millis": 345,
        "deepnote_to_be_reexecuted": false,
        "cell_id": "b407da85ee734321aa06c979cd5c3288",
        "deepnote_cell_type": "code"
      },
      "outputs": [],
      "outputs_reference": null,
      "execution_count": 85,
      "block_group": "d4ec7015a0cd461faaa49d73d40b51c1"
    },
    {
      "cell_type": "code",
      "source": "# X_scaled = X.copy()",
      "metadata": {
        "source_hash": "93e127b2",
        "execution_start": 1710506480539,
        "execution_millis": 336,
        "deepnote_to_be_reexecuted": false,
        "cell_id": "a37d2e05469b4a4dbef0844f40d84e36",
        "deepnote_cell_type": "code"
      },
      "outputs": [],
      "outputs_reference": null,
      "execution_count": 86,
      "block_group": "b94db606f3a747779460ad9142740429"
    },
    {
      "cell_type": "code",
      "source": "X_train, X_test, y_train, y_test = train_test_split(X, y, test_size=0.2, random_state=42)\n\n# Fit and transform the training data\nX_train_scaled = numeric_pipeline.fit_transform(X_train[numeric_columns])\n\n# Transform the testing data\nX_test_scaled = numeric_pipeline.transform(X_test[numeric_columns])\n\n# Replace the original numeric columns in X_train and X_test with the scaled ones\nX_train[numeric_columns] = X_train_scaled\nX_test[numeric_columns] = X_test_scaled\n\noversampler = RandomOverSampler(random_state=42)\nX_train_oversampled, y_train_oversampled = oversampler.fit_resample(X_train, y_train)\n\nundersampler = RandomUnderSampler(random_state=42)\nX_train_undersampled, y_train_undersampled = undersampler.fit_resample(X_train, y_train)",
      "metadata": {
        "source_hash": "48501524",
        "execution_start": 1710506480589,
        "execution_millis": 287,
        "deepnote_to_be_reexecuted": false,
        "cell_id": "4aa82f8e77dc45a08eff21a9237da2d3",
        "deepnote_cell_type": "code"
      },
      "outputs": [],
      "outputs_reference": null,
      "execution_count": 87,
      "block_group": "4697746f79614b429d04cb86a7d41a40"
    },
    {
      "cell_type": "code",
      "source": "train_result(X_train_undersampled, X_test, y_train_undersampled, y_test)",
      "metadata": {
        "source_hash": "9372f96e",
        "execution_start": 1710506480590,
        "execution_millis": 1110,
        "deepnote_to_be_reexecuted": false,
        "cell_id": "88a740b8e2bb49fbaf890462c3272e72",
        "deepnote_cell_type": "code"
      },
      "outputs": [
        {
          "name": "stdout",
          "text": "Classifier             Precision    Recall    F1 Score    F2 Score    TP    TN    FP    FN    Business Value Score\n-------------------  -----------  --------  ----------  ----------  ----  ----  ----  ----  ----------------------\nKNN                     0.508197  0.853211    0.636986    0.751212   279  1429   270    48                   47100\nSVM                     0.598765  0.889908    0.715867    0.811037   291  1504   195    36                   52050\nLogistic Regression     0.513109  0.83792     0.636469    0.743757   274  1439   260    53                   47100\nRandom Forest           0.753027  0.95107     0.840541    0.903544   311  1597   102    16                   58700\nXGBoost                 0.7825    0.957187    0.861073    0.916276   313  1612    87    14                   59650\n",
          "output_type": "stream"
        },
        {
          "output_type": "execute_result",
          "execution_count": 88,
          "data": {
            "text/plain": "{'KNN': KNeighborsClassifier(n_neighbors=7),\n 'SVM': SVC(C=1, random_state=42),\n 'Logistic Regression': LogisticRegression(random_state=42),\n 'Random Forest': RandomForestClassifier(random_state=42),\n 'XGBoost': XGBClassifier(base_score=None, booster=None, callbacks=None,\n               colsample_bylevel=None, colsample_bynode=None,\n               colsample_bytree=None, device=None, early_stopping_rounds=None,\n               enable_categorical=False, eval_metric='logloss',\n               feature_types=None, gamma=None, grow_policy=None,\n               importance_type=None, interaction_constraints=None,\n               learning_rate=None, max_bin=None, max_cat_threshold=None,\n               max_cat_to_onehot=None, max_delta_step=None, max_depth=None,\n               max_leaves=None, min_child_weight=None, missing=nan,\n               monotone_constraints=None, multi_strategy=None, n_estimators=None,\n               n_jobs=None, num_parallel_tree=None, random_state=42, ...)}"
          },
          "metadata": {}
        }
      ],
      "outputs_reference": null,
      "execution_count": 88,
      "block_group": "3ca2611bc56b4547932e1033e6faf44e"
    },
    {
      "cell_type": "code",
      "source": "train_result(X_train_oversampled, X_test, y_train_oversampled, y_test)",
      "metadata": {
        "source_hash": "27d7e963",
        "execution_start": 1710506481710,
        "execution_millis": 5590,
        "deepnote_to_be_reexecuted": false,
        "cell_id": "9c0ed15e90eb4991a6979cdf6bcd897e",
        "deepnote_cell_type": "code"
      },
      "outputs": [
        {
          "name": "stdout",
          "text": "Classifier             Precision    Recall    F1 Score    F2 Score    TP    TN    FP    FN    Business Value Score\n-------------------  -----------  --------  ----------  ----------  ----  ----  ----  ----  ----------------------\nKNN                     0.528487  0.82263     0.643541    0.740231   269  1459   240    58                   47600\nSVM                     0.647577  0.899083    0.752881    0.834279   294  1539   160    33                   54100\nLogistic Regression     0.526012  0.834862    0.64539     0.747126   273  1453   246    54                   47700\nRandom Forest           0.9       0.853211    0.875981    0.862176   279  1668    31    48                   59050\nXGBoost                 0.880117  0.920489    0.899851    0.912121   301  1658    41    26                   60750\n",
          "output_type": "stream"
        },
        {
          "output_type": "execute_result",
          "execution_count": 89,
          "data": {
            "text/plain": "{'KNN': KNeighborsClassifier(n_neighbors=7),\n 'SVM': SVC(C=1, random_state=42),\n 'Logistic Regression': LogisticRegression(random_state=42),\n 'Random Forest': RandomForestClassifier(random_state=42),\n 'XGBoost': XGBClassifier(base_score=None, booster=None, callbacks=None,\n               colsample_bylevel=None, colsample_bynode=None,\n               colsample_bytree=None, device=None, early_stopping_rounds=None,\n               enable_categorical=False, eval_metric='logloss',\n               feature_types=None, gamma=None, grow_policy=None,\n               importance_type=None, interaction_constraints=None,\n               learning_rate=None, max_bin=None, max_cat_threshold=None,\n               max_cat_to_onehot=None, max_delta_step=None, max_depth=None,\n               max_leaves=None, min_child_weight=None, missing=nan,\n               monotone_constraints=None, multi_strategy=None, n_estimators=None,\n               n_jobs=None, num_parallel_tree=None, random_state=42, ...)}"
          },
          "metadata": {}
        }
      ],
      "outputs_reference": null,
      "execution_count": 89,
      "block_group": "c500e274efa04b2e9dfb0de22dd89430"
    },
    {
      "cell_type": "markdown",
      "source": "The hypothesis has been validated through the model evaluations. The undersampled XGBoost model exhibits a notable 5% increase in recall at the cost of a 22% decrease in precision, representing a trade-off. Conversely, the oversampled XGBoost model strikes a more balanced approach, with a 2% decrease in precision and a 2% increase in recall. Notably, the undersampled model outperforms the oversampled one in terms of F2 score, with 91.6% compared to 91.2%. This emphasizes the significance of F2 score, which prioritizes minimizing False Negatives.",
      "metadata": {
        "formattedRanges": [],
        "cell_id": "cd10325032b9415185dec7056f0e34d1",
        "deepnote_cell_type": "text-cell-p"
      },
      "block_group": "1e733364a7d646459ebbbcfd2bce6204"
    },
    {
      "cell_type": "code",
      "source": "smote = SMOTE(random_state=42)\nX_train_oversampled, y_train_oversampled = smote.fit_resample(X_train, y_train)\n\ntomek_links = TomekLinks()\nX_train_undersampled, y_train_undersampled = tomek_links.fit_resample(X_train, y_train)",
      "metadata": {
        "source_hash": "6dcccf1d",
        "execution_start": 1710506487309,
        "execution_millis": 276,
        "deepnote_to_be_reexecuted": false,
        "cell_id": "e23dc965f55d4433bc4bf98851f9cf73",
        "deepnote_cell_type": "code"
      },
      "outputs": [],
      "outputs_reference": null,
      "execution_count": 90,
      "block_group": "66849d84439842f2836996dabaa89e44"
    },
    {
      "cell_type": "code",
      "source": "train_result(X_train_undersampled, X_test, y_train_undersampled, y_test)",
      "metadata": {
        "source_hash": "9372f96e",
        "execution_start": 1710506487592,
        "execution_millis": 2488,
        "deepnote_to_be_reexecuted": false,
        "cell_id": "f18cf11ce8ae4283a287f8da0f8244ec",
        "deepnote_cell_type": "code"
      },
      "outputs": [
        {
          "name": "stdout",
          "text": "Classifier             Precision    Recall    F1 Score    F2 Score    TP    TN    FP    FN    Business Value Score\n-------------------  -----------  --------  ----------  ----------  ----  ----  ----  ----  ----------------------\nKNN                     0.846154  0.538226    0.657944    0.580475   176  1667    32   151                   48700\nSVM                     0.862205  0.669725    0.753873    0.701024   219  1664    35   108                   52850\nLogistic Regression     0.765182  0.577982    0.658537    0.607717   189  1641    58   138                   48700\nRandom Forest           0.90378   0.804281    0.851133    0.822389   263  1671    28    64                   57600\nXGBoost                 0.878419  0.883792    0.881098    0.882712   289  1659    40    38                   59600\n",
          "output_type": "stream"
        },
        {
          "output_type": "execute_result",
          "execution_count": 91,
          "data": {
            "text/plain": "{'KNN': KNeighborsClassifier(n_neighbors=7),\n 'SVM': SVC(C=1, random_state=42),\n 'Logistic Regression': LogisticRegression(random_state=42),\n 'Random Forest': RandomForestClassifier(random_state=42),\n 'XGBoost': XGBClassifier(base_score=None, booster=None, callbacks=None,\n               colsample_bylevel=None, colsample_bynode=None,\n               colsample_bytree=None, device=None, early_stopping_rounds=None,\n               enable_categorical=False, eval_metric='logloss',\n               feature_types=None, gamma=None, grow_policy=None,\n               importance_type=None, interaction_constraints=None,\n               learning_rate=None, max_bin=None, max_cat_threshold=None,\n               max_cat_to_onehot=None, max_delta_step=None, max_depth=None,\n               max_leaves=None, min_child_weight=None, missing=nan,\n               monotone_constraints=None, multi_strategy=None, n_estimators=None,\n               n_jobs=None, num_parallel_tree=None, random_state=42, ...)}"
          },
          "metadata": {}
        }
      ],
      "outputs_reference": null,
      "execution_count": 91,
      "block_group": "00d6362ed0c243b1ae5630641e2fa3e4"
    },
    {
      "cell_type": "code",
      "source": "train_result(X_train_oversampled, X_test, y_train_oversampled, y_test)",
      "metadata": {
        "source_hash": "27d7e963",
        "execution_start": 1710506490083,
        "execution_millis": 5589,
        "deepnote_to_be_reexecuted": false,
        "cell_id": "00c6bf18875946bb9ffcd27fc0bc9fd9",
        "deepnote_cell_type": "code"
      },
      "outputs": [
        {
          "name": "stdout",
          "text": "Classifier             Precision    Recall    F1 Score    F2 Score    TP    TN    FP    FN    Business Value Score\n-------------------  -----------  --------  ----------  ----------  ----  ----  ----  ----  ----------------------\nKNN                     0.537549  0.831804    0.653061    0.749724   272  1465   234    55                   48200\nSVM                     0.689655  0.856269    0.763984    0.816803   280  1573   126    47                   54400\nLogistic Regression     0.543158  0.788991    0.643392    0.7235     258  1482   217    69                   47650\nRandom Forest           0.874618  0.874618    0.874618    0.874618   286  1658    41    41                   59250\nXGBoost                 0.881818  0.889908    0.885845    0.888278   291  1660    39    36                   59850\n",
          "output_type": "stream"
        },
        {
          "output_type": "execute_result",
          "execution_count": 92,
          "data": {
            "text/plain": "{'KNN': KNeighborsClassifier(n_neighbors=7),\n 'SVM': SVC(C=1, random_state=42),\n 'Logistic Regression': LogisticRegression(random_state=42),\n 'Random Forest': RandomForestClassifier(random_state=42),\n 'XGBoost': XGBClassifier(base_score=None, booster=None, callbacks=None,\n               colsample_bylevel=None, colsample_bynode=None,\n               colsample_bytree=None, device=None, early_stopping_rounds=None,\n               enable_categorical=False, eval_metric='logloss',\n               feature_types=None, gamma=None, grow_policy=None,\n               importance_type=None, interaction_constraints=None,\n               learning_rate=None, max_bin=None, max_cat_threshold=None,\n               max_cat_to_onehot=None, max_delta_step=None, max_depth=None,\n               max_leaves=None, min_child_weight=None, missing=nan,\n               monotone_constraints=None, multi_strategy=None, n_estimators=None,\n               n_jobs=None, num_parallel_tree=None, random_state=42, ...)}"
          },
          "metadata": {}
        }
      ],
      "outputs_reference": null,
      "execution_count": 92,
      "block_group": "7c80137cbe174455ad884ca013239d5f"
    },
    {
      "cell_type": "markdown",
      "source": "# Feature Selection",
      "metadata": {
        "formattedRanges": [],
        "cell_id": "994ebe0dd7d24db9850c1cfcb0fe908a",
        "deepnote_cell_type": "text-cell-h1"
      },
      "block_group": "b0dd6137e2c14971b561d6f29d00a004"
    },
    {
      "cell_type": "code",
      "source": "X.info()",
      "metadata": {
        "source_hash": "e52f4e4c",
        "execution_start": 1710506495678,
        "execution_millis": 481,
        "deepnote_to_be_reexecuted": false,
        "cell_id": "a6235e92e3a2475196f3076447bc18c4",
        "deepnote_cell_type": "code"
      },
      "outputs": [
        {
          "name": "stdout",
          "text": "<class 'pandas.core.frame.DataFrame'>\nRangeIndex: 10127 entries, 0 to 10126\nData columns (total 20 columns):\n #   Column                    Non-Null Count  Dtype  \n---  ------                    --------------  -----  \n 0   Customer_Age              10127 non-null  float64\n 1   Dependent_count           10127 non-null  float64\n 2   Education_Level           10127 non-null  int64  \n 3   Income_Category           10127 non-null  int64  \n 4   Card_Category             10127 non-null  int64  \n 5   Months_on_book            10127 non-null  float64\n 6   Total_Relationship_Count  10127 non-null  float64\n 7   Months_Inactive_12_mon    10127 non-null  float64\n 8   Contacts_Count_12_mon     10127 non-null  float64\n 9   Credit_Limit              10127 non-null  float64\n 10  Total_Revolving_Bal       10127 non-null  float64\n 11  Total_Amt_Chng_Q4_Q1      10127 non-null  float64\n 12  Total_Trans_Amt           10127 non-null  float64\n 13  Total_Trans_Ct            10127 non-null  float64\n 14  Total_Ct_Chng_Q4_Q1       10127 non-null  float64\n 15  Avg_Utilization_Ratio     10127 non-null  float64\n 16  Gender_M                  10127 non-null  bool   \n 17  Marital_Status_Married    10127 non-null  bool   \n 18  Marital_Status_Single     10127 non-null  bool   \n 19  Marital_Status_Unknown    10127 non-null  bool   \ndtypes: bool(4), float64(13), int64(3)\nmemory usage: 1.3 MB\n",
          "output_type": "stream"
        }
      ],
      "outputs_reference": null,
      "execution_count": 93,
      "block_group": "4285916b2b8046f9b03f33fee34dcbf5"
    },
    {
      "cell_type": "code",
      "source": "plot_importance(xgb.XGBClassifier(use_label_encoder=False, eval_metric=\"logloss\", random_state=42).fit(X_train, y_train))\nplt.show()",
      "metadata": {
        "source_hash": "1439e5ef",
        "execution_start": 1710506495688,
        "execution_millis": 472,
        "deepnote_to_be_reexecuted": false,
        "cell_id": "20f2c03b7c864c1da206855e486e8139",
        "deepnote_cell_type": "code"
      },
      "outputs": [
        {
          "data": {
            "text/plain": "<Figure size 640x480 with 1 Axes>",
            "image/png": "[encoded data removed]"
          },
          "metadata": {
            "image/png": {
              "width": 720,
              "height": 455
            }
          },
          "output_type": "display_data"
        }
      ],
      "outputs_reference": null,
      "execution_count": 94,
      "block_group": "4e04d8a7fb8641ee9a76150033aa01df"
    },
    {
      "cell_type": "markdown",
      "source": "I use 15 most important features according to XGBoost ",
      "metadata": {
        "formattedRanges": [],
        "cell_id": "27098d7a7a8947e0834fbe512d41e1fb",
        "deepnote_cell_type": "text-cell-p"
      },
      "block_group": "ce8dfcc4702f4b478d2324f01b80c814"
    },
    {
      "cell_type": "code",
      "source": "selected_features = [\n    \"Customer_Age\",\n    \"Dependent_count\",\n    \"Months_on_book\",\n    \"Total_Relationship_Count\",\n    \"Months_Inactive_12_mon\",\n    \"Contacts_Count_12_mon\",\n    \"Credit_Limit\",\n    \"Total_Revolving_Bal\",\n    \"Total_Amt_Chng_Q4_Q1\",\n    \"Total_Trans_Amt\",\n    \"Total_Trans_Ct\",\n    \"Total_Ct_Chng_Q4_Q1\",\n    \"Avg_Utilization_Ratio\",\n    'Income_Category',\n    'Education_Level'\n]",
      "metadata": {
        "source_hash": "f3fb65",
        "execution_start": 1710506496152,
        "execution_millis": 193,
        "deepnote_to_be_reexecuted": false,
        "cell_id": "d6173312b8b0403c8f2b3d196ec93468",
        "deepnote_cell_type": "code"
      },
      "outputs": [],
      "outputs_reference": null,
      "execution_count": 95,
      "block_group": "b99c838b066749cd9ab3c60e87dfc5f7"
    },
    {
      "cell_type": "code",
      "source": "X_train, X_test, y_train, y_test = train_test_split(X[selected_features], y, test_size=0.2, random_state=42)\n\n# Fit and transform the training data\nX_train_scaled = numeric_pipeline.fit_transform(X_train[numeric_columns])\n\n# Transform the testing data\nX_test_scaled = numeric_pipeline.transform(X_test[numeric_columns])\n\n# Replace the original numeric columns in X_train and X_test with the scaled ones\nX_train[numeric_columns] = X_train_scaled\nX_test[numeric_columns] = X_test_scaled",
      "metadata": {
        "source_hash": "78f9bfcb",
        "execution_start": 1710506496153,
        "execution_millis": 193,
        "deepnote_to_be_reexecuted": false,
        "cell_id": "1b24496ad7f245ca9d547970ba2d217b",
        "deepnote_cell_type": "code"
      },
      "outputs": [],
      "outputs_reference": null,
      "execution_count": 96,
      "block_group": "2f9111a98ee9408898b35d0e140e5dcc"
    },
    {
      "cell_type": "code",
      "source": "oversampler = RandomOverSampler(random_state=42)\nX_train_oversampled, y_train_oversampled = oversampler.fit_resample(X_train, y_train)\n\nundersampler = RandomUnderSampler(random_state=42)\nX_train_undersampled, y_train_undersampled = undersampler.fit_resample(X_train, y_train)",
      "metadata": {
        "source_hash": "decdc165",
        "execution_start": 1710506496179,
        "execution_millis": 342,
        "deepnote_to_be_reexecuted": false,
        "cell_id": "460697584ac544798424a0917a882f2f",
        "deepnote_cell_type": "code"
      },
      "outputs": [],
      "outputs_reference": null,
      "execution_count": 97,
      "block_group": "4e4c2d6fe9e841768daa76484609025d"
    },
    {
      "cell_type": "code",
      "source": "train_result(X_train_undersampled, X_test, y_train_undersampled, y_test)",
      "metadata": {
        "source_hash": "9372f96e",
        "execution_start": 1710506496222,
        "execution_millis": 970,
        "deepnote_to_be_reexecuted": false,
        "cell_id": "60070c496d7d4b31a4d5cbf5568f33c3",
        "deepnote_cell_type": "code"
      },
      "outputs": [
        {
          "name": "stdout",
          "text": "Classifier             Precision    Recall    F1 Score    F2 Score    TP    TN    FP    FN    Business Value Score\n-------------------  -----------  --------  ----------  ----------  ----  ----  ----  ----  ----------------------\nKNN                     0.501859  0.825688    0.624277    0.731311   270  1431   268    57                   46300\nSVM                     0.588595  0.883792    0.706601    0.803224   289  1497   202    38                   51500\nLogistic Regression     0.517045  0.834862    0.638596    0.743464   273  1444   255    54                   47250\nRandom Forest           0.776382  0.944954    0.852414    0.905627   309  1610    89    18                   59150\nXGBoost                 0.758373  0.969419    0.851007    0.918308   317  1598   101    10                   59350\n",
          "output_type": "stream"
        },
        {
          "output_type": "execute_result",
          "execution_count": 98,
          "data": {
            "text/plain": "{'KNN': KNeighborsClassifier(n_neighbors=7),\n 'SVM': SVC(C=1, random_state=42),\n 'Logistic Regression': LogisticRegression(random_state=42),\n 'Random Forest': RandomForestClassifier(random_state=42),\n 'XGBoost': XGBClassifier(base_score=None, booster=None, callbacks=None,\n               colsample_bylevel=None, colsample_bynode=None,\n               colsample_bytree=None, device=None, early_stopping_rounds=None,\n               enable_categorical=False, eval_metric='logloss',\n               feature_types=None, gamma=None, grow_policy=None,\n               importance_type=None, interaction_constraints=None,\n               learning_rate=None, max_bin=None, max_cat_threshold=None,\n               max_cat_to_onehot=None, max_delta_step=None, max_depth=None,\n               max_leaves=None, min_child_weight=None, missing=nan,\n               monotone_constraints=None, multi_strategy=None, n_estimators=None,\n               n_jobs=None, num_parallel_tree=None, random_state=42, ...)}"
          },
          "metadata": {}
        }
      ],
      "outputs_reference": null,
      "execution_count": 98,
      "block_group": "1a4480d6018b42c5927dc967d8aa5223"
    },
    {
      "cell_type": "code",
      "source": "train_result(X_train_oversampled, X_test, y_train_oversampled, y_test)",
      "metadata": {
        "source_hash": "27d7e963",
        "execution_start": 1710506497198,
        "execution_millis": 5470,
        "deepnote_to_be_reexecuted": false,
        "cell_id": "cec36f8283304ddf923eb95e11950e27",
        "deepnote_cell_type": "code"
      },
      "outputs": [
        {
          "name": "stdout",
          "text": "Classifier             Precision    Recall    F1 Score    F2 Score    TP    TN    FP    FN    Business Value Score\n-------------------  -----------  --------  ----------  ----------  ----  ----  ----  ----  ----------------------\nKNN                     0.525794  0.810398    0.637786    0.731236   265  1460   239    62                   47250\nSVM                     0.657778  0.905199    0.761905    0.841866   296  1545   154    31                   54600\nLogistic Regression     0.511236  0.834862    0.634146    0.741042   273  1438   261    54                   46950\nRandom Forest           0.892508  0.83792     0.864353    0.848297   274  1666    33    53                   58450\nXGBoost                 0.878338  0.905199    0.891566    0.899696   296  1658    41    31                   60250\n",
          "output_type": "stream"
        },
        {
          "output_type": "execute_result",
          "execution_count": 99,
          "data": {
            "text/plain": "{'KNN': KNeighborsClassifier(n_neighbors=7),\n 'SVM': SVC(C=1, random_state=42),\n 'Logistic Regression': LogisticRegression(random_state=42),\n 'Random Forest': RandomForestClassifier(random_state=42),\n 'XGBoost': XGBClassifier(base_score=None, booster=None, callbacks=None,\n               colsample_bylevel=None, colsample_bynode=None,\n               colsample_bytree=None, device=None, early_stopping_rounds=None,\n               enable_categorical=False, eval_metric='logloss',\n               feature_types=None, gamma=None, grow_policy=None,\n               importance_type=None, interaction_constraints=None,\n               learning_rate=None, max_bin=None, max_cat_threshold=None,\n               max_cat_to_onehot=None, max_delta_step=None, max_depth=None,\n               max_leaves=None, min_child_weight=None, missing=nan,\n               monotone_constraints=None, multi_strategy=None, n_estimators=None,\n               n_jobs=None, num_parallel_tree=None, random_state=42, ...)}"
          },
          "metadata": {}
        }
      ],
      "outputs_reference": null,
      "execution_count": 99,
      "block_group": "a89143c7bf8b4880a59011d4ba114bf2"
    },
    {
      "cell_type": "code",
      "source": "smote = SMOTE(random_state=42)\nX_train_oversampled, y_train_oversampled = smote.fit_resample(X_train, y_train)\n\ntomek_links = TomekLinks()\nX_train_undersampled, y_train_undersampled = tomek_links.fit_resample(X_train, y_train)",
      "metadata": {
        "source_hash": "6dcccf1d",
        "execution_start": 1710506502678,
        "execution_millis": 870,
        "deepnote_to_be_reexecuted": false,
        "cell_id": "728dbe105d4245d8a79dec2eb6f2ea74",
        "deepnote_cell_type": "code"
      },
      "outputs": [],
      "outputs_reference": null,
      "execution_count": 100,
      "block_group": "c1ddf8d16205455294162c861fc784a7"
    },
    {
      "cell_type": "code",
      "source": "train_result(X_train_undersampled, X_test, y_train_undersampled, y_test)",
      "metadata": {
        "source_hash": "9372f96e",
        "execution_start": 1710506503551,
        "execution_millis": 2485,
        "deepnote_to_be_reexecuted": false,
        "cell_id": "c08de85434c74acd8dc38c60690f81c7",
        "deepnote_cell_type": "code"
      },
      "outputs": [
        {
          "name": "stdout",
          "text": "Classifier             Precision    Recall    F1 Score    F2 Score    TP    TN    FP    FN    Business Value Score\n-------------------  -----------  --------  ----------  ----------  ----  ----  ----  ----  ----------------------\nKNN                     0.843434  0.510703    0.63619     0.554449   167  1668    31   160                   47850\nSVM                     0.863454  0.657492    0.746528    0.69043    215  1665    34   112                   52500\nLogistic Regression     0.765957  0.550459    0.640569    0.583279   180  1644    55   147                   47950\nRandom Forest           0.916955  0.810398    0.86039     0.829681   265  1675    24    62                   58000\nXGBoost                 0.903427  0.88685     0.895062    0.890117   290  1668    31    37                   60150\n",
          "output_type": "stream"
        },
        {
          "output_type": "execute_result",
          "execution_count": 101,
          "data": {
            "text/plain": "{'KNN': KNeighborsClassifier(n_neighbors=7),\n 'SVM': SVC(C=1, random_state=42),\n 'Logistic Regression': LogisticRegression(random_state=42),\n 'Random Forest': RandomForestClassifier(random_state=42),\n 'XGBoost': XGBClassifier(base_score=None, booster=None, callbacks=None,\n               colsample_bylevel=None, colsample_bynode=None,\n               colsample_bytree=None, device=None, early_stopping_rounds=None,\n               enable_categorical=False, eval_metric='logloss',\n               feature_types=None, gamma=None, grow_policy=None,\n               importance_type=None, interaction_constraints=None,\n               learning_rate=None, max_bin=None, max_cat_threshold=None,\n               max_cat_to_onehot=None, max_delta_step=None, max_depth=None,\n               max_leaves=None, min_child_weight=None, missing=nan,\n               monotone_constraints=None, multi_strategy=None, n_estimators=None,\n               n_jobs=None, num_parallel_tree=None, random_state=42, ...)}"
          },
          "metadata": {}
        }
      ],
      "outputs_reference": null,
      "execution_count": 101,
      "block_group": "4870e3d14eda4ad3bca59199056830c8"
    },
    {
      "cell_type": "code",
      "source": "train_result(X_train_oversampled, X_test, y_train_oversampled, y_test)",
      "metadata": {
        "source_hash": "27d7e963",
        "execution_start": 1710506506041,
        "execution_millis": 5680,
        "deepnote_to_be_reexecuted": false,
        "cell_id": "b2878b34f2b84afbae52c38cdc06f62f",
        "deepnote_cell_type": "code"
      },
      "outputs": [
        {
          "name": "stdout",
          "text": "Classifier             Precision    Recall    F1 Score    F2 Score    TP    TN    FP    FN    Business Value Score\n-------------------  -----------  --------  ----------  ----------  ----  ----  ----  ----  ----------------------\nKNN                     0.532417  0.828746    0.648325    0.745735   271  1461   238    56                   47900\nSVM                     0.665105  0.868502    0.753316    0.818444   284  1556   143    43                   53950\nLogistic Regression     0.525591  0.816514    0.639521    0.735132   267  1458   241    60                   47350\nRandom Forest           0.870769  0.865443    0.868098    0.866503   283  1657    42    44                   58900\nXGBoost                 0.891975  0.883792    0.887865    0.885417   289  1664    35    38                   59850\n",
          "output_type": "stream"
        },
        {
          "output_type": "execute_result",
          "execution_count": 102,
          "data": {
            "text/plain": "{'KNN': KNeighborsClassifier(n_neighbors=7),\n 'SVM': SVC(C=1, random_state=42),\n 'Logistic Regression': LogisticRegression(random_state=42),\n 'Random Forest': RandomForestClassifier(random_state=42),\n 'XGBoost': XGBClassifier(base_score=None, booster=None, callbacks=None,\n               colsample_bylevel=None, colsample_bynode=None,\n               colsample_bytree=None, device=None, early_stopping_rounds=None,\n               enable_categorical=False, eval_metric='logloss',\n               feature_types=None, gamma=None, grow_policy=None,\n               importance_type=None, interaction_constraints=None,\n               learning_rate=None, max_bin=None, max_cat_threshold=None,\n               max_cat_to_onehot=None, max_delta_step=None, max_depth=None,\n               max_leaves=None, min_child_weight=None, missing=nan,\n               monotone_constraints=None, multi_strategy=None, n_estimators=None,\n               n_jobs=None, num_parallel_tree=None, random_state=42, ...)}"
          },
          "metadata": {}
        }
      ],
      "outputs_reference": null,
      "execution_count": 102,
      "block_group": "621f43231da748419acd2f1b38676789"
    },
    {
      "cell_type": "markdown",
      "source": "After applying feature selection, the undersampled XGBoost model demonstrates enhanced focus, achieving 75% precision, 95% recall, and an impressive 91.8% F2 score. In contrast, the oversampled model experiences a decline in performance, with an overall 1% decrease across all scores compared to its state before feature selection.",
      "metadata": {
        "formattedRanges": [],
        "cell_id": "5d6df560f42546c59676cafb1f229619",
        "deepnote_cell_type": "text-cell-p"
      },
      "block_group": "463f3a0e1f8944b9be1cf2ad61ea8c6d"
    },
    {
      "cell_type": "markdown",
      "source": "# Hyperparameter tuning",
      "metadata": {
        "formattedRanges": [],
        "cell_id": "5638633d68e14b729bb0d9b00b10243b",
        "deepnote_cell_type": "text-cell-h1"
      },
      "block_group": "e13687f66c634db1a7dcccc48dec5e5f"
    },
    {
      "cell_type": "code",
      "source": "X_train, X_test, y_train, y_test = train_test_split(X, y, test_size=0.2, random_state=42)\n\n# Fit and transform the training data\nX_train_scaled = numeric_pipeline.fit_transform(X_train[numeric_columns])\n\n# Transform the testing data\nX_test_scaled = numeric_pipeline.transform(X_test[numeric_columns])\n\n# Replace the original numeric columns in X_train and X_test with the scaled ones\nX_train[numeric_columns] = X_train_scaled\nX_test[numeric_columns] = X_test_scaled\n\noversampler = RandomOverSampler(random_state=42)\nX_train_oversampled, y_train_oversampled = oversampler.fit_resample(X_train, y_train)",
      "metadata": {
        "source_hash": "2e23957a",
        "execution_start": 1710506511729,
        "execution_millis": 330,
        "deepnote_to_be_reexecuted": false,
        "cell_id": "b0c585d6ac864040a5532ce9f77d509b",
        "deepnote_cell_type": "code"
      },
      "outputs": [],
      "outputs_reference": null,
      "execution_count": 103,
      "block_group": "560ef21bd15643b68aedb6eae9bfea64"
    },
    {
      "cell_type": "code",
      "source": "def calculate_business_value(conf_matrix):\n    TP_value = 200\n    TN_value = 0\n    FP_value = -50\n    FN_value = 100\n\n    TN, FP, FN, TP = conf_matrix.ravel()\n\n    return (TP * TP_value) + (TN * TN_value) + (FP * FP_value) + (FN * FN_value)\n\ndef objective(trial):\n    params = {\n        'objective': 'binary:logistic',\n        'eval_metric': 'logloss',\n        'verbosity': 0,\n        'max_depth': trial.suggest_int('max_depth', 3, 9),\n        'eta': trial.suggest_float('eta', 0.01, 0.3, log=True),\n        'gamma': trial.suggest_float('gamma', 1e-8, 1.0, log=True),\n        'subsample': trial.suggest_float('subsample', 0.5, 1.0),\n        'colsample_bytree': trial.suggest_float('colsample_bytree', 0.5, 1.0),\n    }\n\n    kf = KFold(n_splits=5, shuffle=True, random_state=42)  # Define k-fold cross-validation\n\n    values = []\n    for train_index, test_index in kfold.split(X):\n        X_train, X_test = X.iloc[train_index], X.iloc[test_index]\n        y_train, y_test = y.iloc[train_index], y.iloc[test_index]\n\n        X_train_scaled = numeric_pipeline.fit_transform(X_train[numeric_columns])\n        # Transform the testing data\n        X_test_scaled = numeric_pipeline.transform(X_test[numeric_columns])\n\n        # Replace the original numeric columns in X_train and X_test with the scaled ones\n        X_train.loc[:, numeric_columns] = X_train_scaled\n        X_test.loc[:, numeric_columns] = X_test_scaled\n\n        oversampler = RandomOverSampler(random_state=42)\n        X_train_oversampled, y_train_oversampled = oversampler.fit_resample(X_train, y_train)\n\n        model = xgb.XGBClassifier(**params, random_state=42)\n        model.fit(X_train_oversampled, y_train_oversampled)\n        y_pred = model.predict(X_test)\n        conf_matrix = confusion_matrix(y_test, y_pred)\n        value = calculate_business_value(conf_matrix)\n        values.append(value)\n\n    avg_value = sum(values) / len(values)\n    return avg_value",
      "metadata": {
        "source_hash": "3319c045",
        "execution_start": 1710506664028,
        "execution_millis": 76,
        "deepnote_to_be_reexecuted": false,
        "cell_id": "96bd385e32c440b493908cdef5927955",
        "deepnote_cell_type": "code"
      },
      "outputs": [],
      "outputs_reference": null,
      "execution_count": 106,
      "block_group": "8492e43081d34f6e845596dd37271cba"
    },
    {
      "cell_type": "code",
      "source": "sampler = optuna.samplers.TPESampler(seed=42)\nstudy = optuna.create_study(direction='maximize', sampler=sampler)\nstudy.optimize(objective, n_trials=5000)\ntrial = study.best_trial\nbest_params = trial.params",
      "metadata": {
        "source_hash": "b3b3509d",
        "execution_start": 1710507078082,
        "execution_millis": 0,
        "deepnote_to_be_reexecuted": false,
        "cell_id": "4cb713424ea74f7d93a4e76a2bd55163",
        "deepnote_cell_type": "code"
      },
      "outputs": [
        {
          "name": "stderr",
          "text": "[I 2024-03-15 12:51:18,067] A new study created in memory with name: no-name-a20d6574-2e67-449c-a1ed-733b60c5bac3\n[I 2024-03-15 12:51:19,197] Trial 0 finished with value: 61100.0 and parameters: {'max_depth': 5, 'eta': 0.2536999076681772, 'gamma': 0.007177141927992002, 'subsample': 0.7993292420985183, 'colsample_bytree': 0.5780093202212182}. Best is trial 0 with value: 61100.0.\n[I 2024-03-15 12:51:20,320] Trial 1 finished with value: 55390.0 and parameters: {'max_depth': 4, 'eta': 0.012184186502221764, 'gamma': 0.08499808989182997, 'subsample': 0.8005575058716043, 'colsample_bytree': 0.8540362888980227}. Best is trial 0 with value: 61100.0.\n[I 2024-03-15 12:51:21,224] Trial 2 finished with value: 60470.0 and parameters: {'max_depth': 3, 'eta': 0.2708160864249968, 'gamma': 0.04566054873446119, 'subsample': 0.6061695553391381, 'colsample_bytree': 0.5909124836035503}. Best is trial 0 with value: 61100.0.\n[I 2024-03-15 12:51:22,203] Trial 3 finished with value: 57570.0 and parameters: {'max_depth': 4, 'eta': 0.028145092716060652, 'gamma': 0.00015777981883364995, 'subsample': 0.7159725093210578, 'colsample_bytree': 0.645614570099021}. Best is trial 0 with value: 61100.0.\n[I 2024-03-15 12:51:23,937] Trial 4 finished with value: 58900.0 and parameters: {'max_depth': 7, 'eta': 0.01607123851203988, 'gamma': 2.1734877073417355e-06, 'subsample': 0.6831809216468459, 'colsample_bytree': 0.728034992108518}. Best is trial 0 with value: 61100.0.\n[I 2024-03-15 12:51:25,927] Trial 5 finished with value: 60000.0 and parameters: {'max_depth': 8, 'eta': 0.019721610970574007, 'gamma': 0.00012997969313168238, 'subsample': 0.7962072844310213, 'colsample_bytree': 0.5232252063599989}. Best is trial 0 with value: 61100.0.\n[I 2024-03-15 12:51:28,180] Trial 6 finished with value: 58260.0 and parameters: {'max_depth': 7, 'eta': 0.0178601378893971, 'gamma': 3.3144597077512234e-08, 'subsample': 0.9744427686266666, 'colsample_bytree': 0.9828160165372797}. Best is trial 0 with value: 61100.0.\n[I 2024-03-15 12:51:30,475] Trial 7 finished with value: 59990.0 and parameters: {'max_depth': 8, 'eta': 0.028180680291847244, 'gamma': 6.044730070370796e-08, 'subsample': 0.8421165132560784, 'colsample_bytree': 0.7200762468698007}. Best is trial 0 with value: 61100.0.\n[I 2024-03-15 12:51:31,374] Trial 8 finished with value: 57620.0 and parameters: {'max_depth': 3, 'eta': 0.05388108577817234, 'gamma': 1.8841183049085085e-08, 'subsample': 0.954660201039391, 'colsample_bytree': 0.6293899908000085}. Best is trial 0 with value: 61100.0.\n[I 2024-03-15 12:51:33,094] Trial 9 finished with value: 59980.0 and parameters: {'max_depth': 7, 'eta': 0.028869220380495747, 'gamma': 0.00014472520367197597, 'subsample': 0.7733551396716398, 'colsample_bytree': 0.5924272277627636}. Best is trial 0 with value: 61100.0.\n[I 2024-03-15 12:51:34,270] Trial 10 finished with value: 60990.0 and parameters: {'max_depth': 5, 'eta': 0.23875379742034009, 'gamma': 0.003706315849939808, 'subsample': 0.5089809378074097, 'colsample_bytree': 0.5076838686640521}. Best is trial 0 with value: 61100.0.\n[I 2024-03-15 12:51:35,443] Trial 11 finished with value: 60960.0 and parameters: {'max_depth': 5, 'eta': 0.2835559696877989, 'gamma': 0.0050159367930628805, 'subsample': 0.5427925342039944, 'colsample_bytree': 0.5018684889065917}. Best is trial 0 with value: 61100.0.\n[I 2024-03-15 12:51:36,620] Trial 12 finished with value: 60910.0 and parameters: {'max_depth': 5, 'eta': 0.1399039878583621, 'gamma': 0.0027234194365022032, 'subsample': 0.5259599101527722, 'colsample_bytree': 0.508521028080898}. Best is trial 0 with value: 61100.0.\n[I 2024-03-15 12:51:37,819] Trial 13 finished with value: 60850.0 and parameters: {'max_depth': 5, 'eta': 0.1337142699345793, 'gamma': 0.9358667216107064, 'subsample': 0.8936108460389665, 'colsample_bytree': 0.8229282203516205}. Best is trial 0 with value: 61100.0.\n[I 2024-03-15 12:51:39,267] Trial 14 finished with value: 60960.0 and parameters: {'max_depth': 6, 'eta': 0.14728562654282606, 'gamma': 0.0036143610209780647, 'subsample': 0.6513023725975362, 'colsample_bytree': 0.6738167152482912}. Best is trial 0 with value: 61100.0.\n[I 2024-03-15 12:51:40,703] Trial 15 finished with value: 60630.0 and parameters: {'max_depth': 6, 'eta': 0.08135918155044514, 'gamma': 5.525789109310387e-06, 'subsample': 0.6101165452174964, 'colsample_bytree': 0.5778287758693901}. Best is trial 0 with value: 61100.0.\n[I 2024-03-15 12:51:42,456] Trial 16 finished with value: 60930.0 and parameters: {'max_depth': 9, 'eta': 0.20145439465399168, 'gamma': 0.034235359716222484, 'subsample': 0.8711481580505469, 'colsample_bytree': 0.55246249298025}. Best is trial 0 with value: 61100.0.\n[I 2024-03-15 12:51:43,566] Trial 17 finished with value: 59790.0 and parameters: {'max_depth': 4, 'eta': 0.08083587980386386, 'gamma': 0.000932333288616894, 'subsample': 0.731057379200564, 'colsample_bytree': 0.8091883372850146}. Best is trial 0 with value: 61100.0.\n[I 2024-03-15 12:51:44,907] Trial 18 finished with value: 60580.0 and parameters: {'max_depth': 5, 'eta': 0.09160994419974852, 'gamma': 8.500411842864777e-06, 'subsample': 0.5827781406926889, 'colsample_bytree': 0.9102361265933461}. Best is trial 0 with value: 61100.0.\n[I 2024-03-15 12:51:46,271] Trial 19 finished with value: 61030.0 and parameters: {'max_depth': 6, 'eta': 0.19870195517283146, 'gamma': 0.5677521877558723, 'subsample': 0.5054945946218856, 'colsample_bytree': 0.6757608290666058}. Best is trial 0 with value: 61100.0.\n[I 2024-03-15 12:51:47,763] Trial 20 finished with value: 60210.0 and parameters: {'max_depth': 6, 'eta': 0.05341699779847768, 'gamma': 0.9626146240371184, 'subsample': 0.9243650491166928, 'colsample_bytree': 0.6755744502262333}. Best is trial 0 with value: 61100.0.\n[I 2024-03-15 12:51:48,965] Trial 21 finished with value: 60980.0 and parameters: {'max_depth': 5, 'eta': 0.1944141530421567, 'gamma': 0.06328643127420157, 'subsample': 0.5026991514737302, 'colsample_bytree': 0.6248130195174071}. Best is trial 0 with value: 61100.0.\n[I 2024-03-15 12:51:50,320] Trial 22 finished with value: 60750.0 and parameters: {'max_depth': 6, 'eta': 0.2226429094815175, 'gamma': 0.19651923132089744, 'subsample': 0.5668344138553583, 'colsample_bytree': 0.5544841441521925}. Best is trial 0 with value: 61100.0.\n[I 2024-03-15 12:51:51,415] Trial 23 finished with value: 60520.0 and parameters: {'max_depth': 4, 'eta': 0.11623317975312024, 'gamma': 0.011468583056535678, 'subsample': 0.6489849154458551, 'colsample_bytree': 0.6823290246259791}. Best is trial 0 with value: 61100.0.\n[I 2024-03-15 12:51:52,914] Trial 24 finished with value: 60960.0 and parameters: {'max_depth': 7, 'eta': 0.2986282072395202, 'gamma': 0.0014021066341662637, 'subsample': 0.8338962247920462, 'colsample_bytree': 0.7752847229001597}. Best is trial 0 with value: 61100.0.\n[I 2024-03-15 12:51:54,102] Trial 25 finished with value: 61100.0 and parameters: {'max_depth': 5, 'eta': 0.18226621240431592, 'gamma': 0.0005396862681589803, 'subsample': 0.5032284030450213, 'colsample_bytree': 0.5450870264737138}. Best is trial 0 with value: 61100.0.\n[I 2024-03-15 12:51:55,496] Trial 26 finished with value: 61050.0 and parameters: {'max_depth': 6, 'eta': 0.17337032317133771, 'gamma': 0.0004768098979085411, 'subsample': 0.6973785525408801, 'colsample_bytree': 0.6091330191487014}. Best is trial 0 with value: 61100.0.\n[I 2024-03-15 12:51:56,535] Trial 27 finished with value: 60800.0 and parameters: {'max_depth': 4, 'eta': 0.17208678588277634, 'gamma': 3.158944911030946e-05, 'subsample': 0.7536352843098014, 'colsample_bytree': 0.6037876104087347}. Best is trial 0 with value: 61100.0.\n[I 2024-03-15 12:51:58,353] Trial 28 finished with value: 60880.0 and parameters: {'max_depth': 8, 'eta': 0.10703848274092939, 'gamma': 0.0007670489704115396, 'subsample': 0.7045601558942105, 'colsample_bytree': 0.5506047306314737}. Best is trial 0 with value: 61100.0.\n[I 2024-03-15 12:51:59,497] Trial 29 finished with value: 61140.0 and parameters: {'max_depth': 5, 'eta': 0.16933841161728583, 'gamma': 0.0004579285455922944, 'subsample': 0.8102113157625931, 'colsample_bytree': 0.5517708235008162}. Best is trial 29 with value: 61140.0.\n[I 2024-03-15 12:52:00,417] Trial 30 finished with value: 58540.0 and parameters: {'max_depth': 3, 'eta': 0.07284338725300595, 'gamma': 3.2773316262095417e-05, 'subsample': 0.8190467736839887, 'colsample_bytree': 0.5503443104864552}. Best is trial 29 with value: 61140.0.\n[I 2024-03-15 12:52:01,567] Trial 31 finished with value: 60980.0 and parameters: {'max_depth': 5, 'eta': 0.16268593372736662, 'gamma': 0.00034686556998239664, 'subsample': 0.7931806419861795, 'colsample_bytree': 0.5721009500747631}. Best is trial 29 with value: 61140.0.\n[I 2024-03-15 12:52:02,744] Trial 32 finished with value: 60690.0 and parameters: {'max_depth': 5, 'eta': 0.11608206446896412, 'gamma': 0.0205522528227862, 'subsample': 0.8613198797272672, 'colsample_bytree': 0.6107431158133797}. Best is trial 29 with value: 61140.0.\n[I 2024-03-15 12:52:03,751] Trial 33 finished with value: 60960.0 and parameters: {'max_depth': 4, 'eta': 0.23815856279033046, 'gamma': 3.790079807654543e-05, 'subsample': 0.7532190962172716, 'colsample_bytree': 0.5366070184519696}. Best is trial 29 with value: 61140.0.\n[I 2024-03-15 12:52:05,218] Trial 34 finished with value: 60130.0 and parameters: {'max_depth': 6, 'eta': 0.040383700461943804, 'gamma': 0.0004001752663425907, 'subsample': 0.6736701896523487, 'colsample_bytree': 0.5784205885373471}. Best is trial 29 with value: 61140.0.\n[I 2024-03-15 12:52:06,753] Trial 35 finished with value: 58250.0 and parameters: {'max_depth': 6, 'eta': 0.011375402542378992, 'gamma': 0.007785382266086205, 'subsample': 0.914379616379793, 'colsample_bytree': 0.6539652890645875}. Best is trial 29 with value: 61140.0.\n[I 2024-03-15 12:52:07,704] Trial 36 finished with value: 60350.0 and parameters: {'max_depth': 3, 'eta': 0.17408244860367672, 'gamma': 2.3750986869874552e-07, 'subsample': 0.6202436482843467, 'colsample_bytree': 0.7217552676140888}. Best is trial 29 with value: 61140.0.\n[I 2024-03-15 12:52:09,206] Trial 37 finished with value: 61140.0 and parameters: {'max_depth': 7, 'eta': 0.2472314752980073, 'gamma': 0.00025509730298183653, 'subsample': 0.7813759483085319, 'colsample_bytree': 0.6395563989565013}. Best is trial 29 with value: 61140.0.\n[I 2024-03-15 12:52:10,671] Trial 38 finished with value: 60940.0 and parameters: {'max_depth': 7, 'eta': 0.2893176620655715, 'gamma': 1.820163412333697e-06, 'subsample': 0.8073265405158717, 'colsample_bytree': 0.6472622816718103}. Best is trial 29 with value: 61140.0.\n[I 2024-03-15 12:52:12,376] Trial 39 finished with value: 60930.0 and parameters: {'max_depth': 8, 'eta': 0.22174103973910209, 'gamma': 7.560511973307593e-05, 'subsample': 0.7781403384049719, 'colsample_bytree': 0.5279945592203923}. Best is trial 29 with value: 61140.0.\n[I 2024-03-15 12:52:13,884] Trial 40 finished with value: 61190.0 and parameters: {'max_depth': 7, 'eta': 0.24851959623001463, 'gamma': 0.00018121019204649422, 'subsample': 0.7361293841567799, 'colsample_bytree': 0.6379547939494037}. Best is trial 40 with value: 61190.0.\n[I 2024-03-15 12:52:15,416] Trial 41 finished with value: 61070.0 and parameters: {'max_depth': 7, 'eta': 0.24081976433964541, 'gamma': 0.0001257543937920561, 'subsample': 0.7275160297463478, 'colsample_bytree': 0.6340766479727699}. Best is trial 40 with value: 61190.0.\n[I 2024-03-15 12:52:16,921] Trial 42 finished with value: 60870.0 and parameters: {'max_depth': 7, 'eta': 0.24614161247669689, 'gamma': 0.0002602527084467666, 'subsample': 0.8466943840954246, 'colsample_bytree': 0.7072155962269836}. Best is trial 40 with value: 61190.0.\n[I 2024-03-15 12:52:18,608] Trial 43 finished with value: 60950.0 and parameters: {'max_depth': 9, 'eta': 0.2629633389228043, 'gamma': 0.0012963894998067572, 'subsample': 0.7843547447937744, 'colsample_bytree': 0.5907314993053457}. Best is trial 40 with value: 61190.0.\n[I 2024-03-15 12:52:20,272] Trial 44 finished with value: 60950.0 and parameters: {'max_depth': 7, 'eta': 0.1422956870413616, 'gamma': 0.0019263788945591955, 'subsample': 0.7532881688823285, 'colsample_bytree': 0.7652811730257845}. Best is trial 40 with value: 61190.0.\n[I 2024-03-15 12:52:21,455] Trial 45 finished with value: 61070.0 and parameters: {'max_depth': 5, 'eta': 0.20188477702294977, 'gamma': 1.0096328343592434e-05, 'subsample': 0.8141603457288829, 'colsample_bytree': 0.5284672278693577}. Best is trial 40 with value: 61190.0.\n[I 2024-03-15 12:52:23,149] Trial 46 finished with value: 61010.0 and parameters: {'max_depth': 8, 'eta': 0.15650130774809148, 'gamma': 7.733147917223529e-05, 'subsample': 0.8714410138415338, 'colsample_bytree': 0.5012112048017073}. Best is trial 40 with value: 61190.0.\n[I 2024-03-15 12:52:24,506] Trial 47 finished with value: 60920.0 and parameters: {'max_depth': 6, 'eta': 0.12790761750324178, 'gamma': 0.00021390234558139043, 'subsample': 0.9639504553174313, 'colsample_bytree': 0.5748292263925591}. Best is trial 40 with value: 61190.0.\n[I 2024-03-15 12:52:25,958] Trial 48 finished with value: 56510.0 and parameters: {'max_depth': 5, 'eta': 0.01400985974088348, 'gamma': 0.009301790661324362, 'subsample': 0.7364319633450118, 'colsample_bytree': 0.9991417930830016}. Best is trial 40 with value: 61190.0.\n[I 2024-03-15 12:52:27,931] Trial 49 finished with value: 60920.0 and parameters: {'max_depth': 8, 'eta': 0.09855014933537146, 'gamma': 1.8686331400740556e-05, 'subsample': 0.7706632861071376, 'colsample_bytree': 0.622794641470729}. Best is trial 40 with value: 61190.0.\n[I 2024-03-15 12:52:28,981] Trial 50 finished with value: 61130.0 and parameters: {'max_depth': 4, 'eta': 0.2644675429333029, 'gamma': 2.2090335725716064e-06, 'subsample': 0.9961907755728643, 'colsample_bytree': 0.7022740133546148}. Best is trial 40 with value: 61190.0.\n[I 2024-03-15 12:52:30,032] Trial 51 finished with value: 60950.0 and parameters: {'max_depth': 4, 'eta': 0.2998815394155523, 'gamma': 8.786334947228851e-07, 'subsample': 0.9883176929588431, 'colsample_bytree': 0.7028853938866523}. Best is trial 40 with value: 61190.0.\n[I 2024-03-15 12:52:31,104] Trial 52 finished with value: 61110.0 and parameters: {'max_depth': 4, 'eta': 0.20716350256476296, 'gamma': 0.0007039763353815162, 'subsample': 0.9326049384527693, 'colsample_bytree': 0.7433098104180318}. Best is trial 40 with value: 61190.0.\n[I 2024-03-15 12:52:32,080] Trial 53 finished with value: 55130.0 and parameters: {'max_depth': 3, 'eta': 0.023019146292573393, 'gamma': 0.002853786332327702, 'subsample': 0.9484065433222091, 'colsample_bytree': 0.7448615725528819}. Best is trial 40 with value: 61190.0.\n[I 2024-03-15 12:52:33,143] Trial 54 finished with value: 61110.0 and parameters: {'max_depth': 4, 'eta': 0.21691304049513047, 'gamma': 3.451512053187682e-07, 'subsample': 0.9405501932971345, 'colsample_bytree': 0.7436885274323186}. Best is trial 40 with value: 61190.0.\n[I 2024-03-15 12:52:34,196] Trial 55 finished with value: 60870.0 and parameters: {'max_depth': 4, 'eta': 0.22175835233114527, 'gamma': 7.733033966304759e-08, 'subsample': 0.990023992226773, 'colsample_bytree': 0.7954479711078534}. Best is trial 40 with value: 61190.0.\n[I 2024-03-15 12:52:35,262] Trial 56 finished with value: 61260.0 and parameters: {'max_depth': 4, 'eta': 0.265039328088535, 'gamma': 1.614467195676852e-07, 'subsample': 0.9337606282198734, 'colsample_bytree': 0.8767735907977774}. Best is trial 56 with value: 61260.0.\n[I 2024-03-15 12:52:36,205] Trial 57 finished with value: 60720.0 and parameters: {'max_depth': 3, 'eta': 0.26258251393603, 'gamma': 4.194158234386603e-06, 'subsample': 0.89875813263008, 'colsample_bytree': 0.8662378822733798}. Best is trial 56 with value: 61260.0.\n[I 2024-03-15 12:52:37,335] Trial 58 finished with value: 61370.0 and parameters: {'max_depth': 4, 'eta': 0.2636807489689135, 'gamma': 1.1726582023406694e-07, 'subsample': 0.9319129626878851, 'colsample_bytree': 0.9492321587637332}. Best is trial 58 with value: 61370.0.\n[I 2024-03-15 12:52:38,420] Trial 59 finished with value: 61160.0 and parameters: {'max_depth': 4, 'eta': 0.26483986483718003, 'gamma': 1.0013831966998874e-08, 'subsample': 0.9665655154759827, 'colsample_bytree': 0.9395423297451532}. Best is trial 58 with value: 61370.0.\n[I 2024-03-15 12:52:39,510] Trial 60 finished with value: 60850.0 and parameters: {'max_depth': 4, 'eta': 0.1912836107816379, 'gamma': 1.724304534973181e-08, 'subsample': 0.9054894027107145, 'colsample_bytree': 0.9460284080752743}. Best is trial 58 with value: 61370.0.\n[I 2024-03-15 12:52:40,665] Trial 61 finished with value: 61050.0 and parameters: {'max_depth': 4, 'eta': 0.26417619514741736, 'gamma': 3.592034955602787e-08, 'subsample': 0.9686860076168208, 'colsample_bytree': 0.9099206812773419}. Best is trial 58 with value: 61370.0.\n[I 2024-03-15 12:52:41,632] Trial 62 finished with value: 60980.0 and parameters: {'max_depth': 3, 'eta': 0.2672337779368598, 'gamma': 1.1140019560279529e-08, 'subsample': 0.9816747747750055, 'colsample_bytree': 0.9551592928730395}. Best is trial 58 with value: 61370.0.\n[I 2024-03-15 12:52:42,704] Trial 63 finished with value: 60980.0 and parameters: {'max_depth': 4, 'eta': 0.23489875387374132, 'gamma': 7.37427704897119e-08, 'subsample': 0.957201496986948, 'colsample_bytree': 0.8958719579008343}. Best is trial 58 with value: 61370.0.\n[I 2024-03-15 12:52:43,849] Trial 64 finished with value: 61040.0 and parameters: {'max_depth': 4, 'eta': 0.29973975595914665, 'gamma': 1.5679960855268445e-07, 'subsample': 0.9987771487364419, 'colsample_bytree': 0.9464879914553396}. Best is trial 58 with value: 61370.0.\n[I 2024-03-15 12:52:45,131] Trial 65 finished with value: 61090.0 and parameters: {'max_depth': 5, 'eta': 0.2517539062865264, 'gamma': 6.771253544354726e-07, 'subsample': 0.8770177373608362, 'colsample_bytree': 0.9652742867089057}. Best is trial 58 with value: 61370.0.\n[I 2024-03-15 12:52:46,082] Trial 66 finished with value: 60450.0 and parameters: {'max_depth': 3, 'eta': 0.1844511276013343, 'gamma': 4.033701322032066e-08, 'subsample': 0.9234886467054707, 'colsample_bytree': 0.8426895249465782}. Best is trial 58 with value: 61370.0.\n[I 2024-03-15 12:52:47,189] Trial 67 finished with value: 61030.0 and parameters: {'max_depth': 4, 'eta': 0.16287104156317878, 'gamma': 1.6685198841802336e-07, 'subsample': 0.9723222972901232, 'colsample_bytree': 0.9302391670425814}. Best is trial 58 with value: 61370.0.\n[I 2024-03-15 12:52:48,559] Trial 68 finished with value: 59960.0 and parameters: {'max_depth': 5, 'eta': 0.06251650554232231, 'gamma': 4.5229279727530484e-07, 'subsample': 0.8849491611070947, 'colsample_bytree': 0.8826463369998738}. Best is trial 58 with value: 61370.0.\n[I 2024-03-15 12:52:49,606] Trial 69 finished with value: 60980.0 and parameters: {'max_depth': 4, 'eta': 0.2745610555585944, 'gamma': 1.6337680311578595e-06, 'subsample': 0.9401473589189147, 'colsample_bytree': 0.6617493623840035}. Best is trial 58 with value: 61370.0.\n[I 2024-03-15 12:52:51,840] Trial 70 finished with value: 59830.0 and parameters: {'max_depth': 7, 'eta': 0.03830995641093765, 'gamma': 1.1834070471724483e-07, 'subsample': 0.8348595781400817, 'colsample_bytree': 0.9783489155207092}. Best is trial 58 with value: 61370.0.\n[I 2024-03-15 12:52:52,898] Trial 71 finished with value: 60990.0 and parameters: {'max_depth': 4, 'eta': 0.2071153790999382, 'gamma': 0.0008276144172416042, 'subsample': 0.925389026445263, 'colsample_bytree': 0.6951729777909611}. Best is trial 58 with value: 61370.0.\n[I 2024-03-15 12:52:53,963] Trial 72 finished with value: 60990.0 and parameters: {'max_depth': 4, 'eta': 0.2086087064938268, 'gamma': 1.88815398658951e-08, 'subsample': 0.9391928131915749, 'colsample_bytree': 0.7807071637450622}. Best is trial 58 with value: 61370.0.\n[I 2024-03-15 12:52:54,907] Trial 73 finished with value: 60480.0 and parameters: {'max_depth': 3, 'eta': 0.23165936590003006, 'gamma': 0.00016042217986992577, 'subsample': 0.9993035784028759, 'colsample_bytree': 0.7304324205673397}. Best is trial 58 with value: 61370.0.\n[I 2024-03-15 12:52:55,964] Trial 74 finished with value: 60940.0 and parameters: {'max_depth': 4, 'eta': 0.19734213018589317, 'gamma': 9.753138137363917e-05, 'subsample': 0.9564966789459237, 'colsample_bytree': 0.7634962757162481}. Best is trial 58 with value: 61370.0.\n[I 2024-03-15 12:52:57,244] Trial 75 finished with value: 61210.0 and parameters: {'max_depth': 5, 'eta': 0.24824660005260377, 'gamma': 4.7241230694725134e-05, 'subsample': 0.9126926508429617, 'colsample_bytree': 0.9197895871287504}. Best is trial 58 with value: 61370.0.\n[I 2024-03-15 12:52:58,527] Trial 76 finished with value: 61320.0 and parameters: {'max_depth': 5, 'eta': 0.27680705314259973, 'gamma': 3.876273807173807e-06, 'subsample': 0.7148391406381798, 'colsample_bytree': 0.9249592500068382}. Best is trial 58 with value: 61370.0.\n[I 2024-03-15 12:52:59,833] Trial 77 finished with value: 60970.0 and parameters: {'max_depth': 5, 'eta': 0.24086133331240203, 'gamma': 5.26214868943758e-05, 'subsample': 0.6788626850735793, 'colsample_bytree': 0.9227051281831664}. Best is trial 58 with value: 61370.0.\n[I 2024-03-15 12:53:01,122] Trial 78 finished with value: 61140.0 and parameters: {'max_depth': 5, 'eta': 0.2792081432381292, 'gamma': 1.786559506784253e-05, 'subsample': 0.7122307304064245, 'colsample_bytree': 0.9263137624460271}. Best is trial 58 with value: 61370.0.\n[I 2024-03-15 12:53:02,664] Trial 79 finished with value: 61150.0 and parameters: {'max_depth': 6, 'eta': 0.1563426644658863, 'gamma': 3.8359082625252905e-06, 'subsample': 0.7680609215943227, 'colsample_bytree': 0.8825485345875327}. Best is trial 58 with value: 61370.0.\n[I 2024-03-15 12:53:04,189] Trial 80 finished with value: 61080.0 and parameters: {'max_depth': 6, 'eta': 0.12050278322269423, 'gamma': 3.6828570460908144e-06, 'subsample': 0.7410888568103942, 'colsample_bytree': 0.855569732652267}. Best is trial 58 with value: 61370.0.\n[I 2024-03-15 12:53:05,601] Trial 81 finished with value: 61110.0 and parameters: {'max_depth': 6, 'eta': 0.1513441591653518, 'gamma': 8.663394875731758e-06, 'subsample': 0.7654450383593565, 'colsample_bytree': 0.8849009105768025}. Best is trial 58 with value: 61370.0.\n[I 2024-03-15 12:53:07,180] Trial 82 finished with value: 60850.0 and parameters: {'max_depth': 7, 'eta': 0.17849505808038157, 'gamma': 2.0418918520588605e-05, 'subsample': 0.6624464182806606, 'colsample_bytree': 0.9036052145681468}. Best is trial 58 with value: 61370.0.\n[I 2024-03-15 12:53:08,529] Trial 83 finished with value: 60870.0 and parameters: {'max_depth': 6, 'eta': 0.2206177683290024, 'gamma': 0.00020502504223339222, 'subsample': 0.7965362251393392, 'colsample_bytree': 0.8257826261816976}. Best is trial 58 with value: 61370.0.\n[I 2024-03-15 12:53:09,721] Trial 84 finished with value: 61250.0 and parameters: {'max_depth': 5, 'eta': 0.246624184985064, 'gamma': 1.0480266551115237e-06, 'subsample': 0.8267059549419546, 'colsample_bytree': 0.9369899843906384}. Best is trial 58 with value: 61370.0.\n[I 2024-03-15 12:53:10,874] Trial 85 finished with value: 61090.0 and parameters: {'max_depth': 5, 'eta': 0.286112811718751, 'gamma': 6.820919795939635e-07, 'subsample': 0.6960484838060982, 'colsample_bytree': 0.9403542261660192}. Best is trial 58 with value: 61370.0.\n[I 2024-03-15 12:53:12,065] Trial 86 finished with value: 61000.0 and parameters: {'max_depth': 5, 'eta': 0.16720122023153627, 'gamma': 1.2783021788974957e-06, 'subsample': 0.845018583611511, 'colsample_bytree': 0.9725280917847876}. Best is trial 58 with value: 61370.0.\n[I 2024-03-15 12:53:13,410] Trial 87 finished with value: 61030.0 and parameters: {'max_depth': 5, 'eta': 0.2500114482167321, 'gamma': 2.724025201264646e-06, 'subsample': 0.725720338896485, 'colsample_bytree': 0.9926408624942865}. Best is trial 58 with value: 61370.0.\n[I 2024-03-15 12:53:14,764] Trial 88 finished with value: 60690.0 and parameters: {'max_depth': 5, 'eta': 0.12903964655432915, 'gamma': 2.947951245725081e-07, 'subsample': 0.8191341116937249, 'colsample_bytree': 0.9595158639980671}. Best is trial 58 with value: 61370.0.\n[I 2024-03-15 12:53:16,310] Trial 89 finished with value: 61010.0 and parameters: {'max_depth': 6, 'eta': 0.1836881029210549, 'gamma': 4.745398461253588e-07, 'subsample': 0.856770836239757, 'colsample_bytree': 0.9151930361605435}. Best is trial 58 with value: 61370.0.\n[I 2024-03-15 12:53:17,617] Trial 90 finished with value: 60730.0 and parameters: {'max_depth': 5, 'eta': 0.140687813205009, 'gamma': 1.0795681916100521e-06, 'subsample': 0.7617705226492981, 'colsample_bytree': 0.87581216920025}. Best is trial 58 with value: 61370.0.\n[I 2024-03-15 12:53:19,300] Trial 91 finished with value: 60900.0 and parameters: {'max_depth': 7, 'eta': 0.22834111559887502, 'gamma': 6.750578548160905e-06, 'subsample': 0.7870107037057048, 'colsample_bytree': 0.9354190941233099}. Best is trial 58 with value: 61370.0.\n[I 2024-03-15 12:53:20,779] Trial 92 finished with value: 60950.0 and parameters: {'max_depth': 6, 'eta': 0.24898081511055, 'gamma': 0.00030323796175910366, 'subsample': 0.8051841921662135, 'colsample_bytree': 0.8945451810054141}. Best is trial 58 with value: 61370.0.\n[I 2024-03-15 12:53:22,428] Trial 93 finished with value: 60840.0 and parameters: {'max_depth': 7, 'eta': 0.28535607674111624, 'gamma': 5.6002883382858595e-08, 'subsample': 0.7422583739614879, 'colsample_bytree': 0.9177347510240202}. Best is trial 58 with value: 61370.0.\n[I 2024-03-15 12:53:24,291] Trial 94 finished with value: 60900.0 and parameters: {'max_depth': 8, 'eta': 0.21999942376735696, 'gamma': 2.2143214414512153e-08, 'subsample': 0.9133950652101126, 'colsample_bytree': 0.9675108371128872}. Best is trial 58 with value: 61370.0.\n[I 2024-03-15 12:53:25,597] Trial 95 finished with value: 61270.0 and parameters: {'max_depth': 5, 'eta': 0.19351446828258365, 'gamma': 5.142129681633648e-05, 'subsample': 0.7185464267900907, 'colsample_bytree': 0.9001456857573809}. Best is trial 58 with value: 61370.0.\n[I 2024-03-15 12:53:26,927] Trial 96 finished with value: 61060.0 and parameters: {'max_depth': 5, 'eta': 0.19875317832944206, 'gamma': 1.1819068903866072e-05, 'subsample': 0.7160256516162756, 'colsample_bytree': 0.8674738088969681}. Best is trial 58 with value: 61370.0.\n[I 2024-03-15 12:53:28,276] Trial 97 finished with value: 61170.0 and parameters: {'max_depth': 5, 'eta': 0.26591649681328244, 'gamma': 4.782135840654946e-05, 'subsample': 0.6985719542299607, 'colsample_bytree': 0.9002798726388306}. Best is trial 58 with value: 61370.0.\n[I 2024-03-15 12:53:29,584] Trial 98 finished with value: 60940.0 and parameters: {'max_depth': 5, 'eta': 0.2759638941598201, 'gamma': 2.6727584684484388e-05, 'subsample': 0.6992268169060868, 'colsample_bytree': 0.9027668849089855}. Best is trial 58 with value: 61370.0.\n[I 2024-03-15 12:53:30,880] Trial 99 finished with value: 61170.0 and parameters: {'max_depth': 5, 'eta': 0.2592889097902044, 'gamma': 1.007728521771499e-08, 'subsample': 0.6874191824836383, 'colsample_bytree': 0.8448886762776472}. Best is trial 58 with value: 61370.0.\n[I 2024-03-15 12:53:32,177] Trial 100 finished with value: 61160.0 and parameters: {'max_depth': 5, 'eta': 0.2635924965218532, 'gamma': 1.0538485548098368e-08, 'subsample': 0.6422354784430778, 'colsample_bytree': 0.8480798221261058}. Best is trial 58 with value: 61370.0.\n[I 2024-03-15 12:53:33,495] Trial 101 finished with value: 60910.0 and parameters: {'max_depth': 5, 'eta': 0.25747987877075923, 'gamma': 2.6385340459177203e-08, 'subsample': 0.6300859997941456, 'colsample_bytree': 0.8386991957183932}. Best is trial 58 with value: 61370.0.\n[I 2024-03-15 12:53:34,767] Trial 102 finished with value: 61310.0 and parameters: {'max_depth': 5, 'eta': 0.2995995005062521, 'gamma': 1.4741484864730028e-08, 'subsample': 0.6889274395319116, 'colsample_bytree': 0.8549701893921147}. Best is trial 58 with value: 61370.0.\n[I 2024-03-15 12:53:36,088] Trial 103 finished with value: 61070.0 and parameters: {'max_depth': 5, 'eta': 0.2976650466607462, 'gamma': 4.351809629780199e-05, 'subsample': 0.6852816386502667, 'colsample_bytree': 0.8938035993740419}. Best is trial 58 with value: 61370.0.\n[I 2024-03-15 12:53:37,410] Trial 104 finished with value: 61080.0 and parameters: {'max_depth': 5, 'eta': 0.2347760369358057, 'gamma': 1.3202366274764249e-08, 'subsample': 0.6668428945269302, 'colsample_bytree': 0.8286377677848058}. Best is trial 58 with value: 61370.0.\n",
          "output_type": "stream"
        }
      ],
      "outputs_reference": null,
      "execution_count": 109,
      "block_group": "ca48e721e70f4787a42f731a02c1143a"
    },
    {
      "cell_type": "code",
      "source": "print(best_params)",
      "metadata": {
        "source_hash": "b4bf3a4f",
        "execution_start": 1710499125371,
        "execution_millis": 311,
        "deepnote_to_be_reexecuted": true,
        "cell_id": "db33c8a95b3e45f0a1487daef1c0095e",
        "deepnote_cell_type": "code"
      },
      "outputs": [
        {
          "name": "stdout",
          "text": "{'max_depth': 5, 'eta': 0.26592844752396194, 'gamma': 0.0008146823932646719, 'subsample': 0.7743426174829405, 'colsample_bytree': 0.9618170551771399}\n",
          "output_type": "stream"
        }
      ],
      "outputs_reference": null,
      "execution_count": null,
      "block_group": "817df9af09354119bcc1ce4a9b93d453"
    },
    {
      "cell_type": "code",
      "source": "classifiers = {\n    \"XGBoost\": xgb.XGBClassifier(**best_params, random_state=42),\n}",
      "metadata": {
        "source_hash": "59b78b57",
        "execution_start": 1710506522376,
        "execution_millis": 82,
        "deepnote_to_be_reexecuted": true,
        "cell_id": "0c7ac6276c4341e090eb3404d7562e04",
        "deepnote_cell_type": "code"
      },
      "outputs": [],
      "outputs_reference": null,
      "execution_count": 104,
      "block_group": "298888269d764c2ca3d3e5aa4d4ec206"
    },
    {
      "cell_type": "code",
      "source": "xgb_model = train_result(X_train_oversampled, X_test, y_train_oversampled, y_test)\n\nsave_dir = \"/work/Credit_Card_Churn_Intern_BCC_2024/Model/\"\nmodel_file_path = os.path.join(save_dir, 'xgb_model.pkl')\nwith open(model_file_path, 'wb') as file:\n    pickle.dump(xgb_model, file)",
      "metadata": {
        "source_hash": "ada60748",
        "execution_start": 1710506524605,
        "execution_millis": 800,
        "deepnote_to_be_reexecuted": true,
        "cell_id": "848171373982405a96221806a469463b",
        "deepnote_cell_type": "code"
      },
      "outputs": [
        {
          "name": "stdout",
          "text": "Classifier      Precision    Recall    F1 Score    F2 Score    TP    TN    FP    FN    Business Value Score\n------------  -----------  --------  ----------  ----------  ----  ----  ----  ----  ----------------------\nXGBoost          0.887906  0.920489    0.903904    0.913783   301  1661    38    26                   60900\n",
          "output_type": "stream"
        }
      ],
      "outputs_reference": null,
      "execution_count": 105,
      "block_group": "e33d97ec750d46f98c7dd3949f0e4d83"
    },
    {
      "cell_type": "code",
      "source": "results = []\nkfold = KFold(n_splits=5, shuffle=True, random_state=42)\n\nfor name, clf in classifiers.items():\n    # Calculate the cross-validation scores and mean TP, TN, FP, FN\n    f2_scores = []\n    precision_scores = []\n    recall_scores = []\n    business_value_scores = []\n    tp_values = []\n    tn_values = []\n    fp_values = []\n    fn_values = []\n    \n    for train_index, test_index in kfold.split(X):\n        X_train, X_test = X.iloc[train_index], X.iloc[test_index]\n        y_train, y_test = y.iloc[train_index], y.iloc[test_index]\n\n        X_train_scaled = numeric_pipeline.fit_transform(X_train[numeric_columns])\n        # Transform the testing data\n        X_test_scaled = numeric_pipeline.transform(X_test[numeric_columns])\n\n        # Replace the original numeric columns in X_train and X_test with the scaled ones\n        X_train.loc[:, numeric_columns] = X_train_scaled\n        X_test.loc[:, numeric_columns] = X_test_scaled\n\n        oversampler = RandomOverSampler(random_state=42)\n        X_train_oversampled, y_train_oversampled = oversampler.fit_resample(X_train, y_train)\n\n        clf.fit(X_train_oversampled, y_train_oversampled)\n        y_pred = clf.predict(X_test)\n        f2 = fbeta_score(y_test, y_pred, beta=2)\n        precision = precision_score(y_test, y_pred)\n        recall = recall_score(y_test, y_pred)\n\n        # Calculate confusion matrix\n        cm = confusion_matrix(y_test, y_pred)\n        tn, fp, fn, tp = cm.ravel()\n\n        # Calculate business value score\n        business_value_score = (tp * TP_value) + (tn * TN_value) + (fp * FP_value) + (fn * FN_value)\n\n        f2_scores.append(f2)\n        precision_scores.append(precision)\n        recall_scores.append(recall)\n        business_value_scores.append(business_value_score)\n        \n        # Append TP, TN, FP, FN values\n        tp_values.append(tp)\n        tn_values.append(tn)\n        fp_values.append(fp)\n        fn_values.append(fn)\n\n    # Calculate the mean values\n    mean_f2_score = np.mean(f2_scores)\n    mean_precision_score = np.mean(precision_scores)\n    mean_recall_score = np.mean(recall_scores)\n    mean_business_value_score = np.mean(business_value_scores)\n    mean_tp = np.mean(tp_values)\n    mean_tn = np.mean(tn_values)\n    mean_fp = np.mean(fp_values)\n    mean_fn = np.mean(fn_values)\n\n    # Calculate the standard deviations\n    std_tp = np.std(tp_values)\n    std_tn = np.std(tn_values)\n    std_fp = np.std(fp_values)\n    std_fn = np.std(fn_values)\n\n    # Format results and append to the list\n    results.append([name, \n                    \"{:.3f}+-{:.3f}\".format(mean_precision_score, std_precision_score), \n                    \"{:.3f}+-{:.3f}\".format(mean_recall_score, std_recall_score), \n                    \"{:.3f}+-{:.3f}\".format(mean_f2_score, std_f2_score), \n                    \"{:.1f}+-{:.1f}\".format(mean_tp, std_tp), \n                    \"{:.1f}+-{:.1f}\".format(mean_tn, std_tn), \n                    \"{:.1f}+-{:.1f}\".format(mean_fp, std_fp), \n                    \"{:.1f}+-{:.1f}\".format(mean_fn, std_fn), \n                    \"{:.3f}+-{:.3f}\".format(mean_business_value_score, std_business_value_score)])\n\n# Create a table using tabulate\nheaders = [\"Classifier\", \"Mean Precision\", \"Mean Recall\", \"Mean F2 Score\", \"Mean TP\", \"Mean TN\", \"Mean FP\", \"Mean FN\", \"Mean Business Value Score\"]\ntable = tabulate(results, headers=headers)\n\n# Print the table\nprint(table)",
      "metadata": {
        "source_hash": "65a4dfa1",
        "execution_start": 1710500755088,
        "execution_millis": 1033,
        "deepnote_to_be_reexecuted": true,
        "cell_id": "a357c49e427b4865b1dabc2afe765034",
        "deepnote_cell_type": "code"
      },
      "outputs": [
        {
          "name": "stdout",
          "text": "Classifier    Mean Precision    Mean Recall    Mean F2 Score    Mean TP     Mean TN       Mean FP    Mean FN    Mean Business Value Score\n------------  ----------------  -------------  ---------------  ----------  ------------  ---------  ---------  ---------------------------\nXGBoost       0.910+-0.017      0.932+-0.007   0.928+-0.008     303.4+-7.2  1670.0+-11.0  30.0+-6.1  22.0+-2.7  61380.000+-1579.114\n",
          "output_type": "stream"
        }
      ],
      "outputs_reference": null,
      "execution_count": null,
      "block_group": "28cab9f04a634a308e598011ff78338d"
    },
    {
      "cell_type": "markdown",
      "source": "<a style='text-decoration:none;line-height:16px;display:flex;color:#5B5B62;padding:10px;justify-content:end;' href='https://deepnote.com?utm_source=created-in-deepnote-cell&projectId=6ad58bc5-59dd-429f-97b6-3cedb5b4fcfc' target=\"_blank\">\n<img alt='Created in deepnote.com' style='display:inline;max-height:16px;margin:0px;margin-right:7.5px;' src='data:image/svg+xml;base64,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' > </img>\nCreated in <span style='font-weight:600;margin-left:4px;'>Deepnote</span></a>",
      "metadata": {
        "created_in_deepnote_cell": true,
        "deepnote_cell_type": "markdown"
      }
    }
  ],
  "nbformat": 4,
  "nbformat_minor": 0,
  "metadata": {
    "deepnote_persisted_session": {
      "createdAt": "2024-03-15T11:30:26.369Z"
    },
    "deepnote_notebook_id": "3b745dd90aee4e1bb73c71870ff38876",
    "deepnote_execution_queue": []
  }
}