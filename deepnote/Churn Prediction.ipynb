{
  "cells": [
    {
      "cell_type": "code",
      "source": "!pip install -qq xgboost\n!pip install -qq xgbimputer\n!pip install -qq imbalanced-learn\n!pip install -qq optuna",
      "metadata": {
        "source_hash": "63fec61b",
        "execution_start": 1710498502700,
        "execution_millis": 15654,
        "deepnote_to_be_reexecuted": false,
        "cell_id": "399e96a6e6b2406e86a654aafb3518f4",
        "deepnote_cell_type": "code"
      },
      "outputs": [],
      "outputs_reference": null,
      "execution_count": 1,
      "block_group": "c875ca0805ed452a894db156e41ae38b"
    },
    {
      "cell_type": "code",
      "source": "import pandas as pd\nimport numpy as np\nimport matplotlib.pyplot as plt\nimport xgboost as xgb\nfrom xgboost import plot_importance\nfrom sklearn.preprocessing import StandardScaler\nfrom sklearn.model_selection import cross_validate, cross_val_score, train_test_split, KFold\nfrom sklearn.linear_model import LogisticRegression\nfrom sklearn.neighbors import KNeighborsClassifier\nfrom sklearn.svm import SVC\nfrom sklearn.ensemble import RandomForestClassifier\nfrom sklearn.metrics import confusion_matrix, recall_score, precision_score, fbeta_score, make_scorer\nfrom sklearn.pipeline import Pipeline\n# from sklearn.preprocessing import LabelEncoder\nfrom imblearn.over_sampling import RandomOverSampler, SMOTE\nfrom imblearn.under_sampling import RandomUnderSampler, TomekLinks, OneSidedSelection\nfrom tabulate import tabulate\nfrom xgbimputer import XGBImputer\nimport optuna",
      "metadata": {
        "source_hash": "91f10274",
        "execution_start": 1710498518359,
        "execution_millis": 2103,
        "deepnote_to_be_reexecuted": false,
        "cell_id": "415734f4a9964e8fa4760d280d76a385",
        "deepnote_cell_type": "code"
      },
      "outputs": [
        {
          "name": "stderr",
          "text": "/shared-libs/python3.9/py/lib/python3.9/site-packages/tqdm/auto.py:22: TqdmWarning: IProgress not found. Please update jupyter and ipywidgets. See https://ipywidgets.readthedocs.io/en/stable/user_install.html\n  from .autonotebook import tqdm as notebook_tqdm\n",
          "output_type": "stream"
        }
      ],
      "outputs_reference": null,
      "execution_count": 2,
      "block_group": "c448f3b7f2ad44a59076c6d96c3bc4b2"
    },
    {
      "cell_type": "markdown",
      "source": "# Data Loading",
      "metadata": {
        "formattedRanges": [],
        "cell_id": "62e0ed7a144347018c6d6ad154403068",
        "deepnote_cell_type": "text-cell-h1"
      },
      "block_group": "b321350d333b493e99bed64cb5636bdb"
    },
    {
      "cell_type": "code",
      "source": "df = pd.read_csv('/work/Credit_Card_Churn_Intern_BCC_2024/Dataset/BankChurners.csv')\ndf.drop(columns=['CLIENTNUM','Avg_Open_To_Buy','Naive_Bayes_Classifier_Attrition_Flag_Card_Category_Contacts_Count_12_mon_Dependent_count_Education_Level_Months_Inactive_12_mon_1','Naive_Bayes_Classifier_Attrition_Flag_Card_Category_Contacts_Count_12_mon_Dependent_count_Education_Level_Months_Inactive_12_mon_2'], inplace=True)",
      "metadata": {
        "source_hash": "8f9c0ca0",
        "execution_start": 1710498520467,
        "execution_millis": 490,
        "deepnote_to_be_reexecuted": false,
        "cell_id": "59cc340c72eb4c28919afb16ab307f35",
        "deepnote_cell_type": "code"
      },
      "outputs": [],
      "outputs_reference": null,
      "execution_count": 3,
      "block_group": "59cc340c72eb4c28919afb16ab307f35"
    },
    {
      "cell_type": "code",
      "source": "df['Attrition_Flag'] = df['Attrition_Flag'].map({'Existing Customer': 0, 'Attrited Customer': 1})\ndf_copy = df.copy()",
      "metadata": {
        "source_hash": "b7a76274",
        "execution_start": 1710498520964,
        "execution_millis": 97,
        "deepnote_to_be_reexecuted": false,
        "cell_id": "6952f5d196184ef2896552e806b1e6fe",
        "deepnote_cell_type": "code"
      },
      "outputs": [],
      "outputs_reference": null,
      "execution_count": 4,
      "block_group": "415f1ce63afb42aca064e78d2ebcb810"
    },
    {
      "cell_type": "markdown",
      "source": "# Baseline Model",
      "metadata": {
        "formattedRanges": [],
        "cell_id": "4eff55d2151c495cab8c36cb90d0aace",
        "deepnote_cell_type": "text-cell-h1"
      },
      "block_group": "cc77ee0f4f5b415f8c067bf4778a74c6"
    },
    {
      "cell_type": "code",
      "source": "df = pd.get_dummies(df, columns=['Gender', 'Marital_Status'], drop_first=True)\n\ndf['Education_Level'] = df['Education_Level'].map({'Uneducated': 0, 'High School': 1, 'Unknown': 2, 'College': 3, 'Graduate': 4, 'Post-Graduate':5, 'Doctorate': 6})\ndf['Income_Category'] = df['Income_Category'].map({'Less than $40K': 0, '$40K - $60K': 1, 'Unknown': 2,'$60K - $80K': 3, '$80K - $120K': 4, '$120K +': 5})\ndf['Card_Category'] = df['Card_Category'].map({'Blue': 0, 'Silver': 1, 'Gold': 2, 'Platinum': 3})",
      "metadata": {
        "source_hash": "11b2a011",
        "execution_start": 1710498520977,
        "execution_millis": 128,
        "deepnote_to_be_reexecuted": false,
        "cell_id": "5a7d76fef08a4dd5b726d19a857e54a1",
        "deepnote_cell_type": "code"
      },
      "outputs": [],
      "outputs_reference": null,
      "execution_count": 5,
      "block_group": "d472a45167f24fe6a334a3a575aecb18"
    },
    {
      "cell_type": "markdown",
      "source": "Because the 'Unknown' category consistently have mid size population, I put them in the middle as it could go either way.",
      "metadata": {
        "formattedRanges": [],
        "cell_id": "2f75bac9e15a468f9b42c36cc88d7586",
        "deepnote_cell_type": "text-cell-p"
      },
      "block_group": "dedda0a839154ec49b8d573300793ead"
    },
    {
      "cell_type": "code",
      "source": "X = df.drop(columns='Attrition_Flag')\ny = df['Attrition_Flag']",
      "metadata": {
        "source_hash": "739e184c",
        "execution_start": 1710498520984,
        "execution_millis": 121,
        "deepnote_to_be_reexecuted": false,
        "cell_id": "71444b8b462b4158a022fd3e50c7ab57",
        "deepnote_cell_type": "code"
      },
      "outputs": [],
      "outputs_reference": null,
      "execution_count": 6,
      "block_group": "7296a3b3d1184c7abdb4138e3f8f082d"
    },
    {
      "cell_type": "code",
      "source": "numeric_columns = [\n    \"Customer_Age\",\n    \"Dependent_count\",\n    \"Months_on_book\",\n    \"Total_Relationship_Count\",\n    \"Months_Inactive_12_mon\",\n    \"Contacts_Count_12_mon\",\n    \"Credit_Limit\",\n    \"Total_Revolving_Bal\",\n    \"Total_Amt_Chng_Q4_Q1\",\n    \"Total_Trans_Amt\",\n    \"Total_Trans_Ct\",\n    \"Total_Ct_Chng_Q4_Q1\",\n    \"Avg_Utilization_Ratio\"\n]\n\nnumeric_pipeline = Pipeline([\n    ('scaler', StandardScaler())\n])\n\nX_train, X_test, y_train, y_test = train_test_split(X, y, test_size=0.2, random_state=42)\n\n# Fit and transform the training data\nX_train_scaled = numeric_pipeline.fit_transform(X_train[numeric_columns])\n\n# Transform the testing data\nX_test_scaled = numeric_pipeline.transform(X_test[numeric_columns])\n\n# Replace the original numeric columns in X_train and X_test with the scaled ones\nX_train[numeric_columns] = X_train_scaled\nX_test[numeric_columns] = X_test_scaled",
      "metadata": {
        "source_hash": "cf1e6386",
        "execution_start": 1710498520993,
        "execution_millis": 113,
        "deepnote_to_be_reexecuted": false,
        "cell_id": "4e5c6ba78e434dc381bd2bfe191d0f3d",
        "deepnote_cell_type": "code"
      },
      "outputs": [],
      "outputs_reference": null,
      "execution_count": 7,
      "block_group": "e9e11a87412944a79d045bc41e01c623"
    },
    {
      "cell_type": "code",
      "source": "# X_scaled = X.copy()",
      "metadata": {
        "source_hash": "93e127b2",
        "execution_start": 1710498521023,
        "execution_millis": 83,
        "deepnote_to_be_reexecuted": false,
        "cell_id": "4f9b85f879934981815d3962cb4e094e",
        "deepnote_cell_type": "code"
      },
      "outputs": [],
      "outputs_reference": null,
      "execution_count": 8,
      "block_group": "0667df20f2e14d7198602de9950a2a28"
    },
    {
      "cell_type": "code",
      "source": "classifiers = {\n    \"KNN\": KNeighborsClassifier(n_neighbors=7),\n    \"SVM\": SVC(kernel='rbf', C=1, random_state=42),\n    \"Logistic Regression\": LogisticRegression(random_state=42, max_iter=100),\n    \"Random Forest\": RandomForestClassifier(n_estimators=100, random_state=42),\n    \"XGBoost\": xgb.XGBClassifier(use_label_encoder=False, eval_metric=\"logloss\", random_state=42),\n}",
      "metadata": {
        "source_hash": "f4631d5e",
        "execution_start": 1710498521024,
        "execution_millis": 82,
        "deepnote_to_be_reexecuted": false,
        "cell_id": "13afbb22311b46479431442ecab1f293",
        "deepnote_cell_type": "code"
      },
      "outputs": [],
      "outputs_reference": null,
      "execution_count": 9,
      "block_group": "fb050fdbe32245f78f274c105221c4ac"
    },
    {
      "cell_type": "code",
      "source": "# Define business value scores\nTP_value = 200\nTN_value = 0\nFP_value = -50\nFN_value = 100\n\n\ndef train_result(X_train, X_test, y_train, y_test):\n    results = []\n    trained_models = {}\n\n    for name, clf in classifiers.items():\n        clf.fit(X_train, y_train)\n        y_pred = clf.predict(X_test)\n        cm = confusion_matrix(y_test, y_pred)\n\n        # Calculate TP, TN, FP, and FN\n        tn, fp, fn, tp = cm.ravel()\n\n        # Calculate precision and recall\n        precision = precision_score(y_test, y_pred)\n        recall = recall_score(y_test, y_pred)\n        f1_score = fbeta_score(y_test, y_pred, beta=1)\n        f2_score = fbeta_score(y_test, y_pred, beta=2)\n\n        # Calculate business value score\n        business_value_score = (tp * TP_value) + (tn * TN_value) + (fp * FP_value) + (fn * FN_value)\n\n        # Format results and append to the list\n        results.append([name, precision, recall, f1_score, f2_score, tp, tn, fp, fn, business_value_score])\n        \n        # Save trained models\n        trained_models[name] = clf\n\n    # Create a table using tabulate\n    headers = [\"Classifier\", \"Precision\", \"Recall\", \"F1 Score\", \"F2 Score\", \"TP\", \"TN\", \"FP\", \"FN\", \"Business Value Score\"]\n    table = tabulate(results, headers=headers)\n\n    # Print the table\n    print(table)\n    \n    # Return trained models\n    return trained_models",
      "metadata": {
        "source_hash": "43ad5849",
        "execution_start": 1710499126203,
        "execution_millis": 29,
        "deepnote_to_be_reexecuted": false,
        "cell_id": "005619d8b4734e6c8bcb5e8c881af5b1",
        "deepnote_cell_type": "code"
      },
      "outputs": [],
      "outputs_reference": null,
      "execution_count": 52,
      "block_group": "b8959df50f5744cdb98ab5357a9deee9"
    },
    {
      "cell_type": "code",
      "source": "train_result(X_train, X_test, y_train, y_test)",
      "metadata": {
        "source_hash": "9a2040ff",
        "execution_start": 1710498521027,
        "execution_millis": 2866,
        "deepnote_to_be_reexecuted": false,
        "cell_id": "38c1a04d97fb463bba8b20ed41af3908",
        "deepnote_cell_type": "code"
      },
      "outputs": [
        {
          "name": "stdout",
          "text": "Classifier             Precision    Recall    F1 Score    F2 Score    TP    TN    FP    FN    Business Value Score\n-------------------  -----------  --------  ----------  ----------  ----  ----  ----  ----  ----------------------\nKNN                     0.864583  0.507645    0.639692    0.553333   166  1673    26   161                   48000\nSVM                     0.876033  0.648318    0.745167    0.683871   212  1669    30   115                   52400\nLogistic Regression     0.774892  0.547401    0.641577    0.581546   179  1647    52   148                   48000\nRandom Forest           0.921986  0.795107    0.853859    0.81761    260  1677    22    67                   57600\nXGBoost                 0.904025  0.892966    0.898462    0.895156   292  1668    31    35                   60350\n",
          "output_type": "stream"
        }
      ],
      "outputs_reference": null,
      "execution_count": 11,
      "block_group": "d9cab10c07a949298f699b73be664c12"
    },
    {
      "cell_type": "markdown",
      "source": "The best baseline model is XGBoost with 89.5% F2 Score and The worst is KNN with 55% F2 Score.",
      "metadata": {
        "formattedRanges": [],
        "cell_id": "529b92a4f7054721b5c5e384f02a256b",
        "deepnote_cell_type": "text-cell-p"
      },
      "block_group": "bc0e0b463af3466cb5cea5cf6d84bd37"
    },
    {
      "cell_type": "code",
      "source": "results = []\nkfold = KFold(n_splits=5, shuffle=True, random_state=42)\n\nfor name, clf in classifiers.items():\n    # Calculate the cross-validation scores\n    f2_scores = []\n    precision_scores = []\n    recall_scores = []\n    business_value_scores = []\n    for train_index, test_index in kfold.split(X):\n        X_train, X_test = X.iloc[train_index], X.iloc[test_index]\n        y_train, y_test = y.iloc[train_index], y.iloc[test_index]\n\n        X_train_scaled = numeric_pipeline.fit_transform(X_train[numeric_columns])\n        # Transform the testing data\n        X_test_scaled = numeric_pipeline.transform(X_test[numeric_columns])\n\n        # Replace the original numeric columns in X_train and X_test with the scaled ones\n        X_train.loc[:, numeric_columns] = X_train_scaled\n        X_test.loc[:, numeric_columns] = X_test_scaled\n\n        clf.fit(X_train, y_train)\n        y_pred = clf.predict(X_test)\n        f2 = fbeta_score(y_test, y_pred, beta=2)\n        precision = precision_score(y_test, y_pred)\n        recall = recall_score(y_test, y_pred)\n\n        # Calculate confusion matrix\n        cm = confusion_matrix(y_test, y_pred)\n        tn, fp, fn, tp = cm.ravel()\n\n        # Calculate business value score\n        business_value_score = (tp * TP_value) + (tn * TN_value) + (fp * FP_value) + (fn * FN_value)\n\n        f2_scores.append(f2)\n        precision_scores.append(precision)\n        recall_scores.append(recall)\n        business_value_scores.append(business_value_score)\n\n    # Calculate the mean F2 score, precision, recall, and business value score\n    mean_f2_score = np.mean(f2_scores)\n    mean_precision_score = np.mean(precision_scores)\n    mean_recall_score = np.mean(recall_scores)\n    mean_business_value_score = np.mean(business_value_scores)\n\n    std_f2_score = np.std(f2_scores)\n    std_precision_score = np.std(precision_scores)\n    std_recall_score = np.std(recall_scores)\n    std_business_value_score = np.std(business_value_scores)\n\n    # Format results and append to the list\n    results.append([name, \"{:.3f}+-{:.3f}\".format(mean_precision_score, std_precision_score), \"{:.3f}+-{:.3f}\".format(mean_recall_score, std_recall_score), \"{:.3f}+-{:.3f}\".format(mean_f2_score, std_f2_score), mean_business_value_score])\n\n\n# Create a table using tabulate\nheaders = [\"Classifier\", \"Mean Precision\", \"Mean Recall\", \"Mean F2 Score\", \"Mean Business Value Score\"]\ntable = tabulate(results, headers=headers)\n\n# Print the table\nprint(table)",
      "metadata": {
        "source_hash": "89e22212",
        "execution_start": 1710498523944,
        "execution_millis": 12625,
        "deepnote_to_be_reexecuted": false,
        "cell_id": "4fa2284bc35b4ace83330798e0c6f0e9",
        "deepnote_cell_type": "code"
      },
      "outputs": [
        {
          "name": "stdout",
          "text": "Classifier           Mean Precision    Mean Recall    Mean F2 Score      Mean Business Value Score\n-------------------  ----------------  -------------  ---------------  ---------------------------\nKNN                  0.836+-0.026      0.521+-0.009   0.563+-0.008                           47810\nSVM                  0.869+-0.012      0.673+-0.020   0.704+-0.017                           52770\nLogistic Regression  0.764+-0.017      0.584+-0.030   0.613+-0.027                           48610\nRandom Forest        0.934+-0.018      0.813+-0.018   0.835+-0.016                           58070\nXGBoost              0.934+-0.019      0.901+-0.013   0.908+-0.013                           60820\n",
          "output_type": "stream"
        }
      ],
      "outputs_reference": null,
      "execution_count": 12,
      "block_group": "6a4c40c665bc4c55ab06cfa870451115"
    },
    {
      "cell_type": "markdown",
      "source": "I evaluate how good the model with unseen data and surprisingly it got a better result with 90% F2 Score using XGBoost.",
      "metadata": {
        "formattedRanges": [],
        "cell_id": "fd99d6c9f4e544a988384b55986fcfbf",
        "deepnote_cell_type": "text-cell-p"
      },
      "block_group": "e66d0254c27d43cea19549392e239489"
    },
    {
      "cell_type": "markdown",
      "source": "# XGBoost Imputed",
      "metadata": {
        "formattedRanges": [],
        "cell_id": "5a8f61d5049c471f932dd00b0bdd5700",
        "deepnote_cell_type": "text-cell-h1"
      },
      "block_group": "afe40a0d7dfa478e8465b956793e3dec"
    },
    {
      "cell_type": "markdown",
      "source": "Based on EDA we know that 'Unknown' Category has their own pattern so we can't simply impute them with simple imputer. And, are they actually other value that's obfuscated or their own category.",
      "metadata": {
        "formattedRanges": [],
        "cell_id": "cad39e16fd6043c1875043684766af22",
        "deepnote_cell_type": "text-cell-p"
      },
      "block_group": "0372a4af8be9416eb3837cf2d3b3bce1"
    },
    {
      "cell_type": "markdown",
      "source": "I use XGBoost Imputer because it can handle categorical data meanwhile KNN Imputer doesn't work with one hot encoded data as it will only consider one column at a time.",
      "metadata": {
        "formattedRanges": [],
        "cell_id": "257019269deb47af94923422f12db51e",
        "deepnote_cell_type": "text-cell-p"
      },
      "block_group": "eda7363dc93a4f839e92f1a116176008"
    },
    {
      "cell_type": "code",
      "source": "df_copy.replace('Unknown', np.nan, inplace=True)\ndf_copy = pd.get_dummies(df_copy, columns=['Gender'], drop_first=True)\ndf_copy['Card_Category'] = df_copy['Card_Category'].map({'Blue': 0, 'Silver': 1, 'Gold': 2, 'Platinum': 3})",
      "metadata": {
        "source_hash": "9bb89255",
        "execution_start": 1710498536572,
        "execution_millis": 211,
        "deepnote_to_be_reexecuted": false,
        "cell_id": "54faff7fb67e403eba2996de053a8a5e",
        "deepnote_cell_type": "code"
      },
      "outputs": [],
      "outputs_reference": null,
      "execution_count": 13,
      "block_group": "0a5f13cac81a4628b1cfd9da192ff24b"
    },
    {
      "cell_type": "code",
      "source": "df_copy_missing_data = pd.DataFrame(df_copy.isna().sum().loc[df_copy.isna().sum() > 0], columns=['missing_data_count'])\ndf_copy_missing_data['missing_data_type'] = df_copy.dtypes\ndf_copy_missing_data['missing_data_percentage'] = df_copy_missing_data['missing_data_count'] / len(df_copy)\ndf_copy_missing_data = df_copy_missing_data.sort_values(by='missing_data_percentage', ascending=False)\ndf_copy_missing_data",
      "metadata": {
        "source_hash": "54ac5ff3",
        "execution_start": 1710498536572,
        "execution_millis": 212,
        "deepnote_to_be_reexecuted": false,
        "cell_id": "6e5e142edfee41a8bb789f7c7e6c4a50",
        "deepnote_cell_type": "code"
      },
      "outputs": [
        {
          "output_type": "execute_result",
          "execution_count": 14,
          "data": {
            "application/vnd.deepnote.dataframe.v3+json": {
              "column_count": 3,
              "row_count": 3,
              "columns": [
                {
                  "name": "missing_data_count",
                  "dtype": "int64",
                  "stats": {
                    "unique_count": 3,
                    "nan_count": 0,
                    "min": "749",
                    "max": "1519",
                    "histogram": [
                      {
                        "bin_start": 749,
                        "bin_end": 826,
                        "count": 1
                      },
                      {
                        "bin_start": 826,
                        "bin_end": 903,
                        "count": 0
                      },
                      {
                        "bin_start": 903,
                        "bin_end": 980,
                        "count": 0
                      },
                      {
                        "bin_start": 980,
                        "bin_end": 1057,
                        "count": 0
                      },
                      {
                        "bin_start": 1057,
                        "bin_end": 1134,
                        "count": 1
                      },
                      {
                        "bin_start": 1134,
                        "bin_end": 1211,
                        "count": 0
                      },
                      {
                        "bin_start": 1211,
                        "bin_end": 1288,
                        "count": 0
                      },
                      {
                        "bin_start": 1288,
                        "bin_end": 1365,
                        "count": 0
                      },
                      {
                        "bin_start": 1365,
                        "bin_end": 1442,
                        "count": 0
                      },
                      {
                        "bin_start": 1442,
                        "bin_end": 1519,
                        "count": 1
                      }
                    ]
                  }
                },
                {
                  "name": "missing_data_type",
                  "dtype": "object",
                  "stats": {
                    "unique_count": 1,
                    "nan_count": 0,
                    "categories": [
                      {
                        "name": "object",
                        "count": 3
                      }
                    ]
                  }
                },
                {
                  "name": "missing_data_percentage",
                  "dtype": "float64",
                  "stats": {
                    "unique_count": 3,
                    "nan_count": 0,
                    "min": "0.07396069912116125",
                    "max": "0.14999506270366347",
                    "histogram": [
                      {
                        "bin_start": 0.07396069912116125,
                        "bin_end": 0.08156413547941148,
                        "count": 1
                      },
                      {
                        "bin_start": 0.08156413547941148,
                        "bin_end": 0.08916757183766169,
                        "count": 0
                      },
                      {
                        "bin_start": 0.08916757183766169,
                        "bin_end": 0.09677100819591192,
                        "count": 0
                      },
                      {
                        "bin_start": 0.09677100819591192,
                        "bin_end": 0.10437444455416214,
                        "count": 0
                      },
                      {
                        "bin_start": 0.10437444455416214,
                        "bin_end": 0.11197788091241237,
                        "count": 1
                      },
                      {
                        "bin_start": 0.11197788091241237,
                        "bin_end": 0.11958131727066258,
                        "count": 0
                      },
                      {
                        "bin_start": 0.11958131727066258,
                        "bin_end": 0.1271847536289128,
                        "count": 0
                      },
                      {
                        "bin_start": 0.1271847536289128,
                        "bin_end": 0.13478818998716302,
                        "count": 0
                      },
                      {
                        "bin_start": 0.13478818998716302,
                        "bin_end": 0.14239162634541325,
                        "count": 0
                      },
                      {
                        "bin_start": 0.14239162634541325,
                        "bin_end": 0.14999506270366347,
                        "count": 1
                      }
                    ]
                  }
                },
                {
                  "name": "_deepnote_index_column",
                  "dtype": "object"
                }
              ],
              "rows": [
                {
                  "missing_data_count": 1519,
                  "missing_data_type": "object",
                  "missing_data_percentage": 0.14999506270366347,
                  "_deepnote_index_column": "Education_Level"
                },
                {
                  "missing_data_count": 1112,
                  "missing_data_type": "object",
                  "missing_data_percentage": 0.10980547052434086,
                  "_deepnote_index_column": "Income_Category"
                },
                {
                  "missing_data_count": 749,
                  "missing_data_type": "object",
                  "missing_data_percentage": 0.07396069912116125,
                  "_deepnote_index_column": "Marital_Status"
                }
              ]
            },
            "text/plain": "                 missing_data_count missing_data_type  missing_data_percentage\nEducation_Level                1519            object                 0.149995\nIncome_Category                1112            object                 0.109805\nMarital_Status                  749            object                 0.073961",
            "text/html": "<div>\n<style scoped>\n    .dataframe tbody tr th:only-of-type {\n        vertical-align: middle;\n    }\n\n    .dataframe tbody tr th {\n        vertical-align: top;\n    }\n\n    .dataframe thead th {\n        text-align: right;\n    }\n</style>\n<table border=\"1\" class=\"dataframe\">\n  <thead>\n    <tr style=\"text-align: right;\">\n      <th></th>\n      <th>missing_data_count</th>\n      <th>missing_data_type</th>\n      <th>missing_data_percentage</th>\n    </tr>\n  </thead>\n  <tbody>\n    <tr>\n      <th>Education_Level</th>\n      <td>1519</td>\n      <td>object</td>\n      <td>0.149995</td>\n    </tr>\n    <tr>\n      <th>Income_Category</th>\n      <td>1112</td>\n      <td>object</td>\n      <td>0.109805</td>\n    </tr>\n    <tr>\n      <th>Marital_Status</th>\n      <td>749</td>\n      <td>object</td>\n      <td>0.073961</td>\n    </tr>\n  </tbody>\n</table>\n</div>"
          },
          "metadata": {}
        }
      ],
      "outputs_reference": null,
      "execution_count": 14,
      "block_group": "e3751941c9bc4fa2a94c4e1890939015"
    },
    {
      "cell_type": "code",
      "source": "imputer = XGBImputer(categorical_features_index=[3,4,5], replace_categorical_values_back=True)\nX = imputer.fit_transform(df_copy)",
      "metadata": {
        "source_hash": "827f5176",
        "execution_start": 1710498536609,
        "execution_millis": 3412,
        "deepnote_to_be_reexecuted": false,
        "cell_id": "1377f1056cbf418db981fb80b5f5b55a",
        "deepnote_cell_type": "code"
      },
      "outputs": [
        {
          "name": "stderr",
          "text": "/root/venv/lib/python3.9/site-packages/xgbimputer/xgbimputer.py:148: RuntimeWarning: invalid value encountered in double_scalars\n  gamma_inferred_numerical_features_new = np.sum((Ximp[:,self.inferred_numerical_features_index] - Ximp_old[:,self.inferred_numerical_features_index])**2)/np.sum((Ximp[:, self.inferred_numerical_features_index]) ** 2)\nXGBImputer - Epoch: 1 | Categorical gamma: inf/7. | Numerical gamma: inf/nan\n/root/venv/lib/python3.9/site-packages/xgbimputer/xgbimputer.py:148: RuntimeWarning: invalid value encountered in double_scalars\n  gamma_inferred_numerical_features_new = np.sum((Ximp[:,self.inferred_numerical_features_index] - Ximp_old[:,self.inferred_numerical_features_index])**2)/np.sum((Ximp[:, self.inferred_numerical_features_index]) ** 2)\nXGBImputer - Epoch: 2 | Categorical gamma: 7./0. | Numerical gamma: nan/nan\nXGBImputer - Epoch: 3 | Categorical gamma: 0./0. | Numerical gamma: nan/nan\n/root/venv/lib/python3.9/site-packages/xgbimputer/xgbimputer.py:148: RuntimeWarning: invalid value encountered in double_scalars\n  gamma_inferred_numerical_features_new = np.sum((Ximp[:,self.inferred_numerical_features_index] - Ximp_old[:,self.inferred_numerical_features_index])**2)/np.sum((Ximp[:, self.inferred_numerical_features_index]) ** 2)\n",
          "output_type": "stream"
        }
      ],
      "outputs_reference": null,
      "execution_count": 15,
      "block_group": "1b9266da0ba640af9f35d1d26aa40f8a"
    },
    {
      "cell_type": "code",
      "source": "X = pd.DataFrame(X)\nX.head()",
      "metadata": {
        "source_hash": "2637984b",
        "execution_start": 1710498540024,
        "execution_millis": 577,
        "deepnote_to_be_reexecuted": false,
        "cell_id": "b3b058e96dc04fc9a940e87e8ef60ce0",
        "deepnote_cell_type": "code"
      },
      "outputs": [
        {
          "output_type": "execute_result",
          "execution_count": 16,
          "data": {
            "application/vnd.deepnote.dataframe.v3+json": {
              "column_count": 19,
              "row_count": 5,
              "columns": [
                {
                  "name": "0",
                  "dtype": "object",
                  "stats": {
                    "unique_count": 1,
                    "nan_count": 0,
                    "categories": [
                      {
                        "name": "0.0",
                        "count": 5
                      }
                    ]
                  }
                },
                {
                  "name": "1",
                  "dtype": "object",
                  "stats": {
                    "unique_count": 4,
                    "nan_count": 0,
                    "categories": [
                      {
                        "name": "40.0",
                        "count": 2
                      },
                      {
                        "name": "45.0",
                        "count": 1
                      },
                      {
                        "name": "2 others",
                        "count": 2
                      }
                    ]
                  }
                },
                {
                  "name": "2",
                  "dtype": "object",
                  "stats": {
                    "unique_count": 3,
                    "nan_count": 0,
                    "categories": [
                      {
                        "name": "3.0",
                        "count": 3
                      },
                      {
                        "name": "5.0",
                        "count": 1
                      },
                      {
                        "name": "4.0",
                        "count": 1
                      }
                    ]
                  }
                },
                {
                  "name": "3",
                  "dtype": "object",
                  "stats": {
                    "unique_count": 3,
                    "nan_count": 0,
                    "categories": [
                      {
                        "name": "High School",
                        "count": 2
                      },
                      {
                        "name": "Graduate",
                        "count": 2
                      },
                      {
                        "name": "Uneducated",
                        "count": 1
                      }
                    ]
                  }
                },
                {
                  "name": "4",
                  "dtype": "object",
                  "stats": {
                    "unique_count": 2,
                    "nan_count": 0,
                    "categories": [
                      {
                        "name": "Married",
                        "count": 4
                      },
                      {
                        "name": "Single",
                        "count": 1
                      }
                    ]
                  }
                },
                {
                  "name": "5",
                  "dtype": "object",
                  "stats": {
                    "unique_count": 3,
                    "nan_count": 0,
                    "categories": [
                      {
                        "name": "$60K - $80K",
                        "count": 2
                      },
                      {
                        "name": "Less than $40K",
                        "count": 2
                      },
                      {
                        "name": "$80K - $120K",
                        "count": 1
                      }
                    ]
                  }
                },
                {
                  "name": "6",
                  "dtype": "object",
                  "stats": {
                    "unique_count": 1,
                    "nan_count": 0,
                    "categories": [
                      {
                        "name": "0.0",
                        "count": 5
                      }
                    ]
                  }
                },
                {
                  "name": "7",
                  "dtype": "object",
                  "stats": {
                    "unique_count": 5,
                    "nan_count": 0,
                    "categories": [
                      {
                        "name": "39.0",
                        "count": 1
                      },
                      {
                        "name": "44.0",
                        "count": 1
                      },
                      {
                        "name": "3 others",
                        "count": 3
                      }
                    ]
                  }
                },
                {
                  "name": "8",
                  "dtype": "object",
                  "stats": {
                    "unique_count": 4,
                    "nan_count": 0,
                    "categories": [
                      {
                        "name": "5.0",
                        "count": 2
                      },
                      {
                        "name": "6.0",
                        "count": 1
                      },
                      {
                        "name": "2 others",
                        "count": 2
                      }
                    ]
                  }
                },
                {
                  "name": "9",
                  "dtype": "object",
                  "stats": {
                    "unique_count": 2,
                    "nan_count": 0,
                    "categories": [
                      {
                        "name": "1.0",
                        "count": 4
                      },
                      {
                        "name": "4.0",
                        "count": 1
                      }
                    ]
                  }
                },
                {
                  "name": "10",
                  "dtype": "object",
                  "stats": {
                    "unique_count": 4,
                    "nan_count": 0,
                    "categories": [
                      {
                        "name": "0.0",
                        "count": 2
                      },
                      {
                        "name": "3.0",
                        "count": 1
                      },
                      {
                        "name": "2 others",
                        "count": 2
                      }
                    ]
                  }
                },
                {
                  "name": "11",
                  "dtype": "object",
                  "stats": {
                    "unique_count": 5,
                    "nan_count": 0,
                    "categories": [
                      {
                        "name": "12691.0",
                        "count": 1
                      },
                      {
                        "name": "8256.0",
                        "count": 1
                      },
                      {
                        "name": "3 others",
                        "count": 3
                      }
                    ]
                  }
                },
                {
                  "name": "12",
                  "dtype": "object",
                  "stats": {
                    "unique_count": 4,
                    "nan_count": 0,
                    "categories": [
                      {
                        "name": "0.0",
                        "count": 2
                      },
                      {
                        "name": "777.0",
                        "count": 1
                      },
                      {
                        "name": "2 others",
                        "count": 2
                      }
                    ]
                  }
                },
                {
                  "name": "13",
                  "dtype": "object",
                  "stats": {
                    "unique_count": 5,
                    "nan_count": 0,
                    "categories": [
                      {
                        "name": "1.335",
                        "count": 1
                      },
                      {
                        "name": "1.541",
                        "count": 1
                      },
                      {
                        "name": "3 others",
                        "count": 3
                      }
                    ]
                  }
                },
                {
                  "name": "14",
                  "dtype": "object",
                  "stats": {
                    "unique_count": 5,
                    "nan_count": 0,
                    "categories": [
                      {
                        "name": "1144.0",
                        "count": 1
                      },
                      {
                        "name": "1291.0",
                        "count": 1
                      },
                      {
                        "name": "3 others",
                        "count": 3
                      }
                    ]
                  }
                },
                {
                  "name": "15",
                  "dtype": "object",
                  "stats": {
                    "unique_count": 4,
                    "nan_count": 0,
                    "categories": [
                      {
                        "name": "20.0",
                        "count": 2
                      },
                      {
                        "name": "42.0",
                        "count": 1
                      },
                      {
                        "name": "2 others",
                        "count": 2
                      }
                    ]
                  }
                },
                {
                  "name": "16",
                  "dtype": "object",
                  "stats": {
                    "unique_count": 4,
                    "nan_count": 0,
                    "categories": [
                      {
                        "name": "2.333",
                        "count": 2
                      },
                      {
                        "name": "1.625",
                        "count": 1
                      },
                      {
                        "name": "2 others",
                        "count": 2
                      }
                    ]
                  }
                },
                {
                  "name": "17",
                  "dtype": "object",
                  "stats": {
                    "unique_count": 4,
                    "nan_count": 0,
                    "categories": [
                      {
                        "name": "0.0",
                        "count": 2
                      },
                      {
                        "name": "0.061",
                        "count": 1
                      },
                      {
                        "name": "2 others",
                        "count": 2
                      }
                    ]
                  }
                },
                {
                  "name": "18",
                  "dtype": "object",
                  "stats": {
                    "unique_count": 2,
                    "nan_count": 0,
                    "categories": [
                      {
                        "name": "1.0",
                        "count": 3
                      },
                      {
                        "name": "0.0",
                        "count": 2
                      }
                    ]
                  }
                },
                {
                  "name": "_deepnote_index_column",
                  "dtype": "int64"
                }
              ],
              "rows": [
                {
                  "0": "0.0",
                  "1": "45.0",
                  "2": "3.0",
                  "3": "High School",
                  "4": "Married",
                  "5": "$60K - $80K",
                  "6": "0.0",
                  "7": "39.0",
                  "8": "5.0",
                  "9": "1.0",
                  "10": "3.0",
                  "11": "12691.0",
                  "12": "777.0",
                  "13": "1.335",
                  "14": "1144.0",
                  "15": "42.0",
                  "16": "1.625",
                  "17": "0.061",
                  "18": "1.0",
                  "_deepnote_index_column": 0
                },
                {
                  "0": "0.0",
                  "1": "49.0",
                  "2": "5.0",
                  "3": "Graduate",
                  "4": "Single",
                  "5": "Less than $40K",
                  "6": "0.0",
                  "7": "44.0",
                  "8": "6.0",
                  "9": "1.0",
                  "10": "2.0",
                  "11": "8256.0",
                  "12": "864.0",
                  "13": "1.541",
                  "14": "1291.0",
                  "15": "33.0",
                  "16": "3.714",
                  "17": "0.105",
                  "18": "0.0",
                  "_deepnote_index_column": 1
                },
                {
                  "0": "0.0",
                  "1": "51.0",
                  "2": "3.0",
                  "3": "Graduate",
                  "4": "Married",
                  "5": "$80K - $120K",
                  "6": "0.0",
                  "7": "36.0",
                  "8": "4.0",
                  "9": "1.0",
                  "10": "0.0",
                  "11": "3418.0",
                  "12": "0.0",
                  "13": "2.594",
                  "14": "1887.0",
                  "15": "20.0",
                  "16": "2.333",
                  "17": "0.0",
                  "18": "1.0",
                  "_deepnote_index_column": 2
                },
                {
                  "0": "0.0",
                  "1": "40.0",
                  "2": "4.0",
                  "3": "High School",
                  "4": "Married",
                  "5": "Less than $40K",
                  "6": "0.0",
                  "7": "34.0",
                  "8": "3.0",
                  "9": "4.0",
                  "10": "1.0",
                  "11": "3313.0",
                  "12": "2517.0",
                  "13": "1.405",
                  "14": "1171.0",
                  "15": "20.0",
                  "16": "2.333",
                  "17": "0.76",
                  "18": "0.0",
                  "_deepnote_index_column": 3
                },
                {
                  "0": "0.0",
                  "1": "40.0",
                  "2": "3.0",
                  "3": "Uneducated",
                  "4": "Married",
                  "5": "$60K - $80K",
                  "6": "0.0",
                  "7": "21.0",
                  "8": "5.0",
                  "9": "1.0",
                  "10": "0.0",
                  "11": "4716.0",
                  "12": "0.0",
                  "13": "2.175",
                  "14": "816.0",
                  "15": "28.0",
                  "16": "2.5",
                  "17": "0.0",
                  "18": "1.0",
                  "_deepnote_index_column": 4
                }
              ]
            },
            "text/plain": "    0     1    2            3        4               5    6     7    8    9   \\\n0  0.0  45.0  3.0  High School  Married     $60K - $80K  0.0  39.0  5.0  1.0   \n1  0.0  49.0  5.0     Graduate   Single  Less than $40K  0.0  44.0  6.0  1.0   \n2  0.0  51.0  3.0     Graduate  Married    $80K - $120K  0.0  36.0  4.0  1.0   \n3  0.0  40.0  4.0  High School  Married  Less than $40K  0.0  34.0  3.0  4.0   \n4  0.0  40.0  3.0   Uneducated  Married     $60K - $80K  0.0  21.0  5.0  1.0   \n\n    10       11      12     13      14    15     16     17   18  \n0  3.0  12691.0   777.0  1.335  1144.0  42.0  1.625  0.061  1.0  \n1  2.0   8256.0   864.0  1.541  1291.0  33.0  3.714  0.105  0.0  \n2  0.0   3418.0     0.0  2.594  1887.0  20.0  2.333    0.0  1.0  \n3  1.0   3313.0  2517.0  1.405  1171.0  20.0  2.333   0.76  0.0  \n4  0.0   4716.0     0.0  2.175   816.0  28.0    2.5    0.0  1.0  ",
            "text/html": "<div>\n<style scoped>\n    .dataframe tbody tr th:only-of-type {\n        vertical-align: middle;\n    }\n\n    .dataframe tbody tr th {\n        vertical-align: top;\n    }\n\n    .dataframe thead th {\n        text-align: right;\n    }\n</style>\n<table border=\"1\" class=\"dataframe\">\n  <thead>\n    <tr style=\"text-align: right;\">\n      <th></th>\n      <th>0</th>\n      <th>1</th>\n      <th>2</th>\n      <th>3</th>\n      <th>4</th>\n      <th>5</th>\n      <th>6</th>\n      <th>7</th>\n      <th>8</th>\n      <th>9</th>\n      <th>10</th>\n      <th>11</th>\n      <th>12</th>\n      <th>13</th>\n      <th>14</th>\n      <th>15</th>\n      <th>16</th>\n      <th>17</th>\n      <th>18</th>\n    </tr>\n  </thead>\n  <tbody>\n    <tr>\n      <th>0</th>\n      <td>0.0</td>\n      <td>45.0</td>\n      <td>3.0</td>\n      <td>High School</td>\n      <td>Married</td>\n      <td>$60K - $80K</td>\n      <td>0.0</td>\n      <td>39.0</td>\n      <td>5.0</td>\n      <td>1.0</td>\n      <td>3.0</td>\n      <td>12691.0</td>\n      <td>777.0</td>\n      <td>1.335</td>\n      <td>1144.0</td>\n      <td>42.0</td>\n      <td>1.625</td>\n      <td>0.061</td>\n      <td>1.0</td>\n    </tr>\n    <tr>\n      <th>1</th>\n      <td>0.0</td>\n      <td>49.0</td>\n      <td>5.0</td>\n      <td>Graduate</td>\n      <td>Single</td>\n      <td>Less than $40K</td>\n      <td>0.0</td>\n      <td>44.0</td>\n      <td>6.0</td>\n      <td>1.0</td>\n      <td>2.0</td>\n      <td>8256.0</td>\n      <td>864.0</td>\n      <td>1.541</td>\n      <td>1291.0</td>\n      <td>33.0</td>\n      <td>3.714</td>\n      <td>0.105</td>\n      <td>0.0</td>\n    </tr>\n    <tr>\n      <th>2</th>\n      <td>0.0</td>\n      <td>51.0</td>\n      <td>3.0</td>\n      <td>Graduate</td>\n      <td>Married</td>\n      <td>$80K - $120K</td>\n      <td>0.0</td>\n      <td>36.0</td>\n      <td>4.0</td>\n      <td>1.0</td>\n      <td>0.0</td>\n      <td>3418.0</td>\n      <td>0.0</td>\n      <td>2.594</td>\n      <td>1887.0</td>\n      <td>20.0</td>\n      <td>2.333</td>\n      <td>0.0</td>\n      <td>1.0</td>\n    </tr>\n    <tr>\n      <th>3</th>\n      <td>0.0</td>\n      <td>40.0</td>\n      <td>4.0</td>\n      <td>High School</td>\n      <td>Married</td>\n      <td>Less than $40K</td>\n      <td>0.0</td>\n      <td>34.0</td>\n      <td>3.0</td>\n      <td>4.0</td>\n      <td>1.0</td>\n      <td>3313.0</td>\n      <td>2517.0</td>\n      <td>1.405</td>\n      <td>1171.0</td>\n      <td>20.0</td>\n      <td>2.333</td>\n      <td>0.76</td>\n      <td>0.0</td>\n    </tr>\n    <tr>\n      <th>4</th>\n      <td>0.0</td>\n      <td>40.0</td>\n      <td>3.0</td>\n      <td>Uneducated</td>\n      <td>Married</td>\n      <td>$60K - $80K</td>\n      <td>0.0</td>\n      <td>21.0</td>\n      <td>5.0</td>\n      <td>1.0</td>\n      <td>0.0</td>\n      <td>4716.0</td>\n      <td>0.0</td>\n      <td>2.175</td>\n      <td>816.0</td>\n      <td>28.0</td>\n      <td>2.5</td>\n      <td>0.0</td>\n      <td>1.0</td>\n    </tr>\n  </tbody>\n</table>\n</div>"
          },
          "metadata": {}
        }
      ],
      "outputs_reference": null,
      "execution_count": 16,
      "block_group": "eb70f31f90d24d95b1595d2b87c7a378"
    },
    {
      "cell_type": "code",
      "source": "X[3].unique()",
      "metadata": {
        "source_hash": "495f9d8",
        "execution_start": 1710498540061,
        "execution_millis": 540,
        "deepnote_to_be_reexecuted": false,
        "cell_id": "26cfe3afc80b47da9e1e85f4b7d07c3b",
        "deepnote_cell_type": "code"
      },
      "outputs": [
        {
          "output_type": "execute_result",
          "execution_count": 17,
          "data": {
            "text/plain": "array(['High School', 'Graduate', 'Uneducated', 'College',\n       'Post-Graduate', 'Doctorate'], dtype=object)"
          },
          "metadata": {}
        }
      ],
      "outputs_reference": null,
      "execution_count": 17,
      "block_group": "7ba29d3f3292407f92cad608f62a40dd"
    },
    {
      "cell_type": "code",
      "source": "X = pd.get_dummies(X, columns=[4], drop_first=True)\nX[3] = X[3].map({'Uneducated': 0, 'High School': 1, 'College': 2, 'Graduate': 3, 'Post-Graduate':4, 'Doctorate': 5})\nX[5] = X[5].map({'Less than $40K': 0, '$40K - $60K': 1, '$60K - $80K': 2, '$80K - $120K': 3, '$120K +': 4})",
      "metadata": {
        "source_hash": "d8c50501",
        "execution_start": 1710498540069,
        "execution_millis": 533,
        "deepnote_to_be_reexecuted": false,
        "cell_id": "50b02f4d78fb4efd99872e444aa419a8",
        "deepnote_cell_type": "code"
      },
      "outputs": [],
      "outputs_reference": null,
      "execution_count": 18,
      "block_group": "2d783a72934349b4afb98e5428f2c7ab"
    },
    {
      "cell_type": "markdown",
      "source": "Manually order labelling the category data.",
      "metadata": {
        "formattedRanges": [],
        "cell_id": "e76eb98d0c28446798311e65f8fdf167",
        "deepnote_cell_type": "text-cell-p"
      },
      "block_group": "43b6381de1ca443e9c29bb37040c4770"
    },
    {
      "cell_type": "code",
      "source": "y = X[0]\nX = X.drop(columns=0)",
      "metadata": {
        "source_hash": "96d99219",
        "execution_start": 1710498540102,
        "execution_millis": 500,
        "deepnote_to_be_reexecuted": false,
        "cell_id": "4717f4a484f249f1aa2c54fa60315d47",
        "deepnote_cell_type": "code"
      },
      "outputs": [],
      "outputs_reference": null,
      "execution_count": 19,
      "block_group": "2d4a8c29e6a443039ecefa4cd804e68a"
    },
    {
      "cell_type": "code",
      "source": "X = X.select_dtypes('object').astype(float)",
      "metadata": {
        "source_hash": "2e967386",
        "execution_start": 1710498540103,
        "execution_millis": 499,
        "deepnote_to_be_reexecuted": false,
        "cell_id": "427963a42695478ba5ba2d458ec6e4b0",
        "deepnote_cell_type": "code"
      },
      "outputs": [],
      "outputs_reference": null,
      "execution_count": 20,
      "block_group": "bccc9577e2cc4060bedb7eb539e05d61"
    },
    {
      "cell_type": "code",
      "source": "y = y.astype(float)",
      "metadata": {
        "source_hash": "fd75f16c",
        "execution_start": 1710498540108,
        "execution_millis": 495,
        "deepnote_to_be_reexecuted": false,
        "cell_id": "d55998bf11da4ea98a25a3da505b3f1a",
        "deepnote_cell_type": "code"
      },
      "outputs": [],
      "outputs_reference": null,
      "execution_count": 21,
      "block_group": "63c7fe62e7a34340949ff2ac8c58d11d"
    },
    {
      "cell_type": "code",
      "source": "X.head()",
      "metadata": {
        "source_hash": "91c01c58",
        "execution_start": 1710498540109,
        "execution_millis": 494,
        "deepnote_to_be_reexecuted": false,
        "cell_id": "d36f62cc3b5744cd86632a64219fb4cf",
        "deepnote_cell_type": "code"
      },
      "outputs": [
        {
          "output_type": "execute_result",
          "execution_count": 22,
          "data": {
            "application/vnd.deepnote.dataframe.v3+json": {
              "column_count": 15,
              "row_count": 5,
              "columns": [
                {
                  "name": "1",
                  "dtype": "float64",
                  "stats": {
                    "unique_count": 4,
                    "nan_count": 0,
                    "min": "40.0",
                    "max": "51.0",
                    "histogram": [
                      {
                        "bin_start": 40,
                        "bin_end": 41.1,
                        "count": 2
                      },
                      {
                        "bin_start": 41.1,
                        "bin_end": 42.2,
                        "count": 0
                      },
                      {
                        "bin_start": 42.2,
                        "bin_end": 43.3,
                        "count": 0
                      },
                      {
                        "bin_start": 43.3,
                        "bin_end": 44.4,
                        "count": 0
                      },
                      {
                        "bin_start": 44.4,
                        "bin_end": 45.5,
                        "count": 1
                      },
                      {
                        "bin_start": 45.5,
                        "bin_end": 46.6,
                        "count": 0
                      },
                      {
                        "bin_start": 46.6,
                        "bin_end": 47.7,
                        "count": 0
                      },
                      {
                        "bin_start": 47.7,
                        "bin_end": 48.8,
                        "count": 0
                      },
                      {
                        "bin_start": 48.8,
                        "bin_end": 49.9,
                        "count": 1
                      },
                      {
                        "bin_start": 49.9,
                        "bin_end": 51,
                        "count": 1
                      }
                    ]
                  }
                },
                {
                  "name": "2",
                  "dtype": "float64",
                  "stats": {
                    "unique_count": 3,
                    "nan_count": 0,
                    "min": "3.0",
                    "max": "5.0",
                    "histogram": [
                      {
                        "bin_start": 3,
                        "bin_end": 3.2,
                        "count": 3
                      },
                      {
                        "bin_start": 3.2,
                        "bin_end": 3.4,
                        "count": 0
                      },
                      {
                        "bin_start": 3.4,
                        "bin_end": 3.6,
                        "count": 0
                      },
                      {
                        "bin_start": 3.6,
                        "bin_end": 3.8,
                        "count": 0
                      },
                      {
                        "bin_start": 3.8,
                        "bin_end": 4,
                        "count": 0
                      },
                      {
                        "bin_start": 4,
                        "bin_end": 4.2,
                        "count": 1
                      },
                      {
                        "bin_start": 4.2,
                        "bin_end": 4.4,
                        "count": 0
                      },
                      {
                        "bin_start": 4.4,
                        "bin_end": 4.6,
                        "count": 0
                      },
                      {
                        "bin_start": 4.6,
                        "bin_end": 4.8,
                        "count": 0
                      },
                      {
                        "bin_start": 4.8,
                        "bin_end": 5,
                        "count": 1
                      }
                    ]
                  }
                },
                {
                  "name": "6",
                  "dtype": "float64",
                  "stats": {
                    "unique_count": 1,
                    "nan_count": 0,
                    "min": "0.0",
                    "max": "0.0",
                    "histogram": [
                      {
                        "bin_start": -0.5,
                        "bin_end": -0.4,
                        "count": 0
                      },
                      {
                        "bin_start": -0.4,
                        "bin_end": -0.3,
                        "count": 0
                      },
                      {
                        "bin_start": -0.3,
                        "bin_end": -0.19999999999999996,
                        "count": 0
                      },
                      {
                        "bin_start": -0.19999999999999996,
                        "bin_end": -0.09999999999999998,
                        "count": 0
                      },
                      {
                        "bin_start": -0.09999999999999998,
                        "bin_end": 0,
                        "count": 0
                      },
                      {
                        "bin_start": 0,
                        "bin_end": 0.10000000000000009,
                        "count": 5
                      },
                      {
                        "bin_start": 0.10000000000000009,
                        "bin_end": 0.20000000000000007,
                        "count": 0
                      },
                      {
                        "bin_start": 0.20000000000000007,
                        "bin_end": 0.30000000000000004,
                        "count": 0
                      },
                      {
                        "bin_start": 0.30000000000000004,
                        "bin_end": 0.4,
                        "count": 0
                      },
                      {
                        "bin_start": 0.4,
                        "bin_end": 0.5,
                        "count": 0
                      }
                    ]
                  }
                },
                {
                  "name": "7",
                  "dtype": "float64",
                  "stats": {
                    "unique_count": 5,
                    "nan_count": 0,
                    "min": "21.0",
                    "max": "44.0",
                    "histogram": [
                      {
                        "bin_start": 21,
                        "bin_end": 23.3,
                        "count": 1
                      },
                      {
                        "bin_start": 23.3,
                        "bin_end": 25.6,
                        "count": 0
                      },
                      {
                        "bin_start": 25.6,
                        "bin_end": 27.9,
                        "count": 0
                      },
                      {
                        "bin_start": 27.9,
                        "bin_end": 30.2,
                        "count": 0
                      },
                      {
                        "bin_start": 30.2,
                        "bin_end": 32.5,
                        "count": 0
                      },
                      {
                        "bin_start": 32.5,
                        "bin_end": 34.8,
                        "count": 1
                      },
                      {
                        "bin_start": 34.8,
                        "bin_end": 37.099999999999994,
                        "count": 1
                      },
                      {
                        "bin_start": 37.099999999999994,
                        "bin_end": 39.4,
                        "count": 1
                      },
                      {
                        "bin_start": 39.4,
                        "bin_end": 41.7,
                        "count": 0
                      },
                      {
                        "bin_start": 41.7,
                        "bin_end": 44,
                        "count": 1
                      }
                    ]
                  }
                },
                {
                  "name": "8",
                  "dtype": "float64",
                  "stats": {
                    "unique_count": 4,
                    "nan_count": 0,
                    "min": "3.0",
                    "max": "6.0",
                    "histogram": [
                      {
                        "bin_start": 3,
                        "bin_end": 3.3,
                        "count": 1
                      },
                      {
                        "bin_start": 3.3,
                        "bin_end": 3.6,
                        "count": 0
                      },
                      {
                        "bin_start": 3.6,
                        "bin_end": 3.9,
                        "count": 0
                      },
                      {
                        "bin_start": 3.9,
                        "bin_end": 4.2,
                        "count": 1
                      },
                      {
                        "bin_start": 4.2,
                        "bin_end": 4.5,
                        "count": 0
                      },
                      {
                        "bin_start": 4.5,
                        "bin_end": 4.8,
                        "count": 0
                      },
                      {
                        "bin_start": 4.8,
                        "bin_end": 5.1,
                        "count": 2
                      },
                      {
                        "bin_start": 5.1,
                        "bin_end": 5.4,
                        "count": 0
                      },
                      {
                        "bin_start": 5.4,
                        "bin_end": 5.699999999999999,
                        "count": 0
                      },
                      {
                        "bin_start": 5.699999999999999,
                        "bin_end": 6,
                        "count": 1
                      }
                    ]
                  }
                },
                {
                  "name": "9",
                  "dtype": "float64",
                  "stats": {
                    "unique_count": 2,
                    "nan_count": 0,
                    "min": "1.0",
                    "max": "4.0",
                    "histogram": [
                      {
                        "bin_start": 1,
                        "bin_end": 1.3,
                        "count": 4
                      },
                      {
                        "bin_start": 1.3,
                        "bin_end": 1.6,
                        "count": 0
                      },
                      {
                        "bin_start": 1.6,
                        "bin_end": 1.9,
                        "count": 0
                      },
                      {
                        "bin_start": 1.9,
                        "bin_end": 2.2,
                        "count": 0
                      },
                      {
                        "bin_start": 2.2,
                        "bin_end": 2.5,
                        "count": 0
                      },
                      {
                        "bin_start": 2.5,
                        "bin_end": 2.8,
                        "count": 0
                      },
                      {
                        "bin_start": 2.8,
                        "bin_end": 3.1,
                        "count": 0
                      },
                      {
                        "bin_start": 3.1,
                        "bin_end": 3.4,
                        "count": 0
                      },
                      {
                        "bin_start": 3.4,
                        "bin_end": 3.6999999999999997,
                        "count": 0
                      },
                      {
                        "bin_start": 3.6999999999999997,
                        "bin_end": 4,
                        "count": 1
                      }
                    ]
                  }
                },
                {
                  "name": "10",
                  "dtype": "float64",
                  "stats": {
                    "unique_count": 4,
                    "nan_count": 0,
                    "min": "0.0",
                    "max": "3.0",
                    "histogram": [
                      {
                        "bin_start": 0,
                        "bin_end": 0.3,
                        "count": 2
                      },
                      {
                        "bin_start": 0.3,
                        "bin_end": 0.6,
                        "count": 0
                      },
                      {
                        "bin_start": 0.6,
                        "bin_end": 0.8999999999999999,
                        "count": 0
                      },
                      {
                        "bin_start": 0.8999999999999999,
                        "bin_end": 1.2,
                        "count": 1
                      },
                      {
                        "bin_start": 1.2,
                        "bin_end": 1.5,
                        "count": 0
                      },
                      {
                        "bin_start": 1.5,
                        "bin_end": 1.7999999999999998,
                        "count": 0
                      },
                      {
                        "bin_start": 1.7999999999999998,
                        "bin_end": 2.1,
                        "count": 1
                      },
                      {
                        "bin_start": 2.1,
                        "bin_end": 2.4,
                        "count": 0
                      },
                      {
                        "bin_start": 2.4,
                        "bin_end": 2.6999999999999997,
                        "count": 0
                      },
                      {
                        "bin_start": 2.6999999999999997,
                        "bin_end": 3,
                        "count": 1
                      }
                    ]
                  }
                },
                {
                  "name": "11",
                  "dtype": "float64",
                  "stats": {
                    "unique_count": 5,
                    "nan_count": 0,
                    "min": "3313.0",
                    "max": "12691.0",
                    "histogram": [
                      {
                        "bin_start": 3313,
                        "bin_end": 4250.8,
                        "count": 2
                      },
                      {
                        "bin_start": 4250.8,
                        "bin_end": 5188.6,
                        "count": 1
                      },
                      {
                        "bin_start": 5188.6,
                        "bin_end": 6126.4,
                        "count": 0
                      },
                      {
                        "bin_start": 6126.4,
                        "bin_end": 7064.2,
                        "count": 0
                      },
                      {
                        "bin_start": 7064.2,
                        "bin_end": 8002,
                        "count": 0
                      },
                      {
                        "bin_start": 8002,
                        "bin_end": 8939.8,
                        "count": 1
                      },
                      {
                        "bin_start": 8939.8,
                        "bin_end": 9877.599999999999,
                        "count": 0
                      },
                      {
                        "bin_start": 9877.599999999999,
                        "bin_end": 10815.4,
                        "count": 0
                      },
                      {
                        "bin_start": 10815.4,
                        "bin_end": 11753.199999999999,
                        "count": 0
                      },
                      {
                        "bin_start": 11753.199999999999,
                        "bin_end": 12691,
                        "count": 1
                      }
                    ]
                  }
                },
                {
                  "name": "12",
                  "dtype": "float64",
                  "stats": {
                    "unique_count": 4,
                    "nan_count": 0,
                    "min": "0.0",
                    "max": "2517.0",
                    "histogram": [
                      {
                        "bin_start": 0,
                        "bin_end": 251.7,
                        "count": 2
                      },
                      {
                        "bin_start": 251.7,
                        "bin_end": 503.4,
                        "count": 0
                      },
                      {
                        "bin_start": 503.4,
                        "bin_end": 755.0999999999999,
                        "count": 0
                      },
                      {
                        "bin_start": 755.0999999999999,
                        "bin_end": 1006.8,
                        "count": 2
                      },
                      {
                        "bin_start": 1006.8,
                        "bin_end": 1258.5,
                        "count": 0
                      },
                      {
                        "bin_start": 1258.5,
                        "bin_end": 1510.1999999999998,
                        "count": 0
                      },
                      {
                        "bin_start": 1510.1999999999998,
                        "bin_end": 1761.8999999999999,
                        "count": 0
                      },
                      {
                        "bin_start": 1761.8999999999999,
                        "bin_end": 2013.6,
                        "count": 0
                      },
                      {
                        "bin_start": 2013.6,
                        "bin_end": 2265.2999999999997,
                        "count": 0
                      },
                      {
                        "bin_start": 2265.2999999999997,
                        "bin_end": 2517,
                        "count": 1
                      }
                    ]
                  }
                },
                {
                  "name": "13",
                  "dtype": "float64",
                  "stats": {
                    "unique_count": 5,
                    "nan_count": 0,
                    "min": "1.335",
                    "max": "2.594",
                    "histogram": [
                      {
                        "bin_start": 1.335,
                        "bin_end": 1.4608999999999999,
                        "count": 2
                      },
                      {
                        "bin_start": 1.4608999999999999,
                        "bin_end": 1.5868,
                        "count": 1
                      },
                      {
                        "bin_start": 1.5868,
                        "bin_end": 1.7127,
                        "count": 0
                      },
                      {
                        "bin_start": 1.7127,
                        "bin_end": 1.8386,
                        "count": 0
                      },
                      {
                        "bin_start": 1.8386,
                        "bin_end": 1.9645,
                        "count": 0
                      },
                      {
                        "bin_start": 1.9645,
                        "bin_end": 2.0904,
                        "count": 0
                      },
                      {
                        "bin_start": 2.0904,
                        "bin_end": 2.2163,
                        "count": 1
                      },
                      {
                        "bin_start": 2.2163,
                        "bin_end": 2.3422,
                        "count": 0
                      },
                      {
                        "bin_start": 2.3422,
                        "bin_end": 2.4680999999999997,
                        "count": 0
                      },
                      {
                        "bin_start": 2.4680999999999997,
                        "bin_end": 2.594,
                        "count": 1
                      }
                    ]
                  }
                },
                {
                  "name": "14",
                  "dtype": "float64",
                  "stats": {
                    "unique_count": 5,
                    "nan_count": 0,
                    "min": "816.0",
                    "max": "1887.0",
                    "histogram": [
                      {
                        "bin_start": 816,
                        "bin_end": 923.1,
                        "count": 1
                      },
                      {
                        "bin_start": 923.1,
                        "bin_end": 1030.2,
                        "count": 0
                      },
                      {
                        "bin_start": 1030.2,
                        "bin_end": 1137.3,
                        "count": 0
                      },
                      {
                        "bin_start": 1137.3,
                        "bin_end": 1244.4,
                        "count": 2
                      },
                      {
                        "bin_start": 1244.4,
                        "bin_end": 1351.5,
                        "count": 1
                      },
                      {
                        "bin_start": 1351.5,
                        "bin_end": 1458.6,
                        "count": 0
                      },
                      {
                        "bin_start": 1458.6,
                        "bin_end": 1565.6999999999998,
                        "count": 0
                      },
                      {
                        "bin_start": 1565.6999999999998,
                        "bin_end": 1672.8,
                        "count": 0
                      },
                      {
                        "bin_start": 1672.8,
                        "bin_end": 1779.9,
                        "count": 0
                      },
                      {
                        "bin_start": 1779.9,
                        "bin_end": 1887,
                        "count": 1
                      }
                    ]
                  }
                },
                {
                  "name": "15",
                  "dtype": "float64",
                  "stats": {
                    "unique_count": 4,
                    "nan_count": 0,
                    "min": "20.0",
                    "max": "42.0",
                    "histogram": [
                      {
                        "bin_start": 20,
                        "bin_end": 22.2,
                        "count": 2
                      },
                      {
                        "bin_start": 22.2,
                        "bin_end": 24.4,
                        "count": 0
                      },
                      {
                        "bin_start": 24.4,
                        "bin_end": 26.6,
                        "count": 0
                      },
                      {
                        "bin_start": 26.6,
                        "bin_end": 28.8,
                        "count": 1
                      },
                      {
                        "bin_start": 28.8,
                        "bin_end": 31,
                        "count": 0
                      },
                      {
                        "bin_start": 31,
                        "bin_end": 33.2,
                        "count": 1
                      },
                      {
                        "bin_start": 33.2,
                        "bin_end": 35.400000000000006,
                        "count": 0
                      },
                      {
                        "bin_start": 35.400000000000006,
                        "bin_end": 37.6,
                        "count": 0
                      },
                      {
                        "bin_start": 37.6,
                        "bin_end": 39.8,
                        "count": 0
                      },
                      {
                        "bin_start": 39.8,
                        "bin_end": 42,
                        "count": 1
                      }
                    ]
                  }
                },
                {
                  "name": "16",
                  "dtype": "float64",
                  "stats": {
                    "unique_count": 4,
                    "nan_count": 0,
                    "min": "1.625",
                    "max": "3.714",
                    "histogram": [
                      {
                        "bin_start": 1.625,
                        "bin_end": 1.8339,
                        "count": 1
                      },
                      {
                        "bin_start": 1.8339,
                        "bin_end": 2.0428,
                        "count": 0
                      },
                      {
                        "bin_start": 2.0428,
                        "bin_end": 2.2517,
                        "count": 0
                      },
                      {
                        "bin_start": 2.2517,
                        "bin_end": 2.4606,
                        "count": 2
                      },
                      {
                        "bin_start": 2.4606,
                        "bin_end": 2.6695,
                        "count": 1
                      },
                      {
                        "bin_start": 2.6695,
                        "bin_end": 2.8784,
                        "count": 0
                      },
                      {
                        "bin_start": 2.8784,
                        "bin_end": 3.0873,
                        "count": 0
                      },
                      {
                        "bin_start": 3.0873,
                        "bin_end": 3.2962,
                        "count": 0
                      },
                      {
                        "bin_start": 3.2962,
                        "bin_end": 3.5051,
                        "count": 0
                      },
                      {
                        "bin_start": 3.5051,
                        "bin_end": 3.714,
                        "count": 1
                      }
                    ]
                  }
                },
                {
                  "name": "17",
                  "dtype": "float64",
                  "stats": {
                    "unique_count": 4,
                    "nan_count": 0,
                    "min": "0.0",
                    "max": "0.76",
                    "histogram": [
                      {
                        "bin_start": 0,
                        "bin_end": 0.076,
                        "count": 3
                      },
                      {
                        "bin_start": 0.076,
                        "bin_end": 0.152,
                        "count": 1
                      },
                      {
                        "bin_start": 0.152,
                        "bin_end": 0.22799999999999998,
                        "count": 0
                      },
                      {
                        "bin_start": 0.22799999999999998,
                        "bin_end": 0.304,
                        "count": 0
                      },
                      {
                        "bin_start": 0.304,
                        "bin_end": 0.38,
                        "count": 0
                      },
                      {
                        "bin_start": 0.38,
                        "bin_end": 0.45599999999999996,
                        "count": 0
                      },
                      {
                        "bin_start": 0.45599999999999996,
                        "bin_end": 0.532,
                        "count": 0
                      },
                      {
                        "bin_start": 0.532,
                        "bin_end": 0.608,
                        "count": 0
                      },
                      {
                        "bin_start": 0.608,
                        "bin_end": 0.6839999999999999,
                        "count": 0
                      },
                      {
                        "bin_start": 0.6839999999999999,
                        "bin_end": 0.76,
                        "count": 1
                      }
                    ]
                  }
                },
                {
                  "name": "18",
                  "dtype": "float64",
                  "stats": {
                    "unique_count": 2,
                    "nan_count": 0,
                    "min": "0.0",
                    "max": "1.0",
                    "histogram": [
                      {
                        "bin_start": 0,
                        "bin_end": 0.1,
                        "count": 2
                      },
                      {
                        "bin_start": 0.1,
                        "bin_end": 0.2,
                        "count": 0
                      },
                      {
                        "bin_start": 0.2,
                        "bin_end": 0.30000000000000004,
                        "count": 0
                      },
                      {
                        "bin_start": 0.30000000000000004,
                        "bin_end": 0.4,
                        "count": 0
                      },
                      {
                        "bin_start": 0.4,
                        "bin_end": 0.5,
                        "count": 0
                      },
                      {
                        "bin_start": 0.5,
                        "bin_end": 0.6000000000000001,
                        "count": 0
                      },
                      {
                        "bin_start": 0.6000000000000001,
                        "bin_end": 0.7000000000000001,
                        "count": 0
                      },
                      {
                        "bin_start": 0.7000000000000001,
                        "bin_end": 0.8,
                        "count": 0
                      },
                      {
                        "bin_start": 0.8,
                        "bin_end": 0.9,
                        "count": 0
                      },
                      {
                        "bin_start": 0.9,
                        "bin_end": 1,
                        "count": 3
                      }
                    ]
                  }
                },
                {
                  "name": "_deepnote_index_column",
                  "dtype": "int64"
                }
              ],
              "rows": [
                {
                  "1": 45,
                  "2": 3,
                  "6": 0,
                  "7": 39,
                  "8": 5,
                  "9": 1,
                  "10": 3,
                  "11": 12691,
                  "12": 777,
                  "13": 1.335,
                  "14": 1144,
                  "15": 42,
                  "16": 1.625,
                  "17": 0.061,
                  "18": 1,
                  "_deepnote_index_column": 0
                },
                {
                  "1": 49,
                  "2": 5,
                  "6": 0,
                  "7": 44,
                  "8": 6,
                  "9": 1,
                  "10": 2,
                  "11": 8256,
                  "12": 864,
                  "13": 1.541,
                  "14": 1291,
                  "15": 33,
                  "16": 3.714,
                  "17": 0.105,
                  "18": 0,
                  "_deepnote_index_column": 1
                },
                {
                  "1": 51,
                  "2": 3,
                  "6": 0,
                  "7": 36,
                  "8": 4,
                  "9": 1,
                  "10": 0,
                  "11": 3418,
                  "12": 0,
                  "13": 2.594,
                  "14": 1887,
                  "15": 20,
                  "16": 2.333,
                  "17": 0,
                  "18": 1,
                  "_deepnote_index_column": 2
                },
                {
                  "1": 40,
                  "2": 4,
                  "6": 0,
                  "7": 34,
                  "8": 3,
                  "9": 4,
                  "10": 1,
                  "11": 3313,
                  "12": 2517,
                  "13": 1.405,
                  "14": 1171,
                  "15": 20,
                  "16": 2.333,
                  "17": 0.76,
                  "18": 0,
                  "_deepnote_index_column": 3
                },
                {
                  "1": 40,
                  "2": 3,
                  "6": 0,
                  "7": 21,
                  "8": 5,
                  "9": 1,
                  "10": 0,
                  "11": 4716,
                  "12": 0,
                  "13": 2.175,
                  "14": 816,
                  "15": 28,
                  "16": 2.5,
                  "17": 0,
                  "18": 1,
                  "_deepnote_index_column": 4
                }
              ]
            },
            "text/plain": "      1    2    6     7    8    9   10       11      12     13      14    15  \\\n0  45.0  3.0  0.0  39.0  5.0  1.0  3.0  12691.0   777.0  1.335  1144.0  42.0   \n1  49.0  5.0  0.0  44.0  6.0  1.0  2.0   8256.0   864.0  1.541  1291.0  33.0   \n2  51.0  3.0  0.0  36.0  4.0  1.0  0.0   3418.0     0.0  2.594  1887.0  20.0   \n3  40.0  4.0  0.0  34.0  3.0  4.0  1.0   3313.0  2517.0  1.405  1171.0  20.0   \n4  40.0  3.0  0.0  21.0  5.0  1.0  0.0   4716.0     0.0  2.175   816.0  28.0   \n\n      16     17   18  \n0  1.625  0.061  1.0  \n1  3.714  0.105  0.0  \n2  2.333  0.000  1.0  \n3  2.333  0.760  0.0  \n4  2.500  0.000  1.0  ",
            "text/html": "<div>\n<style scoped>\n    .dataframe tbody tr th:only-of-type {\n        vertical-align: middle;\n    }\n\n    .dataframe tbody tr th {\n        vertical-align: top;\n    }\n\n    .dataframe thead th {\n        text-align: right;\n    }\n</style>\n<table border=\"1\" class=\"dataframe\">\n  <thead>\n    <tr style=\"text-align: right;\">\n      <th></th>\n      <th>1</th>\n      <th>2</th>\n      <th>6</th>\n      <th>7</th>\n      <th>8</th>\n      <th>9</th>\n      <th>10</th>\n      <th>11</th>\n      <th>12</th>\n      <th>13</th>\n      <th>14</th>\n      <th>15</th>\n      <th>16</th>\n      <th>17</th>\n      <th>18</th>\n    </tr>\n  </thead>\n  <tbody>\n    <tr>\n      <th>0</th>\n      <td>45.0</td>\n      <td>3.0</td>\n      <td>0.0</td>\n      <td>39.0</td>\n      <td>5.0</td>\n      <td>1.0</td>\n      <td>3.0</td>\n      <td>12691.0</td>\n      <td>777.0</td>\n      <td>1.335</td>\n      <td>1144.0</td>\n      <td>42.0</td>\n      <td>1.625</td>\n      <td>0.061</td>\n      <td>1.0</td>\n    </tr>\n    <tr>\n      <th>1</th>\n      <td>49.0</td>\n      <td>5.0</td>\n      <td>0.0</td>\n      <td>44.0</td>\n      <td>6.0</td>\n      <td>1.0</td>\n      <td>2.0</td>\n      <td>8256.0</td>\n      <td>864.0</td>\n      <td>1.541</td>\n      <td>1291.0</td>\n      <td>33.0</td>\n      <td>3.714</td>\n      <td>0.105</td>\n      <td>0.0</td>\n    </tr>\n    <tr>\n      <th>2</th>\n      <td>51.0</td>\n      <td>3.0</td>\n      <td>0.0</td>\n      <td>36.0</td>\n      <td>4.0</td>\n      <td>1.0</td>\n      <td>0.0</td>\n      <td>3418.0</td>\n      <td>0.0</td>\n      <td>2.594</td>\n      <td>1887.0</td>\n      <td>20.0</td>\n      <td>2.333</td>\n      <td>0.000</td>\n      <td>1.0</td>\n    </tr>\n    <tr>\n      <th>3</th>\n      <td>40.0</td>\n      <td>4.0</td>\n      <td>0.0</td>\n      <td>34.0</td>\n      <td>3.0</td>\n      <td>4.0</td>\n      <td>1.0</td>\n      <td>3313.0</td>\n      <td>2517.0</td>\n      <td>1.405</td>\n      <td>1171.0</td>\n      <td>20.0</td>\n      <td>2.333</td>\n      <td>0.760</td>\n      <td>0.0</td>\n    </tr>\n    <tr>\n      <th>4</th>\n      <td>40.0</td>\n      <td>3.0</td>\n      <td>0.0</td>\n      <td>21.0</td>\n      <td>5.0</td>\n      <td>1.0</td>\n      <td>0.0</td>\n      <td>4716.0</td>\n      <td>0.0</td>\n      <td>2.175</td>\n      <td>816.0</td>\n      <td>28.0</td>\n      <td>2.500</td>\n      <td>0.000</td>\n      <td>1.0</td>\n    </tr>\n  </tbody>\n</table>\n</div>"
          },
          "metadata": {}
        }
      ],
      "outputs_reference": null,
      "execution_count": 22,
      "block_group": "7bc9f7e5a1834cc8bce5860b20f73611"
    },
    {
      "cell_type": "code",
      "source": "X_train, X_test, y_train, y_test = train_test_split(X, y, test_size=0.2, random_state=42)\n\n# Fit and transform the training data\nX_train_scaled = numeric_pipeline.fit_transform(X_train[[1,2,6,7,8,9,10,11,12,13,14,15,16,17]])\n\n# Transform the testing data\nX_test_scaled = numeric_pipeline.transform(X_test[[1,2,6,7,8,9,10,11,12,13,14,15,16,17]])\n\n# Replace the original numeric columns in X_train and X_test with the scaled ones\nX_train[[1,2,6,7,8,9,10,11,12,13,14,15,16,17]] = X_train_scaled\nX_test[[1,2,6,7,8,9,10,11,12,13,14,15,16,17]] = X_test_scaled",
      "metadata": {
        "source_hash": "e0e80b35",
        "execution_start": 1710498540175,
        "execution_millis": 428,
        "deepnote_to_be_reexecuted": false,
        "cell_id": "68a75c546ac8429a821dab519d9d648c",
        "deepnote_cell_type": "code"
      },
      "outputs": [],
      "outputs_reference": null,
      "execution_count": 23,
      "block_group": "d691053ac41a46a1ab2e0992b9728291"
    },
    {
      "cell_type": "code",
      "source": "classifiers = {\n    \"KNN\": KNeighborsClassifier(n_neighbors=7),\n    \"SVM\": SVC(kernel='rbf', C=1, random_state=42),\n    \"Logistic Regression\": LogisticRegression(random_state=42, max_iter=100),\n    \"Random Forest\": RandomForestClassifier(n_estimators=100, random_state=42),\n    \"XGBoost\": xgb.XGBClassifier(use_label_encoder=False, eval_metric=\"logloss\", random_state=42),\n}",
      "metadata": {
        "source_hash": "f4631d5e",
        "execution_start": 1710498540186,
        "execution_millis": 418,
        "deepnote_to_be_reexecuted": false,
        "cell_id": "9729578999804450b91c676466cf8347",
        "deepnote_cell_type": "code"
      },
      "outputs": [],
      "outputs_reference": null,
      "execution_count": 24,
      "block_group": "dd43894645424491b75b9308597f5fb5"
    },
    {
      "cell_type": "code",
      "source": "y.info()",
      "metadata": {
        "source_hash": "2913bdf4",
        "execution_start": 1710498540190,
        "execution_millis": 414,
        "deepnote_to_be_reexecuted": false,
        "cell_id": "d59a7d1554ae45d39e6f63ef8c01f5fe",
        "deepnote_cell_type": "code"
      },
      "outputs": [
        {
          "name": "stdout",
          "text": "<class 'pandas.core.series.Series'>\nRangeIndex: 10127 entries, 0 to 10126\nSeries name: 0\nNon-Null Count  Dtype  \n--------------  -----  \n10127 non-null  float64\ndtypes: float64(1)\nmemory usage: 79.2 KB\n",
          "output_type": "stream"
        }
      ],
      "outputs_reference": null,
      "execution_count": 25,
      "block_group": "ce72c700da9c44088326a371f0511d06"
    },
    {
      "cell_type": "code",
      "source": "# results = []\n\n# for name, clf in classifiers.items():\n#     clf.fit(X_train, y_train)\n#     y_pred = clf.predict(X_test)\n#     cm = confusion_matrix(y_test, y_pred)\n\n#     # Calculate TP, TN, FP, and FN\n#     tn, fp, fn, tp = cm.ravel()\n\n#     # Calculate precision and recall\n#     precision = precision_score(y_test, y_pred)\n#     recall = recall_score(y_test, y_pred)\n#     f1_score = fbeta_score(y_test, y_pred, beta=1)\n#     f2_score = fbeta_score(y_test, y_pred, beta=2)\n\n#     # Format results and append to the list\n#     results.append([name, precision, recall, f1_score, f2_score, tp, tn, fp, fn])\n\n# # Create a table using tabulate\n# headers = [\"Classifier\", \"Precision\", \"Recall\", \"F1 Score\", \"F2 Score\", \"TP\", \"TN\", \"FP\", \"FN\"]\n# table = tabulate(results, headers=headers)\n\n# # Print the table\n# print(table)\n\ntrain_result(X_train, X_test, y_train, y_test)",
      "metadata": {
        "source_hash": "4b7e8f1e",
        "execution_start": 1710498540204,
        "execution_millis": 2225,
        "deepnote_to_be_reexecuted": false,
        "cell_id": "14588df5485344a588f8f5ca22f3bd87",
        "deepnote_cell_type": "code"
      },
      "outputs": [
        {
          "name": "stdout",
          "text": "Classifier             Precision    Recall    F1 Score    F2 Score    TP    TN    FP    FN    Business Value Score\n-------------------  -----------  --------  ----------  ----------  ----  ----  ----  ----  ----------------------\nKNN                     0.823789  0.571865    0.67509     0.609121   187  1659    40   140                   49400\nSVM                     0.87747   0.678899    0.765517    0.711083   222  1668    31   105                   53350\nLogistic Regression     0.777778  0.535168    0.634058    0.570776   175  1649    50   152                   47700\nRandom Forest           0.932384  0.801223    0.861842    0.824418   262  1680    19    65                   57950\nXGBoost                 0.901274  0.865443    0.882995    0.87238    283  1668    31    44                   59450\n",
          "output_type": "stream"
        }
      ],
      "outputs_reference": null,
      "execution_count": 26,
      "block_group": "c699816ff25f462ca4952af91a8c3593"
    },
    {
      "cell_type": "markdown",
      "source": "The result is both surprising and not surprising, the imputed data perform worse than the baseline. This might be caused by overfitting.",
      "metadata": {
        "formattedRanges": [],
        "cell_id": "a0688ad0a92f4a9f81b066387e6c005b",
        "deepnote_cell_type": "text-cell-p"
      },
      "block_group": "5700e4c8046e48578b6add2930daebdd"
    },
    {
      "cell_type": "markdown",
      "source": "# Sampling",
      "metadata": {
        "formattedRanges": [],
        "cell_id": "6395516b789849b8a4c4deb4392fd387",
        "deepnote_cell_type": "text-cell-h1"
      },
      "block_group": "46d2ea42c19b40d494a53e9f9c757826"
    },
    {
      "cell_type": "markdown",
      "source": "Addressing the data imbalance through sampling, I have formulated a few hypotheses. Undersampling is anticipated to yield higher recall but lower precision, given the reduced data for non-churn customers. On the other hand, oversampling is expected to have a minimal impact on precision, with a potential increase in recall, but there is a risk of overfitting.",
      "metadata": {
        "formattedRanges": [],
        "cell_id": "f426f82e56a247bdb9313b0994fe3c78",
        "deepnote_cell_type": "text-cell-p"
      },
      "block_group": "bc513700902841c799a70523c8f51dc1"
    },
    {
      "cell_type": "markdown",
      "source": "A well-balanced approach involves employing oversampled data for general model training. However, when the specific goal is to predict churn customers, a focused strategy would be to use an undersampled model.\"",
      "metadata": {
        "formattedRanges": [],
        "cell_id": "14ce580a0a164f8498f4374b152fee09",
        "deepnote_cell_type": "text-cell-p"
      },
      "block_group": "9c4ba494784b42dcb9eb15aa0d834867"
    },
    {
      "cell_type": "markdown",
      "source": "",
      "metadata": {
        "formattedRanges": [],
        "cell_id": "486ae260de754a6c895cbc6031967857",
        "deepnote_cell_type": "text-cell-p"
      },
      "block_group": "6b9fc1590e8144b3a56edefaeefd351e"
    },
    {
      "cell_type": "code",
      "source": "X = df.drop(columns='Attrition_Flag')\ny = df['Attrition_Flag']",
      "metadata": {
        "source_hash": "739e184c",
        "execution_start": 1710498542434,
        "execution_millis": 88,
        "deepnote_to_be_reexecuted": false,
        "cell_id": "06cf9132e0aa4546af67a121842a22b7",
        "deepnote_cell_type": "code"
      },
      "outputs": [],
      "outputs_reference": null,
      "execution_count": 27,
      "block_group": "5a9e0d7c97b54342860b26b297c53f4a"
    },
    {
      "cell_type": "code",
      "source": "numeric_columns = [\n    \"Customer_Age\",\n    \"Dependent_count\",\n    \"Months_on_book\",\n    \"Total_Relationship_Count\",\n    \"Months_Inactive_12_mon\",\n    \"Contacts_Count_12_mon\",\n    \"Credit_Limit\",\n    \"Total_Revolving_Bal\",\n    \"Total_Amt_Chng_Q4_Q1\",\n    \"Total_Trans_Amt\",\n    \"Total_Trans_Ct\",\n    \"Total_Ct_Chng_Q4_Q1\",\n    \"Avg_Utilization_Ratio\"\n]\n\n# Standardize numeric columns\nscaler = StandardScaler()\nX[numeric_columns] = scaler.fit_transform(X[numeric_columns])",
      "metadata": {
        "source_hash": "7df0b1e1",
        "execution_start": 1710498542438,
        "execution_millis": 84,
        "deepnote_to_be_reexecuted": false,
        "cell_id": "b407da85ee734321aa06c979cd5c3288",
        "deepnote_cell_type": "code"
      },
      "outputs": [],
      "outputs_reference": null,
      "execution_count": 28,
      "block_group": "d4ec7015a0cd461faaa49d73d40b51c1"
    },
    {
      "cell_type": "code",
      "source": "# X_scaled = X.copy()",
      "metadata": {
        "source_hash": "93e127b2",
        "execution_start": 1710498542501,
        "execution_millis": 42,
        "deepnote_to_be_reexecuted": false,
        "cell_id": "a37d2e05469b4a4dbef0844f40d84e36",
        "deepnote_cell_type": "code"
      },
      "outputs": [],
      "outputs_reference": null,
      "execution_count": 29,
      "block_group": "b94db606f3a747779460ad9142740429"
    },
    {
      "cell_type": "code",
      "source": "X_train, X_test, y_train, y_test = train_test_split(X, y, test_size=0.2, random_state=42)\n\n# Fit and transform the training data\nX_train_scaled = numeric_pipeline.fit_transform(X_train[numeric_columns])\n\n# Transform the testing data\nX_test_scaled = numeric_pipeline.transform(X_test[numeric_columns])\n\n# Replace the original numeric columns in X_train and X_test with the scaled ones\nX_train[numeric_columns] = X_train_scaled\nX_test[numeric_columns] = X_test_scaled\n\noversampler = RandomOverSampler(random_state=42)\nX_train_oversampled, y_train_oversampled = oversampler.fit_resample(X_train, y_train)\n\nundersampler = RandomUnderSampler(random_state=42)\nX_train_undersampled, y_train_undersampled = undersampler.fit_resample(X_train, y_train)",
      "metadata": {
        "source_hash": "48501524",
        "execution_start": 1710498542502,
        "execution_millis": 41,
        "deepnote_to_be_reexecuted": false,
        "cell_id": "4aa82f8e77dc45a08eff21a9237da2d3",
        "deepnote_cell_type": "code"
      },
      "outputs": [],
      "outputs_reference": null,
      "execution_count": 30,
      "block_group": "4697746f79614b429d04cb86a7d41a40"
    },
    {
      "cell_type": "code",
      "source": "train_result(X_train_undersampled, X_test, y_train_undersampled, y_test)",
      "metadata": {
        "source_hash": "9372f96e",
        "execution_start": 1710498542556,
        "execution_millis": 973,
        "deepnote_to_be_reexecuted": false,
        "cell_id": "88a740b8e2bb49fbaf890462c3272e72",
        "deepnote_cell_type": "code"
      },
      "outputs": [
        {
          "name": "stdout",
          "text": "Classifier             Precision    Recall    F1 Score    F2 Score    TP    TN    FP    FN    Business Value Score\n-------------------  -----------  --------  ----------  ----------  ----  ----  ----  ----  ----------------------\nKNN                     0.508197  0.853211    0.636986    0.751212   279  1429   270    48                   47100\nSVM                     0.598765  0.889908    0.715867    0.811037   291  1504   195    36                   52050\nLogistic Regression     0.513109  0.83792     0.636469    0.743757   274  1439   260    53                   47100\nRandom Forest           0.753027  0.95107     0.840541    0.903544   311  1597   102    16                   58700\nXGBoost                 0.7825    0.957187    0.861073    0.916276   313  1612    87    14                   59650\n",
          "output_type": "stream"
        }
      ],
      "outputs_reference": null,
      "execution_count": 31,
      "block_group": "3ca2611bc56b4547932e1033e6faf44e"
    },
    {
      "cell_type": "code",
      "source": "train_result(X_train_oversampled, X_test, y_train_oversampled, y_test)",
      "metadata": {
        "source_hash": "27d7e963",
        "execution_start": 1710498543533,
        "execution_millis": 5157,
        "deepnote_to_be_reexecuted": false,
        "cell_id": "9c0ed15e90eb4991a6979cdf6bcd897e",
        "deepnote_cell_type": "code"
      },
      "outputs": [
        {
          "name": "stdout",
          "text": "Classifier             Precision    Recall    F1 Score    F2 Score    TP    TN    FP    FN    Business Value Score\n-------------------  -----------  --------  ----------  ----------  ----  ----  ----  ----  ----------------------\nKNN                     0.528487  0.82263     0.643541    0.740231   269  1459   240    58                   47600\nSVM                     0.647577  0.899083    0.752881    0.834279   294  1539   160    33                   54100\nLogistic Regression     0.526012  0.834862    0.64539     0.747126   273  1453   246    54                   47700\nRandom Forest           0.9       0.853211    0.875981    0.862176   279  1668    31    48                   59050\nXGBoost                 0.880117  0.920489    0.899851    0.912121   301  1658    41    26                   60750\n",
          "output_type": "stream"
        }
      ],
      "outputs_reference": null,
      "execution_count": 32,
      "block_group": "c500e274efa04b2e9dfb0de22dd89430"
    },
    {
      "cell_type": "markdown",
      "source": "The hypothesis has been validated through the model evaluations. The undersampled XGBoost model exhibits a notable 5% increase in recall at the cost of a 22% decrease in precision, representing a trade-off. Conversely, the oversampled XGBoost model strikes a more balanced approach, with a 2% decrease in precision and a 2% increase in recall. Notably, the undersampled model outperforms the oversampled one in terms of F2 score, with 91.6% compared to 91.2%. This emphasizes the significance of F2 score, which prioritizes minimizing False Negatives.",
      "metadata": {
        "formattedRanges": [],
        "cell_id": "cd10325032b9415185dec7056f0e34d1",
        "deepnote_cell_type": "text-cell-p"
      },
      "block_group": "1e733364a7d646459ebbbcfd2bce6204"
    },
    {
      "cell_type": "code",
      "source": "smote = SMOTE(random_state=42)\nX_train_oversampled, y_train_oversampled = smote.fit_resample(X_train, y_train)\n\ntomek_links = TomekLinks()\nX_train_undersampled, y_train_undersampled = tomek_links.fit_resample(X_train, y_train)",
      "metadata": {
        "source_hash": "6dcccf1d",
        "execution_start": 1710498548706,
        "execution_millis": 251,
        "deepnote_to_be_reexecuted": false,
        "cell_id": "e23dc965f55d4433bc4bf98851f9cf73",
        "deepnote_cell_type": "code"
      },
      "outputs": [],
      "outputs_reference": null,
      "execution_count": 33,
      "block_group": "66849d84439842f2836996dabaa89e44"
    },
    {
      "cell_type": "code",
      "source": "train_result(X_train_undersampled, X_test, y_train_undersampled, y_test)",
      "metadata": {
        "source_hash": "9372f96e",
        "execution_start": 1710498548960,
        "execution_millis": 2306,
        "deepnote_to_be_reexecuted": false,
        "cell_id": "f18cf11ce8ae4283a287f8da0f8244ec",
        "deepnote_cell_type": "code"
      },
      "outputs": [
        {
          "name": "stdout",
          "text": "Classifier             Precision    Recall    F1 Score    F2 Score    TP    TN    FP    FN    Business Value Score\n-------------------  -----------  --------  ----------  ----------  ----  ----  ----  ----  ----------------------\nKNN                     0.846154  0.538226    0.657944    0.580475   176  1667    32   151                   48700\nSVM                     0.862205  0.669725    0.753873    0.701024   219  1664    35   108                   52850\nLogistic Regression     0.765182  0.577982    0.658537    0.607717   189  1641    58   138                   48700\nRandom Forest           0.90378   0.804281    0.851133    0.822389   263  1671    28    64                   57600\nXGBoost                 0.878419  0.883792    0.881098    0.882712   289  1659    40    38                   59600\n",
          "output_type": "stream"
        }
      ],
      "outputs_reference": null,
      "execution_count": 34,
      "block_group": "00d6362ed0c243b1ae5630641e2fa3e4"
    },
    {
      "cell_type": "code",
      "source": "train_result(X_train_oversampled, X_test, y_train_oversampled, y_test)",
      "metadata": {
        "source_hash": "27d7e963",
        "execution_start": 1710498551269,
        "execution_millis": 5159,
        "deepnote_to_be_reexecuted": false,
        "cell_id": "00c6bf18875946bb9ffcd27fc0bc9fd9",
        "deepnote_cell_type": "code"
      },
      "outputs": [
        {
          "name": "stdout",
          "text": "Classifier             Precision    Recall    F1 Score    F2 Score    TP    TN    FP    FN    Business Value Score\n-------------------  -----------  --------  ----------  ----------  ----  ----  ----  ----  ----------------------\nKNN                     0.537549  0.831804    0.653061    0.749724   272  1465   234    55                   48200\nSVM                     0.689655  0.856269    0.763984    0.816803   280  1573   126    47                   54400\nLogistic Regression     0.543158  0.788991    0.643392    0.7235     258  1482   217    69                   47650\nRandom Forest           0.874618  0.874618    0.874618    0.874618   286  1658    41    41                   59250\nXGBoost                 0.881818  0.889908    0.885845    0.888278   291  1660    39    36                   59850\n",
          "output_type": "stream"
        }
      ],
      "outputs_reference": null,
      "execution_count": 35,
      "block_group": "7c80137cbe174455ad884ca013239d5f"
    },
    {
      "cell_type": "markdown",
      "source": "# Feature Selection",
      "metadata": {
        "formattedRanges": [],
        "cell_id": "994ebe0dd7d24db9850c1cfcb0fe908a",
        "deepnote_cell_type": "text-cell-h1"
      },
      "block_group": "b0dd6137e2c14971b561d6f29d00a004"
    },
    {
      "cell_type": "code",
      "source": "X.info()",
      "metadata": {
        "source_hash": "e52f4e4c",
        "execution_start": 1710498556431,
        "execution_millis": 234,
        "deepnote_to_be_reexecuted": false,
        "cell_id": "a6235e92e3a2475196f3076447bc18c4",
        "deepnote_cell_type": "code"
      },
      "outputs": [
        {
          "name": "stdout",
          "text": "<class 'pandas.core.frame.DataFrame'>\nRangeIndex: 10127 entries, 0 to 10126\nData columns (total 20 columns):\n #   Column                    Non-Null Count  Dtype  \n---  ------                    --------------  -----  \n 0   Customer_Age              10127 non-null  float64\n 1   Dependent_count           10127 non-null  float64\n 2   Education_Level           10127 non-null  int64  \n 3   Income_Category           10127 non-null  int64  \n 4   Card_Category             10127 non-null  int64  \n 5   Months_on_book            10127 non-null  float64\n 6   Total_Relationship_Count  10127 non-null  float64\n 7   Months_Inactive_12_mon    10127 non-null  float64\n 8   Contacts_Count_12_mon     10127 non-null  float64\n 9   Credit_Limit              10127 non-null  float64\n 10  Total_Revolving_Bal       10127 non-null  float64\n 11  Total_Amt_Chng_Q4_Q1      10127 non-null  float64\n 12  Total_Trans_Amt           10127 non-null  float64\n 13  Total_Trans_Ct            10127 non-null  float64\n 14  Total_Ct_Chng_Q4_Q1       10127 non-null  float64\n 15  Avg_Utilization_Ratio     10127 non-null  float64\n 16  Gender_M                  10127 non-null  bool   \n 17  Marital_Status_Married    10127 non-null  bool   \n 18  Marital_Status_Single     10127 non-null  bool   \n 19  Marital_Status_Unknown    10127 non-null  bool   \ndtypes: bool(4), float64(13), int64(3)\nmemory usage: 1.3 MB\n",
          "output_type": "stream"
        }
      ],
      "outputs_reference": null,
      "execution_count": 36,
      "block_group": "4285916b2b8046f9b03f33fee34dcbf5"
    },
    {
      "cell_type": "code",
      "source": "plot_importance(xgb.XGBClassifier(use_label_encoder=False, eval_metric=\"logloss\", random_state=42).fit(X_train, y_train))\nplt.show()",
      "metadata": {
        "source_hash": "1439e5ef",
        "execution_start": 1710498556439,
        "execution_millis": 559,
        "deepnote_to_be_reexecuted": false,
        "cell_id": "20f2c03b7c864c1da206855e486e8139",
        "deepnote_cell_type": "code"
      },
      "outputs": [
        {
          "data": {
            "text/plain": "<Figure size 640x480 with 1 Axes>",
            "image/png": "[encoded data removed]"
          },
          "metadata": {
            "image/png": {
              "width": 720,
              "height": 455
            }
          },
          "output_type": "display_data"
        }
      ],
      "outputs_reference": null,
      "execution_count": 37,
      "block_group": "4e04d8a7fb8641ee9a76150033aa01df"
    },
    {
      "cell_type": "markdown",
      "source": "I use 15 most important features according to XGBoost ",
      "metadata": {
        "formattedRanges": [],
        "cell_id": "27098d7a7a8947e0834fbe512d41e1fb",
        "deepnote_cell_type": "text-cell-p"
      },
      "block_group": "ce8dfcc4702f4b478d2324f01b80c814"
    },
    {
      "cell_type": "code",
      "source": "selected_features = [\n    \"Customer_Age\",\n    \"Dependent_count\",\n    \"Months_on_book\",\n    \"Total_Relationship_Count\",\n    \"Months_Inactive_12_mon\",\n    \"Contacts_Count_12_mon\",\n    \"Credit_Limit\",\n    \"Total_Revolving_Bal\",\n    \"Total_Amt_Chng_Q4_Q1\",\n    \"Total_Trans_Amt\",\n    \"Total_Trans_Ct\",\n    \"Total_Ct_Chng_Q4_Q1\",\n    \"Avg_Utilization_Ratio\",\n    'Income_Category',\n    'Education_Level'\n]",
      "metadata": {
        "source_hash": "f3fb65",
        "execution_start": 1710498557001,
        "execution_millis": 145,
        "deepnote_to_be_reexecuted": false,
        "cell_id": "d6173312b8b0403c8f2b3d196ec93468",
        "deepnote_cell_type": "code"
      },
      "outputs": [],
      "outputs_reference": null,
      "execution_count": 38,
      "block_group": "b99c838b066749cd9ab3c60e87dfc5f7"
    },
    {
      "cell_type": "code",
      "source": "X_train, X_test, y_train, y_test = train_test_split(X[selected_features], y, test_size=0.2, random_state=42)\n\n# Fit and transform the training data\nX_train_scaled = numeric_pipeline.fit_transform(X_train[numeric_columns])\n\n# Transform the testing data\nX_test_scaled = numeric_pipeline.transform(X_test[numeric_columns])\n\n# Replace the original numeric columns in X_train and X_test with the scaled ones\nX_train[numeric_columns] = X_train_scaled\nX_test[numeric_columns] = X_test_scaled",
      "metadata": {
        "source_hash": "78f9bfcb",
        "execution_start": 1710498557004,
        "execution_millis": 142,
        "deepnote_to_be_reexecuted": false,
        "cell_id": "1b24496ad7f245ca9d547970ba2d217b",
        "deepnote_cell_type": "code"
      },
      "outputs": [],
      "outputs_reference": null,
      "execution_count": 39,
      "block_group": "2f9111a98ee9408898b35d0e140e5dcc"
    },
    {
      "cell_type": "code",
      "source": "oversampler = RandomOverSampler(random_state=42)\nX_train_oversampled, y_train_oversampled = oversampler.fit_resample(X_train, y_train)\n\nundersampler = RandomUnderSampler(random_state=42)\nX_train_undersampled, y_train_undersampled = undersampler.fit_resample(X_train, y_train)",
      "metadata": {
        "source_hash": "decdc165",
        "execution_start": 1710498557019,
        "execution_millis": 128,
        "deepnote_to_be_reexecuted": false,
        "cell_id": "460697584ac544798424a0917a882f2f",
        "deepnote_cell_type": "code"
      },
      "outputs": [],
      "outputs_reference": null,
      "execution_count": 40,
      "block_group": "4e4c2d6fe9e841768daa76484609025d"
    },
    {
      "cell_type": "code",
      "source": "train_result(X_train_undersampled, X_test, y_train_undersampled, y_test)",
      "metadata": {
        "source_hash": "9372f96e",
        "execution_start": 1710498557036,
        "execution_millis": 929,
        "deepnote_to_be_reexecuted": false,
        "cell_id": "60070c496d7d4b31a4d5cbf5568f33c3",
        "deepnote_cell_type": "code"
      },
      "outputs": [
        {
          "name": "stdout",
          "text": "Classifier             Precision    Recall    F1 Score    F2 Score    TP    TN    FP    FN    Business Value Score\n-------------------  -----------  --------  ----------  ----------  ----  ----  ----  ----  ----------------------\nKNN                     0.501859  0.825688    0.624277    0.731311   270  1431   268    57                   46300\nSVM                     0.588595  0.883792    0.706601    0.803224   289  1497   202    38                   51500\nLogistic Regression     0.517045  0.834862    0.638596    0.743464   273  1444   255    54                   47250\nRandom Forest           0.776382  0.944954    0.852414    0.905627   309  1610    89    18                   59150\nXGBoost                 0.758373  0.969419    0.851007    0.918308   317  1598   101    10                   59350\n",
          "output_type": "stream"
        }
      ],
      "outputs_reference": null,
      "execution_count": 41,
      "block_group": "1a4480d6018b42c5927dc967d8aa5223"
    },
    {
      "cell_type": "code",
      "source": "train_result(X_train_oversampled, X_test, y_train_oversampled, y_test)",
      "metadata": {
        "source_hash": "27d7e963",
        "execution_start": 1710498557973,
        "execution_millis": 5515,
        "deepnote_to_be_reexecuted": false,
        "cell_id": "cec36f8283304ddf923eb95e11950e27",
        "deepnote_cell_type": "code"
      },
      "outputs": [
        {
          "name": "stdout",
          "text": "Classifier             Precision    Recall    F1 Score    F2 Score    TP    TN    FP    FN    Business Value Score\n-------------------  -----------  --------  ----------  ----------  ----  ----  ----  ----  ----------------------\nKNN                     0.525794  0.810398    0.637786    0.731236   265  1460   239    62                   47250\nSVM                     0.657778  0.905199    0.761905    0.841866   296  1545   154    31                   54600\nLogistic Regression     0.511236  0.834862    0.634146    0.741042   273  1438   261    54                   46950\nRandom Forest           0.892508  0.83792     0.864353    0.848297   274  1666    33    53                   58450\nXGBoost                 0.878338  0.905199    0.891566    0.899696   296  1658    41    31                   60250\n",
          "output_type": "stream"
        }
      ],
      "outputs_reference": null,
      "execution_count": 42,
      "block_group": "a89143c7bf8b4880a59011d4ba114bf2"
    },
    {
      "cell_type": "code",
      "source": "smote = SMOTE(random_state=42)\nX_train_oversampled, y_train_oversampled = smote.fit_resample(X_train, y_train)\n\ntomek_links = TomekLinks()\nX_train_undersampled, y_train_undersampled = tomek_links.fit_resample(X_train, y_train)",
      "metadata": {
        "source_hash": "6dcccf1d",
        "execution_start": 1710498563490,
        "execution_millis": 783,
        "deepnote_to_be_reexecuted": false,
        "cell_id": "728dbe105d4245d8a79dec2eb6f2ea74",
        "deepnote_cell_type": "code"
      },
      "outputs": [],
      "outputs_reference": null,
      "execution_count": 43,
      "block_group": "c1ddf8d16205455294162c861fc784a7"
    },
    {
      "cell_type": "code",
      "source": "train_result(X_train_undersampled, X_test, y_train_undersampled, y_test)",
      "metadata": {
        "source_hash": "9372f96e",
        "execution_start": 1710498564277,
        "execution_millis": 2460,
        "deepnote_to_be_reexecuted": false,
        "cell_id": "c08de85434c74acd8dc38c60690f81c7",
        "deepnote_cell_type": "code"
      },
      "outputs": [
        {
          "name": "stdout",
          "text": "Classifier             Precision    Recall    F1 Score    F2 Score    TP    TN    FP    FN    Business Value Score\n-------------------  -----------  --------  ----------  ----------  ----  ----  ----  ----  ----------------------\nKNN                     0.843434  0.510703    0.63619     0.554449   167  1668    31   160                   47850\nSVM                     0.863454  0.657492    0.746528    0.69043    215  1665    34   112                   52500\nLogistic Regression     0.765957  0.550459    0.640569    0.583279   180  1644    55   147                   47950\nRandom Forest           0.916955  0.810398    0.86039     0.829681   265  1675    24    62                   58000\nXGBoost                 0.903427  0.88685     0.895062    0.890117   290  1668    31    37                   60150\n",
          "output_type": "stream"
        }
      ],
      "outputs_reference": null,
      "execution_count": 44,
      "block_group": "4870e3d14eda4ad3bca59199056830c8"
    },
    {
      "cell_type": "code",
      "source": "train_result(X_train_oversampled, X_test, y_train_oversampled, y_test)",
      "metadata": {
        "source_hash": "27d7e963",
        "execution_start": 1710498566742,
        "execution_millis": 5446,
        "deepnote_to_be_reexecuted": false,
        "cell_id": "b2878b34f2b84afbae52c38cdc06f62f",
        "deepnote_cell_type": "code"
      },
      "outputs": [
        {
          "name": "stdout",
          "text": "Classifier             Precision    Recall    F1 Score    F2 Score    TP    TN    FP    FN    Business Value Score\n-------------------  -----------  --------  ----------  ----------  ----  ----  ----  ----  ----------------------\nKNN                     0.532417  0.828746    0.648325    0.745735   271  1461   238    56                   47900\nSVM                     0.665105  0.868502    0.753316    0.818444   284  1556   143    43                   53950\nLogistic Regression     0.525591  0.816514    0.639521    0.735132   267  1458   241    60                   47350\nRandom Forest           0.870769  0.865443    0.868098    0.866503   283  1657    42    44                   58900\nXGBoost                 0.891975  0.883792    0.887865    0.885417   289  1664    35    38                   59850\n",
          "output_type": "stream"
        }
      ],
      "outputs_reference": null,
      "execution_count": 45,
      "block_group": "621f43231da748419acd2f1b38676789"
    },
    {
      "cell_type": "markdown",
      "source": "After applying feature selection, the undersampled XGBoost model demonstrates enhanced focus, achieving 75% precision, 95% recall, and an impressive 91.8% F2 score. In contrast, the oversampled model experiences a decline in performance, with an overall 1% decrease across all scores compared to its state before feature selection.",
      "metadata": {
        "formattedRanges": [],
        "cell_id": "5d6df560f42546c59676cafb1f229619",
        "deepnote_cell_type": "text-cell-p"
      },
      "block_group": "463f3a0e1f8944b9be1cf2ad61ea8c6d"
    },
    {
      "cell_type": "markdown",
      "source": "# Hyperparameter tuning",
      "metadata": {
        "formattedRanges": [],
        "cell_id": "5638633d68e14b729bb0d9b00b10243b",
        "deepnote_cell_type": "text-cell-h1"
      },
      "block_group": "e13687f66c634db1a7dcccc48dec5e5f"
    },
    {
      "cell_type": "code",
      "source": "X_train, X_test, y_train, y_test = train_test_split(X, y, test_size=0.2, random_state=42)\n\n# Fit and transform the training data\nX_train_scaled = numeric_pipeline.fit_transform(X_train[numeric_columns])\n\n# Transform the testing data\nX_test_scaled = numeric_pipeline.transform(X_test[numeric_columns])\n\n# Replace the original numeric columns in X_train and X_test with the scaled ones\nX_train[numeric_columns] = X_train_scaled\nX_test[numeric_columns] = X_test_scaled\n\noversampler = RandomOverSampler(random_state=42)\nX_train_oversampled, y_train_oversampled = oversampler.fit_resample(X_train, y_train)",
      "metadata": {
        "source_hash": "2e23957a",
        "execution_start": 1710498572196,
        "execution_millis": 36,
        "deepnote_to_be_reexecuted": false,
        "cell_id": "b0c585d6ac864040a5532ce9f77d509b",
        "deepnote_cell_type": "code"
      },
      "outputs": [],
      "outputs_reference": null,
      "execution_count": 46,
      "block_group": "560ef21bd15643b68aedb6eae9bfea64"
    },
    {
      "cell_type": "code",
      "source": "def calculate_business_value(conf_matrix):\n    TP_value = 200\n    TN_value = 0\n    FP_value = -50\n    FN_value = 100\n\n    TN, FP, FN, TP = conf_matrix.ravel()\n\n    return (TP * TP_value) + (TN * TN_value) + (FP * FP_value) + (FN * FN_value)\n\ndef objective(trial):\n    params = {\n        'objective': 'binary:logistic',\n        'eval_metric': 'logloss',\n        'verbosity': 0,\n        'max_depth': trial.suggest_int('max_depth', 3, 9),\n        'eta': trial.suggest_float('eta', 0.01, 0.3, log=True),\n        'gamma': trial.suggest_float('gamma', 1e-8, 1.0, log=True),\n        'subsample': trial.suggest_float('subsample', 0.5, 1.0),\n        'colsample_bytree': trial.suggest_float('colsample_bytree', 0.5, 1.0),\n    }\n\n    kf = KFold(n_splits=5, shuffle=True, random_state=42)  # Define k-fold cross-validation\n\n    values = []\n    for train_index, test_index in kfold.split(X):\n        X_train, X_test = X.iloc[train_index], X.iloc[test_index]\n        y_train, y_test = y.iloc[train_index], y.iloc[test_index]\n\n        X_train_scaled = numeric_pipeline.fit_transform(X_train[numeric_columns])\n        # Transform the testing data\n        X_test_scaled = numeric_pipeline.transform(X_test[numeric_columns])\n\n        # Replace the original numeric columns in X_train and X_test with the scaled ones\n        X_train.loc[:, numeric_columns] = X_train_scaled\n        X_test.loc[:, numeric_columns] = X_test_scaled\n\n        oversampler = RandomOverSampler(random_state=42)\n        X_train_oversampled, y_train_oversampled = oversampler.fit_resample(X_train, y_train)\n\n        model = xgb.XGBClassifier(**params, random_state=42)\n        model.fit(X_train_oversampled, y_train_oversampled)\n        y_pred = model.predict(X_test)\n        conf_matrix = confusion_matrix(y_test, y_pred)\n        value = calculate_business_value(conf_matrix)\n        values.append(value)\n\n    avg_value = sum(values) / len(values)\n    return avg_value",
      "metadata": {
        "source_hash": "3319c045",
        "execution_start": 1710498572226,
        "execution_millis": 264,
        "deepnote_to_be_reexecuted": false,
        "cell_id": "96bd385e32c440b493908cdef5927955",
        "deepnote_cell_type": "code"
      },
      "outputs": [],
      "outputs_reference": null,
      "execution_count": 47,
      "block_group": "8492e43081d34f6e845596dd37271cba"
    },
    {
      "cell_type": "code",
      "source": "study = optuna.create_study(direction='maximize')\nstudy.optimize(objective, n_trials=500)\ntrial = study.best_trial\nbest_params = trial.params",
      "metadata": {
        "source_hash": "333d242e",
        "execution_start": 1710498572230,
        "execution_millis": 553138,
        "deepnote_to_be_reexecuted": false,
        "cell_id": "4cb713424ea74f7d93a4e76a2bd55163",
        "deepnote_cell_type": "code"
      },
      "outputs": [
        {
          "name": "stderr",
          "text": "[I 2024-03-15 10:29:32,230] A new study created in memory with name: no-name-90f638bd-ae23-45f4-b4bb-6212cf42603c\n[I 2024-03-15 10:29:33,497] Trial 0 finished with value: 58900.0 and parameters: {'max_depth': 5, 'eta': 0.033702162680914485, 'gamma': 3.999533409793503e-07, 'subsample': 0.567857075462648, 'colsample_bytree': 0.9666242241883977}. Best is trial 0 with value: 58900.0.\n[I 2024-03-15 10:29:34,922] Trial 1 finished with value: 57840.0 and parameters: {'max_depth': 6, 'eta': 0.012291107506426967, 'gamma': 0.04115982396681426, 'subsample': 0.8736493133298644, 'colsample_bytree': 0.8369377939959117}. Best is trial 0 with value: 58900.0.\n[I 2024-03-15 10:29:36,477] Trial 2 finished with value: 60790.0 and parameters: {'max_depth': 8, 'eta': 0.09786181768293765, 'gamma': 0.0003792092476440216, 'subsample': 0.9824359000984784, 'colsample_bytree': 0.5444592239955572}. Best is trial 2 with value: 60790.0.\n[I 2024-03-15 10:29:38,483] Trial 3 finished with value: 59110.0 and parameters: {'max_depth': 8, 'eta': 0.011421741028021163, 'gamma': 3.0802994225150106e-07, 'subsample': 0.768034628332118, 'colsample_bytree': 0.7764411118179451}. Best is trial 2 with value: 60790.0.\n[I 2024-03-15 10:29:39,268] Trial 4 finished with value: 59790.0 and parameters: {'max_depth': 3, 'eta': 0.12713108020438166, 'gamma': 0.42475094505366084, 'subsample': 0.5213163192046206, 'colsample_bytree': 0.5181125325044464}. Best is trial 2 with value: 60790.0.\n[I 2024-03-15 10:29:41,152] Trial 5 finished with value: 60850.0 and parameters: {'max_depth': 9, 'eta': 0.07406578410240258, 'gamma': 6.964326473708348e-07, 'subsample': 0.780492541109242, 'colsample_bytree': 0.6471637733834721}. Best is trial 5 with value: 60850.0.\n[I 2024-03-15 10:29:42,878] Trial 6 finished with value: 60490.0 and parameters: {'max_depth': 8, 'eta': 0.0528578842347536, 'gamma': 0.022126668276745403, 'subsample': 0.5939708908565973, 'colsample_bytree': 0.6440686777648892}. Best is trial 5 with value: 60850.0.\n[I 2024-03-15 10:29:44,344] Trial 7 finished with value: 59960.0 and parameters: {'max_depth': 7, 'eta': 0.027008658340294315, 'gamma': 1.2787258592708235e-07, 'subsample': 0.9419526935280705, 'colsample_bytree': 0.521382660823567}. Best is trial 5 with value: 60850.0.\n[I 2024-03-15 10:29:45,256] Trial 8 finished with value: 58490.0 and parameters: {'max_depth': 4, 'eta': 0.03751450606401712, 'gamma': 1.7594342596024932e-05, 'subsample': 0.6692280150732163, 'colsample_bytree': 0.5111991285463366}. Best is trial 5 with value: 60850.0.\n[I 2024-03-15 10:29:47,018] Trial 9 finished with value: 60400.0 and parameters: {'max_depth': 8, 'eta': 0.06791411297979504, 'gamma': 1.121281117180178e-08, 'subsample': 0.9869083286396317, 'colsample_bytree': 0.7035904719950696}. Best is trial 5 with value: 60850.0.\n[I 2024-03-15 10:29:48,407] Trial 10 finished with value: 60790.0 and parameters: {'max_depth': 9, 'eta': 0.29686078494523294, 'gamma': 4.6228534196268667e-05, 'subsample': 0.7898987067605391, 'colsample_bytree': 0.6331629613966478}. Best is trial 5 with value: 60850.0.\n[I 2024-03-15 10:29:50,127] Trial 11 finished with value: 60960.0 and parameters: {'max_depth': 9, 'eta': 0.11293744715928125, 'gamma': 0.0007120502084776116, 'subsample': 0.8615122395143725, 'colsample_bytree': 0.6078164727139002}. Best is trial 11 with value: 60960.0.\n[I 2024-03-15 10:29:51,692] Trial 12 finished with value: 60730.0 and parameters: {'max_depth': 9, 'eta': 0.1904821813852217, 'gamma': 0.0008339330086475641, 'subsample': 0.8511139762397053, 'colsample_bytree': 0.6163598902798821}. Best is trial 11 with value: 60960.0.\n[I 2024-03-15 10:29:52,915] Trial 13 finished with value: 60870.0 and parameters: {'max_depth': 6, 'eta': 0.10560162710749023, 'gamma': 4.3437276153104625e-06, 'subsample': 0.7058642473570815, 'colsample_bytree': 0.7331736111508721}. Best is trial 11 with value: 60960.0.\n[I 2024-03-15 10:29:54,155] Trial 14 finished with value: 61050.0 and parameters: {'max_depth': 6, 'eta': 0.15173446035423582, 'gamma': 6.170569724168096e-06, 'subsample': 0.6801506803076657, 'colsample_bytree': 0.8073012977140415}. Best is trial 14 with value: 61050.0.\n[I 2024-03-15 10:29:55,229] Trial 15 finished with value: 61100.0 and parameters: {'max_depth': 5, 'eta': 0.19579212615846828, 'gamma': 0.002425137036032967, 'subsample': 0.6648391076895298, 'colsample_bytree': 0.8157996005247696}. Best is trial 15 with value: 61100.0.\n[I 2024-03-15 10:29:56,298] Trial 16 finished with value: 61060.0 and parameters: {'max_depth': 5, 'eta': 0.2876185886770526, 'gamma': 0.005176744045887907, 'subsample': 0.6510818088909599, 'colsample_bytree': 0.8864044072072677}. Best is trial 15 with value: 61100.0.\n[I 2024-03-15 10:29:57,236] Trial 17 finished with value: 61060.0 and parameters: {'max_depth': 4, 'eta': 0.28849886904596717, 'gamma': 0.00862475914373693, 'subsample': 0.6208530466871812, 'colsample_bytree': 0.889617335059697}. Best is trial 15 with value: 61100.0.\n[I 2024-03-15 10:29:58,311] Trial 18 finished with value: 61190.0 and parameters: {'max_depth': 5, 'eta': 0.1928258969612759, 'gamma': 0.4761857713400157, 'subsample': 0.708094673134481, 'colsample_bytree': 0.9199500390459915}. Best is trial 18 with value: 61190.0.\n[I 2024-03-15 10:29:59,448] Trial 19 finished with value: 60970.0 and parameters: {'max_depth': 5, 'eta': 0.20244832978458627, 'gamma': 0.7460147962643259, 'subsample': 0.7216567399398605, 'colsample_bytree': 0.9967946144682355}. Best is trial 18 with value: 61190.0.\n[I 2024-03-15 10:30:00,270] Trial 20 finished with value: 60230.0 and parameters: {'max_depth': 3, 'eta': 0.17590135841775328, 'gamma': 0.1307793048964291, 'subsample': 0.5167767852659144, 'colsample_bytree': 0.9314782347985368}. Best is trial 18 with value: 61190.0.\n[I 2024-03-15 10:30:01,338] Trial 21 finished with value: 61020.0 and parameters: {'max_depth': 5, 'eta': 0.2306582866398466, 'gamma': 0.002835243174358356, 'subsample': 0.631290034325849, 'colsample_bytree': 0.8741697753276272}. Best is trial 18 with value: 61190.0.\n[I 2024-03-15 10:30:02,285] Trial 22 finished with value: 61290.0 and parameters: {'max_depth': 4, 'eta': 0.24553137088192753, 'gamma': 0.004991572651868431, 'subsample': 0.6529507553139048, 'colsample_bytree': 0.9068843468077451}. Best is trial 22 with value: 61290.0.\n[I 2024-03-15 10:30:03,214] Trial 23 finished with value: 60630.0 and parameters: {'max_depth': 4, 'eta': 0.14695470567344823, 'gamma': 0.044820432688926694, 'subsample': 0.730488836688959, 'colsample_bytree': 0.9256350426782308}. Best is trial 22 with value: 61290.0.\n[I 2024-03-15 10:30:04,140] Trial 24 finished with value: 61020.0 and parameters: {'max_depth': 4, 'eta': 0.22052382674531676, 'gamma': 0.15608242853074847, 'subsample': 0.586283618461142, 'colsample_bytree': 0.8208422846516332}. Best is trial 22 with value: 61290.0.\n[I 2024-03-15 10:30:04,962] Trial 25 finished with value: 58870.0 and parameters: {'max_depth': 3, 'eta': 0.08307864788437097, 'gamma': 0.00017454753090562021, 'subsample': 0.6900235347018931, 'colsample_bytree': 0.8487932845780674}. Best is trial 22 with value: 61290.0.\n[I 2024-03-15 10:30:06,194] Trial 26 finished with value: 60890.0 and parameters: {'max_depth': 6, 'eta': 0.16896944658105265, 'gamma': 0.0018037940314728977, 'subsample': 0.8184834437892805, 'colsample_bytree': 0.9309274684000864}. Best is trial 22 with value: 61290.0.\n[I 2024-03-15 10:30:07,257] Trial 27 finished with value: 60930.0 and parameters: {'max_depth': 5, 'eta': 0.1256440752911779, 'gamma': 0.014007784877590522, 'subsample': 0.5545080748387234, 'colsample_bytree': 0.7783839518433218}. Best is trial 22 with value: 61290.0.\n[I 2024-03-15 10:30:08,261] Trial 28 finished with value: 56030.0 and parameters: {'max_depth': 4, 'eta': 0.019410342844428174, 'gamma': 0.16698355718826596, 'subsample': 0.7442665395093812, 'colsample_bytree': 0.9990625556809648}. Best is trial 22 with value: 61290.0.\n[I 2024-03-15 10:30:10,005] Trial 29 finished with value: 60020.0 and parameters: {'max_depth': 7, 'eta': 0.044274659125195764, 'gamma': 0.00011504177459297175, 'subsample': 0.6502183571356887, 'colsample_bytree': 0.9478168900388635}. Best is trial 22 with value: 61290.0.\n[I 2024-03-15 10:30:11,090] Trial 30 finished with value: 61170.0 and parameters: {'max_depth': 5, 'eta': 0.24782386104260054, 'gamma': 0.058664191114227354, 'subsample': 0.6036509555945916, 'colsample_bytree': 0.9024328154301234}. Best is trial 22 with value: 61290.0.\n[I 2024-03-15 10:30:12,182] Trial 31 finished with value: 60990.0 and parameters: {'max_depth': 5, 'eta': 0.2403363768268571, 'gamma': 0.04709660872247919, 'subsample': 0.6185877919281131, 'colsample_bytree': 0.902707460510846}. Best is trial 22 with value: 61290.0.\n[I 2024-03-15 10:30:13,116] Trial 32 finished with value: 60730.0 and parameters: {'max_depth': 4, 'eta': 0.148183301867641, 'gamma': 0.7334481978656485, 'subsample': 0.5727288121473475, 'colsample_bytree': 0.8559069354339675}. Best is trial 22 with value: 61290.0.\n[I 2024-03-15 10:30:14,154] Trial 33 finished with value: 60930.0 and parameters: {'max_depth': 5, 'eta': 0.24509828824791385, 'gamma': 0.0026460858931844603, 'subsample': 0.697193337532314, 'colsample_bytree': 0.8033127699829778}. Best is trial 22 with value: 61290.0.\n[I 2024-03-15 10:30:15,876] Trial 34 finished with value: 60940.0 and parameters: {'max_depth': 6, 'eta': 0.19593124539636778, 'gamma': 0.06071898239891525, 'subsample': 0.5448396538704631, 'colsample_bytree': 0.969942695779946}. Best is trial 22 with value: 61290.0.\n[I 2024-03-15 10:30:18,973] Trial 35 finished with value: 60660.0 and parameters: {'max_depth': 7, 'eta': 0.09048469766254391, 'gamma': 0.014865604392430535, 'subsample': 0.648387003027463, 'colsample_bytree': 0.905680069553618}. Best is trial 22 with value: 61290.0.\n[I 2024-03-15 10:30:20,441] Trial 36 finished with value: 53780.0 and parameters: {'max_depth': 3, 'eta': 0.013982611905974811, 'gamma': 0.25578431587762546, 'subsample': 0.606460236790915, 'colsample_bytree': 0.8403916311086899}. Best is trial 22 with value: 61290.0.\n[I 2024-03-15 10:30:21,568] Trial 37 finished with value: 60780.0 and parameters: {'max_depth': 5, 'eta': 0.1280826218649551, 'gamma': 0.0005859233992614927, 'subsample': 0.7575645074464128, 'colsample_bytree': 0.962519558084691}. Best is trial 22 with value: 61290.0.\n[I 2024-03-15 10:30:22,759] Trial 38 finished with value: 61000.0 and parameters: {'max_depth': 6, 'eta': 0.2557902116410644, 'gamma': 0.07124216103035051, 'subsample': 0.6632357623708077, 'colsample_bytree': 0.7557930414037053}. Best is trial 22 with value: 61290.0.\n[I 2024-03-15 10:30:23,769] Trial 39 finished with value: 59310.0 and parameters: {'max_depth': 4, 'eta': 0.06509003897174902, 'gamma': 0.023018040682364307, 'subsample': 0.9061940339703851, 'colsample_bytree': 0.8654602520328345}. Best is trial 22 with value: 61290.0.\n[I 2024-03-15 10:30:24,861] Trial 40 finished with value: 60910.0 and parameters: {'max_depth': 5, 'eta': 0.17285161200277388, 'gamma': 0.003250871267677986, 'subsample': 0.8075258704118904, 'colsample_bytree': 0.7047902061893146}. Best is trial 22 with value: 61290.0.\n[I 2024-03-15 10:30:25,950] Trial 41 finished with value: 60950.0 and parameters: {'max_depth': 5, 'eta': 0.2893739552339882, 'gamma': 0.008393164197192429, 'subsample': 0.6493236753167905, 'colsample_bytree': 0.8845473445655752}. Best is trial 22 with value: 61290.0.\n[I 2024-03-15 10:30:27,063] Trial 42 finished with value: 61160.0 and parameters: {'max_depth': 5, 'eta': 0.2099399362392153, 'gamma': 0.00591651494147566, 'subsample': 0.7200402750254493, 'colsample_bytree': 0.9087206364864323}. Best is trial 22 with value: 61290.0.\n[I 2024-03-15 10:30:27,999] Trial 43 finished with value: 60890.0 and parameters: {'max_depth': 4, 'eta': 0.22030886783321996, 'gamma': 0.35269950877406697, 'subsample': 0.7176603150210148, 'colsample_bytree': 0.9066283293439845}. Best is trial 22 with value: 61290.0.\n[I 2024-03-15 10:30:29,128] Trial 44 finished with value: 60860.0 and parameters: {'max_depth': 5, 'eta': 0.13418259112350137, 'gamma': 0.0012863817469916743, 'subsample': 0.6775837214890496, 'colsample_bytree': 0.965364725496478}. Best is trial 22 with value: 61290.0.\n[I 2024-03-15 10:30:30,175] Trial 45 finished with value: 61200.0 and parameters: {'max_depth': 5, 'eta': 0.166327494792098, 'gamma': 0.01805664592984076, 'subsample': 0.7495491780243181, 'colsample_bytree': 0.8221468117183726}. Best is trial 22 with value: 61290.0.\n[I 2024-03-15 10:30:31,127] Trial 46 finished with value: 60840.0 and parameters: {'max_depth': 4, 'eta': 0.16112498795927616, 'gamma': 0.0002674079164845424, 'subsample': 0.76441494937891, 'colsample_bytree': 0.9225333098422401}. Best is trial 22 with value: 61290.0.\n[I 2024-03-15 10:30:32,596] Trial 47 finished with value: 60850.0 and parameters: {'max_depth': 7, 'eta': 0.10998327264457058, 'gamma': 0.089221528865437, 'subsample': 0.7903383815123707, 'colsample_bytree': 0.7865684937158621}. Best is trial 22 with value: 61290.0.\n[I 2024-03-15 10:30:33,827] Trial 48 finished with value: 61150.0 and parameters: {'max_depth': 6, 'eta': 0.26228100437392554, 'gamma': 0.023948500526655852, 'subsample': 0.7410941818273094, 'colsample_bytree': 0.8352605062568939}. Best is trial 22 with value: 61290.0.\n[I 2024-03-15 10:30:34,633] Trial 49 finished with value: 60590.0 and parameters: {'max_depth': 3, 'eta': 0.20006882193326853, 'gamma': 0.9371903045061344, 'subsample': 0.8294432956047428, 'colsample_bytree': 0.8597700823159269}. Best is trial 22 with value: 61290.0.\n[I 2024-03-15 10:30:36,014] Trial 50 finished with value: 60080.0 and parameters: {'max_depth': 6, 'eta': 0.056297605222148016, 'gamma': 0.007747488310115649, 'subsample': 0.7063236430669113, 'colsample_bytree': 0.9455488668988248}. Best is trial 22 with value: 61290.0.\n[I 2024-03-15 10:30:37,189] Trial 51 finished with value: 61010.0 and parameters: {'max_depth': 6, 'eta': 0.2590155451450741, 'gamma': 0.0177355230357878, 'subsample': 0.7374676090663769, 'colsample_bytree': 0.8314580743929955}. Best is trial 22 with value: 61290.0.\n[I 2024-03-15 10:30:38,374] Trial 52 finished with value: 61120.0 and parameters: {'max_depth': 6, 'eta': 0.26168075744715474, 'gamma': 0.03360269760595245, 'subsample': 0.7901958862380054, 'colsample_bytree': 0.8908457006458238}. Best is trial 22 with value: 61290.0.\n[I 2024-03-15 10:30:39,381] Trial 53 finished with value: 61140.0 and parameters: {'max_depth': 5, 'eta': 0.21817726801783066, 'gamma': 0.27004736466997975, 'subsample': 0.752099991688411, 'colsample_bytree': 0.7459368517291848}. Best is trial 22 with value: 61290.0.\n[I 2024-03-15 10:30:40,617] Trial 54 finished with value: 61240.0 and parameters: {'max_depth': 6, 'eta': 0.18342431327879305, 'gamma': 0.0050881153917603835, 'subsample': 0.7149259814988719, 'colsample_bytree': 0.8341529471268136}. Best is trial 22 with value: 61290.0.\n[I 2024-03-15 10:30:41,711] Trial 55 finished with value: 60990.0 and parameters: {'max_depth': 5, 'eta': 0.1800545732699536, 'gamma': 0.005205771100464546, 'subsample': 0.7760182922931907, 'colsample_bytree': 0.8698093325017042}. Best is trial 22 with value: 61290.0.\n[I 2024-03-15 10:30:42,595] Trial 56 finished with value: 61070.0 and parameters: {'max_depth': 4, 'eta': 0.29706304542525125, 'gamma': 0.000786687561620222, 'subsample': 0.7059750877847136, 'colsample_bytree': 0.5605720660106224}. Best is trial 22 with value: 61290.0.\n[I 2024-03-15 10:30:43,713] Trial 57 finished with value: 60880.0 and parameters: {'max_depth': 5, 'eta': 0.14903365646324768, 'gamma': 1.992811426065822e-08, 'subsample': 0.6303927476358488, 'colsample_bytree': 0.9501392871455374}. Best is trial 22 with value: 61290.0.\n[I 2024-03-15 10:30:45,234] Trial 58 finished with value: 60850.0 and parameters: {'max_depth': 8, 'eta': 0.20832358083292277, 'gamma': 4.3725308186551676e-05, 'subsample': 0.5003836743588121, 'colsample_bytree': 0.9137254536862803}. Best is trial 22 with value: 61290.0.\n[I 2024-03-15 10:30:46,207] Trial 59 finished with value: 56920.0 and parameters: {'max_depth': 4, 'eta': 0.026316882535771715, 'gamma': 0.004675005179782447, 'subsample': 0.6868775427347111, 'colsample_bytree': 0.7909333962535491}. Best is trial 22 with value: 61290.0.\n[I 2024-03-15 10:30:47,625] Trial 60 finished with value: 60870.0 and parameters: {'max_depth': 7, 'eta': 0.18399518195478765, 'gamma': 0.10629512308573474, 'subsample': 0.7246763436859484, 'colsample_bytree': 0.9771701519953179}. Best is trial 22 with value: 61290.0.\n[I 2024-03-15 10:30:48,798] Trial 61 finished with value: 60930.0 and parameters: {'max_depth': 6, 'eta': 0.2545753746700582, 'gamma': 0.033606500862057305, 'subsample': 0.7356597541035311, 'colsample_bytree': 0.8439296381232297}. Best is trial 22 with value: 61290.0.\n[I 2024-03-15 10:30:49,990] Trial 62 finished with value: 60950.0 and parameters: {'max_depth': 6, 'eta': 0.22248303970656652, 'gamma': 0.010715936907211725, 'subsample': 0.7162013203543901, 'colsample_bytree': 0.8264353561614435}. Best is trial 22 with value: 61290.0.\n[I 2024-03-15 10:30:51,201] Trial 63 finished with value: 60850.0 and parameters: {'max_depth': 6, 'eta': 0.16231634188097618, 'gamma': 0.5217181436803309, 'subsample': 0.6672319177492798, 'colsample_bytree': 0.876959659845102}. Best is trial 22 with value: 61290.0.\n[I 2024-03-15 10:30:52,273] Trial 64 finished with value: 60860.0 and parameters: {'max_depth': 5, 'eta': 0.1217187182951142, 'gamma': 0.0013950341994109052, 'subsample': 0.5993395687831378, 'colsample_bytree': 0.7641559543838862}. Best is trial 22 with value: 61290.0.\n[I 2024-03-15 10:30:53,670] Trial 65 finished with value: 60990.0 and parameters: {'max_depth': 7, 'eta': 0.13720955225797188, 'gamma': 0.1655350749648181, 'subsample': 0.7531252176919591, 'colsample_bytree': 0.8046806270339355}. Best is trial 22 with value: 61290.0.\n[I 2024-03-15 10:30:54,869] Trial 66 finished with value: 60890.0 and parameters: {'max_depth': 6, 'eta': 0.2727835865939524, 'gamma': 0.028687236885227944, 'subsample': 0.6940961657076422, 'colsample_bytree': 0.896018690021945}. Best is trial 22 with value: 61290.0.\n[I 2024-03-15 10:30:55,880] Trial 67 finished with value: 61200.0 and parameters: {'max_depth': 5, 'eta': 0.23458846188172044, 'gamma': 6.541639367974105e-07, 'subsample': 0.7693452750927874, 'colsample_bytree': 0.705226984445425}. Best is trial 22 with value: 61290.0.\n[I 2024-03-15 10:30:56,878] Trial 68 finished with value: 60950.0 and parameters: {'max_depth': 5, 'eta': 0.19409540956269344, 'gamma': 4.276684980871916e-08, 'subsample': 0.8403888679193283, 'colsample_bytree': 0.6778889628087807}. Best is trial 22 with value: 61290.0.\n[I 2024-03-15 10:30:57,954] Trial 69 finished with value: 60750.0 and parameters: {'max_depth': 5, 'eta': 0.09944754049715873, 'gamma': 8.656956008979621e-07, 'subsample': 0.5836145742961196, 'colsample_bytree': 0.7300462927759981}. Best is trial 22 with value: 61290.0.\n[I 2024-03-15 10:30:58,844] Trial 70 finished with value: 61090.0 and parameters: {'max_depth': 4, 'eta': 0.23294170138035497, 'gamma': 7.475794040272666e-06, 'subsample': 0.8046238725770067, 'colsample_bytree': 0.6846912935733152}. Best is trial 22 with value: 61290.0.\n[I 2024-03-15 10:30:59,963] Trial 71 finished with value: 60900.0 and parameters: {'max_depth': 5, 'eta': 0.23867791231064311, 'gamma': 1.5686811459342956e-06, 'subsample': 0.7702709194899886, 'colsample_bytree': 0.9288334776431532}. Best is trial 22 with value: 61290.0.\n[I 2024-03-15 10:31:01,218] Trial 72 finished with value: 61140.0 and parameters: {'max_depth': 6, 'eta': 0.18516080137753188, 'gamma': 2.9890449720015846e-07, 'subsample': 0.746516129517671, 'colsample_bytree': 0.7183610852889595}. Best is trial 22 with value: 61290.0.\n[I 2024-03-15 10:31:02,415] Trial 73 finished with value: 61160.0 and parameters: {'max_depth': 5, 'eta': 0.21060962965001948, 'gamma': 0.004651887788862292, 'subsample': 0.7301240337659941, 'colsample_bytree': 0.6591991133881777}. Best is trial 22 with value: 61290.0.\n[I 2024-03-15 10:31:03,438] Trial 74 finished with value: 60880.0 and parameters: {'max_depth': 5, 'eta': 0.15554103092398275, 'gamma': 0.005285382242701148, 'subsample': 0.7064016514123563, 'colsample_bytree': 0.6446871668895602}. Best is trial 22 with value: 61290.0.\n[I 2024-03-15 10:31:04,449] Trial 75 finished with value: 61140.0 and parameters: {'max_depth': 5, 'eta': 0.20918195315401428, 'gamma': 0.0004133875459316938, 'subsample': 0.6785464932616816, 'colsample_bytree': 0.6671938675582064}. Best is trial 22 with value: 61290.0.\n[I 2024-03-15 10:31:05,357] Trial 76 finished with value: 60820.0 and parameters: {'max_depth': 4, 'eta': 0.17235488080835273, 'gamma': 0.0012197289547054878, 'subsample': 0.634428339825361, 'colsample_bytree': 0.6093141733316583}. Best is trial 22 with value: 61290.0.\n[I 2024-03-15 10:31:06,368] Trial 77 finished with value: 61310.0 and parameters: {'max_depth': 5, 'eta': 0.235541487430565, 'gamma': 0.0022711678530035074, 'subsample': 0.7237496601755378, 'colsample_bytree': 0.6572134999260875}. Best is trial 77 with value: 61310.0.\n[I 2024-03-15 10:31:07,336] Trial 78 finished with value: 61210.0 and parameters: {'max_depth': 5, 'eta': 0.23618456819340952, 'gamma': 0.0022136435359157544, 'subsample': 0.9598840271645217, 'colsample_bytree': 0.7028344903324468}. Best is trial 77 with value: 61310.0.\n[I 2024-03-15 10:31:08,185] Trial 79 finished with value: 61040.0 and parameters: {'max_depth': 4, 'eta': 0.24013720824315185, 'gamma': 0.0021637560076984566, 'subsample': 0.9999208692528866, 'colsample_bytree': 0.7030302456679474}. Best is trial 77 with value: 61310.0.\n[I 2024-03-15 10:31:09,041] Trial 80 finished with value: 61050.0 and parameters: {'max_depth': 4, 'eta': 0.29641796168742096, 'gamma': 0.013841503968400599, 'subsample': 0.9054782600621066, 'colsample_bytree': 0.6354068849159056}. Best is trial 77 with value: 61310.0.\n[I 2024-03-15 10:31:10,019] Trial 81 finished with value: 61290.0 and parameters: {'max_depth': 5, 'eta': 0.2768040438172492, 'gamma': 0.0034599474750001916, 'subsample': 0.9566019970003062, 'colsample_bytree': 0.7011856327012282}. Best is trial 77 with value: 61310.0.\n[I 2024-03-15 10:31:10,984] Trial 82 finished with value: 61140.0 and parameters: {'max_depth': 5, 'eta': 0.2735609489635588, 'gamma': 0.002854229013487621, 'subsample': 0.9482110830383332, 'colsample_bytree': 0.695185138892046}. Best is trial 77 with value: 61310.0.\n[I 2024-03-15 10:31:11,976] Trial 83 finished with value: 61060.0 and parameters: {'max_depth': 5, 'eta': 0.2322918154593245, 'gamma': 0.0002281087870087975, 'subsample': 0.9784192248233393, 'colsample_bytree': 0.7250640395715938}. Best is trial 77 with value: 61310.0.\n[I 2024-03-15 10:31:12,953] Trial 84 finished with value: 61090.0 and parameters: {'max_depth': 5, 'eta': 0.27927307259734313, 'gamma': 3.333427160484362e-05, 'subsample': 0.9584442988061754, 'colsample_bytree': 0.7455181840235483}. Best is trial 77 with value: 61310.0.\n[I 2024-03-15 10:31:14,009] Trial 85 finished with value: 61210.0 and parameters: {'max_depth': 5, 'eta': 0.23974947331593005, 'gamma': 7.912225379556088e-05, 'subsample': 0.9197806493523639, 'colsample_bytree': 0.7120077759790029}. Best is trial 77 with value: 61310.0.\n[I 2024-03-15 10:31:14,774] Trial 86 finished with value: 60360.0 and parameters: {'max_depth': 3, 'eta': 0.19168946042585822, 'gamma': 0.00039624539973814833, 'subsample': 0.9268740474794142, 'colsample_bytree': 0.666071272175991}. Best is trial 77 with value: 61310.0.\n[I 2024-03-15 10:31:15,795] Trial 87 finished with value: 61060.0 and parameters: {'max_depth': 5, 'eta': 0.13879958783390461, 'gamma': 8.968787249860117e-05, 'subsample': 0.8976157942720471, 'colsample_bytree': 0.713944767888082}. Best is trial 77 with value: 61310.0.\n[I 2024-03-15 10:31:16,746] Trial 88 finished with value: 55210.0 and parameters: {'max_depth': 4, 'eta': 0.010186948874983238, 'gamma': 1.6578536084568995e-05, 'subsample': 0.9272529517313418, 'colsample_bytree': 0.7610861562330519}. Best is trial 77 with value: 61310.0.\n[I 2024-03-15 10:31:17,743] Trial 89 finished with value: 60980.0 and parameters: {'max_depth': 5, 'eta': 0.175486086489024, 'gamma': 0.0005478569577256586, 'subsample': 0.9640574655371228, 'colsample_bytree': 0.7376135614932441}. Best is trial 77 with value: 61310.0.\n[I 2024-03-15 10:31:18,895] Trial 90 finished with value: 61010.0 and parameters: {'max_depth': 6, 'eta': 0.2473832652936477, 'gamma': 0.0009054367842067912, 'subsample': 0.9287192476541221, 'colsample_bytree': 0.5899554686100348}. Best is trial 77 with value: 61310.0.\n[I 2024-03-15 10:31:19,881] Trial 91 finished with value: 61020.0 and parameters: {'max_depth': 5, 'eta': 0.2255933586345555, 'gamma': 0.05582250840042577, 'subsample': 0.8854294940877956, 'colsample_bytree': 0.6863948431351213}. Best is trial 77 with value: 61310.0.\n[I 2024-03-15 10:31:20,919] Trial 92 finished with value: 61100.0 and parameters: {'max_depth': 5, 'eta': 0.27044945375790796, 'gamma': 0.009574013905609248, 'subsample': 0.5547566085100801, 'colsample_bytree': 0.7060852012226926}. Best is trial 77 with value: 61310.0.\n[I 2024-03-15 10:31:21,897] Trial 93 finished with value: 61030.0 and parameters: {'max_depth': 5, 'eta': 0.24802766614768898, 'gamma': 0.001643045739742405, 'subsample': 0.9840051771300388, 'colsample_bytree': 0.6569370583531946}. Best is trial 77 with value: 61310.0.\n[I 2024-03-15 10:31:22,930] Trial 94 finished with value: 61120.0 and parameters: {'max_depth': 5, 'eta': 0.20072673686812997, 'gamma': 0.015367417072460506, 'subsample': 0.8744484875382579, 'colsample_bytree': 0.7735050116466212}. Best is trial 77 with value: 61310.0.\n[I 2024-03-15 10:31:23,788] Trial 95 finished with value: 61070.0 and parameters: {'max_depth': 4, 'eta': 0.2277547981734074, 'gamma': 8.776626779287724e-08, 'subsample': 0.96332073360491, 'colsample_bytree': 0.6304080678049682}. Best is trial 77 with value: 61310.0.\n[I 2024-03-15 10:31:24,904] Trial 96 finished with value: 59080.0 and parameters: {'max_depth': 5, 'eta': 0.034460373513901514, 'gamma': 3.3684536926362e-06, 'subsample': 0.616012355851345, 'colsample_bytree': 0.6928971099942959}. Best is trial 77 with value: 61310.0.\n[I 2024-03-15 10:31:26,212] Trial 97 finished with value: 61060.0 and parameters: {'max_depth': 6, 'eta': 0.16473785033240224, 'gamma': 0.0038827139074155376, 'subsample': 0.9497265965230001, 'colsample_bytree': 0.9418490111826193}. Best is trial 77 with value: 61310.0.\n[I 2024-03-15 10:31:27,236] Trial 98 finished with value: 60900.0 and parameters: {'max_depth': 5, 'eta': 0.29647566043657625, 'gamma': 0.007035279814210716, 'subsample': 0.657243133204395, 'colsample_bytree': 0.6766424374184533}. Best is trial 77 with value: 61310.0.\n[I 2024-03-15 10:31:28,504] Trial 99 finished with value: 60760.0 and parameters: {'max_depth': 6, 'eta': 0.18502558806908917, 'gamma': 0.07824128685660223, 'subsample': 0.6390313047831567, 'colsample_bytree': 0.9851560658183716}. Best is trial 77 with value: 61310.0.\n[I 2024-03-15 10:31:29,526] Trial 100 finished with value: 61140.0 and parameters: {'max_depth': 5, 'eta': 0.21051159360954066, 'gamma': 0.0024874039585658105, 'subsample': 0.9367152116611863, 'colsample_bytree': 0.9167547309835586}. Best is trial 77 with value: 61310.0.\n[I 2024-03-15 10:31:30,573] Trial 101 finished with value: 61120.0 and parameters: {'max_depth': 5, 'eta': 0.26075944163080084, 'gamma': 0.01230562607017567, 'subsample': 0.7178652226637464, 'colsample_bytree': 0.8819187608930563}. Best is trial 77 with value: 61310.0.\n[I 2024-03-15 10:31:31,635] Trial 102 finished with value: 61060.0 and parameters: {'max_depth': 5, 'eta': 0.21154692594149924, 'gamma': 0.0066072122139417865, 'subsample': 0.7629473231481718, 'colsample_bytree': 0.9032813924002645}. Best is trial 77 with value: 61310.0.\n[I 2024-03-15 10:31:32,709] Trial 103 finished with value: 61040.0 and parameters: {'max_depth': 5, 'eta': 0.19938969442660265, 'gamma': 0.040917452088464236, 'subsample': 0.6992779308646128, 'colsample_bytree': 0.9349367429432701}. Best is trial 77 with value: 61310.0.\n[I 2024-03-15 10:31:33,671] Trial 104 finished with value: 58560.0 and parameters: {'max_depth': 4, 'eta': 0.04361646251937275, 'gamma': 0.022614511959575, 'subsample': 0.6854387134440757, 'colsample_bytree': 0.8165081326728676}. Best is trial 77 with value: 61310.0.\n[I 2024-03-15 10:31:34,730] Trial 105 finished with value: 61130.0 and parameters: {'max_depth': 5, 'eta': 0.24517821307479937, 'gamma': 0.2470785542877712, 'subsample': 0.671108232537798, 'colsample_bytree': 0.8610293379860381}. Best is trial 77 with value: 61310.0.\n[I 2024-03-15 10:31:35,763] Trial 106 finished with value: 60980.0 and parameters: {'max_depth': 5, 'eta': 0.27601471234542274, 'gamma': 0.003480630193443481, 'subsample': 0.7128878582184123, 'colsample_bytree': 0.8492828992456741}. Best is trial 77 with value: 61310.0.\n[I 2024-03-15 10:31:36,922] Trial 107 finished with value: 60910.0 and parameters: {'max_depth': 6, 'eta': 0.22914159262734374, 'gamma': 0.0018088435378042225, 'subsample': 0.733115277686966, 'colsample_bytree': 0.7191561220261661}. Best is trial 77 with value: 61310.0.\n[I 2024-03-15 10:31:37,982] Trial 108 finished with value: 60860.0 and parameters: {'max_depth': 5, 'eta': 0.1581841827577818, 'gamma': 0.0008863212296488947, 'subsample': 0.7799091703607843, 'colsample_bytree': 0.8939634171784563}. Best is trial 77 with value: 61310.0.\n[I 2024-03-15 10:31:38,924] Trial 109 finished with value: 61010.0 and parameters: {'max_depth': 4, 'eta': 0.19107346634019887, 'gamma': 0.000102609620962946, 'subsample': 0.7440401655401743, 'colsample_bytree': 0.9547895512866493}. Best is trial 77 with value: 61310.0.\n[I 2024-03-15 10:31:41,114] Trial 110 finished with value: 58510.0 and parameters: {'max_depth': 8, 'eta': 0.017057021204207497, 'gamma': 0.01788003762597602, 'subsample': 0.9760295642024973, 'colsample_bytree': 0.9121090603717638}. Best is trial 77 with value: 61310.0.\n[I 2024-03-15 10:31:42,130] Trial 111 finished with value: 61020.0 and parameters: {'max_depth': 5, 'eta': 0.21544652022288807, 'gamma': 0.006555550904234961, 'subsample': 0.7277749744371179, 'colsample_bytree': 0.6656905430305009}. Best is trial 77 with value: 61310.0.\n[I 2024-03-15 10:31:43,145] Trial 112 finished with value: 60980.0 and parameters: {'max_depth': 5, 'eta': 0.2069942688557159, 'gamma': 0.003417568281272493, 'subsample': 0.6959040530101668, 'colsample_bytree': 0.7381902431765168}. Best is trial 77 with value: 61310.0.\n[I 2024-03-15 10:31:44,154] Trial 113 finished with value: 61200.0 and parameters: {'max_depth': 5, 'eta': 0.2568321242101197, 'gamma': 0.004413603619587294, 'subsample': 0.8003033249895593, 'colsample_bytree': 0.7114897751772641}. Best is trial 77 with value: 61310.0.\n[I 2024-03-15 10:31:45,157] Trial 114 finished with value: 61100.0 and parameters: {'max_depth': 5, 'eta': 0.26083787865836733, 'gamma': 0.001146026223297535, 'subsample': 0.8004921886598525, 'colsample_bytree': 0.711159205943662}. Best is trial 77 with value: 61310.0.\n[I 2024-03-15 10:31:46,132] Trial 115 finished with value: 61120.0 and parameters: {'max_depth': 5, 'eta': 0.2481327848010045, 'gamma': 0.009173344736238197, 'subsample': 0.9965807632926179, 'colsample_bytree': 0.6941833065631957}. Best is trial 77 with value: 61310.0.\n[I 2024-03-15 10:31:47,157] Trial 116 finished with value: 61120.0 and parameters: {'max_depth': 5, 'eta': 0.27977020973369116, 'gamma': 0.002341465909988674, 'subsample': 0.7569390768120602, 'colsample_bytree': 0.7534881436352122}. Best is trial 77 with value: 61310.0.\n[I 2024-03-15 10:31:48,318] Trial 117 finished with value: 60990.0 and parameters: {'max_depth': 6, 'eta': 0.17588836203978897, 'gamma': 2.1255362379435337e-07, 'subsample': 0.7723135993942617, 'colsample_bytree': 0.7252826958410316}. Best is trial 77 with value: 61310.0.\n[I 2024-03-15 10:31:49,185] Trial 118 finished with value: 60970.0 and parameters: {'max_depth': 4, 'eta': 0.22983726021533402, 'gamma': 0.005192567328051991, 'subsample': 0.8530426904886093, 'colsample_bytree': 0.6773505445050152}. Best is trial 77 with value: 61310.0.\n[I 2024-03-15 10:31:50,243] Trial 119 finished with value: 61010.0 and parameters: {'max_depth': 5, 'eta': 0.14603620466822748, 'gamma': 0.010610786004035208, 'subsample': 0.5737181132982291, 'colsample_bytree': 0.7898080914334045}. Best is trial 77 with value: 61310.0.\n[I 2024-03-15 10:31:51,038] Trial 120 finished with value: 60530.0 and parameters: {'max_depth': 3, 'eta': 0.21936682624604611, 'gamma': 0.0006076160154723277, 'subsample': 0.8243722466534849, 'colsample_bytree': 0.869561836669602}. Best is trial 77 with value: 61310.0.\n[I 2024-03-15 10:31:52,045] Trial 121 finished with value: 61170.0 and parameters: {'max_depth': 5, 'eta': 0.29946006883373266, 'gamma': 0.003911965105787626, 'subsample': 0.7316756543507974, 'colsample_bytree': 0.6546543867757675}. Best is trial 77 with value: 61310.0.\n[I 2024-03-15 10:31:53,045] Trial 122 finished with value: 61000.0 and parameters: {'max_depth': 5, 'eta': 0.2995911279983758, 'gamma': 0.0036037834692954937, 'subsample': 0.7409467494058658, 'colsample_bytree': 0.6240221683079611}. Best is trial 77 with value: 61310.0.\n[I 2024-03-15 10:31:54,100] Trial 123 finished with value: 60460.0 and parameters: {'max_depth': 5, 'eta': 0.08111813743804444, 'gamma': 0.49986818133523103, 'subsample': 0.7225500880038443, 'colsample_bytree': 0.7032919869832411}. Best is trial 77 with value: 61310.0.\n[I 2024-03-15 10:31:55,089] Trial 124 finished with value: 61230.0 and parameters: {'max_depth': 5, 'eta': 0.2635139511325979, 'gamma': 0.0017759419005296078, 'subsample': 0.7636077896948693, 'colsample_bytree': 0.6432184411175161}. Best is trial 77 with value: 61310.0.\n[I 2024-03-15 10:31:56,126] Trial 125 finished with value: 61270.0 and parameters: {'max_depth': 5, 'eta': 0.2653030702923598, 'gamma': 0.001232655677628632, 'subsample': 0.763630008095845, 'colsample_bytree': 0.6521953732094057}. Best is trial 77 with value: 61310.0.\n[I 2024-03-15 10:31:57,112] Trial 126 finished with value: 60940.0 and parameters: {'max_depth': 5, 'eta': 0.26188224331418614, 'gamma': 0.001695420410487426, 'subsample': 0.8158537779146853, 'colsample_bytree': 0.6466615291190049}. Best is trial 77 with value: 61310.0.\n[I 2024-03-15 10:31:58,095] Trial 127 finished with value: 61310.0 and parameters: {'max_depth': 5, 'eta': 0.2453615775927439, 'gamma': 0.0010385680268431617, 'subsample': 0.7844989422411375, 'colsample_bytree': 0.5910584514153137}. Best is trial 77 with value: 61310.0.\n[I 2024-03-15 10:31:59,103] Trial 128 finished with value: 61000.0 and parameters: {'max_depth': 5, 'eta': 0.23998438396163263, 'gamma': 0.0011885866495261195, 'subsample': 0.7493343877946239, 'colsample_bytree': 0.6056489269524458}. Best is trial 77 with value: 61310.0.\n[I 2024-03-15 10:32:00,208] Trial 129 finished with value: 61000.0 and parameters: {'max_depth': 6, 'eta': 0.2773314797080132, 'gamma': 0.0002636582840291258, 'subsample': 0.7900449541536122, 'colsample_bytree': 0.5879184832189411}. Best is trial 77 with value: 61310.0.\n[I 2024-03-15 10:32:01,176] Trial 130 finished with value: 61180.0 and parameters: {'max_depth': 5, 'eta': 0.2535855632033279, 'gamma': 0.0007689568150259051, 'subsample': 0.780848799894304, 'colsample_bytree': 0.5355502001307082}. Best is trial 77 with value: 61310.0.\n[I 2024-03-15 10:32:02,161] Trial 131 finished with value: 61040.0 and parameters: {'max_depth': 5, 'eta': 0.2581463145683094, 'gamma': 0.0004716305527028751, 'subsample': 0.781672675234933, 'colsample_bytree': 0.5148113527335643}. Best is trial 77 with value: 61310.0.\n[I 2024-03-15 10:32:03,206] Trial 132 finished with value: 61000.0 and parameters: {'max_depth': 5, 'eta': 0.23736926739932665, 'gamma': 0.0008042203057069741, 'subsample': 0.762850645379766, 'colsample_bytree': 0.5884299275276547}. Best is trial 77 with value: 61310.0.\n[I 2024-03-15 10:32:04,207] Trial 133 finished with value: 61000.0 and parameters: {'max_depth': 5, 'eta': 0.27957611602431776, 'gamma': 0.002032729446620739, 'subsample': 0.7968902287013755, 'colsample_bytree': 0.6364006412617282}. Best is trial 77 with value: 61310.0.\n[I 2024-03-15 10:32:05,239] Trial 134 finished with value: 60910.0 and parameters: {'max_depth': 5, 'eta': 0.2191945609939916, 'gamma': 0.0013168919050621048, 'subsample': 0.7808205037127003, 'colsample_bytree': 0.5024672125395743}. Best is trial 77 with value: 61310.0.\n[I 2024-03-15 10:32:06,262] Trial 135 finished with value: 61170.0 and parameters: {'max_depth': 5, 'eta': 0.1939182865325035, 'gamma': 0.00014214619315857212, 'subsample': 0.7649134667890604, 'colsample_bytree': 0.5672922291466751}. Best is trial 77 with value: 61310.0.\n[I 2024-03-15 10:32:07,219] Trial 136 finished with value: 61080.0 and parameters: {'max_depth': 5, 'eta': 0.25121917151569423, 'gamma': 7.289189303841433e-05, 'subsample': 0.9138006078158716, 'colsample_bytree': 0.5436482575689324}. Best is trial 77 with value: 61310.0.\n[I 2024-03-15 10:32:08,086] Trial 137 finished with value: 61150.0 and parameters: {'max_depth': 4, 'eta': 0.23380325408911937, 'gamma': 0.0003092125349639079, 'subsample': 0.7889041185210119, 'colsample_bytree': 0.5634256286346095}. Best is trial 77 with value: 61310.0.\n[I 2024-03-15 10:32:09,072] Trial 138 finished with value: 61020.0 and parameters: {'max_depth': 5, 'eta': 0.26769038241102794, 'gamma': 0.0027233177153074004, 'subsample': 0.8108841449755859, 'colsample_bytree': 0.5412768739678274}. Best is trial 77 with value: 61310.0.\n[I 2024-03-15 10:32:11,244] Trial 139 finished with value: 60060.0 and parameters: {'max_depth': 9, 'eta': 0.02649799025640065, 'gamma': 0.0007295986323225628, 'subsample': 0.7529723172623416, 'colsample_bytree': 0.6859732760337858}. Best is trial 77 with value: 61310.0.\n[I 2024-03-15 10:32:12,417] Trial 140 finished with value: 61110.0 and parameters: {'max_depth': 6, 'eta': 0.2011319986716763, 'gamma': 0.0010508882700928435, 'subsample': 0.7758010054633241, 'colsample_bytree': 0.6725819339829702}. Best is trial 77 with value: 61310.0.\n[I 2024-03-15 10:32:13,435] Trial 141 finished with value: 61090.0 and parameters: {'max_depth': 5, 'eta': 0.2550490875980808, 'gamma': 0.0024196773402256856, 'subsample': 0.7571197314461132, 'colsample_bytree': 0.6024845697792892}. Best is trial 77 with value: 61310.0.\n[I 2024-03-15 10:32:14,526] Trial 142 finished with value: 61150.0 and parameters: {'max_depth': 5, 'eta': 0.22473129815781467, 'gamma': 0.0018099637245431687, 'subsample': 0.6089378475777408, 'colsample_bytree': 0.5348913694451695}. Best is trial 77 with value: 61310.0.\n[I 2024-03-15 10:32:15,542] Trial 143 finished with value: 61010.0 and parameters: {'max_depth': 5, 'eta': 0.24126661893519954, 'gamma': 0.005644366160561936, 'subsample': 0.7683672393487994, 'colsample_bytree': 0.617434006889101}. Best is trial 77 with value: 61310.0.\n[I 2024-03-15 10:32:16,769] Trial 144 finished with value: 60950.0 and parameters: {'max_depth': 7, 'eta': 0.2783383497152873, 'gamma': 1.114896272477297e-05, 'subsample': 0.7973286093527868, 'colsample_bytree': 0.5757763481073142}. Best is trial 77 with value: 61310.0.\n[I 2024-03-15 10:32:17,796] Trial 145 finished with value: 61180.0 and parameters: {'max_depth': 5, 'eta': 0.24708496165376603, 'gamma': 6.693882250458606e-07, 'subsample': 0.973134328717563, 'colsample_bytree': 0.6962061912458956}. Best is trial 77 with value: 61310.0.\n[I 2024-03-15 10:32:18,797] Trial 146 finished with value: 61070.0 and parameters: {'max_depth': 5, 'eta': 0.21763543646096253, 'gamma': 1.0666104673817902e-06, 'subsample': 0.9770209269663174, 'colsample_bytree': 0.6977947936043085}. Best is trial 77 with value: 61310.0.\n[I 2024-03-15 10:32:19,838] Trial 147 finished with value: 61180.0 and parameters: {'max_depth': 5, 'eta': 0.18000229345664842, 'gamma': 6.390723758527318e-07, 'subsample': 0.9631064143476546, 'colsample_bytree': 0.712950891672333}. Best is trial 77 with value: 61310.0.\n[I 2024-03-15 10:32:20,853] Trial 148 finished with value: 60990.0 and parameters: {'max_depth': 5, 'eta': 0.2593336778716911, 'gamma': 1.2986989778899004e-06, 'subsample': 0.8312936448792253, 'colsample_bytree': 0.7305388210265258}. Best is trial 77 with value: 61310.0.\n[I 2024-03-15 10:32:21,856] Trial 149 finished with value: 61070.0 and parameters: {'max_depth': 5, 'eta': 0.2385947477461294, 'gamma': 4.062730563827139e-07, 'subsample': 0.9190074332642364, 'colsample_bytree': 0.6546298386202992}. Best is trial 77 with value: 61310.0.\n[I 2024-03-15 10:32:22,982] Trial 150 finished with value: 59970.0 and parameters: {'max_depth': 5, 'eta': 0.0637890050964135, 'gamma': 6.489597951354749e-07, 'subsample': 0.9558726894322076, 'colsample_bytree': 0.7186163126018543}. Best is trial 77 with value: 61310.0.\n[I 2024-03-15 10:32:24,102] Trial 151 finished with value: 61070.0 and parameters: {'max_depth': 5, 'eta': 0.17005503931637553, 'gamma': 5.248711212871828e-07, 'subsample': 0.9685555821937167, 'colsample_bytree': 0.6851096513244408}. Best is trial 77 with value: 61310.0.\n[I 2024-03-15 10:32:25,167] Trial 152 finished with value: 61050.0 and parameters: {'max_depth': 5, 'eta': 0.19107283613547668, 'gamma': 7.179653461731537e-07, 'subsample': 0.9512509674552526, 'colsample_bytree': 0.7388139835115766}. Best is trial 77 with value: 61310.0.\n[I 2024-03-15 10:32:26,211] Trial 153 finished with value: 61000.0 and parameters: {'max_depth': 5, 'eta': 0.183975543044318, 'gamma': 3.952034892160408e-06, 'subsample': 0.9402595104414264, 'colsample_bytree': 0.7104423838900668}. Best is trial 77 with value: 61310.0.\n[I 2024-03-15 10:32:27,207] Trial 154 finished with value: 60920.0 and parameters: {'max_depth': 5, 'eta': 0.28560136370733136, 'gamma': 1.8024571915207703e-07, 'subsample': 0.9885849601650567, 'colsample_bytree': 0.6964984624045951}. Best is trial 77 with value: 61310.0.\n[I 2024-03-15 10:32:28,159] Trial 155 finished with value: 60990.0 and parameters: {'max_depth': 5, 'eta': 0.20548285165726926, 'gamma': 1.1831513593991826e-07, 'subsample': 0.944647848893834, 'colsample_bytree': 0.5292007981921487}. Best is trial 77 with value: 61310.0.\n[I 2024-03-15 10:32:29,035] Trial 156 finished with value: 60920.0 and parameters: {'max_depth': 4, 'eta': 0.22433758967473477, 'gamma': 4.0253044735235276e-07, 'subsample': 0.970989435534908, 'colsample_bytree': 0.7247624651914643}. Best is trial 77 with value: 61310.0.\n[I 2024-03-15 10:32:30,054] Trial 157 finished with value: 61040.0 and parameters: {'max_depth': 5, 'eta': 0.24874734243765467, 'gamma': 1.964145015668399e-06, 'subsample': 0.7091640020361671, 'colsample_bytree': 0.7065814081035003}. Best is trial 77 with value: 61310.0.\n[I 2024-03-15 10:32:31,068] Trial 158 finished with value: 61180.0 and parameters: {'max_depth': 5, 'eta': 0.26628309714962545, 'gamma': 2.8897845150591683e-06, 'subsample': 0.746301091450549, 'colsample_bytree': 0.6722028290757406}. Best is trial 77 with value: 61310.0.\n[I 2024-03-15 10:32:32,060] Trial 159 finished with value: 61090.0 and parameters: {'max_depth': 5, 'eta': 0.20900088541584827, 'gamma': 0.001391694718127549, 'subsample': 0.937372696082607, 'colsample_bytree': 0.6618259075306148}. Best is trial 77 with value: 61310.0.\n[I 2024-03-15 10:32:33,127] Trial 160 finished with value: 61300.0 and parameters: {'max_depth': 5, 'eta': 0.23546848814139545, 'gamma': 1.3744241843882062e-08, 'subsample': 0.991404448676211, 'colsample_bytree': 0.7678038198581612}. Best is trial 77 with value: 61310.0.\n[I 2024-03-15 10:32:34,142] Trial 161 finished with value: 60950.0 and parameters: {'max_depth': 5, 'eta': 0.22967432987294062, 'gamma': 0.003858226250575233, 'subsample': 0.9865295488497355, 'colsample_bytree': 0.7506423163788546}. Best is trial 77 with value: 61310.0.\n[I 2024-03-15 10:32:35,139] Trial 162 finished with value: 61100.0 and parameters: {'max_depth': 5, 'eta': 0.24447079167709893, 'gamma': 6.307832057666126e-08, 'subsample': 0.9665285869217739, 'colsample_bytree': 0.7711769228428045}. Best is trial 77 with value: 61310.0.\n[I 2024-03-15 10:32:36,103] Trial 163 finished with value: 61160.0 and parameters: {'max_depth': 5, 'eta': 0.27989157874777515, 'gamma': 4.96027646081157e-08, 'subsample': 0.9986655819977845, 'colsample_bytree': 0.6858254856255248}. Best is trial 77 with value: 61310.0.\n[I 2024-03-15 10:32:37,099] Trial 164 finished with value: 61100.0 and parameters: {'max_depth': 5, 'eta': 0.20077416524278544, 'gamma': 3.3080488072811166e-05, 'subsample': 0.9582677013815315, 'colsample_bytree': 0.798007678358559}. Best is trial 77 with value: 61310.0.\n[I 2024-03-15 10:32:38,113] Trial 165 finished with value: 61100.0 and parameters: {'max_depth': 5, 'eta': 0.2199606544012974, 'gamma': 0.00052609024833877, 'subsample': 0.9855343874806399, 'colsample_bytree': 0.7160967307134202}. Best is trial 77 with value: 61310.0.\n[I 2024-03-15 10:32:39,137] Trial 166 finished with value: 60840.0 and parameters: {'max_depth': 5, 'eta': 0.18224818187798397, 'gamma': 2.423083753308688e-08, 'subsample': 0.7834894730099923, 'colsample_bytree': 0.7023164524924618}. Best is trial 77 with value: 61310.0.\n[I 2024-03-15 10:32:40,159] Trial 167 finished with value: 61050.0 and parameters: {'max_depth': 5, 'eta': 0.2641729221537705, 'gamma': 1.0584561695025133e-08, 'subsample': 0.768022722968848, 'colsample_bytree': 0.7437984874718285}. Best is trial 77 with value: 61310.0.\n[I 2024-03-15 10:32:41,043] Trial 168 finished with value: 60870.0 and parameters: {'max_depth': 4, 'eta': 0.23268969641419693, 'gamma': 0.00018735872153898277, 'subsample': 0.976832932311344, 'colsample_bytree': 0.5532374790649882}. Best is trial 77 with value: 61310.0.\n[I 2024-03-15 10:32:42,168] Trial 169 finished with value: 60940.0 and parameters: {'max_depth': 5, 'eta': 0.1643397091282458, 'gamma': 2.7088225207530612e-08, 'subsample': 0.733363088065699, 'colsample_bytree': 0.6422581418724378}. Best is trial 77 with value: 61310.0.\n[I 2024-03-15 10:32:43,304] Trial 170 finished with value: 60970.0 and parameters: {'max_depth': 5, 'eta': 0.2555533836571243, 'gamma': 2.69626524697235e-07, 'subsample': 0.9922030234208238, 'colsample_bytree': 0.8280952084057736}. Best is trial 77 with value: 61310.0.\n[I 2024-03-15 10:32:44,403] Trial 171 finished with value: 61000.0 and parameters: {'max_depth': 5, 'eta': 0.29824638627594313, 'gamma': 2.3100129068390228e-05, 'subsample': 0.7434603634282655, 'colsample_bytree': 0.6741913609608009}. Best is trial 77 with value: 61310.0.\n[I 2024-03-15 10:32:45,420] Trial 172 finished with value: 61100.0 and parameters: {'max_depth': 5, 'eta': 0.2674442437150589, 'gamma': 6.511785209587703e-06, 'subsample': 0.7530761734722493, 'colsample_bytree': 0.6796983670643112}. Best is trial 77 with value: 61310.0.\n[I 2024-03-15 10:32:46,443] Trial 173 finished with value: 61070.0 and parameters: {'max_depth': 5, 'eta': 0.24808149637573726, 'gamma': 3.1112278621030018e-06, 'subsample': 0.7433498283304089, 'colsample_bytree': 0.6911263046133779}. Best is trial 77 with value: 61310.0.\n[I 2024-03-15 10:32:47,443] Trial 174 finished with value: 61020.0 and parameters: {'max_depth': 5, 'eta': 0.27052802467797227, 'gamma': 1.9587842129969346e-06, 'subsample': 0.7640871101835396, 'colsample_bytree': 0.669405964822878}. Best is trial 77 with value: 61310.0.\n[I 2024-03-15 10:32:48,502] Trial 175 finished with value: 61170.0 and parameters: {'max_depth': 5, 'eta': 0.21594732485817386, 'gamma': 0.002844585844214568, 'subsample': 0.7221848935066182, 'colsample_bytree': 0.6534002932253905}. Best is trial 77 with value: 61310.0.\n[I 2024-03-15 10:32:49,523] Trial 176 finished with value: 60970.0 and parameters: {'max_depth': 5, 'eta': 0.23555790556146797, 'gamma': 0.007731902563111075, 'subsample': 0.9631265341743067, 'colsample_bytree': 0.7090410577751765}. Best is trial 77 with value: 61310.0.\n[I 2024-03-15 10:32:50,558] Trial 177 finished with value: 60990.0 and parameters: {'max_depth': 5, 'eta': 0.2879091717486362, 'gamma': 6.083038438691041e-05, 'subsample': 0.7728667574016823, 'colsample_bytree': 0.7247003237472327}. Best is trial 77 with value: 61310.0.\n[I 2024-03-15 10:32:51,562] Trial 178 finished with value: 60960.0 and parameters: {'max_depth': 5, 'eta': 0.26177414204116006, 'gamma': 0.0015235740553464485, 'subsample': 0.757692845038568, 'colsample_bytree': 0.6960796546974164}. Best is trial 77 with value: 61310.0.\n[I 2024-03-15 10:32:52,917] Trial 179 finished with value: 60840.0 and parameters: {'max_depth': 7, 'eta': 0.2015549239825906, 'gamma': 0.00089532668002891, 'subsample': 0.6987904752583913, 'colsample_bytree': 0.8104085630965272}. Best is trial 77 with value: 61310.0.\n[I 2024-03-15 10:32:54,040] Trial 180 finished with value: 61120.0 and parameters: {'max_depth': 6, 'eta': 0.24271967628191152, 'gamma': 0.0020031354248457806, 'subsample': 0.7373064223915495, 'colsample_bytree': 0.6382827309084751}. Best is trial 77 with value: 61310.0.\n[I 2024-03-15 10:32:55,094] Trial 181 finished with value: 61170.0 and parameters: {'max_depth': 5, 'eta': 0.2490852737017905, 'gamma': 0.0037053428201580104, 'subsample': 0.8679061265125755, 'colsample_bytree': 0.9264911263680671}. Best is trial 77 with value: 61310.0.\n[I 2024-03-15 10:32:56,176] Trial 182 finished with value: 60980.0 and parameters: {'max_depth': 5, 'eta': 0.2218277569484513, 'gamma': 0.11054986390692007, 'subsample': 0.5512700179967397, 'colsample_bytree': 0.8966151140977959}. Best is trial 77 with value: 61310.0.\n[I 2024-03-15 10:32:57,266] Trial 183 finished with value: 60980.0 and parameters: {'max_depth': 5, 'eta': 0.273365106358638, 'gamma': 0.012516532553259935, 'subsample': 0.5967981491572086, 'colsample_bytree': 0.9128622064607859}. Best is trial 77 with value: 61310.0.\n[I 2024-03-15 10:32:58,272] Trial 184 finished with value: 60880.0 and parameters: {'max_depth': 5, 'eta': 0.2292831472912408, 'gamma': 0.8720971492555725, 'subsample': 0.7893450783035615, 'colsample_bytree': 0.7797652310192469}. Best is trial 77 with value: 61310.0.\n[I 2024-03-15 10:32:59,341] Trial 185 finished with value: 61010.0 and parameters: {'max_depth': 5, 'eta': 0.2556260516775565, 'gamma': 0.00522525100456403, 'subsample': 0.5840142367902321, 'colsample_bytree': 0.8809736475703629}. Best is trial 77 with value: 61310.0.\n[I 2024-03-15 10:33:00,343] Trial 186 finished with value: 61130.0 and parameters: {'max_depth': 5, 'eta': 0.2787074527042977, 'gamma': 0.02771384970285445, 'subsample': 0.8914549282810613, 'colsample_bytree': 0.7142353614088791}. Best is trial 77 with value: 61310.0.\n[I 2024-03-15 10:33:01,472] Trial 187 finished with value: 60990.0 and parameters: {'max_depth': 5, 'eta': 0.21264404648954244, 'gamma': 0.17300494608321923, 'subsample': 0.5379487280058467, 'colsample_bytree': 0.6653520843525995}. Best is trial 77 with value: 61310.0.\n[I 2024-03-15 10:33:02,540] Trial 188 finished with value: 60870.0 and parameters: {'max_depth': 5, 'eta': 0.23779571453906784, 'gamma': 9.858859351139275e-07, 'subsample': 0.8025019680394663, 'colsample_bytree': 0.6222945513542819}. Best is trial 77 with value: 61310.0.\n[I 2024-03-15 10:33:03,357] Trial 189 finished with value: 60570.0 and parameters: {'max_depth': 3, 'eta': 0.1948141204638166, 'gamma': 1.1028625139175351e-05, 'subsample': 0.6442728716119358, 'colsample_bytree': 0.9410605749075838}. Best is trial 77 with value: 61310.0.\n[I 2024-03-15 10:33:04,369] Trial 190 finished with value: 61220.0 and parameters: {'max_depth': 5, 'eta': 0.26380936737923205, 'gamma': 0.052331268754300074, 'subsample': 0.7140697670837812, 'colsample_bytree': 0.6790229561895175}. Best is trial 77 with value: 61310.0.\n[I 2024-03-15 10:33:05,384] Trial 191 finished with value: 61240.0 and parameters: {'max_depth': 5, 'eta': 0.26378861052836866, 'gamma': 0.08909846955503342, 'subsample': 0.7049492076264813, 'colsample_bytree': 0.6815851128868865}. Best is trial 77 with value: 61310.0.\n[I 2024-03-15 10:33:06,394] Trial 192 finished with value: 61120.0 and parameters: {'max_depth': 5, 'eta': 0.29856945569968807, 'gamma': 1.582169167933341e-08, 'subsample': 0.711848067072984, 'colsample_bytree': 0.6863943353422706}. Best is trial 77 with value: 61310.0.\n[I 2024-03-15 10:33:07,401] Trial 193 finished with value: 61240.0 and parameters: {'max_depth': 5, 'eta': 0.2578914855728852, 'gamma': 0.03349905813727778, 'subsample': 0.6859406580027584, 'colsample_bytree': 0.6799724891287291}. Best is trial 77 with value: 61310.0.\n[I 2024-03-15 10:33:08,416] Trial 194 finished with value: 60860.0 and parameters: {'max_depth': 5, 'eta': 0.2517287146696753, 'gamma': 0.033760597467179895, 'subsample': 0.682230354369646, 'colsample_bytree': 0.6800586480465891}. Best is trial 77 with value: 61310.0.\n[I 2024-03-15 10:33:09,428] Trial 195 finished with value: 61120.0 and parameters: {'max_depth': 5, 'eta': 0.2843867577072369, 'gamma': 0.015903882296730204, 'subsample': 0.6917728925068782, 'colsample_bytree': 0.6998239558466472}. Best is trial 77 with value: 61310.0.\n[I 2024-03-15 10:33:10,511] Trial 196 finished with value: 61190.0 and parameters: {'max_depth': 5, 'eta': 0.23376681388919723, 'gamma': 0.01984374627386402, 'subsample': 0.6985212758655408, 'colsample_bytree': 0.6488238598233987}. Best is trial 77 with value: 61310.0.\n[I 2024-03-15 10:33:11,544] Trial 197 finished with value: 61160.0 and parameters: {'max_depth': 5, 'eta': 0.23442070328764333, 'gamma': 0.0817215523090184, 'subsample': 0.669466511274958, 'colsample_bytree': 0.6466713750012265}. Best is trial 77 with value: 61310.0.\n[I 2024-03-15 10:33:12,641] Trial 198 finished with value: 58460.0 and parameters: {'max_depth': 5, 'eta': 0.022301133463432054, 'gamma': 0.06725836825824429, 'subsample': 0.7025716305760257, 'colsample_bytree': 0.6287735125283095}. Best is trial 77 with value: 61310.0.\n[I 2024-03-15 10:33:13,711] Trial 199 finished with value: 61000.0 and parameters: {'max_depth': 5, 'eta': 0.2643438767729959, 'gamma': 0.0553585605832614, 'subsample': 0.6874745687465812, 'colsample_bytree': 0.6627200543950988}. Best is trial 77 with value: 61310.0.\n[I 2024-03-15 10:33:14,856] Trial 200 finished with value: 61070.0 and parameters: {'max_depth': 6, 'eta': 0.22563048132616062, 'gamma': 0.03595475488082449, 'subsample': 0.7083228070915368, 'colsample_bytree': 0.6887409753925531}. Best is trial 77 with value: 61310.0.\n[I 2024-03-15 10:33:15,886] Trial 201 finished with value: 61190.0 and parameters: {'max_depth': 5, 'eta': 0.24679994954825904, 'gamma': 0.023547854367060125, 'subsample': 0.7225817397102178, 'colsample_bytree': 0.6523249030732804}. Best is trial 77 with value: 61310.0.\n[I 2024-03-15 10:33:16,901] Trial 202 finished with value: 61190.0 and parameters: {'max_depth': 5, 'eta': 0.24779792094213257, 'gamma': 0.021828566704713254, 'subsample': 0.7206609646693745, 'colsample_bytree': 0.6544063878082638}. Best is trial 77 with value: 61310.0.\n[I 2024-03-15 10:33:17,910] Trial 203 finished with value: 61050.0 and parameters: {'max_depth': 5, 'eta': 0.2626317697665466, 'gamma': 0.022344579765791486, 'subsample': 0.7205485759521066, 'colsample_bytree': 0.6470381475743352}. Best is trial 77 with value: 61310.0.\n[I 2024-03-15 10:33:18,921] Trial 204 finished with value: 61310.0 and parameters: {'max_depth': 5, 'eta': 0.24182072818517056, 'gamma': 0.04908560244911832, 'subsample': 0.7183342763007345, 'colsample_bytree': 0.6498657007707769}. Best is trial 77 with value: 61310.0.\n[I 2024-03-15 10:33:19,927] Trial 205 finished with value: 61060.0 and parameters: {'max_depth': 5, 'eta': 0.23825013105615864, 'gamma': 0.04725737046792909, 'subsample': 0.726899752208998, 'colsample_bytree': 0.6493828319118206}. Best is trial 77 with value: 61310.0.\n[I 2024-03-15 10:33:21,019] Trial 206 finished with value: 61010.0 and parameters: {'max_depth': 5, 'eta': 0.21891209230810352, 'gamma': 0.01938257156749089, 'subsample': 0.7143348810708146, 'colsample_bytree': 0.6606165998701489}. Best is trial 77 with value: 61310.0.\n[I 2024-03-15 10:33:22,066] Trial 207 finished with value: 61090.0 and parameters: {'max_depth': 5, 'eta': 0.2804626410171592, 'gamma': 0.04484078663297435, 'subsample': 0.7026610930757118, 'colsample_bytree': 0.637040169026346}. Best is trial 77 with value: 61310.0.\n[I 2024-03-15 10:33:23,131] Trial 208 finished with value: 61290.0 and parameters: {'max_depth': 5, 'eta': 0.23964837121410568, 'gamma': 0.02303681559377903, 'subsample': 0.6770816169261825, 'colsample_bytree': 0.6554965192223621}. Best is trial 77 with value: 61310.0.\n[I 2024-03-15 10:33:24,200] Trial 209 finished with value: 61170.0 and parameters: {'max_depth': 5, 'eta': 0.23107238756929907, 'gamma': 0.009152312861540366, 'subsample': 0.6565554544320558, 'colsample_bytree': 0.6687785882890537}. Best is trial 77 with value: 61310.0.\n[I 2024-03-15 10:33:25,264] Trial 210 finished with value: 61150.0 and parameters: {'max_depth': 5, 'eta': 0.20991981598045528, 'gamma': 0.12743858807328706, 'subsample': 0.6773088002147484, 'colsample_bytree': 0.6329260802528961}. Best is trial 77 with value: 61310.0.\n[I 2024-03-15 10:33:26,347] Trial 211 finished with value: 61280.0 and parameters: {'max_depth': 5, 'eta': 0.24733973018329092, 'gamma': 0.02536322708141261, 'subsample': 0.694921763966005, 'colsample_bytree': 0.6536531478154413}. Best is trial 77 with value: 61310.0.\n[I 2024-03-15 10:33:27,440] Trial 212 finished with value: 61160.0 and parameters: {'max_depth': 5, 'eta': 0.27391832591364335, 'gamma': 0.03047629992116125, 'subsample': 0.6765562844558302, 'colsample_bytree': 0.656296419360298}. Best is trial 77 with value: 61310.0.\n[I 2024-03-15 10:33:28,500] Trial 213 finished with value: 61040.0 and parameters: {'max_depth': 5, 'eta': 0.24111756359591544, 'gamma': 0.012713442987812634, 'subsample': 0.6931002628791564, 'colsample_bytree': 0.6739559221112577}. Best is trial 77 with value: 61310.0.\n[I 2024-03-15 10:33:29,526] Trial 214 finished with value: 60950.0 and parameters: {'max_depth': 5, 'eta': 0.2649335706677439, 'gamma': 0.33097594143502884, 'subsample': 0.691856912464868, 'colsample_bytree': 0.6473985754411706}. Best is trial 77 with value: 61310.0.\n[I 2024-03-15 10:33:30,606] Trial 215 finished with value: 61240.0 and parameters: {'max_depth': 5, 'eta': 0.22428470983472917, 'gamma': 0.04158900475993269, 'subsample': 0.6644154294822338, 'colsample_bytree': 0.6617472953876917}. Best is trial 77 with value: 61310.0.\n[I 2024-03-15 10:33:32,091] Trial 216 finished with value: 60800.0 and parameters: {'max_depth': 8, 'eta': 0.21521949114152072, 'gamma': 0.06862695990603168, 'subsample': 0.6525872257926242, 'colsample_bytree': 0.6797669131357122}. Best is trial 77 with value: 61310.0.\n[I 2024-03-15 10:33:33,175] Trial 217 finished with value: 61100.0 and parameters: {'max_depth': 5, 'eta': 0.22537276721458543, 'gamma': 0.04524882765619734, 'subsample': 0.6711912804135807, 'colsample_bytree': 0.6634570541084964}. Best is trial 77 with value: 61310.0.\n[I 2024-03-15 10:33:34,274] Trial 218 finished with value: 61150.0 and parameters: {'max_depth': 5, 'eta': 0.20639752748309415, 'gamma': 0.007260205189330572, 'subsample': 0.6604328749278977, 'colsample_bytree': 0.6727625461712426}. Best is trial 77 with value: 61310.0.\n[I 2024-03-15 10:33:35,367] Trial 219 finished with value: 61160.0 and parameters: {'max_depth': 5, 'eta': 0.23366334359107122, 'gamma': 0.20013606429423175, 'subsample': 0.6862948874080892, 'colsample_bytree': 0.6279611645273712}. Best is trial 77 with value: 61310.0.\n[I 2024-03-15 10:33:36,528] Trial 220 finished with value: 61360.0 and parameters: {'max_depth': 5, 'eta': 0.25686049815376094, 'gamma': 0.10854525621126822, 'subsample': 0.709721269606578, 'colsample_bytree': 0.8520015289738816}. Best is trial 220 with value: 61360.0.\n[I 2024-03-15 10:33:37,610] Trial 221 finished with value: 61250.0 and parameters: {'max_depth': 5, 'eta': 0.2507309215345219, 'gamma': 0.1108973178870059, 'subsample': 0.7000703016297224, 'colsample_bytree': 0.8386803035681033}. Best is trial 220 with value: 61360.0.\n[I 2024-03-15 10:33:38,715] Trial 222 finished with value: 61060.0 and parameters: {'max_depth': 5, 'eta': 0.25584903134424397, 'gamma': 0.10121070648651626, 'subsample': 0.7027893272608453, 'colsample_bytree': 0.8363735364216955}. Best is trial 220 with value: 61360.0.\n[I 2024-03-15 10:33:39,772] Trial 223 finished with value: 60910.0 and parameters: {'max_depth': 5, 'eta': 0.27376714371883754, 'gamma': 0.06274680313871528, 'subsample': 0.707071397691019, 'colsample_bytree': 0.8292015812821814}. Best is trial 220 with value: 61360.0.\n[I 2024-03-15 10:33:40,844] Trial 224 finished with value: 61020.0 and parameters: {'max_depth': 5, 'eta': 0.29796729054557636, 'gamma': 0.09164438109777112, 'subsample': 0.7122997853355855, 'colsample_bytree': 0.8513652966736112}. Best is trial 220 with value: 61360.0.\n[I 2024-03-15 10:33:41,924] Trial 225 finished with value: 60930.0 and parameters: {'max_depth': 5, 'eta': 0.25909103336499173, 'gamma': 0.1231197700724644, 'subsample': 0.6818551458956582, 'colsample_bytree': 0.8103013489624499}. Best is trial 220 with value: 61360.0.\n[I 2024-03-15 10:33:43,008] Trial 226 finished with value: 61130.0 and parameters: {'max_depth': 5, 'eta': 0.2445682197406118, 'gamma': 0.04585489951029228, 'subsample': 0.7316844838682106, 'colsample_bytree': 0.8452543299358182}. Best is trial 220 with value: 61360.0.\n[I 2024-03-15 10:33:44,090] Trial 227 finished with value: 61010.0 and parameters: {'max_depth': 5, 'eta': 0.27929379592206854, 'gamma': 0.23789312364975987, 'subsample': 0.6615460077961274, 'colsample_bytree': 0.8362113876773948}. Best is trial 220 with value: 61360.0.\n[I 2024-03-15 10:33:45,145] Trial 228 finished with value: 61030.0 and parameters: {'max_depth': 5, 'eta': 0.2596271024934309, 'gamma': 0.035214713416826714, 'subsample': 0.6914338568943962, 'colsample_bytree': 0.8420594253708235}. Best is trial 220 with value: 61360.0.\n[I 2024-03-15 10:33:46,208] Trial 229 finished with value: 60990.0 and parameters: {'max_depth': 5, 'eta': 0.2232238741381863, 'gamma': 0.0027485122331571176, 'subsample': 0.7159196917687393, 'colsample_bytree': 0.8254100533205959}. Best is trial 220 with value: 61360.0.\n[I 2024-03-15 10:33:47,293] Trial 230 finished with value: 61330.0 and parameters: {'max_depth': 5, 'eta': 0.24995450048508439, 'gamma': 0.4433800402160669, 'subsample': 0.6319550752793579, 'colsample_bytree': 0.863422408038644}. Best is trial 220 with value: 61360.0.\n[I 2024-03-15 10:33:48,383] Trial 231 finished with value: 60990.0 and parameters: {'max_depth': 5, 'eta': 0.2492601303643705, 'gamma': 0.06367395822259027, 'subsample': 0.6423977672705349, 'colsample_bytree': 0.8603265692212091}. Best is trial 220 with value: 61360.0.\n[I 2024-03-15 10:33:49,437] Trial 232 finished with value: 61060.0 and parameters: {'max_depth': 5, 'eta': 0.267798624080301, 'gamma': 0.5041804190661636, 'subsample': 0.6671576554417814, 'colsample_bytree': 0.8612802478125291}. Best is trial 220 with value: 61360.0.\n[I 2024-03-15 10:33:50,448] Trial 233 finished with value: 61180.0 and parameters: {'max_depth': 5, 'eta': 0.24160153692714897, 'gamma': 0.6494419037280594, 'subsample': 0.633426555475005, 'colsample_bytree': 0.6907639989854164}. Best is trial 220 with value: 61360.0.\n[I 2024-03-15 10:33:51,515] Trial 234 finished with value: 61020.0 and parameters: {'max_depth': 5, 'eta': 0.22618626179828394, 'gamma': 0.1844320183892195, 'subsample': 0.6976217619640285, 'colsample_bytree': 0.8486612620848828}. Best is trial 220 with value: 61360.0.\n[I 2024-03-15 10:33:52,589] Trial 235 finished with value: 61120.0 and parameters: {'max_depth': 5, 'eta': 0.25722314933737767, 'gamma': 0.004434711600298603, 'subsample': 0.7117498758160056, 'colsample_bytree': 0.8173871122351173}. Best is trial 220 with value: 61360.0.\n[I 2024-03-15 10:33:53,673] Trial 236 finished with value: 61000.0 and parameters: {'max_depth': 5, 'eta': 0.28449345936230097, 'gamma': 0.028076156539851852, 'subsample': 0.6840159305044875, 'colsample_bytree': 0.9200276421846717}. Best is trial 220 with value: 61360.0.\n[I 2024-03-15 10:33:54,718] Trial 237 finished with value: 61040.0 and parameters: {'max_depth': 5, 'eta': 0.23881502091798226, 'gamma': 0.0017992279642097678, 'subsample': 0.6751983717734059, 'colsample_bytree': 0.6645905864916901}. Best is trial 220 with value: 61360.0.\n[I 2024-03-15 10:33:55,745] Trial 238 finished with value: 61060.0 and parameters: {'max_depth': 5, 'eta': 0.21337792364358427, 'gamma': 0.44984558324294704, 'subsample': 0.7343636053191979, 'colsample_bytree': 0.6790376458704932}. Best is trial 220 with value: 61360.0.\n[I 2024-03-15 10:33:56,806] Trial 239 finished with value: 61000.0 and parameters: {'max_depth': 5, 'eta': 0.25385500689826096, 'gamma': 0.37701574480938327, 'subsample': 0.6173297247944998, 'colsample_bytree': 0.7027971546697414}. Best is trial 220 with value: 61360.0.\n[I 2024-03-15 10:33:57,882] Trial 240 finished with value: 61250.0 and parameters: {'max_depth': 5, 'eta': 0.1969393731471007, 'gamma': 0.12235192336430638, 'subsample': 0.7032683285788429, 'colsample_bytree': 0.8723976133736645}. Best is trial 220 with value: 61360.0.\n[I 2024-03-15 10:33:58,978] Trial 241 finished with value: 61080.0 and parameters: {'max_depth': 5, 'eta': 0.19235453091938953, 'gamma': 0.14632465713814657, 'subsample': 0.7107597804961476, 'colsample_bytree': 0.8735853607409539}. Best is trial 220 with value: 61360.0.\n[I 2024-03-15 10:34:00,077] Trial 242 finished with value: 61170.0 and parameters: {'max_depth': 5, 'eta': 0.20095099171297437, 'gamma': 0.0964005145099169, 'subsample': 0.6994742993336526, 'colsample_bytree': 0.8652450118048869}. Best is trial 220 with value: 61360.0.\n[I 2024-03-15 10:34:01,183] Trial 243 finished with value: 61340.0 and parameters: {'max_depth': 5, 'eta': 0.22197984998451975, 'gamma': 0.0853762204293518, 'subsample': 0.7264329505568164, 'colsample_bytree': 0.8512290730149644}. Best is trial 220 with value: 61360.0.\n[I 2024-03-15 10:34:02,245] Trial 244 finished with value: 60780.0 and parameters: {'max_depth': 5, 'eta': 0.22631764872322432, 'gamma': 0.07506439821957962, 'subsample': 0.7201803323424154, 'colsample_bytree': 0.8447667661846122}. Best is trial 220 with value: 61360.0.\n[I 2024-03-15 10:34:03,325] Trial 245 finished with value: 61030.0 and parameters: {'max_depth': 5, 'eta': 0.2408417475023131, 'gamma': 0.05331137760025989, 'subsample': 0.7054701682260629, 'colsample_bytree': 0.8715606604819179}. Best is trial 220 with value: 61360.0.\n[I 2024-03-15 10:34:04,462] Trial 246 finished with value: 60930.0 and parameters: {'max_depth': 5, 'eta': 0.26545106202984126, 'gamma': 0.09598853259601066, 'subsample': 0.731042246878785, 'colsample_bytree': 0.8573586565938516}. Best is trial 220 with value: 61360.0.\n[I 2024-03-15 10:34:05,582] Trial 247 finished with value: 60960.0 and parameters: {'max_depth': 5, 'eta': 0.2181073749185038, 'gamma': 0.14502419320967855, 'subsample': 0.627968441005973, 'colsample_bytree': 0.8540726734830605}. Best is trial 220 with value: 61360.0.\n[I 2024-03-15 10:34:06,643] Trial 248 finished with value: 60970.0 and parameters: {'max_depth': 5, 'eta': 0.23590332507969114, 'gamma': 0.04869605721503698, 'subsample': 0.6503166397816856, 'colsample_bytree': 0.8401207223570244}. Best is trial 220 with value: 61360.0.\n[I 2024-03-15 10:34:07,698] Trial 249 finished with value: 61050.0 and parameters: {'max_depth': 5, 'eta': 0.2790175485901552, 'gamma': 0.0026803960108631696, 'subsample': 0.7710053067608967, 'colsample_bytree': 0.8839585884326342}. Best is trial 220 with value: 61360.0.\n[I 2024-03-15 10:34:08,765] Trial 250 finished with value: 61150.0 and parameters: {'max_depth': 5, 'eta': 0.24618977721978919, 'gamma': 0.07985518696250561, 'subsample': 0.7508218781619541, 'colsample_bytree': 0.8327914635994867}. Best is trial 220 with value: 61360.0.\n[I 2024-03-15 10:34:09,910] Trial 251 finished with value: 61110.0 and parameters: {'max_depth': 5, 'eta': 0.21283625878675438, 'gamma': 0.03242867464164131, 'subsample': 0.7248414910634206, 'colsample_bytree': 0.8533340093076291}. Best is trial 220 with value: 61360.0.\n[I 2024-03-15 10:34:10,987] Trial 252 finished with value: 61270.0 and parameters: {'max_depth': 5, 'eta': 0.2620627403850951, 'gamma': 0.005583875580375097, 'subsample': 0.6920945848728596, 'colsample_bytree': 0.6586772764237767}. Best is trial 220 with value: 61360.0.\n[I 2024-03-15 10:34:12,135] Trial 253 finished with value: 59400.0 and parameters: {'max_depth': 5, 'eta': 0.041154315526830354, 'gamma': 0.016817157292596016, 'subsample': 0.6894261587706975, 'colsample_bytree': 0.6418628358068099}. Best is trial 220 with value: 61360.0.\n[I 2024-03-15 10:34:13,153] Trial 254 finished with value: 61260.0 and parameters: {'max_depth': 5, 'eta': 0.2693076858244188, 'gamma': 0.03741118074418641, 'subsample': 0.6978451247795475, 'colsample_bytree': 0.6569531482629534}. Best is trial 220 with value: 61360.0.\n[I 2024-03-15 10:34:14,068] Trial 255 finished with value: 61070.0 and parameters: {'max_depth': 4, 'eta': 0.28512789043014625, 'gamma': 0.04123519387625082, 'subsample': 0.6933872140750379, 'colsample_bytree': 0.6583801155328881}. Best is trial 220 with value: 61360.0.\n[I 2024-03-15 10:34:15,098] Trial 256 finished with value: 60930.0 and parameters: {'max_depth': 5, 'eta': 0.29832571870450914, 'gamma': 0.02688091065842659, 'subsample': 0.7055010012236452, 'colsample_bytree': 0.6594367433684443}. Best is trial 220 with value: 61360.0.\n[I 2024-03-15 10:34:16,111] Trial 257 finished with value: 61100.0 and parameters: {'max_depth': 5, 'eta': 0.26134661875090476, 'gamma': 0.06438032626746318, 'subsample': 0.6807826094302282, 'colsample_bytree': 0.6392282319437144}. Best is trial 220 with value: 61360.0.\n[I 2024-03-15 10:34:16,945] Trial 258 finished with value: 56130.0 and parameters: {'max_depth': 3, 'eta': 0.030829547351698322, 'gamma': 0.009545388395644994, 'subsample': 0.715793366931694, 'colsample_bytree': 0.6701302970725586}. Best is trial 220 with value: 61360.0.\n[I 2024-03-15 10:34:17,955] Trial 259 finished with value: 61110.0 and parameters: {'max_depth': 5, 'eta': 0.27182705557719106, 'gamma': 0.11408703122662536, 'subsample': 0.6680731358675069, 'colsample_bytree': 0.6519332627813974}. Best is trial 220 with value: 61360.0.\n[I 2024-03-15 10:34:18,963] Trial 260 finished with value: 61090.0 and parameters: {'max_depth': 5, 'eta': 0.2508726442591716, 'gamma': 0.2636535892586082, 'subsample': 0.6974808504841289, 'colsample_bytree': 0.6681583759043593}. Best is trial 220 with value: 61360.0.\n[I 2024-03-15 10:34:20,224] Trial 261 finished with value: 56760.0 and parameters: {'max_depth': 5, 'eta': 0.013072394530719421, 'gamma': 0.040042732313286554, 'subsample': 0.6857380194130973, 'colsample_bytree': 0.8201715256513246}. Best is trial 220 with value: 61360.0.\n[I 2024-03-15 10:34:21,634] Trial 262 finished with value: 60770.0 and parameters: {'max_depth': 7, 'eta': 0.08935598905506155, 'gamma': 0.0013256313043945999, 'subsample': 0.7014709749684471, 'colsample_bytree': 0.6776643191120366}. Best is trial 220 with value: 61360.0.\n[I 2024-03-15 10:34:22,671] Trial 263 finished with value: 61090.0 and parameters: {'max_depth': 5, 'eta': 0.22908512338997847, 'gamma': 0.014945571542389425, 'subsample': 0.716129551295113, 'colsample_bytree': 0.6587369478560718}. Best is trial 220 with value: 61360.0.\n[I 2024-03-15 10:34:23,687] Trial 264 finished with value: 61260.0 and parameters: {'max_depth': 5, 'eta': 0.2716925125720148, 'gamma': 0.005583851498205945, 'subsample': 0.7400660432401426, 'colsample_bytree': 0.6428177882948173}. Best is trial 220 with value: 61360.0.\n[I 2024-03-15 10:34:24,759] Trial 265 finished with value: 61110.0 and parameters: {'max_depth': 5, 'eta': 0.27803354899869326, 'gamma': 0.0045642466874718105, 'subsample': 0.728416505641881, 'colsample_bytree': 0.6419349026708804}. Best is trial 220 with value: 61360.0.\n[I 2024-03-15 10:34:25,860] Trial 266 finished with value: 59890.0 and parameters: {'max_depth': 5, 'eta': 0.05334699148567498, 'gamma': 0.00620908389618539, 'subsample': 0.6771250633568856, 'colsample_bytree': 0.6372794729334434}. Best is trial 220 with value: 61360.0.\n[I 2024-03-15 10:34:26,877] Trial 267 finished with value: 61010.0 and parameters: {'max_depth': 5, 'eta': 0.26654963686417343, 'gamma': 0.0029992490516860277, 'subsample': 0.7365139539097137, 'colsample_bytree': 0.6258786496319776}. Best is trial 220 with value: 61360.0.\n[I 2024-03-15 10:34:27,892] Trial 268 finished with value: 60970.0 and parameters: {'max_depth': 5, 'eta': 0.25141874674758874, 'gamma': 0.0021965703443425034, 'subsample': 0.6625226253526831, 'colsample_bytree': 0.6171769551831969}. Best is trial 220 with value: 61360.0.\n[I 2024-03-15 10:34:28,788] Trial 269 finished with value: 61160.0 and parameters: {'max_depth': 4, 'eta': 0.2980567492704435, 'gamma': 0.16093098345898016, 'subsample': 0.7240333604001205, 'colsample_bytree': 0.6538696248912569}. Best is trial 220 with value: 61360.0.\n[I 2024-03-15 10:34:29,917] Trial 270 finished with value: 61180.0 and parameters: {'max_depth': 6, 'eta': 0.26799647303443874, 'gamma': 0.005415722323175515, 'subsample': 0.7086539367194082, 'colsample_bytree': 0.6469642803999843}. Best is trial 220 with value: 61360.0.\n[I 2024-03-15 10:34:30,936] Trial 271 finished with value: 61050.0 and parameters: {'max_depth': 5, 'eta': 0.2392251163113658, 'gamma': 0.08645967658503324, 'subsample': 0.6935143573236576, 'colsample_bytree': 0.6673120156925139}. Best is trial 220 with value: 61360.0.\n[I 2024-03-15 10:34:31,973] Trial 272 finished with value: 60980.0 and parameters: {'max_depth': 5, 'eta': 0.25001651217805076, 'gamma': 0.05720324048575014, 'subsample': 0.7401347657728073, 'colsample_bytree': 0.6861934683057336}. Best is trial 220 with value: 61360.0.\n[I 2024-03-15 10:34:33,044] Trial 273 finished with value: 61130.0 and parameters: {'max_depth': 5, 'eta': 0.23131233332613424, 'gamma': 0.003395199575953671, 'subsample': 0.7030322387210138, 'colsample_bytree': 0.8666245527390515}. Best is trial 220 with value: 61360.0.\n[I 2024-03-15 10:34:34,129] Trial 274 finished with value: 60850.0 and parameters: {'max_depth': 5, 'eta': 0.2814889164570049, 'gamma': 0.00166999596392121, 'subsample': 0.6857721896307207, 'colsample_bytree': 0.8904533398672501}. Best is trial 220 with value: 61360.0.\n[I 2024-03-15 10:34:35,106] Trial 275 finished with value: 61080.0 and parameters: {'max_depth': 5, 'eta': 0.2630035291527336, 'gamma': 0.007248145891812398, 'subsample': 0.925220206828441, 'colsample_bytree': 0.599152206545632}. Best is trial 220 with value: 61360.0.\n[I 2024-03-15 10:34:36,133] Trial 276 finished with value: 61020.0 and parameters: {'max_depth': 5, 'eta': 0.21765132463954923, 'gamma': 0.033628345482388355, 'subsample': 0.7154515872462545, 'colsample_bytree': 0.6577677777171125}. Best is trial 220 with value: 61360.0.\n[I 2024-03-15 10:34:37,121] Trial 277 finished with value: 61150.0 and parameters: {'max_depth': 5, 'eta': 0.24867854160403322, 'gamma': 0.114735004965903, 'subsample': 0.9088742696400488, 'colsample_bytree': 0.6762290039782791}. Best is trial 220 with value: 61360.0.\n[I 2024-03-15 10:34:38,152] Trial 278 finished with value: 61100.0 and parameters: {'max_depth': 5, 'eta': 0.22878707352597766, 'gamma': 0.0677155286796067, 'subsample': 0.6268868087998508, 'colsample_bytree': 0.6421996179358312}. Best is trial 220 with value: 61360.0.\n[I 2024-03-15 10:34:39,182] Trial 279 finished with value: 60930.0 and parameters: {'max_depth': 5, 'eta': 0.28121431331217106, 'gamma': 0.0023321650551661175, 'subsample': 0.6414429039167299, 'colsample_bytree': 0.6323652168042933}. Best is trial 220 with value: 61360.0.\n[I 2024-03-15 10:34:40,256] Trial 280 finished with value: 59900.0 and parameters: {'max_depth': 5, 'eta': 0.059561348782474766, 'gamma': 0.0010007324656646443, 'subsample': 0.6717250333383723, 'colsample_bytree': 0.6683645322793242}. Best is trial 220 with value: 61360.0.\n[I 2024-03-15 10:34:41,309] Trial 281 finished with value: 60980.0 and parameters: {'max_depth': 5, 'eta': 0.260986256629082, 'gamma': 0.19110470678243002, 'subsample': 0.7260144767078799, 'colsample_bytree': 0.6506925894524487}. Best is trial 220 with value: 61360.0.\n[I 2024-03-15 10:34:42,414] Trial 282 finished with value: 61080.0 and parameters: {'max_depth': 5, 'eta': 0.20570624255141554, 'gamma': 0.011205652353262489, 'subsample': 0.6986855383945765, 'colsample_bytree': 0.6848392111171689}. Best is trial 220 with value: 61360.0.\n[I 2024-03-15 10:34:43,315] Trial 283 finished with value: 61050.0 and parameters: {'max_depth': 4, 'eta': 0.23787975587692328, 'gamma': 0.023931144267681316, 'subsample': 0.654800091020939, 'colsample_bytree': 0.6943939025821827}. Best is trial 220 with value: 61360.0.\n[I 2024-03-15 10:34:44,517] Trial 284 finished with value: 60960.0 and parameters: {'max_depth': 6, 'eta': 0.2995369141412769, 'gamma': 0.003764008063601416, 'subsample': 0.7096488892330121, 'colsample_bytree': 0.8768721494795628}. Best is trial 220 with value: 61360.0.\n[I 2024-03-15 10:34:45,571] Trial 285 finished with value: 60890.0 and parameters: {'max_depth': 5, 'eta': 0.11626126794492479, 'gamma': 0.03794317328749831, 'subsample': 0.6897498025458122, 'colsample_bytree': 0.6621475028539178}. Best is trial 220 with value: 61360.0.\n[I 2024-03-15 10:34:46,620] Trial 286 finished with value: 61110.0 and parameters: {'max_depth': 5, 'eta': 0.24911076308826774, 'gamma': 0.050205693864738284, 'subsample': 0.717505023396652, 'colsample_bytree': 0.8547744045354324}. Best is trial 220 with value: 61360.0.\n[I 2024-03-15 10:34:47,769] Trial 287 finished with value: 60890.0 and parameters: {'max_depth': 6, 'eta': 0.2221764036307911, 'gamma': 0.13077157771933837, 'subsample': 0.6792005368064243, 'colsample_bytree': 0.6767108812151494}. Best is trial 220 with value: 61360.0.\n[I 2024-03-15 10:34:48,770] Trial 288 finished with value: 61180.0 and parameters: {'max_depth': 5, 'eta': 0.2708387566315304, 'gamma': 0.08968942952992326, 'subsample': 0.7039330616500434, 'colsample_bytree': 0.6101639493183757}. Best is trial 220 with value: 61360.0.\n[I 2024-03-15 10:34:49,790] Trial 289 finished with value: 60980.0 and parameters: {'max_depth': 5, 'eta': 0.23901298829227807, 'gamma': 0.005622667830690592, 'subsample': 0.8473420994964356, 'colsample_bytree': 0.7977090225151563}. Best is trial 220 with value: 61360.0.\n[I 2024-03-15 10:34:50,776] Trial 290 finished with value: 60870.0 and parameters: {'max_depth': 5, 'eta': 0.26132984196327125, 'gamma': 0.32201770048424627, 'subsample': 0.9488711995129517, 'colsample_bytree': 0.6479727961040858}. Best is trial 220 with value: 61360.0.\n[I 2024-03-15 10:34:51,816] Trial 291 finished with value: 61100.0 and parameters: {'max_depth': 5, 'eta': 0.28151505022015494, 'gamma': 0.0014528541915899923, 'subsample': 0.7429871144557288, 'colsample_bytree': 0.6630857784916946}. Best is trial 220 with value: 61360.0.\n[I 2024-03-15 10:34:52,891] Trial 292 finished with value: 60380.0 and parameters: {'max_depth': 5, 'eta': 0.07532148890773109, 'gamma': 0.008115008828984933, 'subsample': 0.7253764881236707, 'colsample_bytree': 0.6337353009436063}. Best is trial 220 with value: 61360.0.\n[I 2024-03-15 10:34:53,879] Trial 293 finished with value: 61090.0 and parameters: {'max_depth': 5, 'eta': 0.21472861943264826, 'gamma': 0.062482069988713376, 'subsample': 0.8827449952433735, 'colsample_bytree': 0.578354000582453}. Best is trial 220 with value: 61360.0.\n[I 2024-03-15 10:34:54,925] Trial 294 finished with value: 61050.0 and parameters: {'max_depth': 5, 'eta': 0.24826134563845992, 'gamma': 0.0022727070671762772, 'subsample': 0.6941644453201903, 'colsample_bytree': 0.8443647814921879}. Best is trial 220 with value: 61360.0.\n[I 2024-03-15 10:34:55,986] Trial 295 finished with value: 60990.0 and parameters: {'max_depth': 5, 'eta': 0.22839099995420556, 'gamma': 0.028200500056477996, 'subsample': 0.6655422306413393, 'colsample_bytree': 0.8661345826000887}. Best is trial 220 with value: 61360.0.\n[I 2024-03-15 10:34:57,040] Trial 296 finished with value: 61280.0 and parameters: {'max_depth': 5, 'eta': 0.2693359726359232, 'gamma': 0.00382557791431321, 'subsample': 0.711269069454298, 'colsample_bytree': 0.6549342376196773}. Best is trial 220 with value: 61360.0.\n[I 2024-03-15 10:34:58,053] Trial 297 finished with value: 61130.0 and parameters: {'max_depth': 5, 'eta': 0.28311680234599756, 'gamma': 0.003464391086730381, 'subsample': 0.7094032386431487, 'colsample_bytree': 0.6542534421331558}. Best is trial 220 with value: 61360.0.\n[I 2024-03-15 10:34:59,113] Trial 298 finished with value: 61010.0 and parameters: {'max_depth': 5, 'eta': 0.26628021327468476, 'gamma': 0.0039935296689085084, 'subsample': 0.711981875303612, 'colsample_bytree': 0.667004312041073}. Best is trial 220 with value: 61360.0.\n[I 2024-03-15 10:35:00,008] Trial 299 finished with value: 61150.0 and parameters: {'max_depth': 4, 'eta': 0.26002091937358984, 'gamma': 0.005764671500852369, 'subsample': 0.7365198389703737, 'colsample_bytree': 0.6405619522585332}. Best is trial 220 with value: 61360.0.\n[I 2024-03-15 10:35:01,034] Trial 300 finished with value: 60990.0 and parameters: {'max_depth': 5, 'eta': 0.2845220688572862, 'gamma': 0.013068650301573446, 'subsample': 0.7195933163015109, 'colsample_bytree': 0.7628776940859607}. Best is trial 220 with value: 61360.0.\n[I 2024-03-15 10:35:02,058] Trial 301 finished with value: 61090.0 and parameters: {'max_depth': 5, 'eta': 0.2986882561444716, 'gamma': 0.0027030981641720667, 'subsample': 0.6950490417609259, 'colsample_bytree': 0.6571590142210468}. Best is trial 220 with value: 61360.0.\n[I 2024-03-15 10:35:03,082] Trial 302 finished with value: 61180.0 and parameters: {'max_depth': 5, 'eta': 0.23812930679057925, 'gamma': 0.0019654524404918573, 'subsample': 0.6851520186032475, 'colsample_bytree': 0.6218064697266431}. Best is trial 220 with value: 61360.0.\n[I 2024-03-15 10:35:04,125] Trial 303 finished with value: 60930.0 and parameters: {'max_depth': 5, 'eta': 0.25367639526512253, 'gamma': 0.04684524136160586, 'subsample': 0.7042102147927489, 'colsample_bytree': 0.6733771533128762}. Best is trial 220 with value: 61360.0.\n[I 2024-03-15 10:35:05,202] Trial 304 finished with value: 61080.0 and parameters: {'max_depth': 5, 'eta': 0.19487530739737102, 'gamma': 0.01813400442710735, 'subsample': 0.7299416771526975, 'colsample_bytree': 0.6449533627737042}. Best is trial 220 with value: 61360.0.\n[I 2024-03-15 10:35:06,278] Trial 305 finished with value: 61040.0 and parameters: {'max_depth': 5, 'eta': 0.27330236120941487, 'gamma': 0.0011186676257316504, 'subsample': 0.6487606306920154, 'colsample_bytree': 0.900174440438756}. Best is trial 220 with value: 61360.0.\n[I 2024-03-15 10:35:07,304] Trial 306 finished with value: 61180.0 and parameters: {'max_depth': 5, 'eta': 0.22036181433101878, 'gamma': 0.08529006749853522, 'subsample': 0.675413427835402, 'colsample_bytree': 0.6573897220908502}. Best is trial 220 with value: 61360.0.\n[I 2024-03-15 10:35:08,320] Trial 307 finished with value: 61000.0 and parameters: {'max_depth': 5, 'eta': 0.24957793006603166, 'gamma': 0.22575628101256387, 'subsample': 0.7172194566238947, 'colsample_bytree': 0.6806365768663066}. Best is trial 220 with value: 61360.0.\n[I 2024-03-15 10:35:09,211] Trial 308 finished with value: 60880.0 and parameters: {'max_depth': 4, 'eta': 0.20703162434578232, 'gamma': 0.00894492419828903, 'subsample': 0.752316794181135, 'colsample_bytree': 0.6487584533911928}. Best is trial 220 with value: 61360.0.\n[I 2024-03-15 10:35:10,220] Trial 309 finished with value: 61020.0 and parameters: {'max_depth': 5, 'eta': 0.23354038689093903, 'gamma': 0.0006440308947364054, 'subsample': 0.6983195279490804, 'colsample_bytree': 0.6332426441392963}. Best is trial 220 with value: 61360.0.\n[I 2024-03-15 10:35:11,274] Trial 310 finished with value: 61070.0 and parameters: {'max_depth': 5, 'eta': 0.2684475350182476, 'gamma': 0.004952765832880295, 'subsample': 0.6833566877124962, 'colsample_bytree': 0.6632993365077723}. Best is trial 220 with value: 61360.0.\n[I 2024-03-15 10:35:12,622] Trial 311 finished with value: 58770.0 and parameters: {'max_depth': 6, 'eta': 0.016944217979344922, 'gamma': 0.1533340730002314, 'subsample': 0.7076209605002987, 'colsample_bytree': 0.6694464031420241}. Best is trial 220 with value: 61360.0.\n[I 2024-03-15 10:35:13,678] Trial 312 finished with value: 61310.0 and parameters: {'max_depth': 5, 'eta': 0.24944838695803423, 'gamma': 0.036464537958297606, 'subsample': 0.7308132671881552, 'colsample_bytree': 0.854572112738109}. Best is trial 220 with value: 61360.0.\n[I 2024-03-15 10:35:14,751] Trial 313 finished with value: 61080.0 and parameters: {'max_depth': 5, 'eta': 0.25492672423912366, 'gamma': 0.032757278824939985, 'subsample': 0.737079460030216, 'colsample_bytree': 0.8567607313202692}. Best is trial 220 with value: 61360.0.\n[I 2024-03-15 10:35:16,193] Trial 314 finished with value: 60930.0 and parameters: {'max_depth': 8, 'eta': 0.27841451227642594, 'gamma': 0.022988826527206217, 'subsample': 0.7264212231127424, 'colsample_bytree': 0.8725818387916275}. Best is trial 220 with value: 61360.0.\n[I 2024-03-15 10:35:17,572] Trial 315 finished with value: 60800.0 and parameters: {'max_depth': 7, 'eta': 0.2441643499439418, 'gamma': 0.05513483577715068, 'subsample': 0.7199498872186464, 'colsample_bytree': 0.837130150301105}. Best is trial 220 with value: 61360.0.\n[I 2024-03-15 10:35:18,647] Trial 316 finished with value: 61220.0 and parameters: {'max_depth': 5, 'eta': 0.2674974948178212, 'gamma': 0.03923699344788397, 'subsample': 0.7445988642115351, 'colsample_bytree': 0.8444730226983999}. Best is trial 220 with value: 61360.0.\n[I 2024-03-15 10:35:19,699] Trial 317 finished with value: 60760.0 and parameters: {'max_depth': 5, 'eta': 0.29849169836532546, 'gamma': 0.07853064362287554, 'subsample': 0.7321910142150574, 'colsample_bytree': 0.884050931662729}. Best is trial 220 with value: 61360.0.\n[I 2024-03-15 10:35:20,786] Trial 318 finished with value: 61320.0 and parameters: {'max_depth': 5, 'eta': 0.22678235399548954, 'gamma': 0.018318877234686615, 'subsample': 0.6985095198604688, 'colsample_bytree': 0.8645805768898468}. Best is trial 220 with value: 61360.0.\n[I 2024-03-15 10:35:21,837] Trial 319 finished with value: 61170.0 and parameters: {'max_depth': 5, 'eta': 0.22321399603306427, 'gamma': 0.010476792824488589, 'subsample': 0.7590082007443384, 'colsample_bytree': 0.8633910973566887}. Best is trial 220 with value: 61360.0.\n[I 2024-03-15 10:35:22,677] Trial 320 finished with value: 60680.0 and parameters: {'max_depth': 3, 'eta': 0.20758943372112154, 'gamma': 0.02313533993489657, 'subsample': 0.6933646954474121, 'colsample_bytree': 0.8564862753066306}. Best is trial 220 with value: 61360.0.\n[I 2024-03-15 10:35:23,849] Trial 321 finished with value: 59710.0 and parameters: {'max_depth': 5, 'eta': 0.04888423842160481, 'gamma': 0.018346486078038723, 'subsample': 0.6715010309351228, 'colsample_bytree': 0.8800456289229941}. Best is trial 220 with value: 61360.0.\n[I 2024-03-15 10:35:24,926] Trial 322 finished with value: 61090.0 and parameters: {'max_depth': 5, 'eta': 0.23200673821451098, 'gamma': 0.01634172754428197, 'subsample': 0.6097523754087362, 'colsample_bytree': 0.8519433557664723}. Best is trial 220 with value: 61360.0.\n[I 2024-03-15 10:35:26,029] Trial 323 finished with value: 60970.0 and parameters: {'max_depth': 5, 'eta': 0.18559520058405862, 'gamma': 0.02985644357396815, 'subsample': 0.6619406207652738, 'colsample_bytree': 0.8312387993677053}. Best is trial 220 with value: 61360.0.\n[I 2024-03-15 10:35:27,110] Trial 324 finished with value: 60920.0 and parameters: {'max_depth': 5, 'eta': 0.244344369839999, 'gamma': 0.0067370881798850014, 'subsample': 0.7004979550692704, 'colsample_bytree': 0.8644582237359024}. Best is trial 220 with value: 61360.0.\n[I 2024-03-15 10:35:28,165] Trial 325 finished with value: 61210.0 and parameters: {'max_depth': 5, 'eta': 0.21343045402126673, 'gamma': 0.012527499873537346, 'subsample': 0.6864433067877181, 'colsample_bytree': 0.8490215463257046}. Best is trial 220 with value: 61360.0.\n[I 2024-03-15 10:35:29,253] Trial 326 finished with value: 61090.0 and parameters: {'max_depth': 5, 'eta': 0.22104047776096697, 'gamma': 0.0036141436512540674, 'subsample': 0.7087699000972894, 'colsample_bytree': 0.8914980483112414}. Best is trial 220 with value: 61360.0.\n[I 2024-03-15 10:35:30,174] Trial 327 finished with value: 60800.0 and parameters: {'max_depth': 4, 'eta': 0.2531706002629113, 'gamma': 0.12611620358995823, 'subsample': 0.678829847066072, 'colsample_bytree': 0.8724346007332233}. Best is trial 220 with value: 61360.0.\n[I 2024-03-15 10:35:31,327] Trial 328 finished with value: 60970.0 and parameters: {'max_depth': 6, 'eta': 0.19866780320096514, 'gamma': 0.035233597535635576, 'subsample': 0.6355384803726938, 'colsample_bytree': 0.642243957529342}. Best is trial 220 with value: 61360.0.\n[I 2024-03-15 10:35:32,543] Trial 329 finished with value: 61100.0 and parameters: {'max_depth': 5, 'eta': 0.23698818788486178, 'gamma': 0.007384497843948461, 'subsample': 0.7493961215868092, 'colsample_bytree': 0.6276430959431726}. Best is trial 220 with value: 61360.0.\n[I 2024-03-15 10:35:33,603] Trial 330 finished with value: 60870.0 and parameters: {'max_depth': 5, 'eta': 0.27834746943497585, 'gamma': 0.025767637868044483, 'subsample': 0.6947073745145244, 'colsample_bytree': 0.8448076692350648}. Best is trial 220 with value: 61360.0.\n[I 2024-03-15 10:35:34,644] Trial 331 finished with value: 61030.0 and parameters: {'max_depth': 5, 'eta': 0.2561469817488331, 'gamma': 0.049656291266515426, 'subsample': 0.7229381703912843, 'colsample_bytree': 0.6514775168553653}. Best is trial 220 with value: 61360.0.\n[I 2024-03-15 10:35:35,743] Trial 332 finished with value: 61120.0 and parameters: {'max_depth': 5, 'eta': 0.22744469532041003, 'gamma': 0.9162515628499881, 'subsample': 0.7118602291188861, 'colsample_bytree': 0.87096308917168}. Best is trial 220 with value: 61360.0.\n[I 2024-03-15 10:35:36,839] Trial 333 finished with value: 61150.0 and parameters: {'max_depth': 5, 'eta': 0.24382850279142784, 'gamma': 0.10064302028241963, 'subsample': 0.7023082503849083, 'colsample_bytree': 0.8590436934875811}. Best is trial 220 with value: 61360.0.\n[I 2024-03-15 10:35:37,920] Trial 334 finished with value: 61250.0 and parameters: {'max_depth': 5, 'eta': 0.2699350647232863, 'gamma': 0.004375558908954923, 'subsample': 0.6605457588946567, 'colsample_bytree': 0.8324257977750606}. Best is trial 220 with value: 61360.0.\n[I 2024-03-15 10:35:38,997] Trial 335 finished with value: 61070.0 and parameters: {'max_depth': 5, 'eta': 0.2842525274571804, 'gamma': 0.003948623890559167, 'subsample': 0.6556517040907468, 'colsample_bytree': 0.8390696495618273}. Best is trial 220 with value: 61360.0.\n[I 2024-03-15 10:35:40,104] Trial 336 finished with value: 60720.0 and parameters: {'max_depth': 5, 'eta': 0.10680354388372612, 'gamma': 0.005001014686674978, 'subsample': 0.6665016577078252, 'colsample_bytree': 0.8269666375787639}. Best is trial 220 with value: 61360.0.\n[I 2024-03-15 10:35:41,172] Trial 337 finished with value: 61080.0 and parameters: {'max_depth': 5, 'eta': 0.2653307025854281, 'gamma': 0.010743433939738235, 'subsample': 0.6481079860867479, 'colsample_bytree': 0.8507691534292916}. Best is trial 220 with value: 61360.0.\n[I 2024-03-15 10:35:42,250] Trial 338 finished with value: 61000.0 and parameters: {'max_depth': 5, 'eta': 0.22711284826137867, 'gamma': 0.06651722830430883, 'subsample': 0.6743796880190054, 'colsample_bytree': 0.8327447323561801}. Best is trial 220 with value: 61360.0.\n[I 2024-03-15 10:35:43,168] Trial 339 finished with value: 61180.0 and parameters: {'max_depth': 4, 'eta': 0.2996887550706711, 'gamma': 0.006213100305446245, 'subsample': 0.6857974361169263, 'colsample_bytree': 0.8166052667905144}. Best is trial 220 with value: 61360.0.\n[I 2024-03-15 10:35:44,224] Trial 340 finished with value: 60930.0 and parameters: {'max_depth': 5, 'eta': 0.20371684973533286, 'gamma': 0.017589168583371294, 'subsample': 0.658128328063657, 'colsample_bytree': 0.8097524229182689}. Best is trial 220 with value: 61360.0.\n[I 2024-03-15 10:35:45,291] Trial 341 finished with value: 61220.0 and parameters: {'max_depth': 5, 'eta': 0.24281891455744314, 'gamma': 0.003254389637656192, 'subsample': 0.687811101852755, 'colsample_bytree': 0.8373303003636235}. Best is trial 220 with value: 61360.0.\n[I 2024-03-15 10:35:46,346] Trial 342 finished with value: 61230.0 and parameters: {'max_depth': 5, 'eta': 0.2723031506342921, 'gamma': 0.03995399810752923, 'subsample': 0.6451792453963123, 'colsample_bytree': 0.8249005359738804}. Best is trial 220 with value: 61360.0.\n[I 2024-03-15 10:35:47,392] Trial 343 finished with value: 60910.0 and parameters: {'max_depth': 5, 'eta': 0.25540909871248807, 'gamma': 0.0752191287037515, 'subsample': 0.7292983478806812, 'colsample_bytree': 0.858746251413231}. Best is trial 220 with value: 61360.0.\n[I 2024-03-15 10:35:48,416] Trial 344 finished with value: 61060.0 and parameters: {'max_depth': 5, 'eta': 0.21798917702412038, 'gamma': 0.00854150213428131, 'subsample': 0.7124092359861629, 'colsample_bytree': 0.7843075622972483}. Best is trial 220 with value: 61360.0.\n[I 2024-03-15 10:35:49,446] Trial 345 finished with value: 61140.0 and parameters: {'max_depth': 5, 'eta': 0.23833073397493515, 'gamma': 0.1719230698297785, 'subsample': 0.70007880984766, 'colsample_bytree': 0.659080791260768}. Best is trial 220 with value: 61360.0.\n[I 2024-03-15 10:35:50,748] Trial 346 finished with value: 60860.0 and parameters: {'max_depth': 9, 'eta': 0.2765617837820206, 'gamma': 0.26205815086144996, 'subsample': 0.6719794546986838, 'colsample_bytree': 0.8805828798001749}. Best is trial 220 with value: 61360.0.\n[I 2024-03-15 10:35:51,831] Trial 347 finished with value: 61190.0 and parameters: {'max_depth': 5, 'eta': 0.25291314439365187, 'gamma': 0.025650867536163864, 'subsample': 0.7199860497921008, 'colsample_bytree': 0.8641060469291116}. Best is trial 220 with value: 61360.0.\n[I 2024-03-15 10:35:53,135] Trial 348 finished with value: 60800.0 and parameters: {'max_depth': 6, 'eta': 0.22853620153347692, 'gamma': 0.0051194328413996775, 'subsample': 0.6264509974041728, 'colsample_bytree': 0.9618132948291402}. Best is trial 220 with value: 61360.0.\n[I 2024-03-15 10:35:54,200] Trial 349 finished with value: 61070.0 and parameters: {'max_depth': 5, 'eta': 0.21207332978989138, 'gamma': 0.0024919680068663072, 'subsample': 0.6976967822476339, 'colsample_bytree': 0.8454680408618666}. Best is trial 220 with value: 61360.0.\n[I 2024-03-15 10:35:55,294] Trial 350 finished with value: 61260.0 and parameters: {'max_depth': 5, 'eta': 0.2642966638929244, 'gamma': 0.013897294044052353, 'subsample': 0.7339256711620612, 'colsample_bytree': 0.9067701028566271}. Best is trial 220 with value: 61360.0.\n[I 2024-03-15 10:35:56,351] Trial 351 finished with value: 61150.0 and parameters: {'max_depth': 5, 'eta': 0.2795100809446639, 'gamma': 0.014921172900724446, 'subsample': 0.7347450804097188, 'colsample_bytree': 0.8441032663301833}. Best is trial 220 with value: 61360.0.\n[I 2024-03-15 10:35:57,429] Trial 352 finished with value: 61050.0 and parameters: {'max_depth': 5, 'eta': 0.2623868453732043, 'gamma': 0.01201815969817974, 'subsample': 0.7365379162888073, 'colsample_bytree': 0.9145993738864219}. Best is trial 220 with value: 61360.0.\n[I 2024-03-15 10:35:58,273] Trial 353 finished with value: 61100.0 and parameters: {'max_depth': 3, 'eta': 0.2853099138309903, 'gamma': 0.0090003895483346, 'subsample': 0.7469921764984306, 'colsample_bytree': 0.9014645005981987}. Best is trial 220 with value: 61360.0.\n[I 2024-03-15 10:35:59,383] Trial 354 finished with value: 60900.0 and parameters: {'max_depth': 5, 'eta': 0.25817677176723736, 'gamma': 0.014818290258597775, 'subsample': 0.508000938952861, 'colsample_bytree': 0.8860440311891269}. Best is trial 220 with value: 61360.0.\n[I 2024-03-15 10:36:00,457] Trial 355 finished with value: 60920.0 and parameters: {'max_depth': 5, 'eta': 0.24694525482300705, 'gamma': 0.00444372087354458, 'subsample': 0.7207315947465577, 'colsample_bytree': 0.9095499250780781}. Best is trial 220 with value: 61360.0.\n[I 2024-03-15 10:36:01,565] Trial 356 finished with value: 61200.0 and parameters: {'max_depth': 5, 'eta': 0.27021592210546014, 'gamma': 0.020812989499906526, 'subsample': 0.7069520950101892, 'colsample_bytree': 0.9244605478336889}. Best is trial 220 with value: 61360.0.\n[I 2024-03-15 10:36:02,896] Trial 357 finished with value: 60980.0 and parameters: {'max_depth': 7, 'eta': 0.28684779755905593, 'gamma': 0.005880949444612188, 'subsample': 0.740511141982697, 'colsample_bytree': 0.8938827829613631}. Best is trial 220 with value: 61360.0.\n[I 2024-03-15 10:36:03,983] Trial 358 finished with value: 60970.0 and parameters: {'max_depth': 5, 'eta': 0.2398439662031157, 'gamma': 0.007462243640095387, 'subsample': 0.725817124777204, 'colsample_bytree': 0.8729500521284312}. Best is trial 220 with value: 61360.0.\n[I 2024-03-15 10:36:05,049] Trial 359 finished with value: 60980.0 and parameters: {'max_depth': 5, 'eta': 0.2615600496339076, 'gamma': 0.0029055602068994114, 'subsample': 0.708345753645825, 'colsample_bytree': 0.823454146551816}. Best is trial 220 with value: 61360.0.\n[I 2024-03-15 10:36:06,158] Trial 360 finished with value: 61060.0 and parameters: {'max_depth': 5, 'eta': 0.24118554748626808, 'gamma': 0.030110968352253287, 'subsample': 0.6895200660377697, 'colsample_bytree': 0.9303839238912242}. Best is trial 220 with value: 61360.0.\n[I 2024-03-15 10:36:07,547] Trial 361 finished with value: 60920.0 and parameters: {'max_depth': 6, 'eta': 0.2960148245792869, 'gamma': 0.12543211110641833, 'subsample': 0.7270523592390488, 'colsample_bytree': 0.9011056334699916}. Best is trial 220 with value: 61360.0.\n[I 2024-03-15 10:36:08,465] Trial 362 finished with value: 61130.0 and parameters: {'max_depth': 4, 'eta': 0.26804185932029306, 'gamma': 0.01053513278439712, 'subsample': 0.7165747535183273, 'colsample_bytree': 0.6113807036944392}. Best is trial 220 with value: 61360.0.\n[I 2024-03-15 10:36:09,574] Trial 363 finished with value: 61240.0 and parameters: {'max_depth': 5, 'eta': 0.2495076890418792, 'gamma': 0.001921904484691681, 'subsample': 0.6992048816327484, 'colsample_bytree': 0.858096716910469}. Best is trial 220 with value: 61360.0.\n[I 2024-03-15 10:36:10,645] Trial 364 finished with value: 61050.0 and parameters: {'max_depth': 5, 'eta': 0.22779642729228608, 'gamma': 0.017407529632278988, 'subsample': 0.7151964257403784, 'colsample_bytree': 0.6378692558067903}. Best is trial 220 with value: 61360.0.\n[I 2024-03-15 10:36:11,814] Trial 365 finished with value: 61040.0 and parameters: {'max_depth': 5, 'eta': 0.19001526304830593, 'gamma': 0.003623929642686067, 'subsample': 0.6823652560842999, 'colsample_bytree': 0.8365337160068845}. Best is trial 220 with value: 61360.0.\n[I 2024-03-15 10:36:12,922] Trial 366 finished with value: 61110.0 and parameters: {'max_depth': 5, 'eta': 0.274218198239712, 'gamma': 0.0583481109061399, 'subsample': 0.7393918371486599, 'colsample_bytree': 0.7992472477118485}. Best is trial 220 with value: 61360.0.\n[I 2024-03-15 10:36:13,975] Trial 367 finished with value: 61240.0 and parameters: {'max_depth': 5, 'eta': 0.2552370853130003, 'gamma': 0.0003825745750524277, 'subsample': 0.6942716375124622, 'colsample_bytree': 0.6488900394402164}. Best is trial 220 with value: 61360.0.\n[I 2024-03-15 10:36:15,040] Trial 368 finished with value: 61160.0 and parameters: {'max_depth': 5, 'eta': 0.2323651600713138, 'gamma': 0.03708406294485677, 'subsample': 0.707678037284292, 'colsample_bytree': 0.7718525080725025}. Best is trial 220 with value: 61360.0.\n[I 2024-03-15 10:36:16,231] Trial 369 finished with value: 61140.0 and parameters: {'max_depth': 6, 'eta': 0.20835686078230836, 'gamma': 0.09353543804763623, 'subsample': 0.7288731092300504, 'colsample_bytree': 0.6682445989849393}. Best is trial 220 with value: 61360.0.\n[I 2024-03-15 10:36:17,354] Trial 370 finished with value: 60940.0 and parameters: {'max_depth': 5, 'eta': 0.299594299112857, 'gamma': 0.006903975525651267, 'subsample': 0.6802696635243911, 'colsample_bytree': 0.8537728091094169}. Best is trial 220 with value: 61360.0.\n[I 2024-03-15 10:36:18,559] Trial 371 finished with value: 61180.0 and parameters: {'max_depth': 5, 'eta': 0.24912433149367988, 'gamma': 0.02283510423304765, 'subsample': 0.6378435033737031, 'colsample_bytree': 0.8654883143890149}. Best is trial 220 with value: 61360.0.\n[I 2024-03-15 10:36:19,592] Trial 372 finished with value: 60900.0 and parameters: {'max_depth': 5, 'eta': 0.2725036807272376, 'gamma': 0.0013585174092009622, 'subsample': 0.75288987139244, 'colsample_bytree': 0.6567574587213412}. Best is trial 220 with value: 61360.0.\n[I 2024-03-15 10:36:20,688] Trial 373 finished with value: 60970.0 and parameters: {'max_depth': 5, 'eta': 0.23555486861410296, 'gamma': 0.1988601858075506, 'subsample': 0.7030007640243539, 'colsample_bytree': 0.8799593116705602}. Best is trial 220 with value: 61360.0.\n[I 2024-03-15 10:36:22,461] Trial 374 finished with value: 61230.0 and parameters: {'max_depth': 4, 'eta': 0.2557057650361419, 'gamma': 0.5813606498491778, 'subsample': 0.7145716511582337, 'colsample_bytree': 0.9087959065551847}. Best is trial 220 with value: 61360.0.\n[I 2024-03-15 10:36:24,768] Trial 375 finished with value: 61020.0 and parameters: {'max_depth': 5, 'eta': 0.21491788186002495, 'gamma': 0.004418303132130098, 'subsample': 0.6922631794578091, 'colsample_bytree': 0.9401767481734167}. Best is trial 220 with value: 61360.0.\n[I 2024-03-15 10:36:26,569] Trial 376 finished with value: 61050.0 and parameters: {'max_depth': 5, 'eta': 0.17629391513760873, 'gamma': 0.012804750175297586, 'subsample': 0.7254508013129521, 'colsample_bytree': 0.6274983936813169}. Best is trial 220 with value: 61360.0.\n[I 2024-03-15 10:36:28,683] Trial 377 finished with value: 60910.0 and parameters: {'max_depth': 5, 'eta': 0.28100049665364213, 'gamma': 0.0024801325545412093, 'subsample': 0.7421723849971548, 'colsample_bytree': 0.676580739228877}. Best is trial 220 with value: 61360.0.\n[I 2024-03-15 10:36:30,894] Trial 378 finished with value: 61080.0 and parameters: {'max_depth': 5, 'eta': 0.23824576523051094, 'gamma': 0.05625337678178795, 'subsample': 0.6161919141041177, 'colsample_bytree': 0.6884447411946286}. Best is trial 220 with value: 61360.0.\n[I 2024-03-15 10:36:33,062] Trial 379 finished with value: 61060.0 and parameters: {'max_depth': 5, 'eta': 0.26094373515296115, 'gamma': 0.13767995029060187, 'subsample': 0.9995772581815171, 'colsample_bytree': 0.7553762828396634}. Best is trial 220 with value: 61360.0.\n[I 2024-03-15 10:36:35,161] Trial 380 finished with value: 60970.0 and parameters: {'max_depth': 5, 'eta': 0.22286968347348865, 'gamma': 0.3347880301202992, 'subsample': 0.7191831185686955, 'colsample_bytree': 0.6466937939665748}. Best is trial 220 with value: 61360.0.\n[I 2024-03-15 10:36:37,297] Trial 381 finished with value: 61090.0 and parameters: {'max_depth': 5, 'eta': 0.2684235514811954, 'gamma': 0.027543413958621005, 'subsample': 0.7053808178559886, 'colsample_bytree': 0.8360844632514666}. Best is trial 220 with value: 61360.0.\n[I 2024-03-15 10:36:39,563] Trial 382 finished with value: 61050.0 and parameters: {'max_depth': 5, 'eta': 0.2449103790079093, 'gamma': 0.008081167659341288, 'subsample': 0.6905669035758852, 'colsample_bytree': 0.8495894284509307}. Best is trial 220 with value: 61360.0.\n[I 2024-03-15 10:36:41,579] Trial 383 finished with value: 61210.0 and parameters: {'max_depth': 5, 'eta': 0.19724682873604263, 'gamma': 0.09709249423488639, 'subsample': 0.728827976648345, 'colsample_bytree': 0.5932910585464377}. Best is trial 220 with value: 61360.0.\n[I 2024-03-15 10:36:43,696] Trial 384 finished with value: 61020.0 and parameters: {'max_depth': 5, 'eta': 0.2864749313943065, 'gamma': 0.04201118838575407, 'subsample': 0.675681124657928, 'colsample_bytree': 0.666221977236732}. Best is trial 220 with value: 61360.0.\n[I 2024-03-15 10:36:44,808] Trial 385 finished with value: 61050.0 and parameters: {'max_depth': 5, 'eta': 0.2264456669913472, 'gamma': 0.005199752923109875, 'subsample': 0.7039716070544981, 'colsample_bytree': 0.5763604886785739}. Best is trial 220 with value: 61360.0.\n[I 2024-03-15 10:36:45,946] Trial 386 finished with value: 61140.0 and parameters: {'max_depth': 6, 'eta': 0.2534477018492535, 'gamma': 0.0032753876621305898, 'subsample': 0.833335113518241, 'colsample_bytree': 0.6542855732765717}. Best is trial 220 with value: 61360.0.\n[I 2024-03-15 10:36:47,004] Trial 387 finished with value: 61070.0 and parameters: {'max_depth': 5, 'eta': 0.2686275543598374, 'gamma': 0.01985258247528391, 'subsample': 0.7150784909457092, 'colsample_bytree': 0.8899120478390351}. Best is trial 220 with value: 61360.0.\n[I 2024-03-15 10:36:48,078] Trial 388 finished with value: 61130.0 and parameters: {'max_depth': 5, 'eta': 0.23787208358387077, 'gamma': 0.0008716982196705097, 'subsample': 0.7338410349332342, 'colsample_bytree': 0.8677585561731026}. Best is trial 220 with value: 61360.0.\n[I 2024-03-15 10:36:49,076] Trial 389 finished with value: 60900.0 and parameters: {'max_depth': 5, 'eta': 0.29877418215021323, 'gamma': 0.011042586845593914, 'subsample': 0.7581308989207413, 'colsample_bytree': 0.6200975207518284}. Best is trial 220 with value: 61360.0.\n[I 2024-03-15 10:36:50,109] Trial 390 finished with value: 60980.0 and parameters: {'max_depth': 5, 'eta': 0.21496090773141857, 'gamma': 0.058310384680227416, 'subsample': 0.528129410517403, 'colsample_bytree': 0.6361650378662355}. Best is trial 220 with value: 61360.0.\n[I 2024-03-15 10:36:51,272] Trial 391 finished with value: 58140.0 and parameters: {'max_depth': 5, 'eta': 0.023546067490061863, 'gamma': 0.0001225396432451109, 'subsample': 0.6576831871704258, 'colsample_bytree': 0.8218252098834146}. Best is trial 220 with value: 61360.0.\n[I 2024-03-15 10:36:52,306] Trial 392 finished with value: 61110.0 and parameters: {'max_depth': 5, 'eta': 0.2532954997474822, 'gamma': 0.08261691829126984, 'subsample': 0.6885170622635237, 'colsample_bytree': 0.6726314840032178}. Best is trial 220 with value: 61360.0.\n[I 2024-03-15 10:36:53,383] Trial 393 finished with value: 60970.0 and parameters: {'max_depth': 5, 'eta': 0.2772208206900265, 'gamma': 0.0016508527285322653, 'subsample': 0.6698293071992135, 'colsample_bytree': 0.8517791120022169}. Best is trial 220 with value: 61360.0.\n[I 2024-03-15 10:36:54,292] Trial 394 finished with value: 60950.0 and parameters: {'max_depth': 4, 'eta': 0.20118342431463432, 'gamma': 0.03372005935034612, 'subsample': 0.6969076151890256, 'colsample_bytree': 0.6566976523540283}. Best is trial 220 with value: 61360.0.\n[I 2024-03-15 10:36:55,399] Trial 395 finished with value: 61200.0 and parameters: {'max_depth': 5, 'eta': 0.23162034704825019, 'gamma': 0.01354838634895796, 'subsample': 0.7202343111744249, 'colsample_bytree': 0.9187541284344543}. Best is trial 220 with value: 61360.0.\n[I 2024-03-15 10:36:56,472] Trial 396 finished with value: 61080.0 and parameters: {'max_depth': 5, 'eta': 0.24717701232310288, 'gamma': 0.002806023040967673, 'subsample': 0.861832892324663, 'colsample_bytree': 0.6421984899243537}. Best is trial 220 with value: 61360.0.\n[I 2024-03-15 10:36:57,501] Trial 397 finished with value: 60760.0 and parameters: {'max_depth': 5, 'eta': 0.26445481927397935, 'gamma': 0.006302094805470635, 'subsample': 0.680542863327841, 'colsample_bytree': 0.6837750673346592}. Best is trial 220 with value: 61360.0.\n[I 2024-03-15 10:36:58,582] Trial 398 finished with value: 60980.0 and parameters: {'max_depth': 5, 'eta': 0.22101756578536422, 'gamma': 0.004509290109679187, 'subsample': 0.7455043539816003, 'colsample_bytree': 0.8716664192930771}. Best is trial 220 with value: 61360.0.\n[I 2024-03-15 10:36:59,595] Trial 399 finished with value: 60950.0 and parameters: {'max_depth': 5, 'eta': 0.2830595409303947, 'gamma': 0.02261486501780984, 'subsample': 0.703758575860566, 'colsample_bytree': 0.5261867137555118}. Best is trial 220 with value: 61360.0.\n[I 2024-03-15 10:37:00,613] Trial 400 finished with value: 61050.0 and parameters: {'max_depth': 5, 'eta': 0.2414470055922812, 'gamma': 0.245192692117147, 'subsample': 0.7118811263978931, 'colsample_bytree': 0.6626243887022464}. Best is trial 220 with value: 61360.0.\n[I 2024-03-15 10:37:01,696] Trial 401 finished with value: 60000.0 and parameters: {'max_depth': 5, 'eta': 0.06861303946377946, 'gamma': 0.11969864725560492, 'subsample': 0.9873468880421723, 'colsample_bytree': 0.8423053563712656}. Best is trial 220 with value: 61360.0.\n[I 2024-03-15 10:37:02,954] Trial 402 finished with value: 61160.0 and parameters: {'max_depth': 6, 'eta': 0.2631298563077621, 'gamma': 0.04220596313408022, 'subsample': 0.7333199209905864, 'colsample_bytree': 0.8612091257882268}. Best is trial 220 with value: 61360.0.\n[I 2024-03-15 10:37:04,810] Trial 403 finished with value: 61010.0 and parameters: {'max_depth': 5, 'eta': 0.2304738520782645, 'gamma': 0.008460140235481143, 'subsample': 0.6954016668106703, 'colsample_bytree': 0.8129219645159884}. Best is trial 220 with value: 61360.0.\n[I 2024-03-15 10:37:06,064] Trial 404 finished with value: 58700.0 and parameters: {'max_depth': 5, 'eta': 0.03250685869575325, 'gamma': 0.0673574245286392, 'subsample': 0.7228031075246206, 'colsample_bytree': 0.8269950862834645}. Best is trial 220 with value: 61360.0.\n[I 2024-03-15 10:37:08,158] Trial 405 finished with value: 61130.0 and parameters: {'max_depth': 5, 'eta': 0.25174849982446607, 'gamma': 0.002023942041711982, 'subsample': 0.6828221423468022, 'colsample_bytree': 0.6544216659643107}. Best is trial 220 with value: 61360.0.\n[I 2024-03-15 10:37:09,667] Trial 406 finished with value: 60960.0 and parameters: {'max_depth': 5, 'eta': 0.2080072169499384, 'gamma': 0.017476020216043216, 'subsample': 0.6483734787064617, 'colsample_bytree': 0.6466918036688778}. Best is trial 220 with value: 61360.0.\n[I 2024-03-15 10:37:10,471] Trial 407 finished with value: 60610.0 and parameters: {'max_depth': 3, 'eta': 0.27662283726947895, 'gamma': 0.1776158895045748, 'subsample': 0.6266032630227637, 'colsample_bytree': 0.6942783970172824}. Best is trial 220 with value: 61360.0.\n[I 2024-03-15 10:37:11,674] Trial 408 finished with value: 61130.0 and parameters: {'max_depth': 5, 'eta': 0.24187319256106046, 'gamma': 0.030110394135542402, 'subsample': 0.711371392435703, 'colsample_bytree': 0.7353817152772308}. Best is trial 220 with value: 61360.0.\n[I 2024-03-15 10:37:12,795] Trial 409 finished with value: 61080.0 and parameters: {'max_depth': 5, 'eta': 0.2988193565772919, 'gamma': 0.0036230316421304444, 'subsample': 0.6667506564827476, 'colsample_bytree': 0.8832542744415375}. Best is trial 220 with value: 61360.0.\n[I 2024-03-15 10:37:13,710] Trial 410 finished with value: 60960.0 and parameters: {'max_depth': 4, 'eta': 0.18555234709224674, 'gamma': 0.0011470750011667089, 'subsample': 0.7012096045159446, 'colsample_bytree': 0.6708456206854062}. Best is trial 220 with value: 61360.0.\n[I 2024-03-15 10:37:14,761] Trial 411 finished with value: 61080.0 and parameters: {'max_depth': 5, 'eta': 0.2611581018616303, 'gamma': 4.612878384354533e-05, 'subsample': 0.7381882517572586, 'colsample_bytree': 0.849029408731292}. Best is trial 220 with value: 61360.0.\n[I 2024-03-15 10:37:16,108] Trial 412 finished with value: 60840.0 and parameters: {'max_depth': 7, 'eta': 0.2223162670677661, 'gamma': 0.0500071814463933, 'subsample': 0.6909508178522704, 'colsample_bytree': 0.6341500975374263}. Best is trial 220 with value: 61360.0.\n[I 2024-03-15 10:37:17,154] Trial 413 finished with value: 61200.0 and parameters: {'max_depth': 5, 'eta': 0.28067754645757803, 'gamma': 0.005996753858382494, 'subsample': 0.7185979077759058, 'colsample_bytree': 0.8300458783470515}. Best is trial 220 with value: 61360.0.\n[I 2024-03-15 10:37:18,249] Trial 414 finished with value: 60830.0 and parameters: {'max_depth': 5, 'eta': 0.12717440747777495, 'gamma': 0.011727690875631181, 'subsample': 0.7494451462694806, 'colsample_bytree': 0.9047522385879365}. Best is trial 220 with value: 61360.0.\n[I 2024-03-15 10:37:19,320] Trial 415 finished with value: 61040.0 and parameters: {'max_depth': 5, 'eta': 0.2377273908392232, 'gamma': 0.08816654294058873, 'subsample': 0.7293737331995959, 'colsample_bytree': 0.858967928816421}. Best is trial 220 with value: 61360.0.\n[I 2024-03-15 10:37:21,298] Trial 416 finished with value: 60890.0 and parameters: {'max_depth': 5, 'eta': 0.25677100511684026, 'gamma': 0.0024579391840060514, 'subsample': 0.7056592293031888, 'colsample_bytree': 0.6824689665032726}. Best is trial 220 with value: 61360.0.\n[I 2024-03-15 10:37:23,731] Trial 417 finished with value: 60720.0 and parameters: {'max_depth': 8, 'eta': 0.21366357900352315, 'gamma': 0.43222659270713387, 'subsample': 0.6911963515381722, 'colsample_bytree': 0.6601076934417345}. Best is trial 220 with value: 61360.0.\n[I 2024-03-15 10:37:24,807] Trial 418 finished with value: 61000.0 and parameters: {'max_depth': 5, 'eta': 0.26658666509164003, 'gamma': 0.029462764112659263, 'subsample': 0.8966667824408113, 'colsample_bytree': 0.8730169744288482}. Best is trial 220 with value: 61360.0.\n[I 2024-03-15 10:37:25,848] Trial 419 finished with value: 60730.0 and parameters: {'max_depth': 5, 'eta': 0.23312829400466145, 'gamma': 0.004953160564091312, 'subsample': 0.7130511241607932, 'colsample_bytree': 0.5574731489038585}. Best is trial 220 with value: 61360.0.\n[I 2024-03-15 10:37:26,912] Trial 420 finished with value: 61170.0 and parameters: {'max_depth': 5, 'eta': 0.24887022227758113, 'gamma': 0.020782628545682334, 'subsample': 0.5647002510250787, 'colsample_bytree': 0.6482384270876947}. Best is trial 220 with value: 61360.0.\n[I 2024-03-15 10:37:28,134] Trial 421 finished with value: 56430.0 and parameters: {'max_depth': 5, 'eta': 0.010607250640419003, 'gamma': 0.14543681827292052, 'subsample': 0.7650755487354789, 'colsample_bytree': 0.8394922981224575}. Best is trial 220 with value: 61360.0.\n[I 2024-03-15 10:37:29,260] Trial 422 finished with value: 60540.0 and parameters: {'max_depth': 5, 'eta': 0.09808457852043247, 'gamma': 0.008587625628403992, 'subsample': 0.6748411862148289, 'colsample_bytree': 0.6651805073323103}. Best is trial 220 with value: 61360.0.\n[I 2024-03-15 10:37:30,468] Trial 423 finished with value: 60850.0 and parameters: {'max_depth': 6, 'eta': 0.2822524295598605, 'gamma': 0.07585305530768477, 'subsample': 0.6370854626672737, 'colsample_bytree': 0.8930281382349152}. Best is trial 220 with value: 61360.0.\n[I 2024-03-15 10:37:31,507] Trial 424 finished with value: 60940.0 and parameters: {'max_depth': 5, 'eta': 0.2208645471567168, 'gamma': 0.042924121002651, 'subsample': 0.6587663793044313, 'colsample_bytree': 0.6718143846831562}. Best is trial 220 with value: 61360.0.\n[I 2024-03-15 10:37:32,459] Trial 425 finished with value: 61040.0 and parameters: {'max_depth': 4, 'eta': 0.2040140275893517, 'gamma': 0.0029117594310767653, 'subsample': 0.7242765181280418, 'colsample_bytree': 0.8483941961983391}. Best is trial 220 with value: 61360.0.\n[I 2024-03-15 10:37:33,489] Trial 426 finished with value: 61030.0 and parameters: {'max_depth': 5, 'eta': 0.2503699761210437, 'gamma': 0.0155864177851786, 'subsample': 0.7003325608558201, 'colsample_bytree': 0.6390772032954727}. Best is trial 220 with value: 61360.0.\n[I 2024-03-15 10:37:34,540] Trial 427 finished with value: 61120.0 and parameters: {'max_depth': 5, 'eta': 0.26763217122064886, 'gamma': 0.0005826487507611976, 'subsample': 0.6837220091510262, 'colsample_bytree': 0.6263575726377095}. Best is trial 220 with value: 61360.0.\n[I 2024-03-15 10:37:35,617] Trial 428 finished with value: 60970.0 and parameters: {'max_depth': 5, 'eta': 0.23200514724443785, 'gamma': 0.004296465312605568, 'subsample': 0.6057465065254296, 'colsample_bytree': 0.8035424184815556}. Best is trial 220 with value: 61360.0.\n[I 2024-03-15 10:37:36,716] Trial 429 finished with value: 61110.0 and parameters: {'max_depth': 5, 'eta': 0.28052651091671166, 'gamma': 0.061684875213971126, 'subsample': 0.7412624310624565, 'colsample_bytree': 0.8639049919926254}. Best is trial 220 with value: 61360.0.\n[I 2024-03-15 10:37:37,744] Trial 430 finished with value: 61130.0 and parameters: {'max_depth': 5, 'eta': 0.24260955847124635, 'gamma': 0.0015461804086710834, 'subsample': 0.7087405218136033, 'colsample_bytree': 0.6520702167314448}. Best is trial 220 with value: 61360.0.\n[I 2024-03-15 10:37:38,811] Trial 431 finished with value: 60980.0 and parameters: {'max_depth': 5, 'eta': 0.1951321957049186, 'gamma': 0.00021982741818967605, 'subsample': 0.7301149532953612, 'colsample_bytree': 0.8366940231431571}. Best is trial 220 with value: 61360.0.\n[I 2024-03-15 10:37:39,835] Trial 432 finished with value: 61040.0 and parameters: {'max_depth': 5, 'eta': 0.29992266474418894, 'gamma': 0.101637978039911, 'subsample': 0.6960291004164515, 'colsample_bytree': 0.6757787711382602}. Best is trial 220 with value: 61360.0.\n[I 2024-03-15 10:37:40,859] Trial 433 finished with value: 60860.0 and parameters: {'max_depth': 5, 'eta': 0.2624717650303642, 'gamma': 0.02876145485789721, 'subsample': 0.7173963824465813, 'colsample_bytree': 0.6626763668412197}. Best is trial 220 with value: 61360.0.\n[I 2024-03-15 10:37:41,984] Trial 434 finished with value: 61220.0 and parameters: {'max_depth': 6, 'eta': 0.22285121169126046, 'gamma': 0.006969099306202509, 'subsample': 0.9803277676635428, 'colsample_bytree': 0.6143294961770867}. Best is trial 220 with value: 61360.0.\n[I 2024-03-15 10:37:43,071] Trial 435 finished with value: 61230.0 and parameters: {'max_depth': 5, 'eta': 0.2484034472967442, 'gamma': 0.045316094932103625, 'subsample': 0.6778086512601706, 'colsample_bytree': 0.9481761633361989}. Best is trial 220 with value: 61360.0.\n[I 2024-03-15 10:37:44,137] Trial 436 finished with value: 60890.0 and parameters: {'max_depth': 5, 'eta': 0.2705910792288033, 'gamma': 2.1239573658537164e-05, 'subsample': 0.7554192131817318, 'colsample_bytree': 0.854693791541829}. Best is trial 220 with value: 61360.0.\n[I 2024-03-15 10:37:45,225] Trial 437 finished with value: 61180.0 and parameters: {'max_depth': 5, 'eta': 0.2367988177615712, 'gamma': 0.0035353413976056316, 'subsample': 0.7063124094722351, 'colsample_bytree': 0.7884590745535367}. Best is trial 220 with value: 61360.0.\n[I 2024-03-15 10:37:46,289] Trial 438 finished with value: 61140.0 and parameters: {'max_depth': 5, 'eta': 0.2138363051561667, 'gamma': 0.01042446963518339, 'subsample': 0.8157970513859246, 'colsample_bytree': 0.8766106395134204}. Best is trial 220 with value: 61360.0.\n[I 2024-03-15 10:37:47,309] Trial 439 finished with value: 61090.0 and parameters: {'max_depth': 5, 'eta': 0.14890238900132527, 'gamma': 0.0020661987918987375, 'subsample': 0.687000736470986, 'colsample_bytree': 0.6021561470440101}. Best is trial 220 with value: 61360.0.\n[I 2024-03-15 10:37:48,524] Trial 440 finished with value: 61100.0 and parameters: {'max_depth': 7, 'eta': 0.25538071962748665, 'gamma': 0.25899898832639806, 'subsample': 0.6530106560397554, 'colsample_bytree': 0.6939083693118253}. Best is trial 220 with value: 61360.0.\n[I 2024-03-15 10:37:49,529] Trial 441 finished with value: 61030.0 and parameters: {'max_depth': 5, 'eta': 0.28238161988851057, 'gamma': 0.021045155893417888, 'subsample': 0.7196545511402304, 'colsample_bytree': 0.6425775751157684}. Best is trial 220 with value: 61360.0.\n[I 2024-03-15 10:37:50,521] Trial 442 finished with value: 61290.0 and parameters: {'max_depth': 5, 'eta': 0.23497412126716688, 'gamma': 0.12499774153691073, 'subsample': 0.7370515541461148, 'colsample_bytree': 0.632558783832829}. Best is trial 220 with value: 61360.0.\n[I 2024-03-15 10:37:51,597] Trial 443 finished with value: 61110.0 and parameters: {'max_depth': 5, 'eta': 0.20293892728043908, 'gamma': 0.0939366635264576, 'subsample': 0.7428521570274751, 'colsample_bytree': 0.6283819282157088}. Best is trial 220 with value: 61360.0.\n[I 2024-03-15 10:37:52,414] Trial 444 finished with value: 60600.0 and parameters: {'max_depth': 3, 'eta': 0.1755503428388768, 'gamma': 0.16535287524724396, 'subsample': 0.7368431543854678, 'colsample_bytree': 0.9932123228230483}. Best is trial 220 with value: 61360.0.\n[I 2024-03-15 10:37:53,304] Trial 445 finished with value: 61060.0 and parameters: {'max_depth': 4, 'eta': 0.22788001898999952, 'gamma': 0.1922424414308965, 'subsample': 0.7467790627087534, 'colsample_bytree': 0.6331144902487017}. Best is trial 220 with value: 61360.0.\n[I 2024-03-15 10:37:54,303] Trial 446 finished with value: 61190.0 and parameters: {'max_depth': 5, 'eta': 0.23866980855820533, 'gamma': 0.13185286089582454, 'subsample': 0.7317512693033661, 'colsample_bytree': 0.6167003286943348}. Best is trial 220 with value: 61360.0.\n[I 2024-03-15 10:37:55,312] Trial 447 finished with value: 61160.0 and parameters: {'max_depth': 5, 'eta': 0.21861272734859943, 'gamma': 0.12807208265849926, 'subsample': 0.7269790238391071, 'colsample_bytree': 0.645940456063155}. Best is trial 220 with value: 61360.0.\n[I 2024-03-15 10:37:56,301] Trial 448 finished with value: 61120.0 and parameters: {'max_depth': 5, 'eta': 0.24854146428327797, 'gamma': 0.2851701846649779, 'subsample': 0.7581004443737196, 'colsample_bytree': 0.5891677236172121}. Best is trial 220 with value: 61360.0.\n[I 2024-03-15 10:37:57,359] Trial 449 finished with value: 60610.0 and parameters: {'max_depth': 5, 'eta': 0.08669033337528995, 'gamma': 0.07128154000791627, 'subsample': 0.768798063818768, 'colsample_bytree': 0.6511625560902885}. Best is trial 220 with value: 61360.0.\n[I 2024-03-15 10:37:58,366] Trial 450 finished with value: 60810.0 and parameters: {'max_depth': 5, 'eta': 0.23093870510481113, 'gamma': 0.9936734483056139, 'subsample': 0.5925759067048776, 'colsample_bytree': 0.6367057443543235}. Best is trial 220 with value: 61360.0.\n[I 2024-03-15 10:37:59,420] Trial 451 finished with value: 61130.0 and parameters: {'max_depth': 5, 'eta': 0.19257680677483438, 'gamma': 0.10763157937514439, 'subsample': 0.7342302462172059, 'colsample_bytree': 0.8162311660864782}. Best is trial 220 with value: 61360.0.\n[I 2024-03-15 10:38:00,771] Trial 452 finished with value: 58570.0 and parameters: {'max_depth': 6, 'eta': 0.015312163489335756, 'gamma': 0.005382087834678827, 'subsample': 0.7205207086624633, 'colsample_bytree': 0.6558934685161198}. Best is trial 220 with value: 61360.0.\n[I 2024-03-15 10:38:01,825] Trial 453 finished with value: 61100.0 and parameters: {'max_depth': 5, 'eta': 0.20973021975980471, 'gamma': 1.0553271021744935e-05, 'subsample': 0.7120568963307978, 'colsample_bytree': 0.8434429179126325}. Best is trial 220 with value: 61360.0.\n[I 2024-03-15 10:38:02,769] Trial 454 finished with value: 61260.0 and parameters: {'max_depth': 4, 'eta': 0.26246511450564236, 'gamma': 0.0009245803526171366, 'subsample': 0.7486605170495075, 'colsample_bytree': 0.934540651995845}. Best is trial 220 with value: 61360.0.\n[I 2024-03-15 10:38:03,855] Trial 455 finished with value: 61380.0 and parameters: {'max_depth': 5, 'eta': 0.26592844752396194, 'gamma': 0.0008146823932646719, 'subsample': 0.7743426174829405, 'colsample_bytree': 0.9618170551771399}. Best is trial 455 with value: 61380.0.\n[I 2024-03-15 10:38:04,778] Trial 456 finished with value: 61160.0 and parameters: {'max_depth': 4, 'eta': 0.280477127397818, 'gamma': 0.0007582440025987897, 'subsample': 0.7779989970072232, 'colsample_bytree': 0.9454807482212979}. Best is trial 455 with value: 61380.0.\n[I 2024-03-15 10:38:05,720] Trial 457 finished with value: 61090.0 and parameters: {'max_depth': 4, 'eta': 0.2609295489208299, 'gamma': 0.0005039300673986414, 'subsample': 0.7797391049680392, 'colsample_bytree': 0.9927760448732904}. Best is trial 455 with value: 61380.0.\n[I 2024-03-15 10:38:06,651] Trial 458 finished with value: 61150.0 and parameters: {'max_depth': 4, 'eta': 0.29724573042959507, 'gamma': 0.0008680538596539592, 'subsample': 0.7627777371378106, 'colsample_bytree': 0.96186089644494}. Best is trial 455 with value: 61380.0.\n[I 2024-03-15 10:38:07,592] Trial 459 finished with value: 61220.0 and parameters: {'max_depth': 4, 'eta': 0.26892468252975554, 'gamma': 0.0010011583963972068, 'subsample': 0.7903842149733221, 'colsample_bytree': 0.967421710563205}. Best is trial 455 with value: 61380.0.\n[I 2024-03-15 10:38:08,600] Trial 460 finished with value: 57910.0 and parameters: {'max_depth': 4, 'eta': 0.03625175334444848, 'gamma': 0.0006282234946938513, 'subsample': 0.7536429756155127, 'colsample_bytree': 0.9200550337891983}. Best is trial 455 with value: 61380.0.\n[I 2024-03-15 10:38:09,741] Trial 461 finished with value: 59470.0 and parameters: {'max_depth': 5, 'eta': 0.04899242964743333, 'gamma': 0.0003616554506646915, 'subsample': 0.7628395079598863, 'colsample_bytree': 0.8993419431275085}. Best is trial 455 with value: 61380.0.\n[I 2024-03-15 10:38:10,692] Trial 462 finished with value: 61260.0 and parameters: {'max_depth': 4, 'eta': 0.24640693893001944, 'gamma': 0.001800021585078547, 'subsample': 0.7522947952630349, 'colsample_bytree': 0.9755224881778923}. Best is trial 455 with value: 61380.0.\n[I 2024-03-15 10:38:11,634] Trial 463 finished with value: 61290.0 and parameters: {'max_depth': 4, 'eta': 0.2436937324973189, 'gamma': 0.0012513625628243726, 'subsample': 0.7515115664662906, 'colsample_bytree': 0.9843298856753037}. Best is trial 455 with value: 61380.0.\n[I 2024-03-15 10:38:12,579] Trial 464 finished with value: 61120.0 and parameters: {'max_depth': 4, 'eta': 0.24357831518654352, 'gamma': 0.001190109637602021, 'subsample': 0.7535851777043122, 'colsample_bytree': 0.9347790428671845}. Best is trial 455 with value: 61380.0.\n[I 2024-03-15 10:38:13,522] Trial 465 finished with value: 61070.0 and parameters: {'max_depth': 4, 'eta': 0.24767842365845902, 'gamma': 0.0012267952763249928, 'subsample': 0.7770765380908216, 'colsample_bytree': 0.9844545647440819}. Best is trial 455 with value: 61380.0.\n[I 2024-03-15 10:38:14,462] Trial 466 finished with value: 60980.0 and parameters: {'max_depth': 4, 'eta': 0.23374157663159376, 'gamma': 0.0008682296435939374, 'subsample': 0.746245646110872, 'colsample_bytree': 0.9763641807779487}. Best is trial 455 with value: 61380.0.\n[I 2024-03-15 10:38:15,404] Trial 467 finished with value: 61020.0 and parameters: {'max_depth': 4, 'eta': 0.25666096787213993, 'gamma': 0.0015416260004700241, 'subsample': 0.7708186283590637, 'colsample_bytree': 0.9802294873311016}. Best is trial 455 with value: 61380.0.\n[I 2024-03-15 10:38:16,351] Trial 468 finished with value: 61070.0 and parameters: {'max_depth': 4, 'eta': 0.2510004981468817, 'gamma': 0.0015479980759407863, 'subsample': 0.7633213497247296, 'colsample_bytree': 0.9733382532583371}. Best is trial 455 with value: 61380.0.\n[I 2024-03-15 10:38:17,292] Trial 469 finished with value: 61230.0 and parameters: {'max_depth': 4, 'eta': 0.28497038990844864, 'gamma': 0.0009046638635724077, 'subsample': 0.751534439367074, 'colsample_bytree': 0.9648312236453909}. Best is trial 455 with value: 61380.0.\n[I 2024-03-15 10:38:18,237] Trial 470 finished with value: 60940.0 and parameters: {'max_depth': 4, 'eta': 0.23027360992528578, 'gamma': 0.0005598456381955872, 'subsample': 0.7727749621832672, 'colsample_bytree': 0.9554105854093393}. Best is trial 455 with value: 61380.0.\n[I 2024-03-15 10:38:19,179] Trial 471 finished with value: 61270.0 and parameters: {'max_depth': 4, 'eta': 0.2635737185273412, 'gamma': 0.001087048971047814, 'subsample': 0.7583129048376911, 'colsample_bytree': 0.9950727336936424}. Best is trial 455 with value: 61380.0.\n[I 2024-03-15 10:38:20,123] Trial 472 finished with value: 61080.0 and parameters: {'max_depth': 4, 'eta': 0.27360093528213, 'gamma': 0.0007172491638967185, 'subsample': 0.75322050758265, 'colsample_bytree': 0.9902879641330223}. Best is trial 455 with value: 61380.0.\n[I 2024-03-15 10:38:21,101] Trial 473 finished with value: 61030.0 and parameters: {'max_depth': 4, 'eta': 0.26822618052477687, 'gamma': 0.00047197121784740983, 'subsample': 0.7641922659803176, 'colsample_bytree': 0.9853761164441192}. Best is trial 455 with value: 61380.0.\n[I 2024-03-15 10:38:22,034] Trial 474 finished with value: 61190.0 and parameters: {'max_depth': 4, 'eta': 0.24215540647281478, 'gamma': 0.0012185365965165572, 'subsample': 0.7586550702845656, 'colsample_bytree': 0.9952623991912937}. Best is trial 455 with value: 61380.0.\n[I 2024-03-15 10:38:22,973] Trial 475 finished with value: 61180.0 and parameters: {'max_depth': 4, 'eta': 0.29925337819819264, 'gamma': 0.0018128248663242912, 'subsample': 0.7457938695774331, 'colsample_bytree': 0.9996494108639092}. Best is trial 455 with value: 61380.0.\n[I 2024-03-15 10:38:23,912] Trial 476 finished with value: 61060.0 and parameters: {'max_depth': 4, 'eta': 0.2592660061955891, 'gamma': 0.001122830723531128, 'subsample': 0.7439974488108972, 'colsample_bytree': 0.9776374872712271}. Best is trial 455 with value: 61380.0.\n[I 2024-03-15 10:38:24,864] Trial 477 finished with value: 60910.0 and parameters: {'max_depth': 4, 'eta': 0.22315544886039715, 'gamma': 0.0016909246514990753, 'subsample': 0.7593194147339162, 'colsample_bytree': 0.9717211850052068}. Best is trial 455 with value: 61380.0.\n[I 2024-03-15 10:38:25,816] Trial 478 finished with value: 60900.0 and parameters: {'max_depth': 4, 'eta': 0.2840394877495791, 'gamma': 0.000306048252308259, 'subsample': 0.7706658905111898, 'colsample_bytree': 0.9830187833989136}. Best is trial 455 with value: 61380.0.\n[I 2024-03-15 10:38:26,755] Trial 479 finished with value: 60950.0 and parameters: {'max_depth': 4, 'eta': 0.26207210834656813, 'gamma': 0.00104987883591682, 'subsample': 0.7897241702077838, 'colsample_bytree': 0.9506626861370573}. Best is trial 455 with value: 61380.0.\n[I 2024-03-15 10:38:27,725] Trial 480 finished with value: 61190.0 and parameters: {'max_depth': 4, 'eta': 0.24301788878102473, 'gamma': 0.0007934822349782186, 'subsample': 0.7421830349497818, 'colsample_bytree': 0.971553261108433}. Best is trial 455 with value: 61380.0.\n[I 2024-03-15 10:38:28,661] Trial 481 finished with value: 61150.0 and parameters: {'max_depth': 4, 'eta': 0.2300696140712529, 'gamma': 0.002154525201777187, 'subsample': 0.7559413308229992, 'colsample_bytree': 0.9997225718029942}. Best is trial 455 with value: 61380.0.\n[I 2024-03-15 10:38:29,599] Trial 482 finished with value: 60940.0 and parameters: {'max_depth': 4, 'eta': 0.2695641410152908, 'gamma': 0.0012559439605987054, 'subsample': 0.7712472389487558, 'colsample_bytree': 0.9876148006258928}. Best is trial 455 with value: 61380.0.\n[I 2024-03-15 10:38:30,546] Trial 483 finished with value: 60970.0 and parameters: {'max_depth': 4, 'eta': 0.2510939075528552, 'gamma': 0.0007099291322679842, 'subsample': 0.7409646515483271, 'colsample_bytree': 0.9621598199810404}. Best is trial 455 with value: 61380.0.\n[I 2024-03-15 10:38:31,462] Trial 484 finished with value: 61100.0 and parameters: {'max_depth': 4, 'eta': 0.28209376949707193, 'gamma': 0.002169600118862771, 'subsample': 0.7549269186025199, 'colsample_bytree': 0.9328490942906954}. Best is trial 455 with value: 61380.0.\n[I 2024-03-15 10:38:32,405] Trial 485 finished with value: 61000.0 and parameters: {'max_depth': 4, 'eta': 0.2388109398541067, 'gamma': 0.001641812228161368, 'subsample': 0.7789867845348522, 'colsample_bytree': 0.9774724388495432}. Best is trial 455 with value: 61380.0.\n[I 2024-03-15 10:38:33,350] Trial 486 finished with value: 61120.0 and parameters: {'max_depth': 4, 'eta': 0.25716997906852923, 'gamma': 0.0005178080651293642, 'subsample': 0.7498138405155486, 'colsample_bytree': 0.9541665408364541}. Best is trial 455 with value: 61380.0.\n[I 2024-03-15 10:38:34,283] Trial 487 finished with value: 61010.0 and parameters: {'max_depth': 4, 'eta': 0.2282723745406185, 'gamma': 0.0015240154608813403, 'subsample': 0.878209817123496, 'colsample_bytree': 0.9850501066589991}. Best is trial 455 with value: 61380.0.\n[I 2024-03-15 10:38:35,272] Trial 488 finished with value: 57170.0 and parameters: {'max_depth': 4, 'eta': 0.02956525743871324, 'gamma': 0.0022163516953099768, 'subsample': 0.7982234337822932, 'colsample_bytree': 0.9401915708966779}. Best is trial 455 with value: 61380.0.\n[I 2024-03-15 10:38:36,111] Trial 489 finished with value: 60930.0 and parameters: {'max_depth': 3, 'eta': 0.2715811165879382, 'gamma': 1.5265061032241446e-07, 'subsample': 0.7369370796378765, 'colsample_bytree': 0.9602383683586512}. Best is trial 455 with value: 61380.0.\n[I 2024-03-15 10:38:37,014] Trial 490 finished with value: 61050.0 and parameters: {'max_depth': 4, 'eta': 0.21668093021407042, 'gamma': 0.0009175380773221756, 'subsample': 0.9324408143921639, 'colsample_bytree': 0.9886787068167942}. Best is trial 455 with value: 61380.0.\n[I 2024-03-15 10:38:37,951] Trial 491 finished with value: 61000.0 and parameters: {'max_depth': 4, 'eta': 0.2995361399006569, 'gamma': 0.002648598696122221, 'subsample': 0.7672848166360159, 'colsample_bytree': 0.9763899010752005}. Best is trial 455 with value: 61380.0.\n[I 2024-03-15 10:38:38,884] Trial 492 finished with value: 61320.0 and parameters: {'max_depth': 4, 'eta': 0.24633628428335078, 'gamma': 0.0025655074080561118, 'subsample': 0.7388849478041947, 'colsample_bytree': 0.971774618559693}. Best is trial 455 with value: 61380.0.\n[I 2024-03-15 10:38:39,817] Trial 493 finished with value: 60920.0 and parameters: {'max_depth': 4, 'eta': 0.26553688703848327, 'gamma': 0.0030989375919734463, 'subsample': 0.7360323406588264, 'colsample_bytree': 0.9323616867623986}. Best is trial 455 with value: 61380.0.\n[I 2024-03-15 10:38:40,751] Trial 494 finished with value: 61080.0 and parameters: {'max_depth': 4, 'eta': 0.23954171894253376, 'gamma': 0.0012394212533405904, 'subsample': 0.7416390853809859, 'colsample_bytree': 0.9437438787582986}. Best is trial 455 with value: 61380.0.\n[I 2024-03-15 10:38:41,704] Trial 495 finished with value: 61150.0 and parameters: {'max_depth': 4, 'eta': 0.21908374323075752, 'gamma': 0.0029943205285588954, 'subsample': 0.7290627224436996, 'colsample_bytree': 0.9628996283104382}. Best is trial 455 with value: 61380.0.\n[I 2024-03-15 10:38:42,647] Trial 496 finished with value: 61170.0 and parameters: {'max_depth': 4, 'eta': 0.2561141929354413, 'gamma': 4.343005562362173e-08, 'subsample': 0.7451767414489631, 'colsample_bytree': 0.926569584927395}. Best is trial 455 with value: 61380.0.\n[I 2024-03-15 10:38:43,539] Trial 497 finished with value: 60940.0 and parameters: {'max_depth': 4, 'eta': 0.28265614035472497, 'gamma': 0.0005936312484616266, 'subsample': 0.7330090863749864, 'colsample_bytree': 0.5791896015731154}. Best is trial 455 with value: 61380.0.\n[I 2024-03-15 10:38:44,411] Trial 498 finished with value: 61010.0 and parameters: {'max_depth': 4, 'eta': 0.23542773421979896, 'gamma': 0.014962992938082518, 'subsample': 0.7335215982982601, 'colsample_bytree': 0.6226341766852589}. Best is trial 455 with value: 61380.0.\n[I 2024-03-15 10:38:45,364] Trial 499 finished with value: 60990.0 and parameters: {'max_depth': 5, 'eta': 0.2632781328902755, 'gamma': 0.00038117055996994434, 'subsample': 0.9731788807979043, 'colsample_bytree': 0.5679998728584749}. Best is trial 455 with value: 61380.0.\n",
          "output_type": "stream"
        }
      ],
      "outputs_reference": null,
      "execution_count": 48,
      "block_group": "ca48e721e70f4787a42f731a02c1143a"
    },
    {
      "cell_type": "code",
      "source": "print(best_params)",
      "metadata": {
        "source_hash": "b4bf3a4f",
        "execution_start": 1710499125371,
        "execution_millis": 311,
        "deepnote_to_be_reexecuted": false,
        "cell_id": "db33c8a95b3e45f0a1487daef1c0095e",
        "deepnote_cell_type": "code"
      },
      "outputs": [
        {
          "name": "stdout",
          "text": "{'max_depth': 5, 'eta': 0.26592844752396194, 'gamma': 0.0008146823932646719, 'subsample': 0.7743426174829405, 'colsample_bytree': 0.9618170551771399}\n",
          "output_type": "stream"
        }
      ],
      "outputs_reference": null,
      "execution_count": 49,
      "block_group": "817df9af09354119bcc1ce4a9b93d453"
    },
    {
      "cell_type": "code",
      "source": "classifiers = {\n    \"XGBoost\": xgb.XGBClassifier(**best_params, random_state=42),\n}",
      "metadata": {
        "source_hash": "59b78b57",
        "execution_start": 1710499125374,
        "execution_millis": 308,
        "deepnote_to_be_reexecuted": false,
        "cell_id": "0c7ac6276c4341e090eb3404d7562e04",
        "deepnote_cell_type": "code"
      },
      "outputs": [],
      "outputs_reference": null,
      "execution_count": 50,
      "block_group": "298888269d764c2ca3d3e5aa4d4ec206"
    },
    {
      "cell_type": "code",
      "source": "xgb_model = train_result(X_train_oversampled, X_test, y_train_oversampled, y_test)",
      "metadata": {
        "source_hash": "1b4bc5cc",
        "execution_start": 1710499126204,
        "execution_millis": 182,
        "deepnote_to_be_reexecuted": false,
        "cell_id": "848171373982405a96221806a469463b",
        "deepnote_cell_type": "code"
      },
      "outputs": [
        {
          "name": "stdout",
          "text": "Classifier      Precision    Recall    F1 Score    F2 Score    TP    TN    FP    FN    Business Value Score\n------------  -----------  --------  ----------  ----------  ----  ----  ----  ----  ----------------------\nXGBoost          0.984568  0.987616     0.98609    0.987005   319  1697     5     4                   63950\n",
          "output_type": "stream"
        }
      ],
      "outputs_reference": null,
      "execution_count": 53,
      "block_group": "e33d97ec750d46f98c7dd3949f0e4d83"
    },
    {
      "cell_type": "code",
      "source": "results = []\nkfold = KFold(n_splits=5, shuffle=True, random_state=42)\n\nfor name, clf in classifiers.items():\n    # Calculate the cross-validation scores and mean TP, TN, FP, FN\n    f2_scores = []\n    precision_scores = []\n    recall_scores = []\n    business_value_scores = []\n    tp_values = []\n    tn_values = []\n    fp_values = []\n    fn_values = []\n    \n    for train_index, test_index in kfold.split(X):\n        X_train, X_test = X.iloc[train_index], X.iloc[test_index]\n        y_train, y_test = y.iloc[train_index], y.iloc[test_index]\n\n        X_train_scaled = numeric_pipeline.fit_transform(X_train[numeric_columns])\n        # Transform the testing data\n        X_test_scaled = numeric_pipeline.transform(X_test[numeric_columns])\n\n        # Replace the original numeric columns in X_train and X_test with the scaled ones\n        X_train.loc[:, numeric_columns] = X_train_scaled\n        X_test.loc[:, numeric_columns] = X_test_scaled\n\n        oversampler = RandomOverSampler(random_state=42)\n        X_train_oversampled, y_train_oversampled = oversampler.fit_resample(X_train, y_train)\n\n        clf.fit(X_train_oversampled, y_train_oversampled)\n        y_pred = clf.predict(X_test)\n        f2 = fbeta_score(y_test, y_pred, beta=2)\n        precision = precision_score(y_test, y_pred)\n        recall = recall_score(y_test, y_pred)\n\n        # Calculate confusion matrix\n        cm = confusion_matrix(y_test, y_pred)\n        tn, fp, fn, tp = cm.ravel()\n\n        # Calculate business value score\n        business_value_score = (tp * TP_value) + (tn * TN_value) + (fp * FP_value) + (fn * FN_value)\n\n        f2_scores.append(f2)\n        precision_scores.append(precision)\n        recall_scores.append(recall)\n        business_value_scores.append(business_value_score)\n        \n        # Append TP, TN, FP, FN values\n        tp_values.append(tp)\n        tn_values.append(tn)\n        fp_values.append(fp)\n        fn_values.append(fn)\n\n    # Calculate the mean values\n    mean_f2_score = np.mean(f2_scores)\n    mean_precision_score = np.mean(precision_scores)\n    mean_recall_score = np.mean(recall_scores)\n    mean_business_value_score = np.mean(business_value_scores)\n    mean_tp = np.mean(tp_values)\n    mean_tn = np.mean(tn_values)\n    mean_fp = np.mean(fp_values)\n    mean_fn = np.mean(fn_values)\n\n    # Calculate the standard deviations\n    std_tp = np.std(tp_values)\n    std_tn = np.std(tn_values)\n    std_fp = np.std(fp_values)\n    std_fn = np.std(fn_values)\n\n    # Format results and append to the list\n    results.append([name, \n                    \"{:.3f}+-{:.3f}\".format(mean_precision_score, std_precision_score), \n                    \"{:.3f}+-{:.3f}\".format(mean_recall_score, std_recall_score), \n                    \"{:.3f}+-{:.3f}\".format(mean_f2_score, std_f2_score), \n                    \"{:.1f}+-{:.1f}\".format(mean_tp, std_tp), \n                    \"{:.1f}+-{:.1f}\".format(mean_tn, std_tn), \n                    \"{:.1f}+-{:.1f}\".format(mean_fp, std_fp), \n                    \"{:.1f}+-{:.1f}\".format(mean_fn, std_fn), \n                    \"{:.3f}+-{:.3f}\".format(mean_business_value_score, std_business_value_score)])\n\n# Create a table using tabulate\nheaders = [\"Classifier\", \"Mean Precision\", \"Mean Recall\", \"Mean F2 Score\", \"Mean TP\", \"Mean TN\", \"Mean FP\", \"Mean FN\", \"Mean Business Value Score\"]\ntable = tabulate(results, headers=headers)\n\n# Print the table\nprint(table)",
      "metadata": {
        "source_hash": "65a4dfa1",
        "execution_start": 1710500755088,
        "execution_millis": 1033,
        "deepnote_to_be_reexecuted": false,
        "cell_id": "a357c49e427b4865b1dabc2afe765034",
        "deepnote_cell_type": "code"
      },
      "outputs": [
        {
          "name": "stdout",
          "text": "Classifier    Mean Precision    Mean Recall    Mean F2 Score    Mean TP     Mean TN       Mean FP    Mean FN    Mean Business Value Score\n------------  ----------------  -------------  ---------------  ----------  ------------  ---------  ---------  ---------------------------\nXGBoost       0.910+-0.017      0.932+-0.007   0.928+-0.008     303.4+-7.2  1670.0+-11.0  30.0+-6.1  22.0+-2.7  61380.000+-1579.114\n",
          "output_type": "stream"
        }
      ],
      "outputs_reference": null,
      "execution_count": 63,
      "block_group": "28cab9f04a634a308e598011ff78338d"
    },
    {
      "cell_type": "markdown",
      "source": "<a style='text-decoration:none;line-height:16px;display:flex;color:#5B5B62;padding:10px;justify-content:end;' href='https://deepnote.com?utm_source=created-in-deepnote-cell&projectId=6ad58bc5-59dd-429f-97b6-3cedb5b4fcfc' target=\"_blank\">\n<img alt='Created in deepnote.com' style='display:inline;max-height:16px;margin:0px;margin-right:7.5px;' src='data:image/svg+xml;base64,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' > </img>\nCreated in <span style='font-weight:600;margin-left:4px;'>Deepnote</span></a>",
      "metadata": {
        "created_in_deepnote_cell": true,
        "deepnote_cell_type": "markdown"
      }
    }
  ],
  "nbformat": 4,
  "nbformat_minor": 0,
  "metadata": {
    "deepnote_notebook_id": "3b745dd90aee4e1bb73c71870ff38876",
    "deepnote_execution_queue": []
  }
}