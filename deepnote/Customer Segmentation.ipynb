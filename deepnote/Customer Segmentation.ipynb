{
  "cells": [
    {
      "cell_type": "code",
      "source": "!pip install -qq kmodes==0.12.2",
      "metadata": {
        "source_hash": null,
        "execution_start": 1710142102062,
        "execution_millis": 2631,
        "deepnote_to_be_reexecuted": false,
        "cell_id": "a96ecccd697b4485a1d510e9f81dd5cb",
        "deepnote_cell_type": "code"
      },
      "outputs": [],
      "outputs_reference": null,
      "execution_count": null,
      "block_group": "f14847afe8e44c08bd2ccb3774aea7cb"
    },
    {
      "cell_type": "code",
      "source": "import pandas as pd\nfrom kmodes.kmodes import KModes\nimport seaborn as sns\nimport matplotlib.pyplot as plt",
      "metadata": {
        "source_hash": null,
        "execution_start": 1710143295290,
        "execution_millis": 19,
        "deepnote_to_be_reexecuted": false,
        "cell_id": "0dd3e28e152d4e8fb3de8102b864bf06",
        "deepnote_cell_type": "code"
      },
      "outputs": [],
      "outputs_reference": null,
      "execution_count": null,
      "block_group": "c3355005623744a8a69e51ea89574307"
    },
    {
      "cell_type": "code",
      "source": "df = pd.read_csv('/work/Credit_Card_Churn_Intern_BCC_2024/Dataset/BankChurners.csv')\ndf.drop(columns=['CLIENTNUM','Avg_Open_To_Buy','Naive_Bayes_Classifier_Attrition_Flag_Card_Category_Contacts_Count_12_mon_Dependent_count_Education_Level_Months_Inactive_12_mon_1','Naive_Bayes_Classifier_Attrition_Flag_Card_Category_Contacts_Count_12_mon_Dependent_count_Education_Level_Months_Inactive_12_mon_2'], inplace=True)",
      "metadata": {
        "source_hash": null,
        "execution_start": 1710142024333,
        "execution_millis": 437,
        "deepnote_to_be_reexecuted": false,
        "cell_id": "90d45c7444b9493182d6955ce29fda16",
        "deepnote_cell_type": "code"
      },
      "outputs": [],
      "outputs_reference": null,
      "execution_count": null,
      "block_group": "90d45c7444b9493182d6955ce29fda16"
    },
    {
      "cell_type": "code",
      "source": "# df = pd.get_dummies(df, columns=['Gender', 'Marital_Status'], drop_first=True)\n\n# df['Education_Level'] = df['Education_Level'].map({'Uneducated': 0, 'High School': 1, 'Unknown': 2, 'College': 3, 'Graduate': 4, 'Post-Graduate':5, 'Doctorate': 6})\n# df['Income_Category'] = df['Income_Category'].map({'Less than $40K': 0, '$40K - $60K': 1, 'Unknown': 2,'$60K - $80K': 3, '$80K - $120K': 4, '$120K +': 5})\n# df['Card_Category'] = df['Card_Category'].map({'Blue': 0, 'Silver': 1, 'Gold': 2, 'Platinum': 3})\ndf['Attrition_Flag'] = df['Attrition_Flag'].map({'Existing Customer': 0, 'Attrited Customer': 1})",
      "metadata": {
        "source_hash": null,
        "execution_start": 1710142036724,
        "execution_millis": 98,
        "deepnote_to_be_reexecuted": false,
        "cell_id": "0e1be56c07174b9c95ac46cf5ad5fa3b",
        "deepnote_cell_type": "code"
      },
      "outputs": [],
      "outputs_reference": null,
      "execution_count": null,
      "block_group": "5d156bc2f1e14592ba90e8a57be154d4"
    },
    {
      "cell_type": "code",
      "source": "df",
      "metadata": {
        "source_hash": null,
        "execution_start": 1710142037882,
        "execution_millis": 203,
        "deepnote_to_be_reexecuted": false,
        "cell_id": "d43a59ce83a1483bb2c133303a9f51a5",
        "deepnote_cell_type": "code"
      },
      "outputs": [
        {
          "output_type": "execute_result",
          "execution_count": 46,
          "data": {
            "application/vnd.deepnote.dataframe.v3+json": {
              "column_count": 19,
              "row_count": 10127,
              "columns": [
                {
                  "name": "Attrition_Flag",
                  "dtype": "int64",
                  "stats": {
                    "unique_count": 2,
                    "nan_count": 0,
                    "min": "0",
                    "max": "1",
                    "histogram": [
                      {
                        "bin_start": 0,
                        "bin_end": 0.1,
                        "count": 8500
                      },
                      {
                        "bin_start": 0.1,
                        "bin_end": 0.2,
                        "count": 0
                      },
                      {
                        "bin_start": 0.2,
                        "bin_end": 0.30000000000000004,
                        "count": 0
                      },
                      {
                        "bin_start": 0.30000000000000004,
                        "bin_end": 0.4,
                        "count": 0
                      },
                      {
                        "bin_start": 0.4,
                        "bin_end": 0.5,
                        "count": 0
                      },
                      {
                        "bin_start": 0.5,
                        "bin_end": 0.6000000000000001,
                        "count": 0
                      },
                      {
                        "bin_start": 0.6000000000000001,
                        "bin_end": 0.7000000000000001,
                        "count": 0
                      },
                      {
                        "bin_start": 0.7000000000000001,
                        "bin_end": 0.8,
                        "count": 0
                      },
                      {
                        "bin_start": 0.8,
                        "bin_end": 0.9,
                        "count": 0
                      },
                      {
                        "bin_start": 0.9,
                        "bin_end": 1,
                        "count": 1627
                      }
                    ]
                  }
                },
                {
                  "name": "Customer_Age",
                  "dtype": "int64",
                  "stats": {
                    "unique_count": 45,
                    "nan_count": 0,
                    "min": "26",
                    "max": "73",
                    "histogram": [
                      {
                        "bin_start": 26,
                        "bin_end": 30.7,
                        "count": 265
                      },
                      {
                        "bin_start": 30.7,
                        "bin_end": 35.4,
                        "count": 654
                      },
                      {
                        "bin_start": 35.4,
                        "bin_end": 40.1,
                        "count": 1478
                      },
                      {
                        "bin_start": 40.1,
                        "bin_end": 44.8,
                        "count": 1778
                      },
                      {
                        "bin_start": 44.8,
                        "bin_end": 49.5,
                        "count": 2422
                      },
                      {
                        "bin_start": 49.5,
                        "bin_end": 54.2,
                        "count": 1920
                      },
                      {
                        "bin_start": 54.2,
                        "bin_end": 58.9,
                        "count": 921
                      },
                      {
                        "bin_start": 58.9,
                        "bin_end": 63.6,
                        "count": 535
                      },
                      {
                        "bin_start": 63.6,
                        "bin_end": 68.30000000000001,
                        "count": 152
                      },
                      {
                        "bin_start": 68.30000000000001,
                        "bin_end": 73,
                        "count": 2
                      }
                    ]
                  }
                },
                {
                  "name": "Gender",
                  "dtype": "object",
                  "stats": {
                    "unique_count": 2,
                    "nan_count": 0,
                    "categories": [
                      {
                        "name": "F",
                        "count": 5358
                      },
                      {
                        "name": "M",
                        "count": 4769
                      }
                    ]
                  }
                },
                {
                  "name": "Dependent_count",
                  "dtype": "int64",
                  "stats": {
                    "unique_count": 6,
                    "nan_count": 0,
                    "min": "0",
                    "max": "5",
                    "histogram": [
                      {
                        "bin_start": 0,
                        "bin_end": 0.5,
                        "count": 904
                      },
                      {
                        "bin_start": 0.5,
                        "bin_end": 1,
                        "count": 0
                      },
                      {
                        "bin_start": 1,
                        "bin_end": 1.5,
                        "count": 1838
                      },
                      {
                        "bin_start": 1.5,
                        "bin_end": 2,
                        "count": 0
                      },
                      {
                        "bin_start": 2,
                        "bin_end": 2.5,
                        "count": 2655
                      },
                      {
                        "bin_start": 2.5,
                        "bin_end": 3,
                        "count": 0
                      },
                      {
                        "bin_start": 3,
                        "bin_end": 3.5,
                        "count": 2732
                      },
                      {
                        "bin_start": 3.5,
                        "bin_end": 4,
                        "count": 0
                      },
                      {
                        "bin_start": 4,
                        "bin_end": 4.5,
                        "count": 1574
                      },
                      {
                        "bin_start": 4.5,
                        "bin_end": 5,
                        "count": 424
                      }
                    ]
                  }
                },
                {
                  "name": "Education_Level",
                  "dtype": "object",
                  "stats": {
                    "unique_count": 7,
                    "nan_count": 0,
                    "categories": [
                      {
                        "name": "Graduate",
                        "count": 3128
                      },
                      {
                        "name": "High School",
                        "count": 2013
                      },
                      {
                        "name": "5 others",
                        "count": 4986
                      }
                    ]
                  }
                },
                {
                  "name": "Marital_Status",
                  "dtype": "object",
                  "stats": {
                    "unique_count": 4,
                    "nan_count": 0,
                    "categories": [
                      {
                        "name": "Married",
                        "count": 4687
                      },
                      {
                        "name": "Single",
                        "count": 3943
                      },
                      {
                        "name": "2 others",
                        "count": 1497
                      }
                    ]
                  }
                },
                {
                  "name": "Income_Category",
                  "dtype": "object",
                  "stats": {
                    "unique_count": 6,
                    "nan_count": 0,
                    "categories": [
                      {
                        "name": "Less than $40K",
                        "count": 3561
                      },
                      {
                        "name": "$40K - $60K",
                        "count": 1790
                      },
                      {
                        "name": "4 others",
                        "count": 4776
                      }
                    ]
                  }
                },
                {
                  "name": "Card_Category",
                  "dtype": "object",
                  "stats": {
                    "unique_count": 4,
                    "nan_count": 0,
                    "categories": [
                      {
                        "name": "Blue",
                        "count": 9436
                      },
                      {
                        "name": "Silver",
                        "count": 555
                      },
                      {
                        "name": "2 others",
                        "count": 136
                      }
                    ]
                  }
                },
                {
                  "name": "Months_on_book",
                  "dtype": "int64",
                  "stats": {
                    "unique_count": 44,
                    "nan_count": 0,
                    "min": "13",
                    "max": "56",
                    "histogram": [
                      {
                        "bin_start": 13,
                        "bin_end": 17.3,
                        "count": 188
                      },
                      {
                        "bin_start": 17.3,
                        "bin_end": 21.6,
                        "count": 278
                      },
                      {
                        "bin_start": 21.6,
                        "bin_end": 25.9,
                        "count": 546
                      },
                      {
                        "bin_start": 25.9,
                        "bin_end": 30.2,
                        "count": 1208
                      },
                      {
                        "bin_start": 30.2,
                        "bin_end": 34.5,
                        "count": 1265
                      },
                      {
                        "bin_start": 34.5,
                        "bin_end": 38.8,
                        "count": 3485
                      },
                      {
                        "bin_start": 38.8,
                        "bin_end": 43.099999999999994,
                        "count": 1515
                      },
                      {
                        "bin_start": 43.099999999999994,
                        "bin_end": 47.4,
                        "count": 825
                      },
                      {
                        "bin_start": 47.4,
                        "bin_end": 51.699999999999996,
                        "count": 479
                      },
                      {
                        "bin_start": 51.699999999999996,
                        "bin_end": 56,
                        "count": 338
                      }
                    ]
                  }
                },
                {
                  "name": "Total_Relationship_Count",
                  "dtype": "int64"
                },
                {
                  "name": "Months_Inactive_12_mon",
                  "dtype": "int64"
                },
                {
                  "name": "Contacts_Count_12_mon",
                  "dtype": "int64"
                },
                {
                  "name": "Credit_Limit",
                  "dtype": "float64"
                },
                {
                  "name": "Total_Revolving_Bal",
                  "dtype": "int64"
                },
                {
                  "name": "Total_Amt_Chng_Q4_Q1",
                  "dtype": "float64"
                },
                {
                  "name": "Total_Trans_Amt",
                  "dtype": "int64"
                },
                {
                  "name": "Total_Trans_Ct",
                  "dtype": "int64"
                },
                {
                  "name": "Total_Ct_Chng_Q4_Q1",
                  "dtype": "float64"
                },
                {
                  "name": "Avg_Utilization_Ratio",
                  "dtype": "float64"
                },
                {
                  "name": "_deepnote_index_column",
                  "dtype": "int64"
                }
              ],
              "rows": [
                {
                  "Attrition_Flag": 0,
                  "Customer_Age": 45,
                  "Gender": "M",
                  "Dependent_count": 3,
                  "Education_Level": "High School",
                  "Marital_Status": "Married",
                  "Income_Category": "$60K - $80K",
                  "Card_Category": "Blue",
                  "Months_on_book": 39,
                  "Total_Relationship_Count": 5,
                  "Months_Inactive_12_mon": 1,
                  "Contacts_Count_12_mon": 3,
                  "Credit_Limit": 12691,
                  "Total_Revolving_Bal": 777,
                  "Total_Amt_Chng_Q4_Q1": 1.335,
                  "Total_Trans_Amt": 1144,
                  "Total_Trans_Ct": 42,
                  "Total_Ct_Chng_Q4_Q1": 1.625,
                  "Avg_Utilization_Ratio": 0.061,
                  "_deepnote_index_column": 0
                },
                {
                  "Attrition_Flag": 0,
                  "Customer_Age": 49,
                  "Gender": "F",
                  "Dependent_count": 5,
                  "Education_Level": "Graduate",
                  "Marital_Status": "Single",
                  "Income_Category": "Less than $40K",
                  "Card_Category": "Blue",
                  "Months_on_book": 44,
                  "Total_Relationship_Count": 6,
                  "Months_Inactive_12_mon": 1,
                  "Contacts_Count_12_mon": 2,
                  "Credit_Limit": 8256,
                  "Total_Revolving_Bal": 864,
                  "Total_Amt_Chng_Q4_Q1": 1.541,
                  "Total_Trans_Amt": 1291,
                  "Total_Trans_Ct": 33,
                  "Total_Ct_Chng_Q4_Q1": 3.714,
                  "Avg_Utilization_Ratio": 0.105,
                  "_deepnote_index_column": 1
                },
                {
                  "Attrition_Flag": 0,
                  "Customer_Age": 51,
                  "Gender": "M",
                  "Dependent_count": 3,
                  "Education_Level": "Graduate",
                  "Marital_Status": "Married",
                  "Income_Category": "$80K - $120K",
                  "Card_Category": "Blue",
                  "Months_on_book": 36,
                  "Total_Relationship_Count": 4,
                  "Months_Inactive_12_mon": 1,
                  "Contacts_Count_12_mon": 0,
                  "Credit_Limit": 3418,
                  "Total_Revolving_Bal": 0,
                  "Total_Amt_Chng_Q4_Q1": 2.594,
                  "Total_Trans_Amt": 1887,
                  "Total_Trans_Ct": 20,
                  "Total_Ct_Chng_Q4_Q1": 2.333,
                  "Avg_Utilization_Ratio": 0,
                  "_deepnote_index_column": 2
                },
                {
                  "Attrition_Flag": 0,
                  "Customer_Age": 40,
                  "Gender": "F",
                  "Dependent_count": 4,
                  "Education_Level": "High School",
                  "Marital_Status": "Unknown",
                  "Income_Category": "Less than $40K",
                  "Card_Category": "Blue",
                  "Months_on_book": 34,
                  "Total_Relationship_Count": 3,
                  "Months_Inactive_12_mon": 4,
                  "Contacts_Count_12_mon": 1,
                  "Credit_Limit": 3313,
                  "Total_Revolving_Bal": 2517,
                  "Total_Amt_Chng_Q4_Q1": 1.405,
                  "Total_Trans_Amt": 1171,
                  "Total_Trans_Ct": 20,
                  "Total_Ct_Chng_Q4_Q1": 2.333,
                  "Avg_Utilization_Ratio": 0.76,
                  "_deepnote_index_column": 3
                },
                {
                  "Attrition_Flag": 0,
                  "Customer_Age": 40,
                  "Gender": "M",
                  "Dependent_count": 3,
                  "Education_Level": "Uneducated",
                  "Marital_Status": "Married",
                  "Income_Category": "$60K - $80K",
                  "Card_Category": "Blue",
                  "Months_on_book": 21,
                  "Total_Relationship_Count": 5,
                  "Months_Inactive_12_mon": 1,
                  "Contacts_Count_12_mon": 0,
                  "Credit_Limit": 4716,
                  "Total_Revolving_Bal": 0,
                  "Total_Amt_Chng_Q4_Q1": 2.175,
                  "Total_Trans_Amt": 816,
                  "Total_Trans_Ct": 28,
                  "Total_Ct_Chng_Q4_Q1": 2.5,
                  "Avg_Utilization_Ratio": 0,
                  "_deepnote_index_column": 4
                },
                {
                  "Attrition_Flag": 0,
                  "Customer_Age": 44,
                  "Gender": "M",
                  "Dependent_count": 2,
                  "Education_Level": "Graduate",
                  "Marital_Status": "Married",
                  "Income_Category": "$40K - $60K",
                  "Card_Category": "Blue",
                  "Months_on_book": 36,
                  "Total_Relationship_Count": 3,
                  "Months_Inactive_12_mon": 1,
                  "Contacts_Count_12_mon": 2,
                  "Credit_Limit": 4010,
                  "Total_Revolving_Bal": 1247,
                  "Total_Amt_Chng_Q4_Q1": 1.376,
                  "Total_Trans_Amt": 1088,
                  "Total_Trans_Ct": 24,
                  "Total_Ct_Chng_Q4_Q1": 0.846,
                  "Avg_Utilization_Ratio": 0.311,
                  "_deepnote_index_column": 5
                },
                {
                  "Attrition_Flag": 0,
                  "Customer_Age": 51,
                  "Gender": "M",
                  "Dependent_count": 4,
                  "Education_Level": "Unknown",
                  "Marital_Status": "Married",
                  "Income_Category": "$120K +",
                  "Card_Category": "Gold",
                  "Months_on_book": 46,
                  "Total_Relationship_Count": 6,
                  "Months_Inactive_12_mon": 1,
                  "Contacts_Count_12_mon": 3,
                  "Credit_Limit": 34516,
                  "Total_Revolving_Bal": 2264,
                  "Total_Amt_Chng_Q4_Q1": 1.975,
                  "Total_Trans_Amt": 1330,
                  "Total_Trans_Ct": 31,
                  "Total_Ct_Chng_Q4_Q1": 0.722,
                  "Avg_Utilization_Ratio": 0.066,
                  "_deepnote_index_column": 6
                },
                {
                  "Attrition_Flag": 0,
                  "Customer_Age": 32,
                  "Gender": "M",
                  "Dependent_count": 0,
                  "Education_Level": "High School",
                  "Marital_Status": "Unknown",
                  "Income_Category": "$60K - $80K",
                  "Card_Category": "Silver",
                  "Months_on_book": 27,
                  "Total_Relationship_Count": 2,
                  "Months_Inactive_12_mon": 2,
                  "Contacts_Count_12_mon": 2,
                  "Credit_Limit": 29081,
                  "Total_Revolving_Bal": 1396,
                  "Total_Amt_Chng_Q4_Q1": 2.204,
                  "Total_Trans_Amt": 1538,
                  "Total_Trans_Ct": 36,
                  "Total_Ct_Chng_Q4_Q1": 0.714,
                  "Avg_Utilization_Ratio": 0.048,
                  "_deepnote_index_column": 7
                },
                {
                  "Attrition_Flag": 0,
                  "Customer_Age": 37,
                  "Gender": "M",
                  "Dependent_count": 3,
                  "Education_Level": "Uneducated",
                  "Marital_Status": "Single",
                  "Income_Category": "$60K - $80K",
                  "Card_Category": "Blue",
                  "Months_on_book": 36,
                  "Total_Relationship_Count": 5,
                  "Months_Inactive_12_mon": 2,
                  "Contacts_Count_12_mon": 0,
                  "Credit_Limit": 22352,
                  "Total_Revolving_Bal": 2517,
                  "Total_Amt_Chng_Q4_Q1": 3.355,
                  "Total_Trans_Amt": 1350,
                  "Total_Trans_Ct": 24,
                  "Total_Ct_Chng_Q4_Q1": 1.182,
                  "Avg_Utilization_Ratio": 0.113,
                  "_deepnote_index_column": 8
                },
                {
                  "Attrition_Flag": 0,
                  "Customer_Age": 48,
                  "Gender": "M",
                  "Dependent_count": 2,
                  "Education_Level": "Graduate",
                  "Marital_Status": "Single",
                  "Income_Category": "$80K - $120K",
                  "Card_Category": "Blue",
                  "Months_on_book": 36,
                  "Total_Relationship_Count": 6,
                  "Months_Inactive_12_mon": 3,
                  "Contacts_Count_12_mon": 3,
                  "Credit_Limit": 11656,
                  "Total_Revolving_Bal": 1677,
                  "Total_Amt_Chng_Q4_Q1": 1.524,
                  "Total_Trans_Amt": 1441,
                  "Total_Trans_Ct": 32,
                  "Total_Ct_Chng_Q4_Q1": 0.882,
                  "Avg_Utilization_Ratio": 0.144,
                  "_deepnote_index_column": 9
                }
              ]
            },
            "text/plain": "       Attrition_Flag  Customer_Age Gender  Dependent_count Education_Level  \\\n0                   0            45      M                3     High School   \n1                   0            49      F                5        Graduate   \n2                   0            51      M                3        Graduate   \n3                   0            40      F                4     High School   \n4                   0            40      M                3      Uneducated   \n...               ...           ...    ...              ...             ...   \n10122               0            50      M                2        Graduate   \n10123               1            41      M                2         Unknown   \n10124               1            44      F                1     High School   \n10125               1            30      M                2        Graduate   \n10126               1            43      F                2        Graduate   \n\n      Marital_Status Income_Category Card_Category  Months_on_book  \\\n0            Married     $60K - $80K          Blue              39   \n1             Single  Less than $40K          Blue              44   \n2            Married    $80K - $120K          Blue              36   \n3            Unknown  Less than $40K          Blue              34   \n4            Married     $60K - $80K          Blue              21   \n...              ...             ...           ...             ...   \n10122         Single     $40K - $60K          Blue              40   \n10123       Divorced     $40K - $60K          Blue              25   \n10124        Married  Less than $40K          Blue              36   \n10125        Unknown     $40K - $60K          Blue              36   \n10126        Married  Less than $40K        Silver              25   \n\n       Total_Relationship_Count  Months_Inactive_12_mon  \\\n0                             5                       1   \n1                             6                       1   \n2                             4                       1   \n3                             3                       4   \n4                             5                       1   \n...                         ...                     ...   \n10122                         3                       2   \n10123                         4                       2   \n10124                         5                       3   \n10125                         4                       3   \n10126                         6                       2   \n\n       Contacts_Count_12_mon  Credit_Limit  Total_Revolving_Bal  \\\n0                          3       12691.0                  777   \n1                          2        8256.0                  864   \n2                          0        3418.0                    0   \n3                          1        3313.0                 2517   \n4                          0        4716.0                    0   \n...                      ...           ...                  ...   \n10122                      3        4003.0                 1851   \n10123                      3        4277.0                 2186   \n10124                      4        5409.0                    0   \n10125                      3        5281.0                    0   \n10126                      4       10388.0                 1961   \n\n       Total_Amt_Chng_Q4_Q1  Total_Trans_Amt  Total_Trans_Ct  \\\n0                     1.335             1144              42   \n1                     1.541             1291              33   \n2                     2.594             1887              20   \n3                     1.405             1171              20   \n4                     2.175              816              28   \n...                     ...              ...             ...   \n10122                 0.703            15476             117   \n10123                 0.804             8764              69   \n10124                 0.819            10291              60   \n10125                 0.535             8395              62   \n10126                 0.703            10294              61   \n\n       Total_Ct_Chng_Q4_Q1  Avg_Utilization_Ratio  \n0                    1.625                  0.061  \n1                    3.714                  0.105  \n2                    2.333                  0.000  \n3                    2.333                  0.760  \n4                    2.500                  0.000  \n...                    ...                    ...  \n10122                0.857                  0.462  \n10123                0.683                  0.511  \n10124                0.818                  0.000  \n10125                0.722                  0.000  \n10126                0.649                  0.189  \n\n[10127 rows x 19 columns]",
            "text/html": "<div>\n<style scoped>\n    .dataframe tbody tr th:only-of-type {\n        vertical-align: middle;\n    }\n\n    .dataframe tbody tr th {\n        vertical-align: top;\n    }\n\n    .dataframe thead th {\n        text-align: right;\n    }\n</style>\n<table border=\"1\" class=\"dataframe\">\n  <thead>\n    <tr style=\"text-align: right;\">\n      <th></th>\n      <th>Attrition_Flag</th>\n      <th>Customer_Age</th>\n      <th>Gender</th>\n      <th>Dependent_count</th>\n      <th>Education_Level</th>\n      <th>Marital_Status</th>\n      <th>Income_Category</th>\n      <th>Card_Category</th>\n      <th>Months_on_book</th>\n      <th>Total_Relationship_Count</th>\n      <th>Months_Inactive_12_mon</th>\n      <th>Contacts_Count_12_mon</th>\n      <th>Credit_Limit</th>\n      <th>Total_Revolving_Bal</th>\n      <th>Total_Amt_Chng_Q4_Q1</th>\n      <th>Total_Trans_Amt</th>\n      <th>Total_Trans_Ct</th>\n      <th>Total_Ct_Chng_Q4_Q1</th>\n      <th>Avg_Utilization_Ratio</th>\n    </tr>\n  </thead>\n  <tbody>\n    <tr>\n      <th>0</th>\n      <td>0</td>\n      <td>45</td>\n      <td>M</td>\n      <td>3</td>\n      <td>High School</td>\n      <td>Married</td>\n      <td>$60K - $80K</td>\n      <td>Blue</td>\n      <td>39</td>\n      <td>5</td>\n      <td>1</td>\n      <td>3</td>\n      <td>12691.0</td>\n      <td>777</td>\n      <td>1.335</td>\n      <td>1144</td>\n      <td>42</td>\n      <td>1.625</td>\n      <td>0.061</td>\n    </tr>\n    <tr>\n      <th>1</th>\n      <td>0</td>\n      <td>49</td>\n      <td>F</td>\n      <td>5</td>\n      <td>Graduate</td>\n      <td>Single</td>\n      <td>Less than $40K</td>\n      <td>Blue</td>\n      <td>44</td>\n      <td>6</td>\n      <td>1</td>\n      <td>2</td>\n      <td>8256.0</td>\n      <td>864</td>\n      <td>1.541</td>\n      <td>1291</td>\n      <td>33</td>\n      <td>3.714</td>\n      <td>0.105</td>\n    </tr>\n    <tr>\n      <th>2</th>\n      <td>0</td>\n      <td>51</td>\n      <td>M</td>\n      <td>3</td>\n      <td>Graduate</td>\n      <td>Married</td>\n      <td>$80K - $120K</td>\n      <td>Blue</td>\n      <td>36</td>\n      <td>4</td>\n      <td>1</td>\n      <td>0</td>\n      <td>3418.0</td>\n      <td>0</td>\n      <td>2.594</td>\n      <td>1887</td>\n      <td>20</td>\n      <td>2.333</td>\n      <td>0.000</td>\n    </tr>\n    <tr>\n      <th>3</th>\n      <td>0</td>\n      <td>40</td>\n      <td>F</td>\n      <td>4</td>\n      <td>High School</td>\n      <td>Unknown</td>\n      <td>Less than $40K</td>\n      <td>Blue</td>\n      <td>34</td>\n      <td>3</td>\n      <td>4</td>\n      <td>1</td>\n      <td>3313.0</td>\n      <td>2517</td>\n      <td>1.405</td>\n      <td>1171</td>\n      <td>20</td>\n      <td>2.333</td>\n      <td>0.760</td>\n    </tr>\n    <tr>\n      <th>4</th>\n      <td>0</td>\n      <td>40</td>\n      <td>M</td>\n      <td>3</td>\n      <td>Uneducated</td>\n      <td>Married</td>\n      <td>$60K - $80K</td>\n      <td>Blue</td>\n      <td>21</td>\n      <td>5</td>\n      <td>1</td>\n      <td>0</td>\n      <td>4716.0</td>\n      <td>0</td>\n      <td>2.175</td>\n      <td>816</td>\n      <td>28</td>\n      <td>2.500</td>\n      <td>0.000</td>\n    </tr>\n    <tr>\n      <th>...</th>\n      <td>...</td>\n      <td>...</td>\n      <td>...</td>\n      <td>...</td>\n      <td>...</td>\n      <td>...</td>\n      <td>...</td>\n      <td>...</td>\n      <td>...</td>\n      <td>...</td>\n      <td>...</td>\n      <td>...</td>\n      <td>...</td>\n      <td>...</td>\n      <td>...</td>\n      <td>...</td>\n      <td>...</td>\n      <td>...</td>\n      <td>...</td>\n    </tr>\n    <tr>\n      <th>10122</th>\n      <td>0</td>\n      <td>50</td>\n      <td>M</td>\n      <td>2</td>\n      <td>Graduate</td>\n      <td>Single</td>\n      <td>$40K - $60K</td>\n      <td>Blue</td>\n      <td>40</td>\n      <td>3</td>\n      <td>2</td>\n      <td>3</td>\n      <td>4003.0</td>\n      <td>1851</td>\n      <td>0.703</td>\n      <td>15476</td>\n      <td>117</td>\n      <td>0.857</td>\n      <td>0.462</td>\n    </tr>\n    <tr>\n      <th>10123</th>\n      <td>1</td>\n      <td>41</td>\n      <td>M</td>\n      <td>2</td>\n      <td>Unknown</td>\n      <td>Divorced</td>\n      <td>$40K - $60K</td>\n      <td>Blue</td>\n      <td>25</td>\n      <td>4</td>\n      <td>2</td>\n      <td>3</td>\n      <td>4277.0</td>\n      <td>2186</td>\n      <td>0.804</td>\n      <td>8764</td>\n      <td>69</td>\n      <td>0.683</td>\n      <td>0.511</td>\n    </tr>\n    <tr>\n      <th>10124</th>\n      <td>1</td>\n      <td>44</td>\n      <td>F</td>\n      <td>1</td>\n      <td>High School</td>\n      <td>Married</td>\n      <td>Less than $40K</td>\n      <td>Blue</td>\n      <td>36</td>\n      <td>5</td>\n      <td>3</td>\n      <td>4</td>\n      <td>5409.0</td>\n      <td>0</td>\n      <td>0.819</td>\n      <td>10291</td>\n      <td>60</td>\n      <td>0.818</td>\n      <td>0.000</td>\n    </tr>\n    <tr>\n      <th>10125</th>\n      <td>1</td>\n      <td>30</td>\n      <td>M</td>\n      <td>2</td>\n      <td>Graduate</td>\n      <td>Unknown</td>\n      <td>$40K - $60K</td>\n      <td>Blue</td>\n      <td>36</td>\n      <td>4</td>\n      <td>3</td>\n      <td>3</td>\n      <td>5281.0</td>\n      <td>0</td>\n      <td>0.535</td>\n      <td>8395</td>\n      <td>62</td>\n      <td>0.722</td>\n      <td>0.000</td>\n    </tr>\n    <tr>\n      <th>10126</th>\n      <td>1</td>\n      <td>43</td>\n      <td>F</td>\n      <td>2</td>\n      <td>Graduate</td>\n      <td>Married</td>\n      <td>Less than $40K</td>\n      <td>Silver</td>\n      <td>25</td>\n      <td>6</td>\n      <td>2</td>\n      <td>4</td>\n      <td>10388.0</td>\n      <td>1961</td>\n      <td>0.703</td>\n      <td>10294</td>\n      <td>61</td>\n      <td>0.649</td>\n      <td>0.189</td>\n    </tr>\n  </tbody>\n</table>\n<p>10127 rows × 19 columns</p>\n</div>"
          },
          "metadata": {}
        }
      ],
      "outputs_reference": null,
      "execution_count": null,
      "block_group": "77b6cb2506c64d4db470d5df7f4527a4"
    },
    {
      "cell_type": "code",
      "source": "cat_df = df[['Gender','Education_Level','Income_Category', 'Marital_Status']]",
      "metadata": {
        "source_hash": null,
        "execution_start": 1710142800077,
        "execution_millis": 122,
        "deepnote_to_be_reexecuted": false,
        "cell_id": "e15e35a4de68435ca2a61d3c9835d523",
        "deepnote_cell_type": "code"
      },
      "outputs": [],
      "outputs_reference": null,
      "execution_count": null,
      "block_group": "fc242cfe2b7449c89d36dcf3e0f0c8c3"
    },
    {
      "cell_type": "code",
      "source": "k_values = range(1, 11)\nwcss = []\n\n# Calculate the within-cluster sum of squares for different values of k\nfor k in k_values:\n    km = KModes(n_clusters=k, init='Huang', n_init=5, verbose=0)\n    km.fit_predict(cat_df)\n    wcss.append(km.cost_)\n\n# Plot the elbow graph\nplt.plot(k_values, wcss, marker='o')\nplt.title('Elbow Method for Optimal k')\nplt.xlabel('Number of Clusters (k)')\nplt.ylabel('Within-Cluster Sum of Squares (WCSS)')\nplt.show()",
      "metadata": {
        "source_hash": null,
        "execution_start": 1710142801738,
        "execution_millis": 83964,
        "deepnote_to_be_reexecuted": false,
        "cell_id": "fb5b620ccf6c416f8aad423d3bb2077f",
        "deepnote_cell_type": "code"
      },
      "outputs": [
        {
          "data": {
            "text/plain": "<Figure size 640x480 with 1 Axes>",
            "image/png": "[encoded data removed]"
          },
          "metadata": {
            "image/png": {
              "width": 589,
              "height": 455
            }
          },
          "output_type": "display_data"
        }
      ],
      "outputs_reference": null,
      "execution_count": null,
      "block_group": "04329db443e848578d7741ccdfe83284"
    },
    {
      "cell_type": "code",
      "source": "km = KModes(n_clusters=5, init='Huang', n_init=5, verbose=1)\n\n# Fit the model to your data\nclusters = km.fit_predict(df)",
      "metadata": {
        "source_hash": null,
        "execution_start": 1710144309169,
        "execution_millis": 54674,
        "deepnote_to_be_reexecuted": false,
        "cell_id": "259225019cf34159972b89f67c058f9d",
        "deepnote_cell_type": "code"
      },
      "outputs": [
        {
          "name": "stdout",
          "text": "Init: initializing centroids\nInit: initializing clusters\nStarting iterations...\nRun 1, iteration: 1/100, moves: 2778, cost: 126300.0\nRun 1, iteration: 2/100, moves: 124, cost: 126300.0\nInit: initializing centroids\nInit: initializing clusters\nStarting iterations...\nRun 2, iteration: 1/100, moves: 2867, cost: 125917.0\nRun 2, iteration: 2/100, moves: 828, cost: 125911.0\nRun 2, iteration: 3/100, moves: 2, cost: 125911.0\nInit: initializing centroids\nInit: initializing clusters\nStarting iterations...\nRun 3, iteration: 1/100, moves: 3306, cost: 126077.0\nRun 3, iteration: 2/100, moves: 947, cost: 126076.0\nRun 3, iteration: 3/100, moves: 1, cost: 126076.0\nInit: initializing centroids\nInit: initializing clusters\nStarting iterations...\nRun 4, iteration: 1/100, moves: 3970, cost: 125486.0\nRun 4, iteration: 2/100, moves: 1674, cost: 124540.0\nRun 4, iteration: 3/100, moves: 1009, cost: 124226.0\nRun 4, iteration: 4/100, moves: 97, cost: 124226.0\nInit: initializing centroids\nInit: initializing clusters\nStarting iterations...\nRun 5, iteration: 1/100, moves: 3156, cost: 124833.0\nRun 5, iteration: 2/100, moves: 35, cost: 124833.0\nBest run was number 4\n",
          "output_type": "stream"
        }
      ],
      "outputs_reference": null,
      "execution_count": null,
      "block_group": "e702de1b035b42208813364203edfc75"
    },
    {
      "cell_type": "code",
      "source": "df['Cluster'] = clusters\n\n# Calculate the mode for each cluster\ncluster_profiles = df.groupby('Cluster')[['Gender','Education_Level','Income_Category','Marital_Status']].agg(lambda x: x.mode().iloc[0]).reset_index()\n\n# Display the cluster profiles\nprint(\"Cluster Profiles:\")\nprint(cluster_profiles)",
      "metadata": {
        "source_hash": null,
        "execution_start": 1710144363853,
        "execution_millis": 23,
        "deepnote_to_be_reexecuted": false,
        "cell_id": "686303cd6adb4924b2e9f7969f90f2c3",
        "deepnote_cell_type": "code"
      },
      "outputs": [
        {
          "name": "stdout",
          "text": "Cluster Profiles:\n   Cluster Gender Education_Level Income_Category Marital_Status\n0        0      M        Graduate    $80K - $120K        Married\n1        1      M     High School    $80K - $120K         Single\n2        2      F        Graduate  Less than $40K        Married\n3        3      F     High School  Less than $40K        Married\n4        4      F        Graduate  Less than $40K         Single\n",
          "output_type": "stream"
        }
      ],
      "outputs_reference": null,
      "execution_count": null,
      "block_group": "a150b618c81643acb227ddc231b1aefd"
    },
    {
      "cell_type": "code",
      "source": "numeric_columns = [\n    # \"Customer_Age\",\n    # \"Dependent_count\",\n    # \"Months_on_book\",\n    # \"Total_Relationship_Count\",\n    # \"Months_Inactive_12_mon\",\n    # \"Contacts_Count_12_mon\",\n    \"Credit_Limit\",\n    \"Total_Revolving_Bal\",\n    # \"Total_Amt_Chng_Q4_Q1\",\n    \"Total_Trans_Amt\",\n    \"Total_Trans_Ct\",\n    # \"Total_Ct_Chng_Q4_Q1\",\n    # \"Avg_Utilization_Ratio\"\n]",
      "metadata": {
        "source_hash": null,
        "execution_start": 1710143389157,
        "execution_millis": 44,
        "deepnote_to_be_reexecuted": false,
        "cell_id": "c2239e9b28a04b2383beb4d203d1425f",
        "deepnote_cell_type": "code"
      },
      "outputs": [],
      "outputs_reference": null,
      "execution_count": null,
      "block_group": "042c81d10a5649278c044747475f8404"
    },
    {
      "cell_type": "code",
      "source": "numeric_df = df[numeric_columns + ['Cluster']]\n\n# Melt the DataFrame to have a single column for both variable and value\nmelted_df = pd.melt(numeric_df, id_vars='Cluster', var_name='Numeric_Column', value_name='Value')\n\n# Set the style of the plot\nsns.set(style=\"whitegrid\")\n\n# Create a bar plot using seaborn\nplt.figure(figsize=(12, 8))\nsns.barplot(x='Cluster', y='Value', hue='Numeric_Column', data=melted_df, ci=None)\n\n# Set plot labels and title\nplt.xlabel('Numeric Columns')\nplt.ylabel('Values')\nplt.title('Bar Plot of Numeric Columns Grouped by Clusters')\n\n# Show the plot\nplt.show()",
      "metadata": {
        "source_hash": null,
        "execution_start": 1710143460493,
        "execution_millis": 328,
        "deepnote_to_be_reexecuted": false,
        "cell_id": "824eb96a8e6c4075a9302ae300329a71",
        "deepnote_cell_type": "code"
      },
      "outputs": [
        {
          "name": "stderr",
          "text": "/tmp/ipykernel_142/1752792938.py:11: FutureWarning:\n\n\n\nThe `ci` parameter is deprecated. Use `errorbar=None` for the same effect.\n\n\n",
          "output_type": "stream"
        },
        {
          "data": {
            "text/plain": "<Figure size 1200x800 with 1 Axes>",
            "image/png": "[encoded data removed]"
          },
          "metadata": {
            "image/png": {
              "width": 1034,
              "height": 710
            }
          },
          "output_type": "display_data"
        }
      ],
      "outputs_reference": null,
      "execution_count": null,
      "block_group": "6f09ad4ca4f84b09b64e646e2c5150c1"
    },
    {
      "cell_type": "markdown",
      "source": "<a style='text-decoration:none;line-height:16px;display:flex;color:#5B5B62;padding:10px;justify-content:end;' href='https://deepnote.com?utm_source=created-in-deepnote-cell&projectId=6ad58bc5-59dd-429f-97b6-3cedb5b4fcfc' target=\"_blank\">\n<img alt='Created in deepnote.com' style='display:inline;max-height:16px;margin:0px;margin-right:7.5px;' src='data:image/svg+xml;base64,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' > </img>\nCreated in <span style='font-weight:600;margin-left:4px;'>Deepnote</span></a>",
      "metadata": {
        "created_in_deepnote_cell": true,
        "deepnote_cell_type": "markdown"
      }
    }
  ],
  "nbformat": 4,
  "nbformat_minor": 0,
  "metadata": {
    "deepnote_persisted_session": {
      "createdAt": "2024-03-11T08:24:26.022Z"
    },
    "deepnote_notebook_id": "e992397ab6e9400da54e3725d2694b95",
    "deepnote_execution_queue": []
  }
}